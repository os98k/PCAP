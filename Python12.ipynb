{
 "cells": [
  {
   "cell_type": "markdown",
   "id": "6c365138",
   "metadata": {},
   "source": [
    "# Previous Discussed\n",
    "\n",
    "- Dictionary\n",
    "- What is Function\n",
    "- Function Declaration\n",
    "- Function Call"
   ]
  },
  {
   "cell_type": "markdown",
   "id": "5a6c958d",
   "metadata": {},
   "source": [
    "# Today Discussed\n",
    "\n",
    "  - Function\n",
    "  - Arguments and paramters\n",
    "  - Return "
   ]
  },
  {
   "cell_type": "raw",
   "id": "4998a2e1",
   "metadata": {},
   "source": [
    "Block of code that we need to use again and again in different section of code, so we make that code as function and simply call them whenever we need it"
   ]
  },
  {
   "cell_type": "code",
   "execution_count": 1,
   "id": "8f566069",
   "metadata": {},
   "outputs": [],
   "source": [
    "def square_of_a_number():\n",
    "    pass"
   ]
  },
  {
   "cell_type": "code",
   "execution_count": 2,
   "id": "6907183b",
   "metadata": {},
   "outputs": [],
   "source": [
    "# define and declare function\n",
    "def square_of_a_number():\n",
    "    num = int(input(\"Enter a number to square\"))\n",
    "    print(f\"The square of number {num} is \", num**2)"
   ]
  },
  {
   "cell_type": "code",
   "execution_count": 4,
   "id": "6e000a8b",
   "metadata": {},
   "outputs": [
    {
     "name": "stdout",
     "output_type": "stream",
     "text": [
      "Enter a number to square2\n",
      "The square of number 2 is  4\n"
     ]
    }
   ],
   "source": [
    "square_of_a_number() # function call"
   ]
  },
  {
   "cell_type": "code",
   "execution_count": 7,
   "id": "38bcea76",
   "metadata": {},
   "outputs": [],
   "source": [
    "# define and declare function\n",
    "def square_of_a_number():\n",
    "    num = int(input(\"Enter a number to square\"))\n",
    "    square = num**2\n",
    "    print(f\"The square of number {num} is {square}\")"
   ]
  },
  {
   "cell_type": "code",
   "execution_count": 8,
   "id": "ba76f92b",
   "metadata": {},
   "outputs": [
    {
     "name": "stdout",
     "output_type": "stream",
     "text": [
      "Enter a number to square3\n",
      "The square of number 3 is 9\n"
     ]
    }
   ],
   "source": [
    "square_of_a_number() # function call"
   ]
  },
  {
   "cell_type": "code",
   "execution_count": 5,
   "id": "8487a98a",
   "metadata": {},
   "outputs": [],
   "source": [
    "# define and declare function\n",
    "def square_of_a_number():\n",
    "    num = int(input(\"Enter a number to square\"))\n",
    "    print(f\"The square of number {num} is {num**2}\")"
   ]
  },
  {
   "cell_type": "code",
   "execution_count": 6,
   "id": "917b2283",
   "metadata": {},
   "outputs": [
    {
     "name": "stdout",
     "output_type": "stream",
     "text": [
      "Enter a number to square2\n",
      "The square of number 2 is 4\n"
     ]
    }
   ],
   "source": [
    "square_of_a_number() # function call"
   ]
  },
  {
   "cell_type": "code",
   "execution_count": 18,
   "id": "85826d2d",
   "metadata": {},
   "outputs": [],
   "source": [
    "# define and declare function\n",
    "def area_of_square():\n",
    "    length = float(input(\"Enter length of square in meters\"))\n",
    "    breadth = float(input(\"Enter breadth of square in meters\"))\n",
    "    area = length*breadth\n",
    "    print(f\"length {length} breadth {breadth} area is {area} meters sqaure\")"
   ]
  },
  {
   "cell_type": "code",
   "execution_count": 19,
   "id": "fc773406",
   "metadata": {},
   "outputs": [
    {
     "name": "stdout",
     "output_type": "stream",
     "text": [
      "Enter length of square in meters23\n",
      "Enter breadth of square in meters23\n",
      "length 23.0 breadth 23.0 area is 529.0 meters sqaure\n"
     ]
    }
   ],
   "source": [
    "area_of_square()"
   ]
  },
  {
   "cell_type": "code",
   "execution_count": 20,
   "id": "ca3090f7",
   "metadata": {},
   "outputs": [
    {
     "name": "stdout",
     "output_type": "stream",
     "text": [
      "Enter length of square in meters33.3\n",
      "Enter breadth of square in meters22\n",
      "length 33.3 breadth 22.0 area is 732.5999999999999 meters sqaure\n"
     ]
    }
   ],
   "source": [
    "area_of_square()"
   ]
  },
  {
   "cell_type": "code",
   "execution_count": 21,
   "id": "3e1ecc4d",
   "metadata": {},
   "outputs": [
    {
     "name": "stdout",
     "output_type": "stream",
     "text": [
      "This is arguments of print function\n"
     ]
    }
   ],
   "source": [
    "print(\"This is arguments of print function\")\n",
    "#             Arguments"
   ]
  },
  {
   "cell_type": "markdown",
   "id": "272d5b55",
   "metadata": {},
   "source": [
    "## Parameters and Arguments of a Functions"
   ]
  },
  {
   "cell_type": "code",
   "execution_count": null,
   "id": "070c9fe9",
   "metadata": {},
   "outputs": [],
   "source": [
    "# Paramters are inside function declaration/defination \n",
    "# brackets and are some variable\n",
    "# Arguments are inside function calling brackets \n",
    "# and contain some variable\n"
   ]
  },
  {
   "cell_type": "code",
   "execution_count": 37,
   "id": "a2bcc762",
   "metadata": {},
   "outputs": [],
   "source": [
    "def salary_increment(name,eos,currentSalary): # parameters\n",
    "    # if an employee is working from more than 1 year\n",
    "    # if salary is less than 50 thousands\n",
    "    # increment will be 20 percent\n",
    "    # And his salary is more than 50 thousands and less than 100 thousands\n",
    "    # Increment would be 15 percent\n",
    "    # if salary is more than 100 thousands and less than 150 thousands\n",
    "    # Increment would be 10 percent\n",
    "    # Other will get 15 percents\n",
    "    \n",
    "    if eos >=1:\n",
    "        if (currentSalary <=50000):\n",
    "            increment = currentSalary*.20\n",
    "            newSalary = currentSalary + increment\n",
    "        \n",
    "        elif ((currentSalary >=50000) and (currentSalary<=100000)):\n",
    "            increment = currentSalary*.15\n",
    "            newSalary = currentSalary + increment\n",
    "            \n",
    "        elif ((currentSalary >=100000) and (currentSalary<=150000)):\n",
    "            \n",
    "            increment = currentSalary*.10\n",
    "            newSalary = currentSalary + increment\n",
    "        else:\n",
    "         \n",
    "            increment = currentSalary*.05\n",
    "            newSalary = currentSalary + increment\n",
    "            \n",
    "        print(f\"\"\"\n",
    "        Name of Emoloyee : {name}\n",
    "        Year of Service  : {eos}\n",
    "        Current Salary   : {currentSalary}\n",
    "        Increment Amount : {increment}\n",
    "        Increment Salary : {newSalary}\n",
    "    \n",
    "    \"\"\")\n",
    "         \n",
    "    else:\n",
    "        print(\"There is no increments for you in this year\")\n",
    "        \n",
    "    \n",
    "   \n",
    "    \n",
    " "
   ]
  },
  {
   "cell_type": "code",
   "execution_count": 29,
   "id": "e7019a5b",
   "metadata": {},
   "outputs": [
    {
     "ename": "TypeError",
     "evalue": "salary_increment() missing 3 required positional arguments: 'name', 'eos', and 'currentSalary'",
     "output_type": "error",
     "traceback": [
      "\u001b[1;31m---------------------------------------------------------------------------\u001b[0m",
      "\u001b[1;31mTypeError\u001b[0m                                 Traceback (most recent call last)",
      "\u001b[1;32m<ipython-input-29-0b6b100c97ec>\u001b[0m in \u001b[0;36m<module>\u001b[1;34m\u001b[0m\n\u001b[1;32m----> 1\u001b[1;33m \u001b[0msalary_increment\u001b[0m\u001b[1;33m(\u001b[0m\u001b[1;33m)\u001b[0m \u001b[1;31m# arguments\u001b[0m\u001b[1;33m\u001b[0m\u001b[1;33m\u001b[0m\u001b[0m\n\u001b[0m",
      "\u001b[1;31mTypeError\u001b[0m: salary_increment() missing 3 required positional arguments: 'name', 'eos', and 'currentSalary'"
     ]
    }
   ],
   "source": [
    "salary_increment() # arguments required"
   ]
  },
  {
   "cell_type": "code",
   "execution_count": 32,
   "id": "8068f03d",
   "metadata": {},
   "outputs": [
    {
     "name": "stdout",
     "output_type": "stream",
     "text": [
      "\n",
      "    Name of Emoloyee : Nasir\n",
      "    Year of Service  : 2\n",
      "    Current Salary   : 70000\n",
      "    Increment Amount : 10500.0\n",
      "    Increment Salary : 80500.0\n",
      "    \n",
      "    \n"
     ]
    }
   ],
   "source": [
    "salary_increment(\"Nasir\",2,70000) # arguments\n",
    "# Must kept in mind the position of arguments"
   ]
  },
  {
   "cell_type": "code",
   "execution_count": 38,
   "id": "3c8dd6da",
   "metadata": {},
   "outputs": [
    {
     "name": "stdout",
     "output_type": "stream",
     "text": [
      "There is no increments for you in this year\n"
     ]
    }
   ],
   "source": [
    "salary_increment(\"Nasir\",0,70000) # arguments"
   ]
  },
  {
   "cell_type": "code",
   "execution_count": 39,
   "id": "a5ad7a58",
   "metadata": {},
   "outputs": [
    {
     "name": "stdout",
     "output_type": "stream",
     "text": [
      "\n",
      "        Name of Emoloyee : Nasir\n",
      "        Year of Service  : 3\n",
      "        Current Salary   : 150000\n",
      "        Increment Amount : 15000.0\n",
      "        Increment Salary : 165000.0\n",
      "    \n",
      "    \n"
     ]
    }
   ],
   "source": [
    "salary_increment(\"Nasir\",3,150000) # arguments"
   ]
  },
  {
   "cell_type": "markdown",
   "id": "2e0eb86f",
   "metadata": {},
   "source": [
    "The varaibles written in function definition are called paramters and the values supplied during a function call are called arguments"
   ]
  },
  {
   "cell_type": "code",
   "execution_count": 40,
   "id": "3c05d893",
   "metadata": {},
   "outputs": [
    {
     "name": "stdout",
     "output_type": "stream",
     "text": [
      "\n",
      "        Name of Emoloyee : Nasir\n",
      "        Year of Service  : 3\n",
      "        Current Salary   : 150000\n",
      "        Increment Amount : 15000.0\n",
      "        Increment Salary : 165000.0\n",
      "    \n",
      "    \n"
     ]
    }
   ],
   "source": [
    "salary_increment(name=\"Nasir\",eos= 3,currentSalary= 150000) # keyword arguments\n",
    "# position doesn't matter in this case"
   ]
  },
  {
   "cell_type": "code",
   "execution_count": 41,
   "id": "a04e696f",
   "metadata": {},
   "outputs": [
    {
     "name": "stdout",
     "output_type": "stream",
     "text": [
      "\n",
      "        Name of Emoloyee : Nasir\n",
      "        Year of Service  : 3\n",
      "        Current Salary   : 150000\n",
      "        Increment Amount : 15000.0\n",
      "        Increment Salary : 165000.0\n",
      "    \n",
      "    \n"
     ]
    }
   ],
   "source": [
    "salary_increment(currentSalary= 150000,name=\"Nasir\",eos= 3) # keyword arguments\n",
    "# position doesn't matter in keyword arguments"
   ]
  },
  {
   "cell_type": "code",
   "execution_count": 56,
   "id": "0de5c9bf",
   "metadata": {},
   "outputs": [],
   "source": [
    "def salary_increment(name= \" \",eos=0,currentSalary=0): # parameters\n",
    "    '''This function will show the increment Salary \n",
    "       and will return Salry details of Employees'''\n",
    "    # Docstring: Always comes after function definition \n",
    "    if eos >=1:\n",
    "        if (currentSalary <=50000):\n",
    "            increment = currentSalary*.20\n",
    "            newSalary = currentSalary + increment\n",
    "        \n",
    "        elif ((currentSalary >=50000) and (currentSalary<=100000)):\n",
    "            increment = currentSalary*.15\n",
    "            newSalary = currentSalary + increment\n",
    "            \n",
    "        elif ((currentSalary >=100000) and (currentSalary<=150000)):\n",
    "            \n",
    "            increment = currentSalary*.10\n",
    "            newSalary = currentSalary + increment\n",
    "        else:\n",
    "         \n",
    "            increment = currentSalary*.05\n",
    "            newSalary = currentSalary + increment\n",
    "            \n",
    "        print(f\"\"\"\n",
    "        Name of Emoloyee : {name}\n",
    "        Year of Service  : {eos}\n",
    "        Current Salary   : {currentSalary}\n",
    "        Increment Amount : {increment}\n",
    "        Increment Salary : {newSalary}\n",
    "    \n",
    "    \"\"\")\n",
    "         \n",
    "    else:\n",
    "        print(\"There is no increments for you in this year\")\n",
    "        \n",
    "    \n",
    "   \n",
    "    \n",
    " "
   ]
  },
  {
   "cell_type": "code",
   "execution_count": 43,
   "id": "c7d4ca58",
   "metadata": {},
   "outputs": [
    {
     "name": "stdout",
     "output_type": "stream",
     "text": [
      "There is no increments for you in this year\n"
     ]
    }
   ],
   "source": [
    "salary_increment() # arguments"
   ]
  },
  {
   "cell_type": "code",
   "execution_count": 44,
   "id": "6df48902",
   "metadata": {},
   "outputs": [
    {
     "name": "stdout",
     "output_type": "stream",
     "text": [
      "There is no increments for you in this year\n"
     ]
    }
   ],
   "source": [
    "salary_increment(\"Nasir\") # arguments"
   ]
  },
  {
   "cell_type": "code",
   "execution_count": 45,
   "id": "95ab919e",
   "metadata": {},
   "outputs": [
    {
     "name": "stdout",
     "output_type": "stream",
     "text": [
      "\n",
      "        Name of Emoloyee : Nasir\n",
      "        Year of Service  : 3\n",
      "        Current Salary   : 0\n",
      "        Increment Amount : 0.0\n",
      "        Increment Salary : 0.0\n",
      "    \n",
      "    \n"
     ]
    }
   ],
   "source": [
    "salary_increment(\"Nasir\",3) # arguments"
   ]
  },
  {
   "cell_type": "code",
   "execution_count": 46,
   "id": "9498609f",
   "metadata": {},
   "outputs": [
    {
     "name": "stdout",
     "output_type": "stream",
     "text": [
      "\n",
      "        Name of Emoloyee : 3\n",
      "        Year of Service  : 150000\n",
      "        Current Salary   : 0\n",
      "        Increment Amount : 0.0\n",
      "        Increment Salary : 0.0\n",
      "    \n",
      "    \n"
     ]
    }
   ],
   "source": [
    "salary_increment(3,150000) # arguments\n",
    "# bug\n",
    "# can be resolve either by using keyword arguments"
   ]
  },
  {
   "cell_type": "code",
   "execution_count": 50,
   "id": "f204057b",
   "metadata": {},
   "outputs": [
    {
     "name": "stdout",
     "output_type": "stream",
     "text": [
      "Enter Employee nameOsama\n",
      "Enter year of service2\n",
      "Enter Employee Salary80000\n",
      "\n",
      "        Name of Emoloyee : Osama\n",
      "        Year of Service  : 2.0\n",
      "        Current Salary   : 80000\n",
      "        Increment Amount : 12000.0\n",
      "        Increment Salary : 92000.0\n",
      "    \n",
      "    \n"
     ]
    }
   ],
   "source": [
    "name = input(\"Enter Employee name\")\n",
    "eos = float(input(\"Enter year of service\"))\n",
    "currentSalary = int(input(\"Enter Employee Salary\"))\n",
    "salary_increment(name,eos,currentSalary)"
   ]
  },
  {
   "cell_type": "code",
   "execution_count": 53,
   "id": "bda37399",
   "metadata": {},
   "outputs": [
    {
     "name": "stdout",
     "output_type": "stream",
     "text": [
      "Enter Employee name Rizu\n",
      "Enter year of service 2\n",
      "Enter Employee Salary 120000\n",
      "\n",
      "        Name of Emoloyee : Rizu\n",
      "        Year of Service  : 2.0\n",
      "        Current Salary   : 120000\n",
      "        Increment Amount : 12000.0\n",
      "        Increment Salary : 132000.0\n",
      "    \n",
      "    \n"
     ]
    }
   ],
   "source": [
    "name = input(\"Enter Employee name \")\n",
    "eos = float(input(\"Enter year of service \"))\n",
    "currentSalary = int(input(\"Enter Employee Salary \"))\n",
    "salary_increment(name,eos,currentSalary)"
   ]
  },
  {
   "cell_type": "code",
   "execution_count": 57,
   "id": "eff6ea93",
   "metadata": {},
   "outputs": [
    {
     "name": "stdout",
     "output_type": "stream",
     "text": [
      "Help on function salary_increment in module __main__:\n",
      "\n",
      "salary_increment(name=' ', eos=0, currentSalary=0)\n",
      "    This function will show the increment Salary \n",
      "    and will return Salry details of Employees\n",
      "\n"
     ]
    }
   ],
   "source": [
    "help(salary_increment)"
   ]
  },
  {
   "cell_type": "code",
   "execution_count": 58,
   "id": "66f6e193",
   "metadata": {},
   "outputs": [
    {
     "name": "stdout",
     "output_type": "stream",
     "text": [
      "Help on built-in function len in module builtins:\n",
      "\n",
      "len(obj, /)\n",
      "    Return the number of items in a container.\n",
      "\n"
     ]
    }
   ],
   "source": [
    "help(len)"
   ]
  },
  {
   "cell_type": "markdown",
   "id": "ad5542d3",
   "metadata": {},
   "source": [
    "# Return Values"
   ]
  },
  {
   "cell_type": "markdown",
   "id": "febbdaa9",
   "metadata": {},
   "source": [
    "NameSpace:\n",
    "\n",
    "\n",
    "Global Variable: Can be accessed in and out of function\n",
    "\n",
    "\n",
    "Local Variable : are defined and accessed only inside the function"
   ]
  },
  {
   "cell_type": "code",
   "execution_count": 64,
   "id": "688b1542",
   "metadata": {},
   "outputs": [],
   "source": [
    "# define and declare function\n",
    "def square_of_a_number(num): # Parameterized Function\n",
    "    \"\"\"This function will take a numeric value\n",
    "        And print square of the value \"\"\"\n",
    "    square = num**2\n",
    "    print(f\"The square of number {num} is {square}\")\n",
    "   "
   ]
  },
  {
   "cell_type": "code",
   "execution_count": 65,
   "id": "3d8c0b36",
   "metadata": {},
   "outputs": [
    {
     "name": "stdout",
     "output_type": "stream",
     "text": [
      "The square of number 9 is 81\n"
     ]
    }
   ],
   "source": [
    "square_of_a_number(9)"
   ]
  },
  {
   "cell_type": "code",
   "execution_count": 66,
   "id": "8ab1adfb",
   "metadata": {},
   "outputs": [
    {
     "ename": "NameError",
     "evalue": "name 'square' is not defined",
     "output_type": "error",
     "traceback": [
      "\u001b[1;31m---------------------------------------------------------------------------\u001b[0m",
      "\u001b[1;31mNameError\u001b[0m                                 Traceback (most recent call last)",
      "\u001b[1;32m<ipython-input-66-08f8cef2815d>\u001b[0m in \u001b[0;36m<module>\u001b[1;34m\u001b[0m\n\u001b[1;32m----> 1\u001b[1;33m \u001b[0mprint\u001b[0m\u001b[1;33m(\u001b[0m\u001b[0msquare\u001b[0m\u001b[1;33m)\u001b[0m\u001b[1;33m\u001b[0m\u001b[1;33m\u001b[0m\u001b[0m\n\u001b[0m",
      "\u001b[1;31mNameError\u001b[0m: name 'square' is not defined"
     ]
    }
   ],
   "source": [
    "print(square)"
   ]
  },
  {
   "cell_type": "code",
   "execution_count": 79,
   "id": "35c2a316",
   "metadata": {},
   "outputs": [],
   "source": [
    "global_var = 10\n",
    "\n",
    "# define and declare function\n",
    "def square_of_a_number(num): # Parameterized Function\n",
    "    \"\"\"This function will take a numeric value\n",
    "        And print square of the value \"\"\"\n",
    "    \n",
    "    country_name = \"Pakistan: is a Local Variable\" # local variable\n",
    "    # Variables that are define inside a function can't be accessed outside function\n",
    "    square = num**2 # local variable\n",
    "    print(f\"The square of number {num} is {square}\")\n",
    "    print(country_name)\n",
    "    print(f\"The value of global variable is {global_var} \")"
   ]
  },
  {
   "cell_type": "code",
   "execution_count": 68,
   "id": "6dfdc6e4",
   "metadata": {},
   "outputs": [
    {
     "ename": "NameError",
     "evalue": "name 'country_name' is not defined",
     "output_type": "error",
     "traceback": [
      "\u001b[1;31m---------------------------------------------------------------------------\u001b[0m",
      "\u001b[1;31mNameError\u001b[0m                                 Traceback (most recent call last)",
      "\u001b[1;32m<ipython-input-68-5f2c6faf752b>\u001b[0m in \u001b[0;36m<module>\u001b[1;34m\u001b[0m\n\u001b[1;32m----> 1\u001b[1;33m \u001b[0mcountry_name\u001b[0m\u001b[1;33m\u001b[0m\u001b[1;33m\u001b[0m\u001b[0m\n\u001b[0m",
      "\u001b[1;31mNameError\u001b[0m: name 'country_name' is not defined"
     ]
    }
   ],
   "source": [
    "country_name"
   ]
  },
  {
   "cell_type": "code",
   "execution_count": 80,
   "id": "4ff3cde6",
   "metadata": {},
   "outputs": [
    {
     "name": "stdout",
     "output_type": "stream",
     "text": [
      "The square of number 9 is 81\n",
      "Pakistan: is a Local Variable\n",
      "The value of global variable is 10 \n"
     ]
    }
   ],
   "source": [
    "square_of_a_number(9)"
   ]
  },
  {
   "cell_type": "code",
   "execution_count": 76,
   "id": "64ec0502",
   "metadata": {},
   "outputs": [
    {
     "data": {
      "text/plain": [
       "10"
      ]
     },
     "execution_count": 76,
     "metadata": {},
     "output_type": "execute_result"
    }
   ],
   "source": [
    "global_var"
   ]
  },
  {
   "cell_type": "code",
   "execution_count": 87,
   "id": "89cadd85",
   "metadata": {},
   "outputs": [],
   "source": [
    "def circumference(radius):\n",
    "    circumference = 2*3.14*radius\n",
    "    # To access the value of local variable outside the function, \n",
    "    # we will do it through the return\n",
    "    return circumference"
   ]
  },
  {
   "cell_type": "code",
   "execution_count": 88,
   "id": "4d23625a",
   "metadata": {},
   "outputs": [],
   "source": [
    "value_of_cir = circumference(4.5)"
   ]
  },
  {
   "cell_type": "code",
   "execution_count": 89,
   "id": "409c275b",
   "metadata": {},
   "outputs": [
    {
     "data": {
      "text/plain": [
       "28.26"
      ]
     },
     "execution_count": 89,
     "metadata": {},
     "output_type": "execute_result"
    }
   ],
   "source": [
    "value_of_cir"
   ]
  },
  {
   "cell_type": "markdown",
   "id": "e15639d7",
   "metadata": {},
   "source": [
    "## Return\n",
    "\n"
   ]
  },
  {
   "cell_type": "code",
   "execution_count": 97,
   "id": "14bb121b",
   "metadata": {},
   "outputs": [],
   "source": [
    "def square_of_num(num):\n",
    "    square = num**2\n",
    "    print(f\"Square of number {num} is {square}\")"
   ]
  },
  {
   "cell_type": "code",
   "execution_count": 98,
   "id": "3c4d7baf",
   "metadata": {},
   "outputs": [
    {
     "name": "stdout",
     "output_type": "stream",
     "text": [
      "Square of number 9 is 81\n"
     ]
    }
   ],
   "source": [
    "square_of_num(9)"
   ]
  },
  {
   "cell_type": "code",
   "execution_count": 146,
   "id": "d26b95bf",
   "metadata": {},
   "outputs": [],
   "source": [
    "def square_of_num(num):\n",
    "    square = num**2\n",
    "    print(f\"Square of number {num} is {square}\")\n",
    "    return square"
   ]
  },
  {
   "cell_type": "code",
   "execution_count": 148,
   "id": "ee6400b3",
   "metadata": {},
   "outputs": [
    {
     "name": "stdout",
     "output_type": "stream",
     "text": [
      "Square of number 2 is 4\n"
     ]
    },
    {
     "data": {
      "text/plain": [
       "4"
      ]
     },
     "execution_count": 148,
     "metadata": {},
     "output_type": "execute_result"
    }
   ],
   "source": [
    "squared_value = square_of_num(2)\n",
    "squared_value"
   ]
  },
  {
   "cell_type": "code",
   "execution_count": 134,
   "id": "01bc5595",
   "metadata": {},
   "outputs": [],
   "source": [
    "def square_of_num(num):\n",
    "    square = num**2  # local variable\n",
    "    print(\"sqaure is \" + str(square))\n",
    "    return square"
   ]
  },
  {
   "cell_type": "code",
   "execution_count": 141,
   "id": "519e45dc",
   "metadata": {},
   "outputs": [
    {
     "name": "stdout",
     "output_type": "stream",
     "text": [
      "Square of number 2 is 4\n"
     ]
    },
    {
     "data": {
      "text/plain": [
       "4"
      ]
     },
     "execution_count": 141,
     "metadata": {},
     "output_type": "execute_result"
    }
   ],
   "source": [
    "square_of_num(2)"
   ]
  },
  {
   "cell_type": "code",
   "execution_count": 143,
   "id": "3cd4385c",
   "metadata": {},
   "outputs": [
    {
     "name": "stdout",
     "output_type": "stream",
     "text": [
      "Square of number 3 is 9\n"
     ]
    },
    {
     "data": {
      "text/plain": [
       "9"
      ]
     },
     "execution_count": 143,
     "metadata": {},
     "output_type": "execute_result"
    }
   ],
   "source": [
    "_3_square = square_of_num(3)\n",
    "_3_square"
   ]
  },
  {
   "cell_type": "code",
   "execution_count": 149,
   "id": "47c3a8c9",
   "metadata": {},
   "outputs": [
    {
     "data": {
      "text/plain": [
       "4"
      ]
     },
     "execution_count": 149,
     "metadata": {},
     "output_type": "execute_result"
    }
   ],
   "source": [
    "squared_value # the square inside is still not accessed outside\n",
    "              # it is only returning its value to the function\n",
    "              # and we are saving that value in a variable"
   ]
  },
  {
   "cell_type": "code",
   "execution_count": 150,
   "id": "fed4be76",
   "metadata": {},
   "outputs": [
    {
     "data": {
      "text/plain": [
       "9"
      ]
     },
     "execution_count": 150,
     "metadata": {},
     "output_type": "execute_result"
    }
   ],
   "source": [
    "_3_square"
   ]
  },
  {
   "cell_type": "code",
   "execution_count": 151,
   "id": "f349b483",
   "metadata": {},
   "outputs": [
    {
     "name": "stdout",
     "output_type": "stream",
     "text": [
      "Square of number 11 is 121\n"
     ]
    }
   ],
   "source": [
    "sqaure = square_of_num(11)"
   ]
  },
  {
   "cell_type": "code",
   "execution_count": 152,
   "id": "d4ccaf43",
   "metadata": {},
   "outputs": [
    {
     "data": {
      "text/plain": [
       "121"
      ]
     },
     "execution_count": 152,
     "metadata": {},
     "output_type": "execute_result"
    }
   ],
   "source": [
    "sqaure"
   ]
  },
  {
   "cell_type": "code",
   "execution_count": 154,
   "id": "c7c14b50",
   "metadata": {},
   "outputs": [
    {
     "name": "stdout",
     "output_type": "stream",
     "text": [
      "60.5\n"
     ]
    }
   ],
   "source": [
    "print(sqaure/2)"
   ]
  },
  {
   "cell_type": "code",
   "execution_count": 166,
   "id": "27ea6d62",
   "metadata": {},
   "outputs": [],
   "source": [
    "def square_of_num(num):\n",
    "    \n",
    "    square = num**2  # local variable\n",
    "    return square, f\"I am squared of {num}\"\n",
    "    # Compiler will go out after return statement\n",
    "    # It will not print anything after return\n",
    "    print(\"I am called after return statement\")\n"
   ]
  },
  {
   "cell_type": "code",
   "execution_count": 167,
   "id": "474c1356",
   "metadata": {},
   "outputs": [],
   "source": [
    "returned_values = square_of_num(12)"
   ]
  },
  {
   "cell_type": "raw",
   "id": "23d378f5",
   "metadata": {},
   "source": [
    "returned_values"
   ]
  },
  {
   "cell_type": "code",
   "execution_count": 168,
   "id": "883eecfa",
   "metadata": {},
   "outputs": [
    {
     "name": "stdout",
     "output_type": "stream",
     "text": [
      "(144, 'I am squared of 12')\n"
     ]
    }
   ],
   "source": [
    "print(returned_values)"
   ]
  },
  {
   "cell_type": "code",
   "execution_count": 165,
   "id": "fc5a4ecc",
   "metadata": {},
   "outputs": [],
   "source": [
    "a,b = returned_values"
   ]
  },
  {
   "cell_type": "code",
   "execution_count": 164,
   "id": "a3203896",
   "metadata": {},
   "outputs": [
    {
     "name": "stdout",
     "output_type": "stream",
     "text": [
      "144\n",
      "I am squared of 12\n"
     ]
    }
   ],
   "source": [
    "print(a)\n",
    "print(b)"
   ]
  },
  {
   "cell_type": "code",
   "execution_count": 109,
   "id": "cb1c9760",
   "metadata": {},
   "outputs": [
    {
     "name": "stdout",
     "output_type": "stream",
     "text": [
      "----------------------------------------------------------\n",
      "Saturday Sunday Monday Tuesday Wednesday Thursday Friday \n",
      "----------------------------------------------------------\n",
      "1        2        3        4        5        6        7        \n",
      "\n",
      "8       9       10       11       12       13       14       \n",
      "\n",
      "15       16       17       18       19       20       21       \n",
      "\n",
      "22       23       24       25       26       27       28       \n",
      "\n",
      "29       30       31       "
     ]
    }
   ],
   "source": [
    "#Python calendar\n",
    "days = ['Saturday', 'Sunday', 'Monday', 'Tuesday', 'Wednesday', 'Thursday', 'Friday' ]\n",
    "\n",
    "print(\"----------------------------------------------------------\")\n",
    "for x in days:\n",
    "    \n",
    "    print(x, end=\" \")\n",
    "print(\"\\n----------------------------------------------------------\")\n",
    "y=1\n",
    "while y <= 31:\n",
    "    \n",
    "    if y != 8 and y < 8:\n",
    "        print(y, end=\" \"*8, sep=\"\")\n",
    "    if y == 8:\n",
    "        print(\"\\n\")\n",
    "    if y > 7 and y < 15:\n",
    "        print(y, sep=\" \", end=\" \"*7)\n",
    "    if y == 14:\n",
    "        print(\"\\n\")\n",
    "    if y > 14 and y < 22:\n",
    "        print(y, end=\" \"*7)\n",
    "    if y == 21:\n",
    "        print(\"\\n\")\n",
    "    if y > 21 and y < 29:\n",
    "        print(y, end=\" \"*7)\n",
    "    if y == 28:\n",
    "        print(\"\\n\")\n",
    "    if y > 28:\n",
    "        print(y, end=\" \"*7)\n",
    "    y+=1\n",
    "    \n",
    "\n"
   ]
  }
 ],
 "metadata": {
  "kernelspec": {
   "display_name": "Python 3",
   "language": "python",
   "name": "python3"
  },
  "language_info": {
   "codemirror_mode": {
    "name": "ipython",
    "version": 3
   },
   "file_extension": ".py",
   "mimetype": "text/x-python",
   "name": "python",
   "nbconvert_exporter": "python",
   "pygments_lexer": "ipython3",
   "version": "3.8.8"
  }
 },
 "nbformat": 4,
 "nbformat_minor": 5
}
