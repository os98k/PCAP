{
 "cells": [
  {
   "cell_type": "markdown",
   "id": "5f73a5c6",
   "metadata": {},
   "source": [
    "# Last Class"
   ]
  },
  {
   "cell_type": "raw",
   "id": "414a66d8",
   "metadata": {},
   "source": [
    "- String\n",
    "- String functions\n",
    "- String concatenation\n",
    "- String indexing\n",
    "- Opereator/operands\n",
    "- Variable name legal and illegal\n",
    "- Number system\n"
   ]
  },
  {
   "cell_type": "markdown",
   "id": "857fa113",
   "metadata": {},
   "source": [
    "# Today Class"
   ]
  },
  {
   "cell_type": "raw",
   "id": "60efd333",
   "metadata": {},
   "source": [
    "- Operators\n",
    "- Typecasting\n",
    "- User Inputs\n",
    "- String Formation\n",
    "- Variable naming convention\n"
   ]
  },
  {
   "cell_type": "markdown",
   "id": "d171c512",
   "metadata": {},
   "source": [
    "# Operators"
   ]
  },
  {
   "cell_type": "raw",
   "id": "ccdc575e",
   "metadata": {},
   "source": [
    "- +\n",
    "- -\n",
    "- *\n",
    "- /\n",
    "- //\n",
    "- % \n",
    "- >, <, <=, >=, != \n",
    "- Uniary Operators\n",
    "   - a=a+1 (incremental) +=\n",
    "   - b=b-1 (decremental) -=\n",
    "   "
   ]
  },
  {
   "cell_type": "code",
   "execution_count": 1,
   "id": "32a33f6d",
   "metadata": {},
   "outputs": [
    {
     "name": "stdout",
     "output_type": "stream",
     "text": [
      "5\n"
     ]
    }
   ],
   "source": [
    "print(2+3)   # int + int"
   ]
  },
  {
   "cell_type": "code",
   "execution_count": 2,
   "id": "30350c24",
   "metadata": {},
   "outputs": [
    {
     "name": "stdout",
     "output_type": "stream",
     "text": [
      "4.4\n"
     ]
    }
   ],
   "source": [
    "print(2+2.4) # int + float"
   ]
  },
  {
   "cell_type": "code",
   "execution_count": 3,
   "id": "71cee75a",
   "metadata": {},
   "outputs": [
    {
     "name": "stdout",
     "output_type": "stream",
     "text": [
      "23.099999999999998\n"
     ]
    }
   ],
   "source": [
    "print(3.5*6.6) # float * float"
   ]
  },
  {
   "cell_type": "code",
   "execution_count": 6,
   "id": "a508ecb9",
   "metadata": {},
   "outputs": [
    {
     "data": {
      "text/plain": [
       "23.1"
      ]
     },
     "execution_count": 6,
     "metadata": {},
     "output_type": "execute_result"
    }
   ],
   "source": [
    "round(23.099999999999998,3)\n"
   ]
  },
  {
   "cell_type": "code",
   "execution_count": 7,
   "id": "376cc8af",
   "metadata": {},
   "outputs": [
    {
     "data": {
      "text/plain": [
       "23.1"
      ]
     },
     "execution_count": 7,
     "metadata": {},
     "output_type": "execute_result"
    }
   ],
   "source": [
    "round(3.5*6.6,3)"
   ]
  },
  {
   "cell_type": "code",
   "execution_count": 8,
   "id": "b06486bf",
   "metadata": {},
   "outputs": [
    {
     "data": {
      "text/plain": [
       "5.5"
      ]
     },
     "execution_count": 8,
     "metadata": {},
     "output_type": "execute_result"
    }
   ],
   "source": [
    "11/2 # int / int\n",
    "# '/' is floating division"
   ]
  },
  {
   "cell_type": "code",
   "execution_count": 9,
   "id": "9f83789f",
   "metadata": {},
   "outputs": [
    {
     "data": {
      "text/plain": [
       "5"
      ]
     },
     "execution_count": 9,
     "metadata": {},
     "output_type": "execute_result"
    }
   ],
   "source": [
    "11//2 # int // int\n",
    "# '//' is integer division"
   ]
  },
  {
   "cell_type": "code",
   "execution_count": 10,
   "id": "22499a56",
   "metadata": {},
   "outputs": [
    {
     "data": {
      "text/plain": [
       "1"
      ]
     },
     "execution_count": 10,
     "metadata": {},
     "output_type": "execute_result"
    }
   ],
   "source": [
    "11%2 # int % int\n",
    "# Modulus Operator or Modulo: This return reminders"
   ]
  },
  {
   "cell_type": "code",
   "execution_count": 11,
   "id": "f0f1819a",
   "metadata": {},
   "outputs": [
    {
     "data": {
      "text/plain": [
       "False"
      ]
     },
     "execution_count": 11,
     "metadata": {},
     "output_type": "execute_result"
    }
   ],
   "source": [
    "12 != 12"
   ]
  },
  {
   "cell_type": "code",
   "execution_count": 12,
   "id": "196eb27f",
   "metadata": {},
   "outputs": [],
   "source": [
    "age = 34"
   ]
  },
  {
   "cell_type": "code",
   "execution_count": 13,
   "id": "111d776d",
   "metadata": {},
   "outputs": [
    {
     "data": {
      "text/plain": [
       "35"
      ]
     },
     "execution_count": 13,
     "metadata": {},
     "output_type": "execute_result"
    }
   ],
   "source": [
    "age+1"
   ]
  },
  {
   "cell_type": "code",
   "execution_count": 18,
   "id": "31db8b2e",
   "metadata": {},
   "outputs": [
    {
     "data": {
      "text/plain": [
       "40"
      ]
     },
     "execution_count": 18,
     "metadata": {},
     "output_type": "execute_result"
    }
   ],
   "source": [
    "age = age + 1\n",
    "age"
   ]
  },
  {
   "cell_type": "code",
   "execution_count": 19,
   "id": "b426866b",
   "metadata": {},
   "outputs": [
    {
     "data": {
      "text/plain": [
       "42"
      ]
     },
     "execution_count": 19,
     "metadata": {},
     "output_type": "execute_result"
    }
   ],
   "source": [
    "age = age + 2\n",
    "age"
   ]
  },
  {
   "cell_type": "code",
   "execution_count": 20,
   "id": "9df5d8f1",
   "metadata": {},
   "outputs": [
    {
     "data": {
      "text/plain": [
       "47"
      ]
     },
     "execution_count": 20,
     "metadata": {},
     "output_type": "execute_result"
    }
   ],
   "source": [
    "age +=5\n",
    "age"
   ]
  },
  {
   "cell_type": "code",
   "execution_count": 21,
   "id": "2ce84b48",
   "metadata": {},
   "outputs": [
    {
     "data": {
      "text/plain": [
       "42"
      ]
     },
     "execution_count": 21,
     "metadata": {},
     "output_type": "execute_result"
    }
   ],
   "source": [
    "age = age - 5\n",
    "age"
   ]
  },
  {
   "cell_type": "code",
   "execution_count": 22,
   "id": "924a50f2",
   "metadata": {},
   "outputs": [
    {
     "data": {
      "text/plain": [
       "41"
      ]
     },
     "execution_count": 22,
     "metadata": {},
     "output_type": "execute_result"
    }
   ],
   "source": [
    "age -=1\n",
    "age"
   ]
  },
  {
   "cell_type": "code",
   "execution_count": 23,
   "id": "d4d440fb",
   "metadata": {},
   "outputs": [
    {
     "data": {
      "text/plain": [
       "39"
      ]
     },
     "execution_count": 23,
     "metadata": {},
     "output_type": "execute_result"
    }
   ],
   "source": [
    "age -=2\n",
    "age"
   ]
  },
  {
   "cell_type": "code",
   "execution_count": 24,
   "id": "9eb87191",
   "metadata": {},
   "outputs": [
    {
     "data": {
      "text/plain": [
       "19.5"
      ]
     },
     "execution_count": 24,
     "metadata": {},
     "output_type": "execute_result"
    }
   ],
   "source": [
    "age /= 2\n",
    "age"
   ]
  },
  {
   "cell_type": "code",
   "execution_count": 25,
   "id": "86327154",
   "metadata": {},
   "outputs": [
    {
     "data": {
      "text/plain": [
       "39.0"
      ]
     },
     "execution_count": 25,
     "metadata": {},
     "output_type": "execute_result"
    }
   ],
   "source": [
    "age *= 2\n",
    "age"
   ]
  },
  {
   "cell_type": "code",
   "execution_count": 26,
   "id": "8cb2cf83",
   "metadata": {},
   "outputs": [
    {
     "data": {
      "text/plain": [
       "1.0"
      ]
     },
     "execution_count": 26,
     "metadata": {},
     "output_type": "execute_result"
    }
   ],
   "source": [
    "1 / 1"
   ]
  },
  {
   "cell_type": "code",
   "execution_count": 27,
   "id": "2a9f2f52",
   "metadata": {},
   "outputs": [
    {
     "data": {
      "text/plain": [
       "1"
      ]
     },
     "execution_count": 27,
     "metadata": {},
     "output_type": "execute_result"
    }
   ],
   "source": [
    "1//1"
   ]
  },
  {
   "cell_type": "code",
   "execution_count": 28,
   "id": "33268206",
   "metadata": {},
   "outputs": [
    {
     "data": {
      "text/plain": [
       "4.0"
      ]
     },
     "execution_count": 28,
     "metadata": {},
     "output_type": "execute_result"
    }
   ],
   "source": [
    "10/2.5"
   ]
  },
  {
   "cell_type": "code",
   "execution_count": 29,
   "id": "d9f68771",
   "metadata": {},
   "outputs": [
    {
     "data": {
      "text/plain": [
       "4.0"
      ]
     },
     "execution_count": 29,
     "metadata": {},
     "output_type": "execute_result"
    }
   ],
   "source": [
    "10//2.5 # // will give float only when we have integer "
   ]
  },
  {
   "cell_type": "code",
   "execution_count": 30,
   "id": "a882f5c6",
   "metadata": {},
   "outputs": [
    {
     "data": {
      "text/plain": [
       "39.0"
      ]
     },
     "execution_count": 30,
     "metadata": {},
     "output_type": "execute_result"
    }
   ],
   "source": [
    "age "
   ]
  },
  {
   "cell_type": "code",
   "execution_count": 33,
   "id": "3a567e7c",
   "metadata": {},
   "outputs": [
    {
     "data": {
      "text/plain": [
       "19.0"
      ]
     },
     "execution_count": 33,
     "metadata": {},
     "output_type": "execute_result"
    }
   ],
   "source": [
    "age //=2 # float // integer\n",
    "age"
   ]
  },
  {
   "cell_type": "code",
   "execution_count": 34,
   "id": "960a94fa",
   "metadata": {},
   "outputs": [
    {
     "data": {
      "text/plain": [
       "90"
      ]
     },
     "execution_count": 34,
     "metadata": {},
     "output_type": "execute_result"
    }
   ],
   "source": [
    "marks = 90\n",
    "marks"
   ]
  },
  {
   "cell_type": "markdown",
   "id": "5fec0d1b",
   "metadata": {},
   "source": [
    "# Type Casting"
   ]
  },
  {
   "cell_type": "code",
   "execution_count": 35,
   "id": "bcd0f2ef",
   "metadata": {},
   "outputs": [
    {
     "data": {
      "text/plain": [
       "int"
      ]
     },
     "execution_count": 35,
     "metadata": {},
     "output_type": "execute_result"
    }
   ],
   "source": [
    "marks = 90\n",
    "type(marks)"
   ]
  },
  {
   "cell_type": "code",
   "execution_count": 36,
   "id": "cfe60d7b",
   "metadata": {},
   "outputs": [
    {
     "name": "stdout",
     "output_type": "stream",
     "text": [
      "<class 'int'>\n"
     ]
    }
   ],
   "source": [
    "print(type(marks))"
   ]
  },
  {
   "cell_type": "code",
   "execution_count": 37,
   "id": "5cb3660b",
   "metadata": {},
   "outputs": [
    {
     "data": {
      "text/plain": [
       "90.0"
      ]
     },
     "execution_count": 37,
     "metadata": {},
     "output_type": "execute_result"
    }
   ],
   "source": [
    "float(marks)"
   ]
  },
  {
   "cell_type": "code",
   "execution_count": 38,
   "id": "5fa44f0f",
   "metadata": {},
   "outputs": [
    {
     "data": {
      "text/plain": [
       "83.5"
      ]
     },
     "execution_count": 38,
     "metadata": {},
     "output_type": "execute_result"
    }
   ],
   "source": [
    "per = 83.5\n",
    "per\n"
   ]
  },
  {
   "cell_type": "code",
   "execution_count": 39,
   "id": "51a4d9e8",
   "metadata": {},
   "outputs": [
    {
     "data": {
      "text/plain": [
       "float"
      ]
     },
     "execution_count": 39,
     "metadata": {},
     "output_type": "execute_result"
    }
   ],
   "source": [
    "type(per)"
   ]
  },
  {
   "cell_type": "code",
   "execution_count": 40,
   "id": "3bad338f",
   "metadata": {},
   "outputs": [
    {
     "data": {
      "text/plain": [
       "83"
      ]
     },
     "execution_count": 40,
     "metadata": {},
     "output_type": "execute_result"
    }
   ],
   "source": [
    "int(per)"
   ]
  },
  {
   "cell_type": "code",
   "execution_count": 41,
   "id": "a5082b38",
   "metadata": {},
   "outputs": [
    {
     "data": {
      "text/plain": [
       "83.5"
      ]
     },
     "execution_count": 41,
     "metadata": {},
     "output_type": "execute_result"
    }
   ],
   "source": [
    "per"
   ]
  },
  {
   "cell_type": "code",
   "execution_count": 42,
   "id": "0c922576",
   "metadata": {},
   "outputs": [],
   "source": [
    "per = int(per)"
   ]
  },
  {
   "cell_type": "code",
   "execution_count": 43,
   "id": "e9929ebd",
   "metadata": {},
   "outputs": [
    {
     "data": {
      "text/plain": [
       "83"
      ]
     },
     "execution_count": 43,
     "metadata": {},
     "output_type": "execute_result"
    }
   ],
   "source": [
    "per"
   ]
  },
  {
   "cell_type": "code",
   "execution_count": 44,
   "id": "3b4504c6",
   "metadata": {},
   "outputs": [],
   "source": [
    "bloodpressure = \"85\""
   ]
  },
  {
   "cell_type": "code",
   "execution_count": 45,
   "id": "15ea0edc",
   "metadata": {},
   "outputs": [
    {
     "name": "stdout",
     "output_type": "stream",
     "text": [
      "<class 'str'>\n"
     ]
    }
   ],
   "source": [
    "print(type(bloodpressure))"
   ]
  },
  {
   "cell_type": "code",
   "execution_count": 46,
   "id": "b71e96f9",
   "metadata": {},
   "outputs": [
    {
     "data": {
      "text/plain": [
       "85"
      ]
     },
     "execution_count": 46,
     "metadata": {},
     "output_type": "execute_result"
    }
   ],
   "source": [
    "int(bloodpressure) "
   ]
  },
  {
   "cell_type": "code",
   "execution_count": 47,
   "id": "9de46b55",
   "metadata": {},
   "outputs": [],
   "source": [
    "coding = \"python\""
   ]
  },
  {
   "cell_type": "code",
   "execution_count": 48,
   "id": "ca77a70a",
   "metadata": {},
   "outputs": [
    {
     "ename": "ValueError",
     "evalue": "invalid literal for int() with base 10: 'python'",
     "output_type": "error",
     "traceback": [
      "\u001b[1;31m---------------------------------------------------------------------------\u001b[0m",
      "\u001b[1;31mValueError\u001b[0m                                Traceback (most recent call last)",
      "\u001b[1;32m<ipython-input-48-3c2787cb1aed>\u001b[0m in \u001b[0;36m<module>\u001b[1;34m\u001b[0m\n\u001b[1;32m----> 1\u001b[1;33m \u001b[0mint\u001b[0m\u001b[1;33m(\u001b[0m\u001b[0mcoding\u001b[0m\u001b[1;33m)\u001b[0m\u001b[1;33m\u001b[0m\u001b[1;33m\u001b[0m\u001b[0m\n\u001b[0m",
      "\u001b[1;31mValueError\u001b[0m: invalid literal for int() with base 10: 'python'"
     ]
    }
   ],
   "source": [
    "int(coding) # Not all variable can be typecast only those variable can be typecast which have numbers in it."
   ]
  },
  {
   "cell_type": "markdown",
   "id": "068b1dc5",
   "metadata": {},
   "source": [
    "# User Input"
   ]
  },
  {
   "cell_type": "raw",
   "id": "88b44ae7",
   "metadata": {},
   "source": [
    "The input given at console by user is always a string even if the user add number, it will still be a string"
   ]
  },
  {
   "cell_type": "code",
   "execution_count": 49,
   "id": "6e8dc027",
   "metadata": {},
   "outputs": [
    {
     "name": "stdout",
     "output_type": "stream",
     "text": [
      "23\n"
     ]
    },
    {
     "data": {
      "text/plain": [
       "'23'"
      ]
     },
     "execution_count": 49,
     "metadata": {},
     "output_type": "execute_result"
    }
   ],
   "source": [
    "input()"
   ]
  },
  {
   "cell_type": "code",
   "execution_count": 50,
   "id": "2edd54f3",
   "metadata": {},
   "outputs": [
    {
     "name": "stdout",
     "output_type": "stream",
     "text": [
      "MY NAME IS OSAMA SHAKEEL and I AM LEARNING PYTHON\n"
     ]
    },
    {
     "data": {
      "text/plain": [
       "'MY NAME IS OSAMA SHAKEEL and I AM LEARNING PYTHON'"
      ]
     },
     "execution_count": 50,
     "metadata": {},
     "output_type": "execute_result"
    }
   ],
   "source": [
    "input()"
   ]
  },
  {
   "cell_type": "code",
   "execution_count": 51,
   "id": "d4bbd5a1",
   "metadata": {},
   "outputs": [
    {
     "name": "stdout",
     "output_type": "stream",
     "text": [
      "please tell me your good nameOsama Shakeel\n"
     ]
    },
    {
     "data": {
      "text/plain": [
       "'Osama Shakeel'"
      ]
     },
     "execution_count": 51,
     "metadata": {},
     "output_type": "execute_result"
    }
   ],
   "source": [
    "input(\"please tell me your good name\")"
   ]
  },
  {
   "cell_type": "code",
   "execution_count": 52,
   "id": "47f89d0e",
   "metadata": {},
   "outputs": [
    {
     "name": "stdout",
     "output_type": "stream",
     "text": [
      "Plese let me know your name!My name is Osama \n"
     ]
    }
   ],
   "source": [
    "name = input(\"Plese let me know your name!\")\n"
   ]
  },
  {
   "cell_type": "code",
   "execution_count": 53,
   "id": "c9a00de7",
   "metadata": {},
   "outputs": [
    {
     "data": {
      "text/plain": [
       "'My name is Osama '"
      ]
     },
     "execution_count": 53,
     "metadata": {},
     "output_type": "execute_result"
    }
   ],
   "source": [
    "name "
   ]
  },
  {
   "cell_type": "code",
   "execution_count": 55,
   "id": "58db53af",
   "metadata": {},
   "outputs": [
    {
     "name": "stdout",
     "output_type": "stream",
     "text": [
      "Tell me your age! 23\n"
     ]
    }
   ],
   "source": [
    "userage = input(\"Tell me your age! \")"
   ]
  },
  {
   "cell_type": "code",
   "execution_count": 56,
   "id": "32518621",
   "metadata": {},
   "outputs": [
    {
     "data": {
      "text/plain": [
       "'23'"
      ]
     },
     "execution_count": 56,
     "metadata": {},
     "output_type": "execute_result"
    }
   ],
   "source": [
    "userage"
   ]
  },
  {
   "cell_type": "code",
   "execution_count": 57,
   "id": "42eb6ebb",
   "metadata": {},
   "outputs": [
    {
     "data": {
      "text/plain": [
       "str"
      ]
     },
     "execution_count": 57,
     "metadata": {},
     "output_type": "execute_result"
    }
   ],
   "source": [
    "type(userage)"
   ]
  },
  {
   "cell_type": "code",
   "execution_count": 61,
   "id": "7f57cee1",
   "metadata": {},
   "outputs": [
    {
     "ename": "TypeError",
     "evalue": "can only concatenate str (not \"int\") to str",
     "output_type": "error",
     "traceback": [
      "\u001b[1;31m---------------------------------------------------------------------------\u001b[0m",
      "\u001b[1;31mTypeError\u001b[0m                                 Traceback (most recent call last)",
      "\u001b[1;32m<ipython-input-61-1e53bf1fa553>\u001b[0m in \u001b[0;36m<module>\u001b[1;34m\u001b[0m\n\u001b[1;32m----> 1\u001b[1;33m \u001b[0mprint\u001b[0m\u001b[1;33m(\u001b[0m\u001b[1;34m\"After five year, User age will be: \"\u001b[0m \u001b[1;33m+\u001b[0m \u001b[0mint\u001b[0m\u001b[1;33m(\u001b[0m\u001b[0muserage\u001b[0m\u001b[1;33m)\u001b[0m \u001b[1;33m+\u001b[0m \u001b[1;36m5\u001b[0m\u001b[1;33m)\u001b[0m\u001b[1;33m\u001b[0m\u001b[1;33m\u001b[0m\u001b[0m\n\u001b[0m",
      "\u001b[1;31mTypeError\u001b[0m: can only concatenate str (not \"int\") to str"
     ]
    }
   ],
   "source": [
    "print(\"After five year, User age will be: \"   +         int(userage) + 5)\n",
    "#                  string                     +          integer\n",
    "str + int >>> error\n"
   ]
  },
  {
   "cell_type": "code",
   "execution_count": 63,
   "id": "d0602faf",
   "metadata": {},
   "outputs": [
    {
     "name": "stdout",
     "output_type": "stream",
     "text": [
      "After five year, User age will be: 28\n"
     ]
    }
   ],
   "source": [
    "print(\"After five year, User age will be: \"   +         str(int(userage) + 5))\n",
    "#                  string                     +          str(integer)"
   ]
  },
  {
   "cell_type": "code",
   "execution_count": 64,
   "id": "bc5e3319",
   "metadata": {},
   "outputs": [],
   "source": [
    "books = 10"
   ]
  },
  {
   "cell_type": "code",
   "execution_count": 66,
   "id": "2a796ed0",
   "metadata": {},
   "outputs": [
    {
     "name": "stdout",
     "output_type": "stream",
     "text": [
      "books are : 10\n"
     ]
    }
   ],
   "source": [
    "print(\"books are : \" + str(books))"
   ]
  },
  {
   "cell_type": "raw",
   "id": "6c13e398",
   "metadata": {},
   "source": [
    "Dear User your name is \"Ali\" and your age is 23"
   ]
  },
  {
   "cell_type": "raw",
   "id": "26534cac",
   "metadata": {},
   "source": [
    "Taking user input and doing concatenation"
   ]
  },
  {
   "cell_type": "code",
   "execution_count": null,
   "id": "41150de6",
   "metadata": {},
   "outputs": [],
   "source": [
    "studentage = int(input(\"Dear student tell me your age \"))\n",
    "studentname = input(\"Dear student tell me your name \")\n",
    "print(\"Dear user your name is: \" + studentname + \"and your age is: \" + studentage)\n",
    "#           string                   string            string            int              "
   ]
  },
  {
   "cell_type": "code",
   "execution_count": 4,
   "id": "0bf3408e",
   "metadata": {},
   "outputs": [
    {
     "name": "stdout",
     "output_type": "stream",
     "text": [
      "Dear student tell me your age 23\n",
      "Dear student tell me your name osama\n"
     ]
    }
   ],
   "source": [
    "studentage = int(input(\"Dear student tell me your age \"))\n",
    "studentname = input(\"Dear student tell me your name \")\n"
   ]
  },
  {
   "cell_type": "code",
   "execution_count": 6,
   "id": "6dc63541",
   "metadata": {},
   "outputs": [
    {
     "name": "stdout",
     "output_type": "stream",
     "text": [
      "Dear user your name is: osama and your age is: 23\n"
     ]
    }
   ],
   "source": [
    "print(\"Dear user your name is: \" + studentname + \" and your age is: \" + str(studentage))\n",
    "#       string                     string         string                  string"
   ]
  },
  {
   "cell_type": "markdown",
   "id": "2dc964c1",
   "metadata": {},
   "source": [
    "# String Formation"
   ]
  },
  {
   "cell_type": "code",
   "execution_count": null,
   "id": "42d168de",
   "metadata": {},
   "outputs": [],
   "source": [
    "firstname = \"osama\"\n",
    "lastname = \"Shakeel\"\n",
    "\n",
    "fullname = firstname+lastname #concatenation\n",
    "fullname1 = firstname.format()"
   ]
  },
  {
   "cell_type": "code",
   "execution_count": 7,
   "id": "4726b655",
   "metadata": {},
   "outputs": [
    {
     "name": "stdout",
     "output_type": "stream",
     "text": [
      "Dear student tell me your age 23\n",
      "Dear student tell me your name Osama\n",
      "Dear user your name is: Osama and your age is: 23\n"
     ]
    }
   ],
   "source": [
    "studentage = int(input(\"Dear student tell me your age \"))\n",
    "studentname = input(\"Dear student tell me your name \")\n",
    "\n",
    "print(\"Dear user your name is: {} and your age is: {}\".format(studentname, studentage))\n",
    "\n",
    "# {Placeholder}                                                   0              1"
   ]
  },
  {
   "cell_type": "code",
   "execution_count": 8,
   "id": "333ed41e",
   "metadata": {},
   "outputs": [
    {
     "name": "stdout",
     "output_type": "stream",
     "text": [
      "Dear student tell me your age 23\n",
      "Dear student tell me your name osama\n",
      "Dear user your name is: 23 and your age is: osama\n"
     ]
    }
   ],
   "source": [
    "studentage = int(input(\"Dear student tell me your age \"))\n",
    "studentname = input(\"Dear student tell me your name \")\n",
    "\n",
    "print(\"Dear user your name is: {1} and your age is: {0}\".format(studentname, studentage))\n",
    "\n",
    "# {Placeholder}                                                   0                 1"
   ]
  },
  {
   "cell_type": "code",
   "execution_count": 9,
   "id": "766edfb3",
   "metadata": {},
   "outputs": [
    {
     "name": "stdout",
     "output_type": "stream",
     "text": [
      "Dear student tell me your age 23\n",
      "Dear student tell me your name osama\n",
      "Dear user your name is: osama and your age is: 23 okay osama and your age is 23\n"
     ]
    }
   ],
   "source": [
    "studentage = int(input(\"Dear student tell me your age \"))\n",
    "studentname = input(\"Dear student tell me your name \")\n",
    "\n",
    "print(\"Dear user your name is: {0} and your age is: {1} okay {0} and your age is {1}\".format(studentname, studentage))\n"
   ]
  },
  {
   "cell_type": "code",
   "execution_count": 10,
   "id": "65feb4c0",
   "metadata": {},
   "outputs": [
    {
     "name": "stdout",
     "output_type": "stream",
     "text": [
      "Dear student tell me your age 23\n",
      "Dear student tell me your name osama\n",
      "Dear user your name is: osama and your age is: 23\n"
     ]
    }
   ],
   "source": [
    "# Another way of string \n",
    "studentage = int(input(\"Dear student tell me your age \"))\n",
    "studentname = input(\"Dear student tell me your name \")\n",
    "\n",
    "print(f\"Dear user your name is: {studentname} and your age is: {studentage}\")\n"
   ]
  },
  {
   "cell_type": "markdown",
   "id": "df483ed8",
   "metadata": {},
   "source": [
    "# Variable Naming Convention"
   ]
  },
  {
   "cell_type": "code",
   "execution_count": 12,
   "id": "8cb60fc1",
   "metadata": {},
   "outputs": [
    {
     "name": "stdout",
     "output_type": "stream",
     "text": [
      " Journey to unseen\n"
     ]
    }
   ],
   "source": [
    "#studentage\n",
    "###Camel Casing###\n",
    "studentAge = 23\n",
    "student_age = 23\n",
    "my_first_published_book = \" Journey to unseen\"\n",
    "myFirstPublishedBook = \"Journey to unseen\"\n",
    "print(my_first_published_book)"
   ]
  }
 ],
 "metadata": {
  "kernelspec": {
   "display_name": "Python 3",
   "language": "python",
   "name": "python3"
  },
  "language_info": {
   "codemirror_mode": {
    "name": "ipython",
    "version": 3
   },
   "file_extension": ".py",
   "mimetype": "text/x-python",
   "name": "python",
   "nbconvert_exporter": "python",
   "pygments_lexer": "ipython3",
   "version": "3.8.8"
  }
 },
 "nbformat": 4,
 "nbformat_minor": 5
}
