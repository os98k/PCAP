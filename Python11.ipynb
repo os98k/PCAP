{
 "cells": [
  {
   "cell_type": "markdown",
   "id": "c1cea798",
   "metadata": {},
   "source": [
    "# Last Discussed\n",
    "\n",
    "- Dictionary\n",
    "- List in Dictionary\n",
    "- in and is keyword"
   ]
  },
  {
   "cell_type": "markdown",
   "id": "799b9cbd",
   "metadata": {},
   "source": [
    "# Today Discussed\n",
    "\n",
    "- More on Dictionary\n",
    "  - Dictionary in Dictionary\n",
    "- Functions"
   ]
  },
  {
   "cell_type": "code",
   "execution_count": 1,
   "id": "256de6f7",
   "metadata": {},
   "outputs": [],
   "source": [
    "multiDic = {\"python\": {\"Osama\":4, \"Uzair\":4, \"Hamza\":3, \"Ali\":7}, \n",
    "            \"Java\"  : {\"Osam1\":2, \"Uzai2\":3, \"Hamz1\":2, \"Al2\":4},\n",
    "            \"Ccna\"  : {\"Osama\":4, \"Uzair\":4, \"Hamza\":3, \"Ali\":7}}\n"
   ]
  },
  {
   "cell_type": "code",
   "execution_count": 2,
   "id": "dd9d4e54",
   "metadata": {},
   "outputs": [
    {
     "data": {
      "text/plain": [
       "{'python': {'Osama': 4, 'Uzair': 4, 'Hamza': 3, 'Ali': 7},\n",
       " 'Java': {'Osam1': 2, 'Uzai2': 3, 'Hamz1': 2, 'Al2': 4},\n",
       " 'Ccna': {'Osama': 4, 'Uzair': 4, 'Hamza': 3, 'Ali': 7}}"
      ]
     },
     "execution_count": 2,
     "metadata": {},
     "output_type": "execute_result"
    }
   ],
   "source": [
    "multiDic"
   ]
  },
  {
   "cell_type": "code",
   "execution_count": 3,
   "id": "95fb1ca5",
   "metadata": {},
   "outputs": [
    {
     "data": {
      "text/plain": [
       "{'Osam1': 2, 'Uzai2': 3, 'Hamz1': 2, 'Al2': 4}"
      ]
     },
     "execution_count": 3,
     "metadata": {},
     "output_type": "execute_result"
    }
   ],
   "source": [
    "multiDic[\"Java\"]"
   ]
  },
  {
   "cell_type": "code",
   "execution_count": 4,
   "id": "2ad1dc5b",
   "metadata": {},
   "outputs": [
    {
     "data": {
      "text/plain": [
       "{'Osama': 4, 'Uzair': 4, 'Hamza': 3, 'Ali': 7}"
      ]
     },
     "execution_count": 4,
     "metadata": {},
     "output_type": "execute_result"
    }
   ],
   "source": [
    "multiDic[\"Ccna\"]"
   ]
  },
  {
   "cell_type": "code",
   "execution_count": 6,
   "id": "97a99b11",
   "metadata": {},
   "outputs": [
    {
     "data": {
      "text/plain": [
       "4"
      ]
     },
     "execution_count": 6,
     "metadata": {},
     "output_type": "execute_result"
    }
   ],
   "source": [
    "multiDic[\"Java\"][\"Al2\"]"
   ]
  },
  {
   "cell_type": "code",
   "execution_count": 7,
   "id": "75db8a22",
   "metadata": {},
   "outputs": [],
   "source": [
    "multiDic[\"Java\"][\"Hamz1\"] = 9"
   ]
  },
  {
   "cell_type": "code",
   "execution_count": 8,
   "id": "384c315c",
   "metadata": {},
   "outputs": [
    {
     "data": {
      "text/plain": [
       "9"
      ]
     },
     "execution_count": 8,
     "metadata": {},
     "output_type": "execute_result"
    }
   ],
   "source": [
    "multiDic[\"Java\"][\"Hamz1\"]"
   ]
  },
  {
   "cell_type": "code",
   "execution_count": 9,
   "id": "b9410624",
   "metadata": {},
   "outputs": [
    {
     "data": {
      "text/plain": [
       "{'python': {'Osama': 4, 'Uzair': 4, 'Hamza': 3, 'Ali': 7},\n",
       " 'Java': {'Osam1': 2, 'Uzai2': 3, 'Hamz1': 9, 'Al2': 4},\n",
       " 'Ccna': {'Osama': 4, 'Uzair': 4, 'Hamza': 3, 'Ali': 7}}"
      ]
     },
     "execution_count": 9,
     "metadata": {},
     "output_type": "execute_result"
    }
   ],
   "source": [
    "multiDic"
   ]
  },
  {
   "cell_type": "markdown",
   "id": "02208e05",
   "metadata": {},
   "source": [
    "## Dictionary in list"
   ]
  },
  {
   "cell_type": "code",
   "execution_count": 11,
   "id": "40071134",
   "metadata": {},
   "outputs": [],
   "source": [
    "dic_in_list = []"
   ]
  },
  {
   "cell_type": "code",
   "execution_count": 13,
   "id": "7beb2e24",
   "metadata": {},
   "outputs": [],
   "source": [
    "dic_in_list.append({\"osama\":3, \"ali\":4})"
   ]
  },
  {
   "cell_type": "code",
   "execution_count": 14,
   "id": "9cc1933e",
   "metadata": {},
   "outputs": [
    {
     "data": {
      "text/plain": [
       "[{'osama': 3, 'ali': 4}]"
      ]
     },
     "execution_count": 14,
     "metadata": {},
     "output_type": "execute_result"
    }
   ],
   "source": [
    "dic_in_list"
   ]
  },
  {
   "cell_type": "code",
   "execution_count": 15,
   "id": "a6bfb86f",
   "metadata": {},
   "outputs": [],
   "source": [
    "dic_in_list.append({\"sam\":1, \"zai\":8})"
   ]
  },
  {
   "cell_type": "code",
   "execution_count": 16,
   "id": "a764558a",
   "metadata": {},
   "outputs": [
    {
     "data": {
      "text/plain": [
       "[{'osama': 3, 'ali': 4}, {'sam': 1, 'zai': 8}]"
      ]
     },
     "execution_count": 16,
     "metadata": {},
     "output_type": "execute_result"
    }
   ],
   "source": [
    "dic_in_list"
   ]
  },
  {
   "cell_type": "code",
   "execution_count": 29,
   "id": "dcfc615f",
   "metadata": {},
   "outputs": [
    {
     "data": {
      "text/plain": [
       "{'sam': 1, 'zai': 8}"
      ]
     },
     "execution_count": 29,
     "metadata": {},
     "output_type": "execute_result"
    }
   ],
   "source": [
    "dic_in_list[1]"
   ]
  },
  {
   "cell_type": "code",
   "execution_count": 30,
   "id": "868bab7d",
   "metadata": {},
   "outputs": [
    {
     "data": {
      "text/plain": [
       "1"
      ]
     },
     "execution_count": 30,
     "metadata": {},
     "output_type": "execute_result"
    }
   ],
   "source": [
    "dic_in_list[1]['sam']"
   ]
  },
  {
   "cell_type": "code",
   "execution_count": 33,
   "id": "ab1dd23a",
   "metadata": {},
   "outputs": [],
   "source": [
    "miscList = [2,3,4,5,6,7, True,\"Nasir\", {1,2,11,22},(100,200), {\"sam\":1}, [\"zai\",6] ]"
   ]
  },
  {
   "cell_type": "code",
   "execution_count": 34,
   "id": "749d1fcf",
   "metadata": {},
   "outputs": [
    {
     "data": {
      "text/plain": [
       "list"
      ]
     },
     "execution_count": 34,
     "metadata": {},
     "output_type": "execute_result"
    }
   ],
   "source": [
    "type(miscList)"
   ]
  },
  {
   "cell_type": "code",
   "execution_count": 35,
   "id": "3248f239",
   "metadata": {},
   "outputs": [
    {
     "name": "stdout",
     "output_type": "stream",
     "text": [
      "<class 'list'>\n"
     ]
    }
   ],
   "source": [
    "print(type(miscList))"
   ]
  },
  {
   "cell_type": "code",
   "execution_count": 36,
   "id": "8ab6ebb9",
   "metadata": {},
   "outputs": [
    {
     "data": {
      "text/plain": [
       "6"
      ]
     },
     "execution_count": 36,
     "metadata": {},
     "output_type": "execute_result"
    }
   ],
   "source": [
    "miscList[4]"
   ]
  },
  {
   "cell_type": "code",
   "execution_count": 37,
   "id": "35b9da1b",
   "metadata": {},
   "outputs": [],
   "source": [
    "newDic = class_python = {\"students\":[\"osama\", \"ali\", \"asad\", \"umair\", \"zain\"], \n",
    "                \"courses\" :[\"python\",\"web\", \"network\", \"cods\", \"ai\"],\n",
    "                \"days\"    :[\"monday\", \"tue\",\"wednesd\",\"thur\", \"fri\"],\n",
    "                \"ages\"    :[22,22,23,21,20]}"
   ]
  },
  {
   "cell_type": "code",
   "execution_count": 38,
   "id": "24686abc",
   "metadata": {},
   "outputs": [
    {
     "data": {
      "text/plain": [
       "{'students': ['osama', 'ali', 'asad', 'umair', 'zain'],\n",
       " 'courses': ['python', 'web', 'network', 'cods', 'ai'],\n",
       " 'days': ['monday', 'tue', 'wednesd', 'thur', 'fri'],\n",
       " 'ages': [22, 22, 23, 21, 20]}"
      ]
     },
     "execution_count": 38,
     "metadata": {},
     "output_type": "execute_result"
    }
   ],
   "source": [
    "newDic"
   ]
  },
  {
   "cell_type": "code",
   "execution_count": 39,
   "id": "06829f7e",
   "metadata": {},
   "outputs": [],
   "source": [
    "newDic.clear()"
   ]
  },
  {
   "cell_type": "code",
   "execution_count": 40,
   "id": "5e86585a",
   "metadata": {},
   "outputs": [
    {
     "data": {
      "text/plain": [
       "{}"
      ]
     },
     "execution_count": 40,
     "metadata": {},
     "output_type": "execute_result"
    }
   ],
   "source": [
    "newDic"
   ]
  },
  {
   "cell_type": "code",
   "execution_count": 41,
   "id": "e7fbf8ab",
   "metadata": {},
   "outputs": [],
   "source": [
    "newDic = class_python = {\"students\":[\"osama\", \"ali\", \"asad\", \"umair\", \"zain\"], \n",
    "                \"courses\" :[\"python\",\"web\", \"network\", \"cods\", \"ai\"],\n",
    "                \"days\"    :[\"monday\", \"tue\",\"wednesd\",\"thur\", \"fri\"],\n",
    "                \"ages\"    :[22,22,23,21,20]}"
   ]
  },
  {
   "cell_type": "code",
   "execution_count": 42,
   "id": "4a6972e8",
   "metadata": {},
   "outputs": [],
   "source": [
    "dic_copy = newDic.copy()"
   ]
  },
  {
   "cell_type": "code",
   "execution_count": 44,
   "id": "81637790",
   "metadata": {},
   "outputs": [
    {
     "data": {
      "text/plain": [
       "{'students': ['osama', 'ali', 'asad', 'umair', 'zain'],\n",
       " 'courses': ['python', 'web', 'network', 'cods', 'ai'],\n",
       " 'days': ['monday', 'tue', 'wednesd', 'thur', 'fri'],\n",
       " 'ages': [22, 22, 23, 21, 20]}"
      ]
     },
     "execution_count": 44,
     "metadata": {},
     "output_type": "execute_result"
    }
   ],
   "source": [
    "dic_copy"
   ]
  },
  {
   "cell_type": "code",
   "execution_count": 45,
   "id": "29863cd3",
   "metadata": {},
   "outputs": [
    {
     "data": {
      "text/plain": [
       "{22: None, 23: None, 21: None, 20: None}"
      ]
     },
     "execution_count": 45,
     "metadata": {},
     "output_type": "execute_result"
    }
   ],
   "source": [
    "dic_copy.fromkeys([22,22,23,21,20])"
   ]
  },
  {
   "cell_type": "code",
   "execution_count": 48,
   "id": "f6867b87",
   "metadata": {},
   "outputs": [
    {
     "name": "stdout",
     "output_type": "stream",
     "text": [
      "[22, 22, 23, 21, 20]\n"
     ]
    },
    {
     "data": {
      "text/plain": [
       "[22, 22, 23, 21, 20]"
      ]
     },
     "execution_count": 48,
     "metadata": {},
     "output_type": "execute_result"
    }
   ],
   "source": [
    "print(dic_copy.get(\"ages\"))\n",
    "dic_copy[\"ages\"]"
   ]
  },
  {
   "cell_type": "code",
   "execution_count": 49,
   "id": "572d85a1",
   "metadata": {},
   "outputs": [
    {
     "data": {
      "text/plain": [
       "{'students': ['osama', 'ali', 'asad', 'umair', 'zain'],\n",
       " 'courses': ['python', 'web', 'network', 'cods', 'ai'],\n",
       " 'days': ['monday', 'tue', 'wednesd', 'thur', 'fri'],\n",
       " 'ages': [22, 22, 23, 21, 20]}"
      ]
     },
     "execution_count": 49,
     "metadata": {},
     "output_type": "execute_result"
    }
   ],
   "source": [
    "dic_copy"
   ]
  },
  {
   "cell_type": "code",
   "execution_count": 55,
   "id": "b3e95d55",
   "metadata": {},
   "outputs": [
    {
     "data": {
      "text/plain": [
       "[22, 22, 23, 21, 20]"
      ]
     },
     "execution_count": 55,
     "metadata": {},
     "output_type": "execute_result"
    }
   ],
   "source": [
    "dic_copy.pop(\"ages\")"
   ]
  },
  {
   "cell_type": "code",
   "execution_count": 56,
   "id": "d243698a",
   "metadata": {},
   "outputs": [
    {
     "data": {
      "text/plain": [
       "{'students': ['osama', 'ali', 'asad', 'umair', 'zain'],\n",
       " 'courses': ['python', 'web', 'network', 'cods', 'ai'],\n",
       " 'days': ['monday', 'tue', 'wednesd', 'thur', 'fri']}"
      ]
     },
     "execution_count": 56,
     "metadata": {},
     "output_type": "execute_result"
    }
   ],
   "source": [
    "dic_copy"
   ]
  },
  {
   "cell_type": "code",
   "execution_count": 57,
   "id": "6945dce1",
   "metadata": {},
   "outputs": [
    {
     "data": {
      "text/plain": [
       "['python', 'web', 'network', 'cods', 'ai']"
      ]
     },
     "execution_count": 57,
     "metadata": {},
     "output_type": "execute_result"
    }
   ],
   "source": [
    "poppedKey = dic_copy.pop(\"courses\")\n",
    "poppedKey"
   ]
  },
  {
   "cell_type": "code",
   "execution_count": 58,
   "id": "76ed17e0",
   "metadata": {},
   "outputs": [
    {
     "data": {
      "text/plain": [
       "{'students': ['osama', 'ali', 'asad', 'umair', 'zain'],\n",
       " 'days': ['monday', 'tue', 'wednesd', 'thur', 'fri']}"
      ]
     },
     "execution_count": 58,
     "metadata": {},
     "output_type": "execute_result"
    }
   ],
   "source": [
    "dic_copy"
   ]
  },
  {
   "cell_type": "code",
   "execution_count": 61,
   "id": "ee20a2f8",
   "metadata": {},
   "outputs": [],
   "source": [
    "del dic_copy[\"days\"]"
   ]
  },
  {
   "cell_type": "code",
   "execution_count": 62,
   "id": "d0ae9271",
   "metadata": {},
   "outputs": [
    {
     "data": {
      "text/plain": [
       "{'students': ['osama', 'ali', 'asad', 'umair', 'zain']}"
      ]
     },
     "execution_count": 62,
     "metadata": {},
     "output_type": "execute_result"
    }
   ],
   "source": [
    "dic_copy"
   ]
  },
  {
   "cell_type": "code",
   "execution_count": 63,
   "id": "e1934549",
   "metadata": {},
   "outputs": [],
   "source": [
    "dic_copy = class_python = {\"students\":[\"osama\", \"ali\", \"asad\", \"umair\", \"zain\"], \n",
    "                \"courses\" :[\"python\",\"web\", \"network\", \"cods\", \"ai\"],\n",
    "                \"days\"    :[\"monday\", \"tue\",\"wednesd\",\"thur\", \"fri\"],\n",
    "                \"ages\"    :[22,22,23,21,20]}"
   ]
  },
  {
   "cell_type": "code",
   "execution_count": 66,
   "id": "d082a51c",
   "metadata": {},
   "outputs": [
    {
     "data": {
      "text/plain": [
       "('days', ['monday', 'tue', 'wednesd', 'thur', 'fri'])"
      ]
     },
     "execution_count": 66,
     "metadata": {},
     "output_type": "execute_result"
    }
   ],
   "source": [
    "x = dic_copy.popitem() # remove last one byitself\n",
    "x"
   ]
  },
  {
   "cell_type": "code",
   "execution_count": 67,
   "id": "dbee73ee",
   "metadata": {},
   "outputs": [
    {
     "data": {
      "text/plain": [
       "{'students': ['osama', 'ali', 'asad', 'umair', 'zain'],\n",
       " 'courses': ['python', 'web', 'network', 'cods', 'ai']}"
      ]
     },
     "execution_count": 67,
     "metadata": {},
     "output_type": "execute_result"
    }
   ],
   "source": [
    "dic_copy"
   ]
  },
  {
   "cell_type": "code",
   "execution_count": 68,
   "id": "9b8fec5f",
   "metadata": {},
   "outputs": [
    {
     "data": {
      "text/plain": [
       "('courses', ['python', 'web', 'network', 'cods', 'ai'])"
      ]
     },
     "execution_count": 68,
     "metadata": {},
     "output_type": "execute_result"
    }
   ],
   "source": [
    "y = dic_copy.popitem() # remove last one byitself\n",
    "y"
   ]
  },
  {
   "cell_type": "code",
   "execution_count": 69,
   "id": "16b490ec",
   "metadata": {},
   "outputs": [
    {
     "data": {
      "text/plain": [
       "{'students': ['osama', 'ali', 'asad', 'umair', 'zain']}"
      ]
     },
     "execution_count": 69,
     "metadata": {},
     "output_type": "execute_result"
    }
   ],
   "source": [
    "dic_copy"
   ]
  },
  {
   "cell_type": "code",
   "execution_count": 70,
   "id": "60e6d5d7",
   "metadata": {},
   "outputs": [],
   "source": [
    "# newDic = class_python = {\"students\":[\"osama\", \"ali\", \"asad\", \"umair\", \"zain\"], \n",
    "#                 \"courses\" :[\"python\",\"web\", \"network\", \"cods\", \"ai\"],\n",
    "#                 \"days\"    :[\"monday\", \"tue\",\"wednesd\",\"thur\", \"fri\"],\n",
    "#                 \"ages\"    :[22,22,23,21,20]}\n",
    "# To comment all code, first select all than press ctrl + forward slash (/)"
   ]
  },
  {
   "cell_type": "markdown",
   "id": "6d1522d8",
   "metadata": {},
   "source": [
    "# Functions"
   ]
  },
  {
   "cell_type": "code",
   "execution_count": 71,
   "id": "e3283d28",
   "metadata": {},
   "outputs": [],
   "source": [
    "# All the functions we have used before are pre defined\n",
    "\n",
    "# print()\n",
    "# len()\n",
    "# id()\n",
    "# sort()\n",
    "# pop()\n",
    "# append()\n",
    "\n",
    "# Now we will study the user defined function"
   ]
  },
  {
   "cell_type": "code",
   "execution_count": 72,
   "id": "cf94ee04",
   "metadata": {},
   "outputs": [],
   "source": [
    "# defined\n",
    "def add_two_numbers(): # define / defination\n",
    "    a = 10\n",
    "    b = 20\n",
    "    print(a+b)"
   ]
  },
  {
   "cell_type": "code",
   "execution_count": 73,
   "id": "e7b79858",
   "metadata": {},
   "outputs": [
    {
     "name": "stdout",
     "output_type": "stream",
     "text": [
      "30\n"
     ]
    }
   ],
   "source": [
    "# Calling a function\n",
    "add_two_numbers()"
   ]
  },
  {
   "cell_type": "code",
   "execution_count": 74,
   "id": "40e5eaf6",
   "metadata": {},
   "outputs": [],
   "source": [
    "# defined\n",
    "def add_two_numbers(): # define / defination\n",
    "    a = int(input(\"Enter first number\"))\n",
    "    b = int(input(\"Enter Second number\"))\n",
    "    print(a+b)"
   ]
  },
  {
   "cell_type": "code",
   "execution_count": 76,
   "id": "98eaae70",
   "metadata": {},
   "outputs": [
    {
     "name": "stdout",
     "output_type": "stream",
     "text": [
      "Enter first number20\n",
      "Enter Second number23\n",
      "43\n"
     ]
    }
   ],
   "source": [
    "add_two_numbers()"
   ]
  },
  {
   "cell_type": "raw",
   "id": "604693b9",
   "metadata": {},
   "source": [
    "Name   = Nasir\n",
    "FName  = Hussain\n",
    "Age    = 33\n",
    "course = python\n",
    "rollno = SMIT232321\n",
    "inst   = SMIT"
   ]
  },
  {
   "cell_type": "code",
   "execution_count": 79,
   "id": "be2789db",
   "metadata": {},
   "outputs": [
    {
     "name": "stdout",
     "output_type": "stream",
     "text": [
      "\n",
      "Name   = Nasir\n",
      "FName  = Hussain\n",
      "Age    = 33\n",
      "course = python\n",
      "rollno = SMIT232321\n",
      "inst   = SMIT\n",
      "\n"
     ]
    }
   ],
   "source": [
    "\n",
    "print(\"\"\"\n",
    "Name   = Nasir\n",
    "FName  = Hussain\n",
    "Age    = 33\n",
    "course = python\n",
    "rollno = SMIT232321\n",
    "inst   = SMIT\n",
    "\"\"\")"
   ]
  },
  {
   "cell_type": "code",
   "execution_count": 86,
   "id": "4cf4e66e",
   "metadata": {},
   "outputs": [],
   "source": [
    "def stud_details():\n",
    "    name   = input(\"Enter your name: \")\n",
    "    F_name = input(\"Enter your father name: \")\n",
    "    age    = int(input(\"Enter your age number: \"))\n",
    "    course = input(\"Enter your course: \")\n",
    "    rollno = input(\"Enter your rollnumber: \")\n",
    "    inst   = input(\"Enter your institute name: \")\n",
    "    \n",
    "    #Triple code allow us to write the code in multi line\n",
    "    print(f\"\"\"\n",
    "    Name of student : {name}\n",
    "    Father name     : {F_name}\n",
    "    Age of student  : {age}\n",
    "    Roll number     : {rollno}\n",
    "    Institute       : {inst}\n",
    "    \n",
    "    \"\"\")\n",
    "    "
   ]
  },
  {
   "cell_type": "code",
   "execution_count": 87,
   "id": "5e6cea2f",
   "metadata": {},
   "outputs": [
    {
     "name": "stdout",
     "output_type": "stream",
     "text": [
      "Enter your name: Osama \n",
      "Enter your father name: Shakeel\n",
      "Enter your age number: 22\n",
      "Enter your course: BSE\n",
      "Enter your rollnumber: F190872\n",
      "Enter your institute name: UOH\n",
      "\n",
      "    Name of student : Osama \n",
      "    Father name     : Shakeel\n",
      "    Age of student  : 22\n",
      "    Roll number     : F190872\n",
      "    Institute       : UOH\n",
      "    \n",
      "    \n"
     ]
    }
   ],
   "source": [
    "stud_details()"
   ]
  },
  {
   "cell_type": "code",
   "execution_count": 1,
   "id": "55fd22df",
   "metadata": {},
   "outputs": [
    {
     "name": "stdout",
     "output_type": "stream",
     "text": [
      "Enter the student's name: Osama\n",
      "Enter the student's score (0-10): 8\n",
      "Enter the student's name: Ali\n",
      "Enter the student's score (0-10): 9\n",
      "Enter the student's name: \n",
      "Ali : 9.0\n",
      "Osama : 8.0\n"
     ]
    }
   ],
   "source": [
    "school_class = {}\n",
    "\n",
    "while True:\n",
    "    name = input(\"Enter the student's name: \")\n",
    "    if name == '':\n",
    "        break\n",
    "    \n",
    "    score = int(input(\"Enter the student's score (0-10): \"))\n",
    "    if score not in range(0, 11):\n",
    "        break\n",
    "    \n",
    "    if name in school_class:\n",
    "        school_class[name] += (score,)\n",
    "    else:\n",
    "        school_class[name] = (score,)\n",
    "        \n",
    "for name in sorted(school_class.keys()):\n",
    "    adding = 0\n",
    "    counter = 0\n",
    "    for score in school_class[name]:\n",
    "        adding += score\n",
    "        counter += 1\n",
    "    print(name, \":\", adding / counter)\n"
   ]
  },
  {
   "cell_type": "code",
   "execution_count": null,
   "id": "7dfc646a",
   "metadata": {},
   "outputs": [],
   "source": []
  }
 ],
 "metadata": {
  "kernelspec": {
   "display_name": "Python 3",
   "language": "python",
   "name": "python3"
  },
  "language_info": {
   "codemirror_mode": {
    "name": "ipython",
    "version": 3
   },
   "file_extension": ".py",
   "mimetype": "text/x-python",
   "name": "python",
   "nbconvert_exporter": "python",
   "pygments_lexer": "ipython3",
   "version": "3.8.8"
  }
 },
 "nbformat": 4,
 "nbformat_minor": 5
}
