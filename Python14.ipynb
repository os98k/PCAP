{
 "cells": [
  {
   "cell_type": "markdown",
   "id": "dcede8e4",
   "metadata": {},
   "source": [
    "# Last Discussed\n",
    "\n",
    "- More on Functions\n",
    "- Aritary Arguments\n",
    "- Local and Global Variables"
   ]
  },
  {
   "cell_type": "markdown",
   "id": "505f4109",
   "metadata": {},
   "source": [
    "# Today Discussed\n",
    "\n",
    "- Module\n",
    "- Exception"
   ]
  },
  {
   "cell_type": "markdown",
   "id": "7c73f66a",
   "metadata": {},
   "source": [
    "# Module/Libraries/Packages"
   ]
  },
  {
   "cell_type": "markdown",
   "id": "73c38dd1",
   "metadata": {},
   "source": [
    "- Built in Module \n",
    "- User Define Module"
   ]
  },
  {
   "cell_type": "code",
   "execution_count": null,
   "id": "043d9031",
   "metadata": {},
   "outputs": [],
   "source": [
    "import math"
   ]
  },
  {
   "cell_type": "code",
   "execution_count": null,
   "id": "8f422f48",
   "metadata": {},
   "outputs": [],
   "source": [
    "# a module can have classes and function etc"
   ]
  },
  {
   "cell_type": "code",
   "execution_count": null,
   "id": "49f0a052",
   "metadata": {},
   "outputs": [],
   "source": [
    "12/5 # returning float value"
   ]
  },
  {
   "cell_type": "code",
   "execution_count": null,
   "id": "df504f8b",
   "metadata": {},
   "outputs": [],
   "source": [
    "12//5 # returning integer value"
   ]
  },
  {
   "cell_type": "code",
   "execution_count": null,
   "id": "51043365",
   "metadata": {},
   "outputs": [],
   "source": [
    "math.ceil(2.7) # Ceil ==> ceiling : return very next integer"
   ]
  },
  {
   "cell_type": "code",
   "execution_count": null,
   "id": "27a95f2c",
   "metadata": {},
   "outputs": [],
   "source": [
    "math.floor(2.7) # Floor ==> : return the very last integer"
   ]
  },
  {
   "cell_type": "code",
   "execution_count": null,
   "id": "737cee9b",
   "metadata": {},
   "outputs": [],
   "source": [
    "math.exp(2) # return e power to the x "
   ]
  },
  {
   "cell_type": "code",
   "execution_count": null,
   "id": "726b33c4",
   "metadata": {},
   "outputs": [],
   "source": [
    "math.fmod(2,3) # modulus operator (%)"
   ]
  },
  {
   "cell_type": "markdown",
   "id": "0bffd137",
   "metadata": {},
   "source": [
    "fmod() function is one of the Standard math library function in Python, which is used to calculate the Module of the specified given arguments."
   ]
  },
  {
   "cell_type": "code",
   "execution_count": null,
   "id": "34e7f9b7",
   "metadata": {},
   "outputs": [],
   "source": [
    "from math import exp"
   ]
  },
  {
   "cell_type": "code",
   "execution_count": null,
   "id": "813d23ea",
   "metadata": {},
   "outputs": [],
   "source": [
    "exp(2)"
   ]
  },
  {
   "cell_type": "code",
   "execution_count": null,
   "id": "cfc20929",
   "metadata": {},
   "outputs": [],
   "source": [
    "import muModule"
   ]
  },
  {
   "cell_type": "code",
   "execution_count": null,
   "id": "a7d69ab5",
   "metadata": {},
   "outputs": [],
   "source": [
    "muModule.square_of_a_number(4)"
   ]
  },
  {
   "cell_type": "code",
   "execution_count": null,
   "id": "b0579f4f",
   "metadata": {},
   "outputs": [],
   "source": [
    "muModule.make_album(\"ALy\", \"Thy\")"
   ]
  },
  {
   "cell_type": "code",
   "execution_count": null,
   "id": "eff4f447",
   "metadata": {},
   "outputs": [],
   "source": [
    "from muModule import make_album"
   ]
  },
  {
   "cell_type": "code",
   "execution_count": null,
   "id": "7e6cfa9e",
   "metadata": {},
   "outputs": [],
   "source": [
    "make_album(\"ALy\", \"Thy\",41)"
   ]
  },
  {
   "cell_type": "code",
   "execution_count": null,
   "id": "a1143868",
   "metadata": {},
   "outputs": [],
   "source": [
    "# Alias ==> Short name"
   ]
  },
  {
   "cell_type": "code",
   "execution_count": null,
   "id": "412c6d34",
   "metadata": {},
   "outputs": [],
   "source": [
    "import myModule as mm"
   ]
  },
  {
   "cell_type": "code",
   "execution_count": null,
   "id": "50913cb8",
   "metadata": {},
   "outputs": [],
   "source": [
    "mm.square_of_a_number(5)\n"
   ]
  },
  {
   "cell_type": "code",
   "execution_count": null,
   "id": "527a4f8b",
   "metadata": {},
   "outputs": [],
   "source": [
    "# %load myModule.py\n",
    "print(\"Module Starts here\")\n",
    "\n",
    "def square_of_a_number(num):\n",
    "    \n",
    "    square = num**2# local variable\n",
    "    \n",
    "    return square, f\"I am sqaured of {num}\" \n",
    "\n",
    "\n",
    "def make_album(artist_name,album_title, num_of_tracks=\"\"):\n",
    "    \n",
    "    album_dic ={'artist':artist_name, 'album':album_title}\n",
    "    if num_of_tracks:\n",
    "        album_dic['tracks']=num_of_tracks\n",
    "    \n",
    "    return album_dic\n",
    "print(\"Module interpreted Successfully...\")"
   ]
  },
  {
   "cell_type": "markdown",
   "id": "0571eabb",
   "metadata": {},
   "source": [
    "# Exception"
   ]
  },
  {
   "cell_type": "markdown",
   "id": "620eb1a3",
   "metadata": {},
   "source": [
    "An exception can be defined as an unusual condition in a program resulting in the interruption in the flow of the program"
   ]
  },
  {
   "cell_type": "markdown",
   "id": "d45e15db",
   "metadata": {},
   "source": [
    "An exception occurs when a program’s instructions are interrupted during execution"
   ]
  },
  {
   "cell_type": "markdown",
   "id": "43acf586",
   "metadata": {},
   "source": [
    "Exception is Exceptional case"
   ]
  },
  {
   "cell_type": "markdown",
   "id": "b39a0d01",
   "metadata": {},
   "source": [
    "Exception is not a synatx error, it is a value error (run time error)"
   ]
  },
  {
   "cell_type": "markdown",
   "id": "b5d45b2a",
   "metadata": {},
   "source": [
    "Exception are dicussed in Private"
   ]
  },
  {
   "cell_type": "raw",
   "id": "6a64263e",
   "metadata": {},
   "source": [
    "# Pythonic Nation\n",
    "\n",
    "Valid Syntax: An integer can divide an integer\n",
    "12/2 , 24/4, 5/6\n",
    "\n",
    "but zero which is also an integer can't divide any integer"
   ]
  },
  {
   "cell_type": "code",
   "execution_count": null,
   "id": "4e3acba7",
   "metadata": {},
   "outputs": [],
   "source": [
    "12/0"
   ]
  },
  {
   "cell_type": "code",
   "execution_count": null,
   "id": "fc812942",
   "metadata": {},
   "outputs": [],
   "source": [
    "inpt = input(\"Enter a number\")\n",
    "inpt"
   ]
  },
  {
   "cell_type": "code",
   "execution_count": null,
   "id": "4bce5a95",
   "metadata": {},
   "outputs": [],
   "source": [
    "inpt = int(input(\"Enter a number \"))\n",
    "inpt # Not a syntax, it is a name error ==> value error\n",
    "#it was a run time error during code execution"
   ]
  },
  {
   "cell_type": "code",
   "execution_count": null,
   "id": "74262266",
   "metadata": {},
   "outputs": [],
   "source": [
    "num1 = int(input(\"Enter a number to divivde \"))\n",
    "num2 = int(input(\"Enter a number to divivde num1\"))\n",
    "\n",
    "res = num1/num2\n",
    "print(res) # code crashes "
   ]
  },
  {
   "cell_type": "code",
   "execution_count": null,
   "id": "b4f54258",
   "metadata": {},
   "outputs": [],
   "source": [
    "# Exception must be handle"
   ]
  },
  {
   "cell_type": "code",
   "execution_count": null,
   "id": "8370805c",
   "metadata": {},
   "outputs": [],
   "source": [
    "num1 = int(input(\"Enter a number to divivde \"))\n",
    "num2 = int(input(\"Enter a number to divivde num1\"))\n",
    "\n",
    "try:\n",
    "    res = num1/num2\n",
    "    \n",
    "except ZeroDivisionError:\n",
    "    print(\"You can not divide an integer by 0\")\n",
    "print(res) \n"
   ]
  },
  {
   "cell_type": "code",
   "execution_count": 1,
   "id": "faf102eb",
   "metadata": {},
   "outputs": [
    {
     "name": "stdout",
     "output_type": "stream",
     "text": [
      "Enter a number to divivde 4\n",
      "Enter a number to divivde num10\n",
      "You can not divide an integer by 0\n"
     ]
    },
    {
     "ename": "NameError",
     "evalue": "name 'res' is not defined",
     "output_type": "error",
     "traceback": [
      "\u001b[1;31m---------------------------------------------------------------------------\u001b[0m",
      "\u001b[1;31mNameError\u001b[0m                                 Traceback (most recent call last)",
      "\u001b[1;32m<ipython-input-1-a1148cb86b08>\u001b[0m in \u001b[0;36m<module>\u001b[1;34m\u001b[0m\n\u001b[0;32m      7\u001b[0m \u001b[1;32mexcept\u001b[0m \u001b[0mZeroDivisionError\u001b[0m\u001b[1;33m:\u001b[0m\u001b[1;33m\u001b[0m\u001b[1;33m\u001b[0m\u001b[0m\n\u001b[0;32m      8\u001b[0m     \u001b[0mprint\u001b[0m\u001b[1;33m(\u001b[0m\u001b[1;34m\"You can not divide an integer by 0\"\u001b[0m\u001b[1;33m)\u001b[0m\u001b[1;33m\u001b[0m\u001b[1;33m\u001b[0m\u001b[0m\n\u001b[1;32m----> 9\u001b[1;33m \u001b[0mprint\u001b[0m\u001b[1;33m(\u001b[0m\u001b[0mres\u001b[0m\u001b[1;33m)\u001b[0m\u001b[1;33m\u001b[0m\u001b[1;33m\u001b[0m\u001b[0m\n\u001b[0m",
      "\u001b[1;31mNameError\u001b[0m: name 'res' is not defined"
     ]
    }
   ],
   "source": [
    "num1 = int(input(\"Enter a number to divivde \"))\n",
    "num2 = int(input(\"Enter a number to divivde num1\"))\n",
    "\n",
    "try:\n",
    "    res = num1/num2\n",
    "    \n",
    "except ZeroDivisionError:\n",
    "    print(\"You can not divide an integer by 0\")\n",
    "print(res) \n"
   ]
  },
  {
   "cell_type": "code",
   "execution_count": 2,
   "id": "acd75321",
   "metadata": {},
   "outputs": [],
   "source": [
    "# Exception was acatched but it was thrown to except body so it was unable to read the \"res\" variable so it thrown a error\n",
    "# Exception is handled"
   ]
  },
  {
   "cell_type": "code",
   "execution_count": 3,
   "id": "daaa7662",
   "metadata": {},
   "outputs": [
    {
     "name": "stdout",
     "output_type": "stream",
     "text": [
      "Enter a number to divivde 23\n",
      "Enter a number to divivde num10\n",
      "You can not divide an integer by 0\n",
      "None\n"
     ]
    }
   ],
   "source": [
    "num1 = int(input(\"Enter a number to divivde \"))\n",
    "num2 = int(input(\"Enter a number to divivde num1\"))\n",
    "\n",
    "res = None\n",
    "try:\n",
    "    res = num1/num2\n",
    "    \n",
    "# it only zerodivisionerror, it can not handle any other error\n",
    "except ZeroDivisionError:\n",
    "    print(\"You can not divide an integer by 0\")\n",
    "print(res) \n"
   ]
  },
  {
   "cell_type": "code",
   "execution_count": null,
   "id": "fc2b6d57",
   "metadata": {},
   "outputs": [],
   "source": []
  },
  {
   "cell_type": "code",
   "execution_count": 4,
   "id": "c9f111ec",
   "metadata": {},
   "outputs": [
    {
     "name": "stdout",
     "output_type": "stream",
     "text": [
      "Enter a number to divivde nasur\n"
     ]
    },
    {
     "ename": "ValueError",
     "evalue": "invalid literal for int() with base 10: 'nasur'",
     "output_type": "error",
     "traceback": [
      "\u001b[1;31m---------------------------------------------------------------------------\u001b[0m",
      "\u001b[1;31mValueError\u001b[0m                                Traceback (most recent call last)",
      "\u001b[1;32m<ipython-input-4-02974b4d60a7>\u001b[0m in \u001b[0;36m<module>\u001b[1;34m\u001b[0m\n\u001b[1;32m----> 1\u001b[1;33m \u001b[0mnum1\u001b[0m \u001b[1;33m=\u001b[0m \u001b[0mint\u001b[0m\u001b[1;33m(\u001b[0m\u001b[0minput\u001b[0m\u001b[1;33m(\u001b[0m\u001b[1;34m\"Enter a number to divivde \"\u001b[0m\u001b[1;33m)\u001b[0m\u001b[1;33m)\u001b[0m\u001b[1;33m\u001b[0m\u001b[1;33m\u001b[0m\u001b[0m\n\u001b[0m\u001b[0;32m      2\u001b[0m \u001b[0mnum2\u001b[0m \u001b[1;33m=\u001b[0m \u001b[0mint\u001b[0m\u001b[1;33m(\u001b[0m\u001b[0minput\u001b[0m\u001b[1;33m(\u001b[0m\u001b[1;34m\"Enter a number to divivde num1\"\u001b[0m\u001b[1;33m)\u001b[0m\u001b[1;33m)\u001b[0m\u001b[1;33m\u001b[0m\u001b[1;33m\u001b[0m\u001b[0m\n\u001b[0;32m      3\u001b[0m \u001b[1;33m\u001b[0m\u001b[0m\n\u001b[0;32m      4\u001b[0m \u001b[0mres\u001b[0m \u001b[1;33m=\u001b[0m \u001b[1;32mNone\u001b[0m\u001b[1;33m\u001b[0m\u001b[1;33m\u001b[0m\u001b[0m\n\u001b[0;32m      5\u001b[0m \u001b[1;32mtry\u001b[0m\u001b[1;33m:\u001b[0m\u001b[1;33m\u001b[0m\u001b[1;33m\u001b[0m\u001b[0m\n",
      "\u001b[1;31mValueError\u001b[0m: invalid literal for int() with base 10: 'nasur'"
     ]
    }
   ],
   "source": [
    "num1 = int(input(\"Enter a number to divivde \")) # this area is not in try block, it generated typecast error\n",
    "num2 = int(input(\"Enter a number to divivde num1\"))\n",
    "\n",
    "res = None\n",
    "try:\n",
    "    res = num1/num2\n",
    "\n",
    "except ZeroDivisionError:\n",
    "    print(\"You can not divide an integer by 0\")\n",
    "print(res) \n"
   ]
  },
  {
   "cell_type": "code",
   "execution_count": 10,
   "id": "b98422e1",
   "metadata": {},
   "outputs": [
    {
     "name": "stdout",
     "output_type": "stream",
     "text": [
      "Enter a number to divivde hello\n",
      "Warning ! Enter a number instead of string\n"
     ]
    }
   ],
   "source": [
    "try:\n",
    "    num1 = int(input(\"Enter a number to divivde \")) # this area is not in try block, it generated typecast error\n",
    "    num2 = int(input(\"Enter a number to divivde num1\"))\n",
    "    res = None\n",
    "    res = num1/num2\n",
    "    print(res)\n",
    "except ValueError:\n",
    "    print(\"Warning ! Enter a number instead of string\")\n",
    "except ZeroDivisionError:\n",
    "    print(\"You can not divide an integer by 0\")\n"
   ]
  },
  {
   "cell_type": "code",
   "execution_count": 12,
   "id": "0d04884f",
   "metadata": {},
   "outputs": [
    {
     "name": "stdout",
     "output_type": "stream",
     "text": [
      "Enter a number to divivde 2.3\n",
      "Warning ! Enter a number instead of other datatypes\n"
     ]
    }
   ],
   "source": [
    "try:\n",
    "    num1 = int(input(\"Enter a number to divivde \")) # this area is not in try block, it generated typecast error\n",
    "    num2 = int(input(\"Enter a number to divivde num1\"))\n",
    "    res = None\n",
    "    res = num1/num2\n",
    "    print(res)\n",
    "except ValueError:\n",
    "    print(\"Warning ! Enter a number instead of other datatypes\")\n",
    "except ZeroDivisionError:\n",
    "    print(\"You can not divide an integer by 0\")"
   ]
  },
  {
   "cell_type": "code",
   "execution_count": 15,
   "id": "65cf799e",
   "metadata": {},
   "outputs": [
    {
     "name": "stdout",
     "output_type": "stream",
     "text": [
      "Enter a number to divivde \n",
      "Exception generated and caught successfully\n"
     ]
    }
   ],
   "source": [
    "try:\n",
    "    num1 = int(input(\"Enter a number to divivde \")) # this area is not in try block, it generated typecast error\n",
    "    num2 = int(input(\"Enter a number to divivde num1\"))\n",
    "    res = None\n",
    "    res = num1/num2\n",
    "    print(res)\n",
    "except Exception as e:\n",
    "    print(\"Exception generated and caught successfully\")"
   ]
  },
  {
   "cell_type": "code",
   "execution_count": 17,
   "id": "97a6841e",
   "metadata": {},
   "outputs": [
    {
     "name": "stdout",
     "output_type": "stream",
     "text": [
      "Enter a number to divivde 22\n",
      "Enter a number to divivde num10\n",
      "Exception generated and caught successfully\n",
      "division by zero\n"
     ]
    }
   ],
   "source": [
    "try:\n",
    "    num1 = int(input(\"Enter a number to divivde \")) # this area is not in try block, it generated typecast error\n",
    "    num2 = int(input(\"Enter a number to divivde num1\"))\n",
    "    res = None\n",
    "    res = num1/num2\n",
    "    print(res)\n",
    "    \n",
    "except Exception as e:\n",
    "    print(\"Exception generated and caught successfully\\n\" + str(e))"
   ]
  },
  {
   "cell_type": "code",
   "execution_count": 18,
   "id": "98caa11a",
   "metadata": {},
   "outputs": [
    {
     "name": "stdout",
     "output_type": "stream",
     "text": [
      "Enter a number to divivde hello\n",
      "Exception generated and caught successfully\n",
      "invalid literal for int() with base 10: 'hello'\n"
     ]
    }
   ],
   "source": [
    "try:\n",
    "    num1 = int(input(\"Enter a number to divivde \")) # this area is not in try block, it generated typecast error\n",
    "    num2 = int(input(\"Enter a number to divivde num1\"))\n",
    "    res = None\n",
    "    res = num1/num2\n",
    "    print(res)\n",
    "    \n",
    "except Exception as e:\n",
    "    print(\"Exception generated and caught successfully\\n\" + str(e))"
   ]
  },
  {
   "cell_type": "code",
   "execution_count": null,
   "id": "765643c9",
   "metadata": {},
   "outputs": [],
   "source": []
  }
 ],
 "metadata": {
  "kernelspec": {
   "display_name": "Python 3",
   "language": "python",
   "name": "python3"
  },
  "language_info": {
   "codemirror_mode": {
    "name": "ipython",
    "version": 3
   },
   "file_extension": ".py",
   "mimetype": "text/x-python",
   "name": "python",
   "nbconvert_exporter": "python",
   "pygments_lexer": "ipython3",
   "version": "3.8.8"
  }
 },
 "nbformat": 4,
 "nbformat_minor": 5
}
