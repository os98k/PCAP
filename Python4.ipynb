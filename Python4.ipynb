{
 "cells": [
  {
   "cell_type": "markdown",
   "id": "31d0609c",
   "metadata": {},
   "source": [
    "# Topic Discussed:\n",
    "\n",
    "- Operators and Their Priorties\n",
    "- Conditional Statements\n",
    "  - If Statement\n",
    "  - If else statements"
   ]
  },
  {
   "cell_type": "markdown",
   "id": "8ee7d87a",
   "metadata": {},
   "source": [
    "## Operators and Their Priorties\n",
    "\n",
    "+, -, /, *, %, //, **, ()"
   ]
  },
  {
   "cell_type": "raw",
   "id": "76670677",
   "metadata": {},
   "source": [
    "Priorty     Operator\n",
    "\n",
    "1           +,-  Uniry\n",
    "2           **\n",
    "\n",
    "3           *, /, //, %\n",
    "\n",
    "4           +, -  Binary\n",
    "\n",
    "Binding of Expression is usually LEFT TO RIGHT\n",
    "\n",
    "Bracket\n",
    "Orders\n",
    "Division\n",
    "Multiplication\n",
    "Addition\n",
    "Subtraction"
   ]
  },
  {
   "cell_type": "code",
   "execution_count": 1,
   "id": "303a39bc",
   "metadata": {},
   "outputs": [
    {
     "data": {
      "text/plain": [
       "-14"
      ]
     },
     "execution_count": 1,
     "metadata": {},
     "output_type": "execute_result"
    }
   ],
   "source": [
    "-3*6+4 # * than +\n",
    "#-14"
   ]
  },
  {
   "cell_type": "code",
   "execution_count": 3,
   "id": "9edb8ee0",
   "metadata": {},
   "outputs": [
    {
     "data": {
      "text/plain": [
       "129"
      ]
     },
     "execution_count": 3,
     "metadata": {},
     "output_type": "execute_result"
    }
   ],
   "source": [
    "3+6*7*(2+1) # () than * than addition\n"
   ]
  },
  {
   "cell_type": "code",
   "execution_count": 4,
   "id": "05a85ff0",
   "metadata": {},
   "outputs": [
    {
     "name": "stdout",
     "output_type": "stream",
     "text": [
      "1\n"
     ]
    }
   ],
   "source": [
    "print(2*3%5) # * than %"
   ]
  },
  {
   "cell_type": "code",
   "execution_count": 11,
   "id": "18d7a4b6",
   "metadata": {},
   "outputs": [
    {
     "name": "stdout",
     "output_type": "stream",
     "text": [
      "10.0\n"
     ]
    }
   ],
   "source": [
    "print((5 * ((25%13) + 100) / (2*13)) // 2 )\n",
    "\n",
    "#    first will solve this ((25%13)+100) = 112 \n",
    "#    Second will solve (2*13) =26 \n",
    "#    Third will solve 112*5 = 560\n",
    "#    Fourth will solve 560/26 = 21.53\n",
    "#    Fifth will solve 21.53//2 = 10.0"
   ]
  },
  {
   "cell_type": "code",
   "execution_count": 12,
   "id": "182d28ca",
   "metadata": {},
   "outputs": [
    {
     "data": {
      "text/plain": [
       "10.0"
      ]
     },
     "execution_count": 12,
     "metadata": {},
     "output_type": "execute_result"
    }
   ],
   "source": [
    "21.53//2"
   ]
  },
  {
   "cell_type": "code",
   "execution_count": 13,
   "id": "6fc5dc9d",
   "metadata": {},
   "outputs": [
    {
     "name": "stdout",
     "output_type": "stream",
     "text": [
      "16 8.0 8\n"
     ]
    }
   ],
   "source": [
    "print((2**4), (2*4.),(2*4))"
   ]
  },
  {
   "cell_type": "code",
   "execution_count": 14,
   "id": "f5f72dab",
   "metadata": {},
   "outputs": [
    {
     "name": "stdout",
     "output_type": "stream",
     "text": [
      "-0.5 0.5 0 -1\n"
     ]
    }
   ],
   "source": [
    "print((-2/4), (2/4), (2//4), (-2//4))"
   ]
  },
  {
   "cell_type": "markdown",
   "id": "34f7bfda",
   "metadata": {},
   "source": [
    "# Conditional Statements"
   ]
  },
  {
   "cell_type": "markdown",
   "id": "36b82899",
   "metadata": {},
   "source": [
    "## If Statement\n",
    "\n",
    "Conditional Statements"
   ]
  },
  {
   "cell_type": "code",
   "execution_count": 16,
   "id": "d13c0ad2",
   "metadata": {},
   "outputs": [],
   "source": [
    "st_name = \"Osama\"\n"
   ]
  },
  {
   "cell_type": "code",
   "execution_count": 20,
   "id": "08693c09",
   "metadata": {},
   "outputs": [
    {
     "name": "stdout",
     "output_type": "stream",
     "text": [
      "Welcome Osama \n",
      "You are allowed\n"
     ]
    }
   ],
   "source": [
    "if (st_name == \"Osama\"):\n",
    "    print(f\"Welcome {st_name} \")\n",
    "    print(\"You are allowed\")"
   ]
  },
  {
   "cell_type": "code",
   "execution_count": 22,
   "id": "4f414f4d",
   "metadata": {},
   "outputs": [
    {
     "name": "stdout",
     "output_type": "stream",
     "text": [
      "Please tell your name osama\n",
      "Welcome Osama \n",
      "You are allowed\n"
     ]
    }
   ],
   "source": [
    "st_name = input(\"Please tell your name \").title()\n",
    "if (st_name == \"Osama\"):\n",
    "    print(f\"Welcome {st_name} \")\n",
    "    print(\"You are allowed\")"
   ]
  },
  {
   "cell_type": "code",
   "execution_count": 23,
   "id": "bd05b74b",
   "metadata": {},
   "outputs": [
    {
     "name": "stdout",
     "output_type": "stream",
     "text": [
      "Please tell your name OSAma\n",
      "Welcome osama \n",
      "You are allowed\n"
     ]
    }
   ],
   "source": [
    "st_name = input(\"Please tell your name \").lower()\n",
    "if (st_name == \"osama\"):\n",
    "    print(f\"Welcome {st_name} \")\n",
    "    print(\"You are allowed\")"
   ]
  },
  {
   "cell_type": "code",
   "execution_count": 26,
   "id": "45ab16ad",
   "metadata": {},
   "outputs": [
    {
     "name": "stdout",
     "output_type": "stream",
     "text": [
      "Enter your Guess Number 98\n"
     ]
    }
   ],
   "source": [
    "number =  int(input(\"Enter your Guess Number \"))\n",
    "luckynumber = 99 \n",
    "if number == luckynumber:\n",
    "    print(\"You Won !\")\n"
   ]
  },
  {
   "cell_type": "code",
   "execution_count": 31,
   "id": "deda07a9",
   "metadata": {},
   "outputs": [
    {
     "name": "stdout",
     "output_type": "stream",
     "text": [
      "Enter your Guess Number 99\n",
      "You Won !\n",
      "You Won !\n",
      "You Won !\n",
      "You Won !\n"
     ]
    }
   ],
   "source": [
    "number =  int(input(\"Enter your Guess Number \"))\n",
    "luckynumber = 99 \n",
    "if number == luckynumber:\n",
    "    print(\"You Won !\")\n",
    "    print(\"You Won !\")\n",
    "    print(\"You Won !\")\n",
    "    print(\"You Won !\")"
   ]
  },
  {
   "cell_type": "code",
   "execution_count": 28,
   "id": "17b6d781",
   "metadata": {},
   "outputs": [
    {
     "ename": "SyntaxError",
     "evalue": "unexpected EOF while parsing (<ipython-input-28-c0df4c63f1b8>, line 3)",
     "output_type": "error",
     "traceback": [
      "\u001b[1;36m  File \u001b[1;32m\"<ipython-input-28-c0df4c63f1b8>\"\u001b[1;36m, line \u001b[1;32m3\u001b[0m\n\u001b[1;33m    if number == luckynumber:\u001b[0m\n\u001b[1;37m                             ^\u001b[0m\n\u001b[1;31mSyntaxError\u001b[0m\u001b[1;31m:\u001b[0m unexpected EOF while parsing\n"
     ]
    }
   ],
   "source": [
    "number =  int(input(\"Enter your Guess Number \"))\n",
    "luckynumber = 99 \n",
    " #must have something in it\n",
    "if number == luckynumber:  "
   ]
  },
  {
   "cell_type": "code",
   "execution_count": 30,
   "id": "bfdcf44f",
   "metadata": {},
   "outputs": [
    {
     "name": "stdout",
     "output_type": "stream",
     "text": [
      "Enter your Guess Number 98\n"
     ]
    }
   ],
   "source": [
    "number =  int(input(\"Enter your Guess Number \"))\n",
    "luckynumber = 99 \n",
    " #must have something in it\n",
    "if number == luckynumber:\n",
    "    pass"
   ]
  },
  {
   "cell_type": "code",
   "execution_count": 33,
   "id": "061dd53e",
   "metadata": {},
   "outputs": [
    {
     "name": "stdout",
     "output_type": "stream",
     "text": [
      "Enter your Guess Number 99\n",
      "You Won !\n",
      "You Won !\n",
      "You Won !\n",
      "Block Ends here !\n",
      "hello\n"
     ]
    }
   ],
   "source": [
    "number =  int(input(\"Enter your Guess Number \"))\n",
    "luckynumber = 99 \n",
    "if number == luckynumber:\n",
    "    print(\"You Won !\")\n",
    "    print(\"You Won !\")\n",
    "    print(\"You Won !\")\n",
    "    print(\"Block Ends here !\") # Indentation\n",
    "print(\"hello\")"
   ]
  },
  {
   "cell_type": "code",
   "execution_count": 34,
   "id": "4df88ec6",
   "metadata": {},
   "outputs": [
    {
     "name": "stdout",
     "output_type": "stream",
     "text": [
      "hello\n"
     ]
    }
   ],
   "source": [
    " print(\"hello\")"
   ]
  },
  {
   "cell_type": "markdown",
   "id": "fba0872d",
   "metadata": {},
   "source": [
    "## If-Else Statement"
   ]
  },
  {
   "cell_type": "code",
   "execution_count": 35,
   "id": "dbe4e7a7",
   "metadata": {},
   "outputs": [
    {
     "name": "stdout",
     "output_type": "stream",
     "text": [
      "Enter your Guess Number 98\n",
      "Your loss\n"
     ]
    }
   ],
   "source": [
    "number =  int(input(\"Enter your Guess Number \"))\n",
    "luckynumber = 99 \n",
    "if number == luckynumber:\n",
    "    print(\"You Won !\")\n",
    "else:\n",
    "    print(\"Your loss\")"
   ]
  },
  {
   "cell_type": "code",
   "execution_count": 37,
   "id": "4dad64f3",
   "metadata": {},
   "outputs": [
    {
     "name": "stdout",
     "output_type": "stream",
     "text": [
      "What is the price of Tomato 99\n",
      "Buy it !\n"
     ]
    }
   ],
   "source": [
    "price_of_tomato = int(input(\"What is the price of Tomato \"))\n",
    "\n",
    "if price_of_tomato >= 100:\n",
    "    print(\"Don't buy it !\")\n",
    "else:\n",
    "    print(\"Buy it !\")"
   ]
  },
  {
   "cell_type": "code",
   "execution_count": 44,
   "id": "ec4cd499",
   "metadata": {},
   "outputs": [
    {
     "name": "stdout",
     "output_type": "stream",
     "text": [
      "What is the price of Tomato 56\n",
      "Buy it !\n"
     ]
    }
   ],
   "source": [
    "price_of_tomato = int(input(\"What is the price of Tomato \"))\n",
    "\n",
    "if price_of_tomato >= 100:\n",
    "    print(\"Don't buy it !\")\n",
    "else:\n",
    "    print(\"Buy it !\")"
   ]
  },
  {
   "cell_type": "code",
   "execution_count": 45,
   "id": "a2feb3c8",
   "metadata": {},
   "outputs": [
    {
     "name": "stdout",
     "output_type": "stream",
     "text": [
      "What is the price of Tomato 44.3\n",
      "Buy it !\n"
     ]
    }
   ],
   "source": [
    "price_of_tomato = int(float(input(\"What is the price of Tomato \")))\n",
    "\n",
    "if price_of_tomato >= 100:\n",
    "    print(\"Don't buy it !\")\n",
    "else:\n",
    "    print(\"Buy it !\")\n",
    "    "
   ]
  },
  {
   "cell_type": "code",
   "execution_count": null,
   "id": "8220857c",
   "metadata": {},
   "outputs": [],
   "source": []
  }
 ],
 "metadata": {
  "kernelspec": {
   "display_name": "Python 3",
   "language": "python",
   "name": "python3"
  },
  "language_info": {
   "codemirror_mode": {
    "name": "ipython",
    "version": 3
   },
   "file_extension": ".py",
   "mimetype": "text/x-python",
   "name": "python",
   "nbconvert_exporter": "python",
   "pygments_lexer": "ipython3",
   "version": "3.8.8"
  }
 },
 "nbformat": 4,
 "nbformat_minor": 5
}
