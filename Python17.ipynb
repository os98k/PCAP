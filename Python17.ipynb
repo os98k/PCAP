{
 "cells": [
  {
   "cell_type": "markdown",
   "id": "c06bd76e",
   "metadata": {},
   "source": [
    "# Last Discussed\n",
    "\n",
    "- OOP\n",
    "- OOP in Python\n",
    "- Class\n",
    "- Object\n",
    "- Updating/Changing Variable directly\n",
    "- Updating/Changing Variable using get and set\n"
   ]
  },
  {
   "cell_type": "markdown",
   "id": "454eaf4d",
   "metadata": {},
   "source": [
    "# Today Discussed\n",
    "\n",
    "- Pillars of OOP"
   ]
  },
  {
   "cell_type": "markdown",
   "id": "e4632434",
   "metadata": {},
   "source": [
    "## Pillars of Object Oriented Programming"
   ]
  },
  {
   "cell_type": "markdown",
   "id": "3b44e1fd",
   "metadata": {},
   "source": [
    "The Four Pillars of Object Oriented Programming\n",
    "\n",
    "- Abstraction.\n",
    "- Encapsulation.\n",
    "- Inheritance.\n",
    "- Polymorphism."
   ]
  },
  {
   "cell_type": "markdown",
   "id": "27486ad7",
   "metadata": {},
   "source": [
    "# Inheritance (Wirasat)"
   ]
  },
  {
   "cell_type": "code",
   "execution_count": 1,
   "id": "b33588fd",
   "metadata": {},
   "outputs": [],
   "source": [
    "# we use inheritance because we need some properties and functionalities in our current class that are already \n",
    "# used in other class, so instead of creating them we just inherit them and utilize them in our current class"
   ]
  },
  {
   "cell_type": "markdown",
   "id": "dc9489c4",
   "metadata": {},
   "source": [
    "Inheritance is a mechanism in which one class acquires the property of another class. For example, a child inherits the traits of his/her parents. With inheritance, we can reuse the fields and methods of the existing class. Hence, inheritance facilitates Reusability and is an important concept of OOPs."
   ]
  },
  {
   "cell_type": "markdown",
   "id": "b7ad3773",
   "metadata": {},
   "source": [
    "# Inheritance of two type\n",
    "\n",
    "- Multilevel Inheritance\n",
    "- Multiple Inheritance\n"
   ]
  },
  {
   "cell_type": "code",
   "execution_count": 30,
   "id": "d5c86f0f",
   "metadata": {},
   "outputs": [],
   "source": [
    "class Person():\n",
    "    def __init__(self, name, age, gender, cnic, contact):\n",
    "        self.name    = name\n",
    "        self.age     = age\n",
    "        self.gender  = gender\n",
    "        self.contact = contact\n",
    "        \n",
    "    def run(self):\n",
    "        if self.age>2:\n",
    "            print(f\"{self.name} is running\")\n",
    "        else:\n",
    "            print(f\"{self.name} is {self.age} of age and a little child and can not walk\")\n",
    "    "
   ]
  },
  {
   "cell_type": "code",
   "execution_count": 31,
   "id": "da02d830",
   "metadata": {},
   "outputs": [],
   "source": [
    "person1 = Person(\"Wajih\", 23, \"Male\", 1319133132, 123456678)"
   ]
  },
  {
   "cell_type": "code",
   "execution_count": 32,
   "id": "aba39964",
   "metadata": {},
   "outputs": [
    {
     "name": "stdout",
     "output_type": "stream",
     "text": [
      "Wajih is running\n"
     ]
    }
   ],
   "source": [
    "person1.run()"
   ]
  },
  {
   "cell_type": "code",
   "execution_count": 33,
   "id": "4dcdf585",
   "metadata": {},
   "outputs": [],
   "source": [
    "class Student(Person): # student is a person\n",
    "    pass\n",
    "#     def __init__(self, name,  age, gender, contact, cnic):\n",
    "        \n",
    "#         self.name    = name\n",
    "#         self.age     = age\n",
    "#         self.gender  = gender\n",
    "#         self.contact = contact\n",
    "        \n",
    "#     def run(self):\n",
    "#         if self.age>2:\n",
    "#             print(f\"{self.name} is walking\")\n",
    "#         else:\n",
    "#             print(f\"{self.name} is {self.age} of age and a little child and can not walk\")\n",
    "    "
   ]
  },
  {
   "cell_type": "code",
   "execution_count": 34,
   "id": "4ebb0473",
   "metadata": {},
   "outputs": [],
   "source": [
    "student1 = Student(\"Mr. A\", 23, \"Male\", 12343234, 12234112343) # Child inherited all the properties of parent"
   ]
  },
  {
   "cell_type": "code",
   "execution_count": 35,
   "id": "a0563107",
   "metadata": {},
   "outputs": [
    {
     "name": "stdout",
     "output_type": "stream",
     "text": [
      "Mr. A is running\n"
     ]
    }
   ],
   "source": [
    "student1.run()"
   ]
  },
  {
   "cell_type": "code",
   "execution_count": 26,
   "id": "a48e9500",
   "metadata": {},
   "outputs": [
    {
     "data": {
      "text/plain": [
       "23"
      ]
     },
     "execution_count": 26,
     "metadata": {},
     "output_type": "execute_result"
    }
   ],
   "source": [
    "student1.age"
   ]
  },
  {
   "cell_type": "code",
   "execution_count": 27,
   "id": "27bb327f",
   "metadata": {},
   "outputs": [
    {
     "data": {
      "text/plain": [
       "12234112343"
      ]
     },
     "execution_count": 27,
     "metadata": {},
     "output_type": "execute_result"
    }
   ],
   "source": [
    "student1.contact "
   ]
  },
  {
   "cell_type": "code",
   "execution_count": 28,
   "id": "6c23a4b9",
   "metadata": {},
   "outputs": [],
   "source": [
    "class Teacher(Person):\n",
    "    pass"
   ]
  },
  {
   "cell_type": "code",
   "execution_count": 29,
   "id": "0ff18019",
   "metadata": {},
   "outputs": [],
   "source": [
    "class Staff(Person):\n",
    "    pass"
   ]
  },
  {
   "cell_type": "code",
   "execution_count": 47,
   "id": "ad580987",
   "metadata": {},
   "outputs": [],
   "source": [
    "class Athelete(Person):\n",
    "    def run(self):\n",
    "        print(f\"{self.name} is running super fast\")\n",
    "        \n",
    "    #Method Overridding\n",
    "    #Polymorphism "
   ]
  },
  {
   "cell_type": "code",
   "execution_count": 45,
   "id": "d069fab8",
   "metadata": {},
   "outputs": [],
   "source": [
    "athelete1 = Athelete(\"Zamu\", 23, \"Male\", \"234\", \"0234124323\")"
   ]
  },
  {
   "cell_type": "code",
   "execution_count": 46,
   "id": "15413cbe",
   "metadata": {},
   "outputs": [
    {
     "name": "stdout",
     "output_type": "stream",
     "text": [
      "Zamu is running super fast\n"
     ]
    }
   ],
   "source": [
    "athelete1.run()"
   ]
  },
  {
   "cell_type": "code",
   "execution_count": 53,
   "id": "59d97213",
   "metadata": {},
   "outputs": [],
   "source": [
    "# \"+\" plus operator is over-rided\n",
    "# Among integer it has different shape\n",
    "# Among strings it has different shape\n",
    "# Same operator behave differently\n"
   ]
  },
  {
   "cell_type": "code",
   "execution_count": null,
   "id": "81845246",
   "metadata": {},
   "outputs": [],
   "source": [
    "2 + 2 "
   ]
  },
  {
   "cell_type": "code",
   "execution_count": 55,
   "id": "766d33e8",
   "metadata": {},
   "outputs": [
    {
     "data": {
      "text/plain": [
       "'22'"
      ]
     },
     "execution_count": 55,
     "metadata": {},
     "output_type": "execute_result"
    }
   ],
   "source": [
    "\"2\" + \"2\""
   ]
  },
  {
   "cell_type": "code",
   "execution_count": 57,
   "id": "cd646bc0",
   "metadata": {},
   "outputs": [],
   "source": [
    "class college_student(Student):\n",
    "    pass\n",
    "\n",
    "# college student is a student and as well as is a person"
   ]
  },
  {
   "cell_type": "code",
   "execution_count": 58,
   "id": "eac6eb8a",
   "metadata": {},
   "outputs": [],
   "source": [
    "# overriding mean special features add to child class.\n",
    "# change in feautures of child class or implementation of child class overriding used."
   ]
  },
  {
   "cell_type": "code",
   "execution_count": 59,
   "id": "ed18ab89",
   "metadata": {},
   "outputs": [],
   "source": [
    "# Creating a class\n",
    "class Car(): \n",
    "    def __init__(self, make, model, year):\n",
    "        self.make = make\n",
    "        self.model = model\n",
    "        self.year = year\n",
    "\n",
    "    def get_descriptive_name(self):        \n",
    "        long_name = str(self.year) + ' ' + self.make + ' ' + self.model\n",
    "        return long_name.title()"
   ]
  },
  {
   "cell_type": "code",
   "execution_count": 60,
   "id": "2ba68516",
   "metadata": {},
   "outputs": [],
   "source": [
    "# Creating an object\n",
    "my_new_car = Car('audi', 'a4', 2016)"
   ]
  },
  {
   "cell_type": "code",
   "execution_count": 61,
   "id": "26a2f475",
   "metadata": {},
   "outputs": [
    {
     "name": "stdout",
     "output_type": "stream",
     "text": [
      "2016 Audi A4\n"
     ]
    }
   ],
   "source": [
    "print(my_new_car.get_descriptive_name())"
   ]
  },
  {
   "cell_type": "markdown",
   "id": "b67905fd",
   "metadata": {},
   "source": [
    "# Setting a default value for attributes"
   ]
  },
  {
   "cell_type": "code",
   "execution_count": 63,
   "id": "ca923112",
   "metadata": {},
   "outputs": [],
   "source": [
    "# default attribute mean it will be set to all object"
   ]
  },
  {
   "cell_type": "code",
   "execution_count": 82,
   "id": "6f6828e6",
   "metadata": {},
   "outputs": [],
   "source": [
    "# Creating a class\n",
    "class Car(): \n",
    "    def __init__(self, make, model, year):\n",
    "        self.make = make\n",
    "        self.model = model\n",
    "        self.year = year\n",
    "        self.odometer_reading = 0\n",
    "\n",
    "    def get_descriptive_name(self):        \n",
    "        long_name = str(self.year) + ' ' + self.make + ' ' + self.model\n",
    "        return long_name.title()\n",
    "    \n",
    "    def read_odometer(self):\n",
    "        print(\"This car has \" + str(self.odometer_reading) + \" miles on it\")"
   ]
  },
  {
   "cell_type": "code",
   "execution_count": 83,
   "id": "ba837023",
   "metadata": {},
   "outputs": [],
   "source": [
    "new_car = Car('audi', 'a4', 2016)"
   ]
  },
  {
   "cell_type": "code",
   "execution_count": 84,
   "id": "79c2a99c",
   "metadata": {},
   "outputs": [
    {
     "name": "stdout",
     "output_type": "stream",
     "text": [
      "This car has 0 miles on it\n"
     ]
    }
   ],
   "source": [
    "new_car.read_odometer()"
   ]
  },
  {
   "cell_type": "code",
   "execution_count": 85,
   "id": "73bfd548",
   "metadata": {},
   "outputs": [],
   "source": [
    "new_car.odometer_reading = 100"
   ]
  },
  {
   "cell_type": "code",
   "execution_count": 86,
   "id": "81bf6d14",
   "metadata": {},
   "outputs": [
    {
     "name": "stdout",
     "output_type": "stream",
     "text": [
      "This car has 100 miles on it\n"
     ]
    }
   ],
   "source": [
    "new_car.read_odometer()"
   ]
  },
  {
   "cell_type": "code",
   "execution_count": 87,
   "id": "2b612c54",
   "metadata": {},
   "outputs": [],
   "source": [
    "car1 = Car(\"Civic\", \"bw\", 2012)"
   ]
  },
  {
   "cell_type": "code",
   "execution_count": 88,
   "id": "02df2bca",
   "metadata": {},
   "outputs": [
    {
     "name": "stdout",
     "output_type": "stream",
     "text": [
      "This car has 0 miles on it\n"
     ]
    }
   ],
   "source": [
    "car1.read_odometer()"
   ]
  },
  {
   "cell_type": "markdown",
   "id": "8cf34091",
   "metadata": {},
   "source": [
    "# Modifying attribute value through a method"
   ]
  },
  {
   "cell_type": "code",
   "execution_count": 93,
   "id": "b2b1f165",
   "metadata": {},
   "outputs": [],
   "source": [
    "# Creating a class\n",
    "class Car(): \n",
    "    def __init__(self, make, model, year):\n",
    "        self.make = make\n",
    "        self.model = model\n",
    "        self.year = year\n",
    "        self.odometer_reading = 0\n",
    "\n",
    "    def get_descriptive_name(self):        \n",
    "        long_name = str(self.year) + ' ' + self.make + ' ' + self.model\n",
    "        return long_name.title()\n",
    "    \n",
    "    def read_odometer(self):\n",
    "        print(\"This car has \" + str(self.odometer_reading) + \" miles on it\")\n",
    "        \n",
    "    def update_odometer(self, mileage):\n",
    "        self.odometer_reading = mileage"
   ]
  },
  {
   "cell_type": "code",
   "execution_count": 94,
   "id": "c305e87d",
   "metadata": {},
   "outputs": [],
   "source": [
    "car2 = Car(\"HONDA\", \"GH\", 2022)"
   ]
  },
  {
   "cell_type": "code",
   "execution_count": 95,
   "id": "72d7bac7",
   "metadata": {},
   "outputs": [
    {
     "name": "stdout",
     "output_type": "stream",
     "text": [
      "This car has 0 miles on it\n"
     ]
    }
   ],
   "source": [
    "car2.read_odometer()"
   ]
  },
  {
   "cell_type": "code",
   "execution_count": 96,
   "id": "888e5692",
   "metadata": {},
   "outputs": [],
   "source": [
    "car2.update_odometer(500)"
   ]
  },
  {
   "cell_type": "code",
   "execution_count": 97,
   "id": "e62d0369",
   "metadata": {},
   "outputs": [
    {
     "name": "stdout",
     "output_type": "stream",
     "text": [
      "This car has 500 miles on it\n"
     ]
    }
   ],
   "source": [
    "car2.read_odometer()"
   ]
  },
  {
   "cell_type": "code",
   "execution_count": 98,
   "id": "1af81d29",
   "metadata": {},
   "outputs": [],
   "source": [
    "# Creating a class\n",
    "class Car(): \n",
    "    def __init__(self, make, model, year):\n",
    "        self.make = make\n",
    "        self.model = model\n",
    "        self.year = year\n",
    "        self.odometer_reading = 0\n",
    "\n",
    "    def get_descriptive_name(self):        \n",
    "        long_name = str(self.year) + ' ' + self.make + ' ' + self.model\n",
    "        return long_name.title()\n",
    "    \n",
    "    def read_odometer(self):\n",
    "        print(\"This car has \" + str(self.odometer_reading) + \" miles on it\")\n",
    "        \n",
    "    def update_odometer(self, mileage):\n",
    "        if mileage >= self.odometer_reading:\n",
    "            self.odometer_reading = mileage\n",
    "        else:\n",
    "            print(\"You can not roll back an odometer\")\n",
    "        "
   ]
  },
  {
   "cell_type": "code",
   "execution_count": 99,
   "id": "65720d0c",
   "metadata": {},
   "outputs": [],
   "source": [
    "car4 = Car(\"HYNDE\", \"aq\", 2020)"
   ]
  },
  {
   "cell_type": "code",
   "execution_count": 100,
   "id": "69c83c38",
   "metadata": {},
   "outputs": [
    {
     "name": "stdout",
     "output_type": "stream",
     "text": [
      "This car has 0 miles on it\n"
     ]
    }
   ],
   "source": [
    "car4.read_odometer()"
   ]
  },
  {
   "cell_type": "code",
   "execution_count": 101,
   "id": "fa0f13b2",
   "metadata": {},
   "outputs": [],
   "source": [
    "car4.update_odometer(500)"
   ]
  },
  {
   "cell_type": "code",
   "execution_count": 102,
   "id": "98b760d6",
   "metadata": {},
   "outputs": [
    {
     "name": "stdout",
     "output_type": "stream",
     "text": [
      "This car has 500 miles on it\n"
     ]
    }
   ],
   "source": [
    "car4.read_odometer()"
   ]
  },
  {
   "cell_type": "code",
   "execution_count": 103,
   "id": "6a696e66",
   "metadata": {},
   "outputs": [
    {
     "name": "stdout",
     "output_type": "stream",
     "text": [
      "You can not roll back odometer\n"
     ]
    }
   ],
   "source": [
    "car4.update_odometer(100)"
   ]
  },
  {
   "cell_type": "markdown",
   "id": "03e458f4",
   "metadata": {},
   "source": [
    "## Incrementing an attribute value through a method"
   ]
  },
  {
   "cell_type": "code",
   "execution_count": 104,
   "id": "26ecd847",
   "metadata": {},
   "outputs": [],
   "source": [
    "# Creating a class\n",
    "class Car(): \n",
    "    def __init__(self, make, model, year):\n",
    "        self.make = make\n",
    "        self.model = model\n",
    "        self.year = year\n",
    "        self.odometer_reading = 0\n",
    "\n",
    "    def get_descriptive_name(self):        \n",
    "        long_name = str(self.year) + ' ' + self.make + ' ' + self.model\n",
    "        return long_name.title()\n",
    "    \n",
    "    def read_odometer(self):\n",
    "        print(\"This car has \" + str(self.odometer_reading) + \" miles on it\")\n",
    "        \n",
    "    def update_odometer(self, mileage):\n",
    "        if mileage >= self.odometer_reading:\n",
    "            self.odometer_reading = mileage\n",
    "        else:\n",
    "            print(\"You can not roll back an odometer\")\n",
    "            \n",
    "    def increment_odometer(self, miles):\n",
    "        self.odometer_reading += miles\n",
    "        "
   ]
  },
  {
   "cell_type": "code",
   "execution_count": 105,
   "id": "4372266a",
   "metadata": {},
   "outputs": [],
   "source": [
    "car5 = Car(\"Mehran\", \"H2\", 2000)"
   ]
  },
  {
   "cell_type": "code",
   "execution_count": 106,
   "id": "0a8b090b",
   "metadata": {},
   "outputs": [
    {
     "name": "stdout",
     "output_type": "stream",
     "text": [
      "This car has 0 miles on it\n"
     ]
    }
   ],
   "source": [
    "car5.read_odometer()"
   ]
  },
  {
   "cell_type": "code",
   "execution_count": 108,
   "id": "8cd4d894",
   "metadata": {},
   "outputs": [],
   "source": [
    "car5.update_odometer(100)"
   ]
  },
  {
   "cell_type": "code",
   "execution_count": 109,
   "id": "e5495f19",
   "metadata": {},
   "outputs": [
    {
     "name": "stdout",
     "output_type": "stream",
     "text": [
      "This car has 100 miles on it\n"
     ]
    }
   ],
   "source": [
    "car5.read_odometer()"
   ]
  },
  {
   "cell_type": "code",
   "execution_count": 110,
   "id": "68513cc5",
   "metadata": {},
   "outputs": [],
   "source": [
    "car5.increment_odometer(100)"
   ]
  },
  {
   "cell_type": "code",
   "execution_count": 111,
   "id": "c14e618c",
   "metadata": {},
   "outputs": [
    {
     "name": "stdout",
     "output_type": "stream",
     "text": [
      "This car has 200 miles on it\n"
     ]
    }
   ],
   "source": [
    "car5.read_odometer()"
   ]
  },
  {
   "cell_type": "markdown",
   "id": "a541491b",
   "metadata": {},
   "source": [
    "## Inheritance"
   ]
  },
  {
   "cell_type": "code",
   "execution_count": 116,
   "id": "2079668c",
   "metadata": {},
   "outputs": [],
   "source": [
    "class ElectricCar(Car):\n",
    "    def __init__(self, make, model, year, engine):        \n",
    "        super().__init__(make, model, year) # Super mean parent class ==> take to /called parent class initializer\n",
    "        \n",
    "        self.engine = engine"
   ]
  },
  {
   "cell_type": "code",
   "execution_count": 117,
   "id": "5084e34e",
   "metadata": {},
   "outputs": [],
   "source": [
    "my_tesla = ElectricCar('tesla', 'models', 2016,\"Engine\") "
   ]
  },
  {
   "cell_type": "code",
   "execution_count": 118,
   "id": "6affa176",
   "metadata": {},
   "outputs": [
    {
     "data": {
      "text/plain": [
       "'2016 Tesla Models'"
      ]
     },
     "execution_count": 118,
     "metadata": {},
     "output_type": "execute_result"
    }
   ],
   "source": [
    "my_tesla.get_descriptive_name()\n"
   ]
  },
  {
   "cell_type": "code",
   "execution_count": 119,
   "id": "e428b5b7",
   "metadata": {},
   "outputs": [
    {
     "data": {
      "text/plain": [
       "'Engine'"
      ]
     },
     "execution_count": 119,
     "metadata": {},
     "output_type": "execute_result"
    }
   ],
   "source": [
    "my_tesla.engine"
   ]
  },
  {
   "cell_type": "code",
   "execution_count": 120,
   "id": "191839c4",
   "metadata": {},
   "outputs": [],
   "source": [
    "class ElectricCar(Car):\n",
    "    def __init__(self, make, model, year):        \n",
    "        super().__init__(make, model, year) # Super mean parent class ==> take to /called parent class initializer\n",
    "        self.battery_size = 70\n",
    "        \n",
    "    def describe_battery(self):\n",
    "        print(\"This car has a \" + str(self.battery_size) + \" - kwh battery\")"
   ]
  },
  {
   "cell_type": "code",
   "execution_count": 121,
   "id": "33478c50",
   "metadata": {},
   "outputs": [],
   "source": [
    "e1 = ElectricCar(\"ElecCar\", \"latest\", 2021)"
   ]
  },
  {
   "cell_type": "code",
   "execution_count": 122,
   "id": "29f0f60d",
   "metadata": {},
   "outputs": [
    {
     "name": "stdout",
     "output_type": "stream",
     "text": [
      "This car has a 70 - kwh battery\n"
     ]
    }
   ],
   "source": [
    "e1.describe_battery()"
   ]
  },
  {
   "cell_type": "markdown",
   "id": "5d85b261",
   "metadata": {},
   "source": [
    "## Overloading Method from parent class"
   ]
  },
  {
   "cell_type": "code",
   "execution_count": 132,
   "id": "b3595a4b",
   "metadata": {},
   "outputs": [],
   "source": [
    "# Creating a class\n",
    "class Car(): \n",
    "    def __init__(self, make, model, year):\n",
    "        self.make = make\n",
    "        self.model = model\n",
    "        self.year = year\n",
    "        self.odometer_reading = 0\n",
    "\n",
    "    def get_descriptive_name(self):        \n",
    "        long_name = str(self.year) + ' ' + self.make + ' ' + self.model\n",
    "        return long_name.title()\n",
    "    \n",
    "    def read_odometer(self):\n",
    "        print(\"This car has \" + str(self.odometer_reading) + \" miles on it\")\n",
    "        \n",
    "    def update_odometer(self, mileage):\n",
    "        if mileage >= self.odometer_reading:\n",
    "            self.odometer_reading = mileage\n",
    "        else:\n",
    "            print(\"You can not roll back an odometer\")\n",
    "            \n",
    "    def increment_odometer(self, miles):\n",
    "        self.odometer_reading += miles\n",
    "    def fill_gas_tank(self):\n",
    "        print(\"Gas tank is being filled\") # this method is not valid for electric cars, so we will override it\n",
    "        "
   ]
  },
  {
   "cell_type": "code",
   "execution_count": 136,
   "id": "5a3d67c2",
   "metadata": {},
   "outputs": [],
   "source": [
    "class ElectricCar(Car):\n",
    "    def __init__(self, make, model, year):        \n",
    "        super().__init__(make, model, year) # Super mean parent class ==> take to /called parent class initializer\n",
    "        self.battery_size = 70\n",
    "        \n",
    "    def describe_battery(self):\n",
    "        print(\"This car has a \" + str(self.battery_size) + \" - kwh battery\")\n",
    "        \n",
    "    def fill_gas_tank(self):\n",
    "        print(\"Electric car has no gas tank, it runs on battery \")"
   ]
  },
  {
   "cell_type": "code",
   "execution_count": 137,
   "id": "6823a22d",
   "metadata": {},
   "outputs": [],
   "source": [
    "e2 = ElectricCar(\"Elec-Car\", \"latest\", 2022)"
   ]
  },
  {
   "cell_type": "code",
   "execution_count": 138,
   "id": "0f91980f",
   "metadata": {},
   "outputs": [
    {
     "name": "stdout",
     "output_type": "stream",
     "text": [
      "Electric car has no gas tank, it runs on battery \n"
     ]
    }
   ],
   "source": [
    "e2.fill_gas_tank()"
   ]
  },
  {
   "cell_type": "markdown",
   "id": "21f7e893",
   "metadata": {},
   "source": [
    "## Instance as Attribute\n",
    "\n",
    "- Use of Object of class as Variable"
   ]
  },
  {
   "cell_type": "code",
   "execution_count": 165,
   "id": "0b7ee42f",
   "metadata": {},
   "outputs": [],
   "source": [
    "# Creating a class\n",
    "class Car(): \n",
    "    def __init__(self, make, model, year):\n",
    "        self.make = make\n",
    "        self.model = model\n",
    "        self.year = year\n",
    "        self.odometer_reading = 0\n",
    "\n",
    "    def get_descriptive_name(self):        \n",
    "        long_name = str(self.year) + ' ' + self.make + ' ' + self.model\n",
    "        return long_name.title()\n",
    "    \n",
    "    def read_odometer(self):\n",
    "        print(\"This car has \" + str(self.odometer_reading) + \" miles on it\")\n",
    "        \n",
    "    def update_odometer(self, mileage):\n",
    "        if mileage >= self.odometer_reading:\n",
    "            self.odometer_reading = mileage\n",
    "        else:\n",
    "            print(\"You can not roll back an odometer\")\n",
    "            \n",
    "    def increment_odometer(self, miles):\n",
    "        self.odometer_reading += miles\n",
    "        "
   ]
  },
  {
   "cell_type": "code",
   "execution_count": 166,
   "id": "a3061787",
   "metadata": {},
   "outputs": [],
   "source": [
    "class Battery():\n",
    "    def __init__(self, manufac, hp, watts, cells):\n",
    "        self.manufac = manufac\n",
    "        self.hp      = hp\n",
    "        self.watts   = watts\n",
    "        self.cells   = cells\n",
    "        \n",
    "    def charge(self):\n",
    "        print(\"Baterry is charged\")\n",
    "    \n",
    "    def description(self):\n",
    "        print(\"\"\"\n",
    "        \n",
    "        THIS IS BATTERY DESCRIPTION:\n",
    "        \n",
    "        Manufac = {self.manufac}\n",
    "        Hp      = {self.hp}\n",
    "        Watts   = {self.watts}\n",
    "        Cells   = {self.cells}\n",
    "        \n",
    "        \"\"\")\n",
    "        \n"
   ]
  },
  {
   "cell_type": "code",
   "execution_count": 167,
   "id": "a44d6c0e",
   "metadata": {},
   "outputs": [],
   "source": [
    "class ElectricCar(Car):\n",
    "    def __init__(self, make, model, year):        \n",
    "        super().__init__(make, model, year) # Super mean parent class ==> take to /called parent class initializer\n",
    "        \n",
    "        self.battery = Battery(\"AGs\", 200,230, 27) # using object as variables\n",
    "    \n",
    "    def fill_gas_tank(self):\n",
    "        print(\"Electric car has no gas tank, it runs on battery \")"
   ]
  },
  {
   "cell_type": "code",
   "execution_count": 168,
   "id": "dad7fea3",
   "metadata": {},
   "outputs": [],
   "source": [
    "e5 = ElectricCar(\"Elec-Car\", \"latest\", 2022)"
   ]
  },
  {
   "cell_type": "code",
   "execution_count": 169,
   "id": "cdc9267f",
   "metadata": {},
   "outputs": [
    {
     "name": "stdout",
     "output_type": "stream",
     "text": [
      "\n",
      "        \n",
      "        THIS IS BATTERY DESCRIPTION:\n",
      "        \n",
      "        Manufac = {self.manufac}\n",
      "        Hp      = {self.hp}\n",
      "        Watts   = {self.watts}\n",
      "        Cells   = {self.cells}\n",
      "        \n",
      "        \n"
     ]
    }
   ],
   "source": [
    "e5.battery.description()"
   ]
  },
  {
   "cell_type": "code",
   "execution_count": 170,
   "id": "de9aa704",
   "metadata": {},
   "outputs": [],
   "source": [
    "class ElectricCar(Car):\n",
    "    def __init__(self, make, model, year):        \n",
    "        #################################\n",
    "        super().__init__(make, model, year)\n",
    "        self.battery = Battery(\"AGS\", 200,230, 27)\n",
    "        \n",
    "    def fill_gas_tank(self):\n",
    "        print(\"Electric car has no gas tank it runs on battery\")\n",
    "        "
   ]
  },
  {
   "cell_type": "code",
   "execution_count": 171,
   "id": "b5022a9a",
   "metadata": {},
   "outputs": [],
   "source": [
    "e5 = ElectricCar(\"Elec Car\", \"Latest\", \"2022\")"
   ]
  },
  {
   "cell_type": "code",
   "execution_count": 172,
   "id": "27672c69",
   "metadata": {},
   "outputs": [
    {
     "name": "stdout",
     "output_type": "stream",
     "text": [
      "\n",
      "        \n",
      "        THIS IS BATTERY DESCRIPTION:\n",
      "        \n",
      "        Manufac = {self.manufac}\n",
      "        Hp      = {self.hp}\n",
      "        Watts   = {self.watts}\n",
      "        Cells   = {self.cells}\n",
      "        \n",
      "        \n"
     ]
    }
   ],
   "source": [
    "e5.battery.description()"
   ]
  },
  {
   "cell_type": "code",
   "execution_count": null,
   "id": "0d876ac0",
   "metadata": {},
   "outputs": [],
   "source": []
  },
  {
   "cell_type": "code",
   "execution_count": null,
   "id": "353d26e9",
   "metadata": {},
   "outputs": [],
   "source": []
  }
 ],
 "metadata": {
  "kernelspec": {
   "display_name": "Python 3",
   "language": "python",
   "name": "python3"
  },
  "language_info": {
   "codemirror_mode": {
    "name": "ipython",
    "version": 3
   },
   "file_extension": ".py",
   "mimetype": "text/x-python",
   "name": "python",
   "nbconvert_exporter": "python",
   "pygments_lexer": "ipython3",
   "version": "3.8.8"
  }
 },
 "nbformat": 4,
 "nbformat_minor": 5
}
