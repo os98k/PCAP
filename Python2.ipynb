{
 "cells": [
  {
   "cell_type": "markdown",
   "id": "fbdcb0a0",
   "metadata": {},
   "source": [
    "# Topics Discovered"
   ]
  },
  {
   "cell_type": "raw",
   "id": "35082e09",
   "metadata": {},
   "source": [
    "We will discussed \n",
    "\n",
    "- strings \n",
    "- number system \n",
    "- variable names\n",
    "- operators"
   ]
  },
  {
   "cell_type": "markdown",
   "id": "9cda4920",
   "metadata": {},
   "source": [
    "# Previous Topics"
   ]
  },
  {
   "cell_type": "raw",
   "id": "5c5a18f4",
   "metadata": {},
   "source": [
    ".Print functions\n",
    ".Variables\n",
    ".Data Types\n",
    ".Numbers\n",
    "   - Integers\n",
    "   - Floats\n",
    ".Boolean (Bool)\n"
   ]
  },
  {
   "cell_type": "markdown",
   "id": "e26dd938",
   "metadata": {},
   "source": [
    "# String Concatenation (+)"
   ]
  },
  {
   "cell_type": "code",
   "execution_count": 1,
   "id": "66f2a484",
   "metadata": {},
   "outputs": [],
   "source": [
    "firstname = \"Osama\"\n",
    "lastname = \"Shakeel\""
   ]
  },
  {
   "cell_type": "code",
   "execution_count": 2,
   "id": "25eb9675",
   "metadata": {},
   "outputs": [
    {
     "name": "stdout",
     "output_type": "stream",
     "text": [
      "OsamaShakeel\n"
     ]
    }
   ],
   "source": [
    "print(firstname + lastname)\n",
    "\n",
    "\n",
    "#concatenation operator"
   ]
  },
  {
   "cell_type": "code",
   "execution_count": 3,
   "id": "993b0b6a",
   "metadata": {},
   "outputs": [],
   "source": [
    "#    2             +             2\n",
    "# operand     (+)operator    operand"
   ]
  },
  {
   "cell_type": "markdown",
   "id": "973e78c2",
   "metadata": {},
   "source": [
    "# Operators"
   ]
  },
  {
   "cell_type": "markdown",
   "id": "7febebac",
   "metadata": {},
   "source": [
    "+, - , % , * , /\n",
    "These are Binary Operator, they require two operand to perform action. "
   ]
  },
  {
   "cell_type": "code",
   "execution_count": 5,
   "id": "adcb58a6",
   "metadata": {},
   "outputs": [],
   "source": [
    "#   firstname           +              lastname\n",
    "#  Operand     catenation operator     Operand"
   ]
  },
  {
   "cell_type": "code",
   "execution_count": 6,
   "id": "2f3d299e",
   "metadata": {},
   "outputs": [],
   "source": [
    "#Operator overloading : one operator use for two purposes"
   ]
  },
  {
   "cell_type": "code",
   "execution_count": 7,
   "id": "ab7947de",
   "metadata": {},
   "outputs": [
    {
     "ename": "TypeError",
     "evalue": "can only concatenate str (not \"int\") to str",
     "output_type": "error",
     "traceback": [
      "\u001b[1;31m---------------------------------------------------------------------------\u001b[0m",
      "\u001b[1;31mTypeError\u001b[0m                                 Traceback (most recent call last)",
      "\u001b[1;32m<ipython-input-7-545b731768a3>\u001b[0m in \u001b[0;36m<module>\u001b[1;34m\u001b[0m\n\u001b[1;32m----> 1\u001b[1;33m \u001b[0mprint\u001b[0m\u001b[1;33m(\u001b[0m\u001b[1;34m\"Pakistan\"\u001b[0m \u001b[1;33m+\u001b[0m  \u001b[1;36m1947\u001b[0m\u001b[1;33m)\u001b[0m\u001b[1;33m\u001b[0m\u001b[1;33m\u001b[0m\u001b[0m\n\u001b[0m",
      "\u001b[1;31mTypeError\u001b[0m: can only concatenate str (not \"int\") to str"
     ]
    }
   ],
   "source": [
    "#Concatenation Error \n",
    "print(\"Pakistan\" +  1947)"
   ]
  },
  {
   "cell_type": "code",
   "execution_count": 12,
   "id": "33011a59",
   "metadata": {},
   "outputs": [],
   "source": [
    "country = \"pakistan\"\n"
   ]
  },
  {
   "cell_type": "code",
   "execution_count": 9,
   "id": "3742dcdd",
   "metadata": {},
   "outputs": [
    {
     "data": {
      "text/plain": [
       "str"
      ]
     },
     "execution_count": 9,
     "metadata": {},
     "output_type": "execute_result"
    }
   ],
   "source": [
    "type(country)"
   ]
  },
  {
   "cell_type": "code",
   "execution_count": 10,
   "id": "0f406504",
   "metadata": {},
   "outputs": [
    {
     "name": "stdout",
     "output_type": "stream",
     "text": [
      "<class 'str'>\n"
     ]
    }
   ],
   "source": [
    "print(type(country))"
   ]
  },
  {
   "cell_type": "code",
   "execution_count": 13,
   "id": "1fa59aa5",
   "metadata": {},
   "outputs": [
    {
     "data": {
      "text/plain": [
       "'Pakistan'"
      ]
     },
     "execution_count": 13,
     "metadata": {},
     "output_type": "execute_result"
    }
   ],
   "source": [
    "country.capitalize()"
   ]
  },
  {
   "cell_type": "code",
   "execution_count": 18,
   "id": "6165a43f",
   "metadata": {},
   "outputs": [
    {
     "data": {
      "text/plain": [
       "'PAKISTAN'"
      ]
     },
     "execution_count": 18,
     "metadata": {},
     "output_type": "execute_result"
    }
   ],
   "source": [
    "country.upper()"
   ]
  },
  {
   "cell_type": "code",
   "execution_count": 16,
   "id": "4bd832af",
   "metadata": {},
   "outputs": [
    {
     "data": {
      "text/plain": [
       "'pakistan'"
      ]
     },
     "execution_count": 16,
     "metadata": {},
     "output_type": "execute_result"
    }
   ],
   "source": [
    "country.lower()"
   ]
  },
  {
   "cell_type": "code",
   "execution_count": 19,
   "id": "6d80f9ec",
   "metadata": {},
   "outputs": [
    {
     "data": {
      "text/plain": [
       "'pakistan'"
      ]
     },
     "execution_count": 19,
     "metadata": {},
     "output_type": "execute_result"
    }
   ],
   "source": [
    "country"
   ]
  },
  {
   "cell_type": "code",
   "execution_count": 22,
   "id": "80a52763",
   "metadata": {},
   "outputs": [],
   "source": [
    "country = country.upper()\n",
    "# Change the value of country variable to upper case and re-assign (uodate) ro country"
   ]
  },
  {
   "cell_type": "code",
   "execution_count": 21,
   "id": "05d4cb3b",
   "metadata": {},
   "outputs": [
    {
     "data": {
      "text/plain": [
       "'PAKISTAN'"
      ]
     },
     "execution_count": 21,
     "metadata": {},
     "output_type": "execute_result"
    }
   ],
   "source": [
    "country"
   ]
  },
  {
   "cell_type": "code",
   "execution_count": 27,
   "id": "7ea1278f",
   "metadata": {},
   "outputs": [
    {
     "data": {
      "text/plain": [
       "0"
      ]
     },
     "execution_count": 27,
     "metadata": {},
     "output_type": "execute_result"
    }
   ],
   "source": [
    "country.count(\"a\") #shift + tab to see function detail"
   ]
  },
  {
   "cell_type": "code",
   "execution_count": 28,
   "id": "d2c458e3",
   "metadata": {},
   "outputs": [
    {
     "data": {
      "text/plain": [
       "2"
      ]
     },
     "execution_count": 28,
     "metadata": {},
     "output_type": "execute_result"
    }
   ],
   "source": [
    "country.count(\"A\")"
   ]
  },
  {
   "cell_type": "code",
   "execution_count": 35,
   "id": "0bef5c25",
   "metadata": {},
   "outputs": [],
   "source": [
    "sentence = \"My name us nasir hussain and i code python\""
   ]
  },
  {
   "cell_type": "code",
   "execution_count": 31,
   "id": "c9048d7c",
   "metadata": {},
   "outputs": [
    {
     "data": {
      "text/plain": [
       "4"
      ]
     },
     "execution_count": 31,
     "metadata": {},
     "output_type": "execute_result"
    }
   ],
   "source": [
    "sentence.count(\"a\")"
   ]
  },
  {
   "cell_type": "code",
   "execution_count": 32,
   "id": "91364b96",
   "metadata": {},
   "outputs": [
    {
     "data": {
      "text/plain": [
       "1"
      ]
     },
     "execution_count": 32,
     "metadata": {},
     "output_type": "execute_result"
    }
   ],
   "source": [
    "sentence.count(\"name\")"
   ]
  },
  {
   "cell_type": "code",
   "execution_count": 33,
   "id": "7d9ffc3f",
   "metadata": {},
   "outputs": [
    {
     "data": {
      "text/plain": [
       "9"
      ]
     },
     "execution_count": 33,
     "metadata": {},
     "output_type": "execute_result"
    }
   ],
   "source": [
    "sentence.count(\" \")"
   ]
  },
  {
   "cell_type": "code",
   "execution_count": 36,
   "id": "40758402",
   "metadata": {},
   "outputs": [
    {
     "data": {
      "text/plain": [
       "True"
      ]
     },
     "execution_count": 36,
     "metadata": {},
     "output_type": "execute_result"
    }
   ],
   "source": [
    "sentence.endswith(\"python\")"
   ]
  },
  {
   "cell_type": "code",
   "execution_count": 37,
   "id": "6479b6fb",
   "metadata": {},
   "outputs": [
    {
     "data": {
      "text/plain": [
       "False"
      ]
     },
     "execution_count": 37,
     "metadata": {},
     "output_type": "execute_result"
    }
   ],
   "source": [
    "sentence.startswith(\"my\") # case sensitive"
   ]
  },
  {
   "cell_type": "code",
   "execution_count": 38,
   "id": "1a8755e8",
   "metadata": {},
   "outputs": [
    {
     "data": {
      "text/plain": [
       "False"
      ]
     },
     "execution_count": 38,
     "metadata": {},
     "output_type": "execute_result"
    }
   ],
   "source": [
    "sentence.isdigit()"
   ]
  },
  {
   "cell_type": "code",
   "execution_count": 39,
   "id": "dfd8dc17",
   "metadata": {},
   "outputs": [],
   "source": [
    "number = 56"
   ]
  },
  {
   "cell_type": "code",
   "execution_count": 43,
   "id": "51c81235",
   "metadata": {},
   "outputs": [
    {
     "name": "stdout",
     "output_type": "stream",
     "text": [
      "<class 'str'>\n"
     ]
    }
   ],
   "source": [
    "type(number)\n",
    "print(type(number))"
   ]
  },
  {
   "cell_type": "code",
   "execution_count": 44,
   "id": "a69a9b25",
   "metadata": {},
   "outputs": [],
   "source": [
    "number = \"56\""
   ]
  },
  {
   "cell_type": "code",
   "execution_count": 45,
   "id": "98fbfbe7",
   "metadata": {},
   "outputs": [
    {
     "data": {
      "text/plain": [
       "str"
      ]
     },
     "execution_count": 45,
     "metadata": {},
     "output_type": "execute_result"
    }
   ],
   "source": [
    "type(number)"
   ]
  },
  {
   "cell_type": "code",
   "execution_count": 46,
   "id": "6f1ff1c9",
   "metadata": {},
   "outputs": [
    {
     "name": "stdout",
     "output_type": "stream",
     "text": [
      "<class 'str'>\n"
     ]
    }
   ],
   "source": [
    "print(type(number))"
   ]
  },
  {
   "cell_type": "code",
   "execution_count": 47,
   "id": "d94c5d81",
   "metadata": {},
   "outputs": [
    {
     "data": {
      "text/plain": [
       "True"
      ]
     },
     "execution_count": 47,
     "metadata": {},
     "output_type": "execute_result"
    }
   ],
   "source": [
    "number.isdigit()"
   ]
  },
  {
   "cell_type": "code",
   "execution_count": 48,
   "id": "3fb65e01",
   "metadata": {},
   "outputs": [],
   "source": [
    "institute = \"SMIT\""
   ]
  },
  {
   "cell_type": "code",
   "execution_count": 49,
   "id": "0cb5c936",
   "metadata": {},
   "outputs": [
    {
     "data": {
      "text/plain": [
       "15"
      ]
     },
     "execution_count": 49,
     "metadata": {},
     "output_type": "execute_result"
    }
   ],
   "source": [
    "email = \"os98k@gmail.com\"\n",
    "len(email)"
   ]
  },
  {
   "cell_type": "code",
   "execution_count": 70,
   "id": "06d1edcf",
   "metadata": {},
   "outputs": [
    {
     "data": {
      "text/plain": [
       "18"
      ]
     },
     "execution_count": 70,
     "metadata": {},
     "output_type": "execute_result"
    }
   ],
   "source": [
    "email = \" osi98k@gmail.com \"\n",
    "len(email)"
   ]
  },
  {
   "cell_type": "code",
   "execution_count": 71,
   "id": "96b628c0",
   "metadata": {},
   "outputs": [
    {
     "data": {
      "text/plain": [
       "'osi98k@gmail.com '"
      ]
     },
     "execution_count": 71,
     "metadata": {},
     "output_type": "execute_result"
    }
   ],
   "source": [
    "email.lstrip()"
   ]
  },
  {
   "cell_type": "code",
   "execution_count": 72,
   "id": "e4b46656",
   "metadata": {},
   "outputs": [
    {
     "data": {
      "text/plain": [
       "' osi98k@gmail.com'"
      ]
     },
     "execution_count": 72,
     "metadata": {},
     "output_type": "execute_result"
    }
   ],
   "source": [
    "email.rstrip()"
   ]
  },
  {
   "cell_type": "code",
   "execution_count": 73,
   "id": "40f92bcc",
   "metadata": {},
   "outputs": [
    {
     "data": {
      "text/plain": [
       "'osi98k@gmail.com'"
      ]
     },
     "execution_count": 73,
     "metadata": {},
     "output_type": "execute_result"
    }
   ],
   "source": [
    "email.strip()"
   ]
  },
  {
   "cell_type": "code",
   "execution_count": 54,
   "id": "c5b9900d",
   "metadata": {},
   "outputs": [
    {
     "data": {
      "text/plain": [
       "' os98k@gmail.com '"
      ]
     },
     "execution_count": 54,
     "metadata": {},
     "output_type": "execute_result"
    }
   ],
   "source": [
    "email"
   ]
  },
  {
   "cell_type": "code",
   "execution_count": 55,
   "id": "d297f904",
   "metadata": {},
   "outputs": [],
   "source": [
    "email = email.strip()"
   ]
  },
  {
   "cell_type": "code",
   "execution_count": 56,
   "id": "6da2787f",
   "metadata": {},
   "outputs": [
    {
     "data": {
      "text/plain": [
       "'os98k@gmail.com'"
      ]
     },
     "execution_count": 56,
     "metadata": {},
     "output_type": "execute_result"
    }
   ],
   "source": [
    "email"
   ]
  },
  {
   "cell_type": "markdown",
   "id": "abc6cb7f",
   "metadata": {},
   "source": [
    "# Indexing of Strings\n"
   ]
  },
  {
   "cell_type": "code",
   "execution_count": 74,
   "id": "4f74ced1",
   "metadata": {},
   "outputs": [
    {
     "data": {
      "text/plain": [
       "9"
      ]
     },
     "execution_count": 74,
     "metadata": {},
     "output_type": "execute_result"
    }
   ],
   "source": [
    "email.find(\"m\") # shift + tab to see documentation"
   ]
  },
  {
   "cell_type": "code",
   "execution_count": 65,
   "id": "1bc57800",
   "metadata": {},
   "outputs": [
    {
     "data": {
      "text/plain": [
       "5"
      ]
     },
     "execution_count": 65,
     "metadata": {},
     "output_type": "execute_result"
    }
   ],
   "source": [
    "email.find(\"@\")"
   ]
  },
  {
   "cell_type": "code",
   "execution_count": 75,
   "id": "c760729d",
   "metadata": {},
   "outputs": [
    {
     "data": {
      "text/plain": [
       "3"
      ]
     },
     "execution_count": 75,
     "metadata": {},
     "output_type": "execute_result"
    }
   ],
   "source": [
    "email.find(\"i\")"
   ]
  },
  {
   "cell_type": "code",
   "execution_count": 77,
   "id": "d356f210",
   "metadata": {},
   "outputs": [
    {
     "data": {
      "text/plain": [
       "11"
      ]
     },
     "execution_count": 77,
     "metadata": {},
     "output_type": "execute_result"
    }
   ],
   "source": [
    "email.find(\"i\", 4)"
   ]
  },
  {
   "cell_type": "code",
   "execution_count": 61,
   "id": "7454c3a1",
   "metadata": {},
   "outputs": [],
   "source": [
    "college= \"my college\"\n",
    "         #0123456789"
   ]
  },
  {
   "cell_type": "code",
   "execution_count": 62,
   "id": "cce7b258",
   "metadata": {},
   "outputs": [
    {
     "data": {
      "text/plain": [
       "10"
      ]
     },
     "execution_count": 62,
     "metadata": {},
     "output_type": "execute_result"
    }
   ],
   "source": [
    "len(college)"
   ]
  },
  {
   "cell_type": "code",
   "execution_count": 63,
   "id": "472506a4",
   "metadata": {},
   "outputs": [
    {
     "data": {
      "text/plain": [
       "'m'"
      ]
     },
     "execution_count": 63,
     "metadata": {},
     "output_type": "execute_result"
    }
   ],
   "source": [
    "college[0]"
   ]
  },
  {
   "cell_type": "code",
   "execution_count": 66,
   "id": "74c8bae6",
   "metadata": {},
   "outputs": [
    {
     "data": {
      "text/plain": [
       "'g'"
      ]
     },
     "execution_count": 66,
     "metadata": {},
     "output_type": "execute_result"
    }
   ],
   "source": [
    "college[8]"
   ]
  },
  {
   "cell_type": "code",
   "execution_count": 69,
   "id": "f05929c4",
   "metadata": {},
   "outputs": [
    {
     "data": {
      "text/plain": [
       "'colle'"
      ]
     },
     "execution_count": 69,
     "metadata": {},
     "output_type": "execute_result"
    }
   ],
   "source": [
    "college[3:8] # Slicing a string"
   ]
  },
  {
   "cell_type": "markdown",
   "id": "83ef7969",
   "metadata": {},
   "source": [
    "# Variables Names"
   ]
  },
  {
   "cell_type": "raw",
   "id": "f1d587b3",
   "metadata": {},
   "source": [
    "Rules for naming variables:\n",
    "\n",
    "1: Special characters are not allowed.\n",
    "2: Can't start with numbers.\n",
    "3: Spaces are not allowed.\n",
    "4: Reserved words can't be used.\n",
    "5: Should Match with data\n",
    "6: Should be Legal"
   ]
  },
  {
   "cell_type": "code",
   "execution_count": 78,
   "id": "60a25e56",
   "metadata": {},
   "outputs": [
    {
     "ename": "SyntaxError",
     "evalue": "invalid syntax (<ipython-input-78-e41e3df91bdd>, line 1)",
     "output_type": "error",
     "traceback": [
      "\u001b[1;36m  File \u001b[1;32m\"<ipython-input-78-e41e3df91bdd>\"\u001b[1;36m, line \u001b[1;32m1\u001b[0m\n\u001b[1;33m    name@ = 12\u001b[0m\n\u001b[1;37m          ^\u001b[0m\n\u001b[1;31mSyntaxError\u001b[0m\u001b[1;31m:\u001b[0m invalid syntax\n"
     ]
    }
   ],
   "source": [
    "name@ = 12"
   ]
  },
  {
   "cell_type": "code",
   "execution_count": 79,
   "id": "aa91e29f",
   "metadata": {},
   "outputs": [
    {
     "ename": "SyntaxError",
     "evalue": "invalid syntax (<ipython-input-79-a98bb42d48ca>, line 1)",
     "output_type": "error",
     "traceback": [
      "\u001b[1;36m  File \u001b[1;32m\"<ipython-input-79-a98bb42d48ca>\"\u001b[1;36m, line \u001b[1;32m1\u001b[0m\n\u001b[1;33m    2email = \"os98ki@gmail.com\"\u001b[0m\n\u001b[1;37m     ^\u001b[0m\n\u001b[1;31mSyntaxError\u001b[0m\u001b[1;31m:\u001b[0m invalid syntax\n"
     ]
    }
   ],
   "source": [
    "2email = \"os98ki@gmail.com\""
   ]
  },
  {
   "cell_type": "code",
   "execution_count": 80,
   "id": "e297710d",
   "metadata": {},
   "outputs": [
    {
     "ename": "SyntaxError",
     "evalue": "invalid syntax (<ipython-input-80-d3e218b65134>, line 1)",
     "output_type": "error",
     "traceback": [
      "\u001b[1;36m  File \u001b[1;32m\"<ipython-input-80-d3e218b65134>\"\u001b[1;36m, line \u001b[1;32m1\u001b[0m\n\u001b[1;33m    first name = \"osama\"\u001b[0m\n\u001b[1;37m          ^\u001b[0m\n\u001b[1;31mSyntaxError\u001b[0m\u001b[1;31m:\u001b[0m invalid syntax\n"
     ]
    }
   ],
   "source": [
    "first name = \"osama\""
   ]
  },
  {
   "cell_type": "code",
   "execution_count": 83,
   "id": "5477809b",
   "metadata": {},
   "outputs": [
    {
     "ename": "SyntaxError",
     "evalue": "invalid syntax (<ipython-input-83-f01d14acb6eb>, line 1)",
     "output_type": "error",
     "traceback": [
      "\u001b[1;36m  File \u001b[1;32m\"<ipython-input-83-f01d14acb6eb>\"\u001b[1;36m, line \u001b[1;32m1\u001b[0m\n\u001b[1;33m    for =  \"osama\" # for is python reserved keyword\u001b[0m\n\u001b[1;37m        ^\u001b[0m\n\u001b[1;31mSyntaxError\u001b[0m\u001b[1;31m:\u001b[0m invalid syntax\n"
     ]
    }
   ],
   "source": [
    "for =  \"osama\" # for is python reserved keyword"
   ]
  },
  {
   "cell_type": "code",
   "execution_count": 82,
   "id": "5a4a7861",
   "metadata": {},
   "outputs": [],
   "source": [
    "email = \"zsardar@gmail.com\""
   ]
  },
  {
   "cell_type": "markdown",
   "id": "7e3d1417",
   "metadata": {},
   "source": [
    "# Number System"
   ]
  },
  {
   "cell_type": "raw",
   "id": "526b8d21",
   "metadata": {},
   "source": [
    "- decimal number system     (0123456789)\n",
    "- binary number system      (01)\n",
    "- octal number system       (01234567) \n",
    "- hexadecimal number system (0123456789ABCDEF)"
   ]
  },
  {
   "cell_type": "code",
   "execution_count": 86,
   "id": "e9c8278c",
   "metadata": {},
   "outputs": [
    {
     "data": {
      "text/plain": [
       "37"
      ]
     },
     "execution_count": 86,
     "metadata": {},
     "output_type": "execute_result"
    }
   ],
   "source": [
    "0O45  #(zero O 45)"
   ]
  },
  {
   "cell_type": "code",
   "execution_count": 87,
   "id": "36a16fff",
   "metadata": {},
   "outputs": [
    {
     "data": {
      "text/plain": [
       "613"
      ]
     },
     "execution_count": 87,
     "metadata": {},
     "output_type": "execute_result"
    }
   ],
   "source": [
    "0o1145"
   ]
  },
  {
   "cell_type": "markdown",
   "id": "62ea64d4",
   "metadata": {},
   "source": [
    "# String is Immutable"
   ]
  },
  {
   "cell_type": "code",
   "execution_count": null,
   "id": "eab9ac95",
   "metadata": {},
   "outputs": [],
   "source": []
  }
 ],
 "metadata": {
  "kernelspec": {
   "display_name": "Python 3",
   "language": "python",
   "name": "python3"
  },
  "language_info": {
   "codemirror_mode": {
    "name": "ipython",
    "version": 3
   },
   "file_extension": ".py",
   "mimetype": "text/x-python",
   "name": "python",
   "nbconvert_exporter": "python",
   "pygments_lexer": "ipython3",
   "version": "3.8.8"
  }
 },
 "nbformat": 4,
 "nbformat_minor": 5
}
