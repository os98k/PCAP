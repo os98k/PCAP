{
 "cells": [
  {
   "cell_type": "markdown",
   "id": "47a92cbd",
   "metadata": {},
   "source": [
    "# Django"
   ]
  },
  {
   "cell_type": "markdown",
   "id": "efd4d516",
   "metadata": {},
   "source": [
    "Djnago is a web development framework`"
   ]
  },
  {
   "cell_type": "markdown",
   "id": "0afc33ea",
   "metadata": {},
   "source": [
    "Structure of web : Model View Controller"
   ]
  },
  {
   "cell_type": "markdown",
   "id": "061003d5",
   "metadata": {},
   "source": [
    "DJango : Model Template View"
   ]
  },
  {
   "cell_type": "markdown",
   "id": "53c02eb2",
   "metadata": {},
   "source": [
    "Model    ==> Database\n",
    "View     ==> Controls\n",
    "Frontend ==> Display/Template"
   ]
  },
  {
   "cell_type": "markdown",
   "id": "ce980dc6",
   "metadata": {},
   "source": [
    "The Model-View-Controller (MVC) is an architectural pattern that separates an application into three main logical components: the model, the view, and the controller. Each of these components are built to handle specific development aspects of an application."
   ]
  },
  {
   "cell_type": "markdown",
   "id": "5a35714e",
   "metadata": {},
   "source": [
    "The Model-View-Controller (MVC) is an architectural pattern that separates an application into three main logical components: the model, the view, and the controller. Each of these components are built to handle specific development aspects of an application. MVC is one of the most frequently used industry-standard web development framework to create scalable and extensible projects."
   ]
  },
  {
   "cell_type": "markdown",
   "id": "527c357e",
   "metadata": {},
   "source": [
    "MVC is known as an architectural pattern, which embodies three parts Model, View and Controller"
   ]
  },
  {
   "cell_type": "markdown",
   "id": "ca91d688",
   "metadata": {},
   "source": [
    "Traditionally used for desktop graphical user interfaces (GUIs), this pattern became popular for designing web applications.[4] Popular programming languages have MVC frameworks that facilitate implementation of the pattern."
   ]
  },
  {
   "cell_type": "markdown",
   "id": "55a11194",
   "metadata": {},
   "source": [
    "Commands"
   ]
  },
  {
   "cell_type": "raw",
   "id": "70a28810",
   "metadata": {},
   "source": [
    "1- djando-admin startproject webportal\n",
    "2- first load project than type:\n",
    "    - python manage.py runserver\n",
    "3- Adding a \"view.py\" in project"
   ]
  },
  {
   "cell_type": "markdown",
   "id": "0738bc72",
   "metadata": {},
   "source": [
    "https://youtu.be/sCOw5y1RQpY"
   ]
  },
  {
   "cell_type": "code",
   "execution_count": null,
   "id": "d01996cb",
   "metadata": {},
   "outputs": [],
   "source": []
  }
 ],
 "metadata": {
  "kernelspec": {
   "display_name": "Python 3",
   "language": "python",
   "name": "python3"
  },
  "language_info": {
   "codemirror_mode": {
    "name": "ipython",
    "version": 3
   },
   "file_extension": ".py",
   "mimetype": "text/x-python",
   "name": "python",
   "nbconvert_exporter": "python",
   "pygments_lexer": "ipython3",
   "version": "3.8.8"
  }
 },
 "nbformat": 4,
 "nbformat_minor": 5
}
