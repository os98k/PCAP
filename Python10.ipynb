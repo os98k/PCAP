{
 "cells": [
  {
   "cell_type": "markdown",
   "id": "15f7af10",
   "metadata": {},
   "source": [
    "# Previous Discussed\n",
    "\n",
    "- List\n",
    "- Tuple\n",
    "- Set"
   ]
  },
  {
   "cell_type": "markdown",
   "id": "6bfc77ea",
   "metadata": {},
   "source": [
    "# Today Discussed\n",
    "\n",
    "- Dictionary"
   ]
  },
  {
   "cell_type": "markdown",
   "id": "674b2222",
   "metadata": {},
   "source": [
    "# Dictionary\n",
    "\n",
    "a key-value pair"
   ]
  },
  {
   "cell_type": "code",
   "execution_count": 96,
   "id": "fc2a498b",
   "metadata": {},
   "outputs": [],
   "source": [
    "# declare and initialize\n",
    "\n",
    "a_dic = {\"name\" : \"osama\",\"age\":  22  }\n",
    "#          key     value   key  vakue  "
   ]
  },
  {
   "cell_type": "code",
   "execution_count": 2,
   "id": "fd49a3f6",
   "metadata": {},
   "outputs": [
    {
     "data": {
      "text/plain": [
       "dict"
      ]
     },
     "execution_count": 2,
     "metadata": {},
     "output_type": "execute_result"
    }
   ],
   "source": [
    "type(a_dic) "
   ]
  },
  {
   "cell_type": "code",
   "execution_count": 3,
   "id": "31a6ca9a",
   "metadata": {},
   "outputs": [
    {
     "name": "stdout",
     "output_type": "stream",
     "text": [
      "<class 'dict'>\n"
     ]
    }
   ],
   "source": [
    "print(type(a_dic))"
   ]
  },
  {
   "cell_type": "code",
   "execution_count": 7,
   "id": "3e50683c",
   "metadata": {},
   "outputs": [],
   "source": [
    "empty_dic = {}\n",
    "alist = [1,2,3,4,5]\n",
    "aset  = {11,22,33}\n",
    "atuple= (123,44,55)\n",
    "astring = \"SMIT = SEYLANI MASS INDEX\""
   ]
  },
  {
   "cell_type": "code",
   "execution_count": 9,
   "id": "1d13cccf",
   "metadata": {},
   "outputs": [
    {
     "name": "stdout",
     "output_type": "stream",
     "text": [
      "0 5 3 3 25\n"
     ]
    }
   ],
   "source": [
    "print(len(empty_dic),len(alist),len(aset),len(atuple), len(astring))"
   ]
  },
  {
   "cell_type": "code",
   "execution_count": 10,
   "id": "46b930bf",
   "metadata": {},
   "outputs": [
    {
     "data": {
      "text/plain": [
       "{'name': 'osama', 'age': 22}"
      ]
     },
     "execution_count": 10,
     "metadata": {},
     "output_type": "execute_result"
    }
   ],
   "source": [
    "a_dic"
   ]
  },
  {
   "cell_type": "markdown",
   "id": "05da3c28",
   "metadata": {},
   "source": [
    "Operations are create, add, update, delete,retrieve (CRUD)"
   ]
  },
  {
   "cell_type": "code",
   "execution_count": 13,
   "id": "ccf6c126",
   "metadata": {},
   "outputs": [],
   "source": [
    "# Create\n",
    "a_dic = {\"name\" : \"osama\",\"age\":  22  }"
   ]
  },
  {
   "cell_type": "code",
   "execution_count": 14,
   "id": "2909a2f6",
   "metadata": {},
   "outputs": [],
   "source": [
    "a_dic[\"city\"] = \"Abbottabad\""
   ]
  },
  {
   "cell_type": "code",
   "execution_count": 16,
   "id": "1887790f",
   "metadata": {},
   "outputs": [
    {
     "data": {
      "text/plain": [
       "{'name': 'osama', 'age': 22, 'city': 'Abbottabad'}"
      ]
     },
     "execution_count": 16,
     "metadata": {},
     "output_type": "execute_result"
    }
   ],
   "source": [
    "a_dic"
   ]
  },
  {
   "cell_type": "code",
   "execution_count": 18,
   "id": "776ff390",
   "metadata": {},
   "outputs": [],
   "source": [
    "# Update\n",
    "a_dic[\"age\"] = 23"
   ]
  },
  {
   "cell_type": "code",
   "execution_count": 19,
   "id": "16eed8ce",
   "metadata": {},
   "outputs": [
    {
     "data": {
      "text/plain": [
       "{'name': 'osama', 'age': 23, 'city': 'Abbottabad'}"
      ]
     },
     "execution_count": 19,
     "metadata": {},
     "output_type": "execute_result"
    }
   ],
   "source": [
    "a_dic"
   ]
  },
  {
   "cell_type": "code",
   "execution_count": 20,
   "id": "084fe1eb",
   "metadata": {},
   "outputs": [
    {
     "data": {
      "text/plain": [
       "23"
      ]
     },
     "execution_count": 20,
     "metadata": {},
     "output_type": "execute_result"
    }
   ],
   "source": [
    "# Retrieve (get)\n",
    "a_dic[\"age\"]"
   ]
  },
  {
   "cell_type": "code",
   "execution_count": 21,
   "id": "ed2629d1",
   "metadata": {},
   "outputs": [
    {
     "data": {
      "text/plain": [
       "23"
      ]
     },
     "execution_count": 21,
     "metadata": {},
     "output_type": "execute_result"
    }
   ],
   "source": [
    "# another way of getting value\n",
    "a_dic.get(\"age\")"
   ]
  },
  {
   "cell_type": "code",
   "execution_count": 22,
   "id": "497ec2a4",
   "metadata": {},
   "outputs": [],
   "source": [
    "# Delete\n",
    "\n",
    "del a_dic[\"city\"]"
   ]
  },
  {
   "cell_type": "code",
   "execution_count": 24,
   "id": "3632d373",
   "metadata": {},
   "outputs": [
    {
     "data": {
      "text/plain": [
       "{'name': 'osama', 'age': 23}"
      ]
     },
     "execution_count": 24,
     "metadata": {},
     "output_type": "execute_result"
    }
   ],
   "source": [
    "a_dic"
   ]
  },
  {
   "cell_type": "code",
   "execution_count": 25,
   "id": "66066e1d",
   "metadata": {},
   "outputs": [],
   "source": [
    "# iterable is using loop to get value one by one or either single value\n",
    "# now to iterate dictionary \n",
    "\n",
    "roll_1 = {\"name\": \"asad\", \"section\": \"B\", \"age\": 22, \"course\":\"python\"}"
   ]
  },
  {
   "cell_type": "code",
   "execution_count": 26,
   "id": "522c6d5c",
   "metadata": {},
   "outputs": [
    {
     "data": {
      "text/plain": [
       "'python'"
      ]
     },
     "execution_count": 26,
     "metadata": {},
     "output_type": "execute_result"
    }
   ],
   "source": [
    "roll_1[\"course\"]"
   ]
  },
  {
   "cell_type": "code",
   "execution_count": 28,
   "id": "b4d32da1",
   "metadata": {},
   "outputs": [
    {
     "name": "stdout",
     "output_type": "stream",
     "text": [
      "name\n",
      "section\n",
      "age\n",
      "course\n"
     ]
    }
   ],
   "source": [
    "# iterating the dictionary value\n",
    "for dic_value in roll_1:\n",
    "    print(dic_value)\n",
    "# if we directly iterate over a dictionary it will return only the keys"
   ]
  },
  {
   "cell_type": "code",
   "execution_count": 30,
   "id": "57ab1365",
   "metadata": {},
   "outputs": [
    {
     "name": "stdout",
     "output_type": "stream",
     "text": [
      "name\n",
      "section\n",
      "age\n",
      "course\n"
     ]
    }
   ],
   "source": [
    "for keys in roll_1.keys():\n",
    "    print(keys)\n",
    "    "
   ]
  },
  {
   "cell_type": "code",
   "execution_count": 31,
   "id": "dc7ed4e2",
   "metadata": {},
   "outputs": [
    {
     "name": "stdout",
     "output_type": "stream",
     "text": [
      "asad\n",
      "B\n",
      "22\n",
      "python\n"
     ]
    }
   ],
   "source": [
    "for value in roll_1.values():\n",
    "    print(value)"
   ]
  },
  {
   "cell_type": "code",
   "execution_count": 34,
   "id": "90ab9e92",
   "metadata": {},
   "outputs": [
    {
     "name": "stdout",
     "output_type": "stream",
     "text": [
      "the keys is name and values are  asad \n",
      "the keys is section and values are  B \n",
      "the keys is age and values are  22 \n",
      "the keys is course and values are  python \n"
     ]
    }
   ],
   "source": [
    "# Retrieving all values via keys\n",
    "\n",
    "for keys in roll_1.keys():\n",
    "    print(f\"the keys is {keys} and values are  {roll_1[keys]} \")"
   ]
  },
  {
   "cell_type": "code",
   "execution_count": 35,
   "id": "9ee2a0f2",
   "metadata": {},
   "outputs": [
    {
     "name": "stdout",
     "output_type": "stream",
     "text": [
      "('name', 'asad')\n",
      "('section', 'B')\n",
      "('age', 22)\n",
      "('course', 'python')\n"
     ]
    }
   ],
   "source": [
    "# getting key value together from dictionary\n",
    "\n",
    "for xyz in roll_1.items():\n",
    "    print(xyz)"
   ]
  },
  {
   "cell_type": "code",
   "execution_count": 37,
   "id": "bd71fb0e",
   "metadata": {},
   "outputs": [
    {
     "name": "stdout",
     "output_type": "stream",
     "text": [
      "key: name value: asad\n",
      "key: section value: B\n",
      "key: age value: 22\n",
      "key: course value: python\n"
     ]
    }
   ],
   "source": [
    "for key,value in roll_1.items():\n",
    "    print(f\"key: {key} value: {value}\")"
   ]
  },
  {
   "cell_type": "code",
   "execution_count": 50,
   "id": "6af1935c",
   "metadata": {},
   "outputs": [],
   "source": [
    "# A key can be a integer or string\n",
    "# A value can be a string a number, a list, a tuple, a set, a dictionary, a boolean\n",
    "# A boolean can not be a key but can be a value\n",
    "\n",
    "miscDic = {1:100, 2:200}"
   ]
  },
  {
   "cell_type": "code",
   "execution_count": 40,
   "id": "1cf9a9c9",
   "metadata": {},
   "outputs": [
    {
     "data": {
      "text/plain": [
       "{1: 100, 2: 200}"
      ]
     },
     "execution_count": 40,
     "metadata": {},
     "output_type": "execute_result"
    }
   ],
   "source": [
    "miscDic"
   ]
  },
  {
   "cell_type": "code",
   "execution_count": 44,
   "id": "e0c86ec0",
   "metadata": {},
   "outputs": [],
   "source": [
    "miscDic[\"three\"]= 300"
   ]
  },
  {
   "cell_type": "code",
   "execution_count": 45,
   "id": "ad0960f7",
   "metadata": {},
   "outputs": [
    {
     "data": {
      "text/plain": [
       "{1: 100, 2: 200, 'three': 300}"
      ]
     },
     "execution_count": 45,
     "metadata": {},
     "output_type": "execute_result"
    }
   ],
   "source": [
    "miscDic"
   ]
  },
  {
   "cell_type": "code",
   "execution_count": 46,
   "id": "6c8da32b",
   "metadata": {},
   "outputs": [],
   "source": [
    "miscDic[4] = \"four hundred\""
   ]
  },
  {
   "cell_type": "code",
   "execution_count": 47,
   "id": "54cc9c94",
   "metadata": {},
   "outputs": [
    {
     "data": {
      "text/plain": [
       "{1: 100, 2: 200, 'three': 300, 4: 'four hundred'}"
      ]
     },
     "execution_count": 47,
     "metadata": {},
     "output_type": "execute_result"
    }
   ],
   "source": [
    "miscDic"
   ]
  },
  {
   "cell_type": "code",
   "execution_count": 48,
   "id": "9718e5e1",
   "metadata": {},
   "outputs": [],
   "source": [
    "miscDic[\"test\"] = False"
   ]
  },
  {
   "cell_type": "code",
   "execution_count": 49,
   "id": "f9feaa16",
   "metadata": {},
   "outputs": [
    {
     "data": {
      "text/plain": [
       "{1: 100, 2: 200, 'three': 300, 4: 'four hundred', 'test': False}"
      ]
     },
     "execution_count": 49,
     "metadata": {},
     "output_type": "execute_result"
    }
   ],
   "source": [
    "miscDic"
   ]
  },
  {
   "cell_type": "markdown",
   "id": "74dcd2bd",
   "metadata": {},
   "source": [
    "# A list in a Dictionary"
   ]
  },
  {
   "cell_type": "code",
   "execution_count": 53,
   "id": "d4fc4ec7",
   "metadata": {},
   "outputs": [],
   "source": [
    "class_python = {\"students\":[\"osama\", \"ali\", \"asad\", \"umair\", \"zain\"], \n",
    "                \"courses\" :[\"python\",\"web\", \"network\", \"cods\", \"ai\"],\n",
    "                \"days\"    :[\"monday\", \"tue\",\"wednesd\",\"thur\", \"fri\"],\n",
    "                \"ages\"    :[22,22,23,21,20]}"
   ]
  },
  {
   "cell_type": "code",
   "execution_count": 54,
   "id": "27f1ea6d",
   "metadata": {},
   "outputs": [
    {
     "name": "stdout",
     "output_type": "stream",
     "text": [
      "['osama', 'ali', 'asad', 'umair', 'zain']\n",
      "['python', 'web', 'network', 'cods', 'ai']\n",
      "['monday', 'tue', 'wednesd', 'thur', 'fri']\n",
      "[22, 22, 23, 21, 20]\n"
     ]
    }
   ],
   "source": [
    "for key,value in class_python.items():\n",
    "    print(value)"
   ]
  },
  {
   "cell_type": "code",
   "execution_count": 55,
   "id": "d9d355a9",
   "metadata": {},
   "outputs": [
    {
     "name": "stdout",
     "output_type": "stream",
     "text": [
      "osama\n",
      "python\n",
      "monday\n",
      "22\n"
     ]
    }
   ],
   "source": [
    "# get a sinle student record\n",
    "for key,value in class_python.items():\n",
    "    print(value[0])"
   ]
  },
  {
   "cell_type": "code",
   "execution_count": 56,
   "id": "c9225708",
   "metadata": {},
   "outputs": [],
   "source": [
    "import pandas"
   ]
  },
  {
   "cell_type": "code",
   "execution_count": 57,
   "id": "d65438e7",
   "metadata": {},
   "outputs": [
    {
     "data": {
      "text/html": [
       "<div>\n",
       "<style scoped>\n",
       "    .dataframe tbody tr th:only-of-type {\n",
       "        vertical-align: middle;\n",
       "    }\n",
       "\n",
       "    .dataframe tbody tr th {\n",
       "        vertical-align: top;\n",
       "    }\n",
       "\n",
       "    .dataframe thead th {\n",
       "        text-align: right;\n",
       "    }\n",
       "</style>\n",
       "<table border=\"1\" class=\"dataframe\">\n",
       "  <thead>\n",
       "    <tr style=\"text-align: right;\">\n",
       "      <th></th>\n",
       "      <th>students</th>\n",
       "      <th>courses</th>\n",
       "      <th>days</th>\n",
       "      <th>ages</th>\n",
       "    </tr>\n",
       "  </thead>\n",
       "  <tbody>\n",
       "    <tr>\n",
       "      <th>0</th>\n",
       "      <td>osama</td>\n",
       "      <td>python</td>\n",
       "      <td>monday</td>\n",
       "      <td>22</td>\n",
       "    </tr>\n",
       "    <tr>\n",
       "      <th>1</th>\n",
       "      <td>ali</td>\n",
       "      <td>web</td>\n",
       "      <td>tue</td>\n",
       "      <td>22</td>\n",
       "    </tr>\n",
       "    <tr>\n",
       "      <th>2</th>\n",
       "      <td>asad</td>\n",
       "      <td>network</td>\n",
       "      <td>wednesd</td>\n",
       "      <td>23</td>\n",
       "    </tr>\n",
       "    <tr>\n",
       "      <th>3</th>\n",
       "      <td>umair</td>\n",
       "      <td>cods</td>\n",
       "      <td>thur</td>\n",
       "      <td>21</td>\n",
       "    </tr>\n",
       "    <tr>\n",
       "      <th>4</th>\n",
       "      <td>zain</td>\n",
       "      <td>ai</td>\n",
       "      <td>fri</td>\n",
       "      <td>20</td>\n",
       "    </tr>\n",
       "  </tbody>\n",
       "</table>\n",
       "</div>"
      ],
      "text/plain": [
       "  students  courses     days  ages\n",
       "0    osama   python   monday    22\n",
       "1      ali      web      tue    22\n",
       "2     asad  network  wednesd    23\n",
       "3    umair     cods     thur    21\n",
       "4     zain       ai      fri    20"
      ]
     },
     "execution_count": 57,
     "metadata": {},
     "output_type": "execute_result"
    }
   ],
   "source": [
    "pandas.DataFrame(class_python)"
   ]
  },
  {
   "cell_type": "markdown",
   "id": "8f899ab3",
   "metadata": {},
   "source": [
    "## Keyword \"in\""
   ]
  },
  {
   "cell_type": "code",
   "execution_count": 60,
   "id": "640cfb5e",
   "metadata": {},
   "outputs": [
    {
     "name": "stdout",
     "output_type": "stream",
     "text": [
      "True\n"
     ]
    }
   ],
   "source": [
    "a = ['osama', 'ali', 'asad', 'umair', 'zain']\n",
    "for name in a:\n",
    "    if name == \"ali\":\n",
    "        print('True')\n",
    "        break"
   ]
  },
  {
   "cell_type": "code",
   "execution_count": 61,
   "id": "e173e057",
   "metadata": {},
   "outputs": [
    {
     "data": {
      "text/plain": [
       "True"
      ]
     },
     "execution_count": 61,
     "metadata": {},
     "output_type": "execute_result"
    }
   ],
   "source": [
    "\"ali\" in a"
   ]
  },
  {
   "cell_type": "code",
   "execution_count": 62,
   "id": "a4e1c1f7",
   "metadata": {},
   "outputs": [
    {
     "name": "stdout",
     "output_type": "stream",
     "text": [
      "yes\n"
     ]
    }
   ],
   "source": [
    "if \"ali\" in a:\n",
    "    print(\"yes\")"
   ]
  },
  {
   "cell_type": "code",
   "execution_count": null,
   "id": "9e60f40e",
   "metadata": {},
   "outputs": [],
   "source": [
    "class_python[\"courses\"][]"
   ]
  },
  {
   "cell_type": "markdown",
   "id": "49f9fd69",
   "metadata": {},
   "source": [
    "## Keyword \"is\""
   ]
  },
  {
   "cell_type": "code",
   "execution_count": 68,
   "id": "b3ba1f2a",
   "metadata": {},
   "outputs": [],
   "source": [
    "# pass by value\n",
    "b = a.copy() \n",
    "c = a[:]\n",
    "# pass by refernce\n",
    "d = c"
   ]
  },
  {
   "cell_type": "code",
   "execution_count": 63,
   "id": "ad086206",
   "metadata": {},
   "outputs": [
    {
     "data": {
      "text/plain": [
       "list"
      ]
     },
     "execution_count": 63,
     "metadata": {},
     "output_type": "execute_result"
    }
   ],
   "source": [
    "type(a)"
   ]
  },
  {
   "cell_type": "code",
   "execution_count": 66,
   "id": "572040ca",
   "metadata": {},
   "outputs": [
    {
     "data": {
      "text/plain": [
       "list"
      ]
     },
     "execution_count": 66,
     "metadata": {},
     "output_type": "execute_result"
    }
   ],
   "source": [
    "if type(a) == list:\n",
    "    b = a.copy()\n",
    "type(b)"
   ]
  },
  {
   "cell_type": "code",
   "execution_count": 69,
   "id": "6210ee05",
   "metadata": {},
   "outputs": [
    {
     "data": {
      "text/plain": [
       "True"
      ]
     },
     "execution_count": 69,
     "metadata": {},
     "output_type": "execute_result"
    }
   ],
   "source": [
    "d is c"
   ]
  },
  {
   "cell_type": "code",
   "execution_count": 70,
   "id": "08d48865",
   "metadata": {},
   "outputs": [],
   "source": [
    "z = 100\n",
    "x = z # Instead of creating new it will point it to the same address\n",
    "y =100"
   ]
  },
  {
   "cell_type": "code",
   "execution_count": 71,
   "id": "ba10761a",
   "metadata": {},
   "outputs": [
    {
     "data": {
      "text/plain": [
       "True"
      ]
     },
     "execution_count": 71,
     "metadata": {},
     "output_type": "execute_result"
    }
   ],
   "source": [
    "z is x"
   ]
  },
  {
   "cell_type": "code",
   "execution_count": 72,
   "id": "7bbc172a",
   "metadata": {},
   "outputs": [
    {
     "data": {
      "text/plain": [
       "True"
      ]
     },
     "execution_count": 72,
     "metadata": {},
     "output_type": "execute_result"
    }
   ],
   "source": [
    "y is z"
   ]
  },
  {
   "cell_type": "code",
   "execution_count": 73,
   "id": "7d4014e1",
   "metadata": {},
   "outputs": [
    {
     "data": {
      "text/plain": [
       "'network'"
      ]
     },
     "execution_count": 73,
     "metadata": {},
     "output_type": "execute_result"
    }
   ],
   "source": [
    "class_python[\"courses\"][2]"
   ]
  },
  {
   "cell_type": "code",
   "execution_count": 79,
   "id": "5373a652",
   "metadata": {},
   "outputs": [
    {
     "name": "stdout",
     "output_type": "stream",
     "text": [
      "ali\n",
      "web\n",
      "tue\n",
      "22\n"
     ]
    }
   ],
   "source": [
    "for key in class_python.values():\n",
    "    print(key[1])"
   ]
  },
  {
   "cell_type": "code",
   "execution_count": 85,
   "id": "e1f3dfa9",
   "metadata": {},
   "outputs": [
    {
     "name": "stdout",
     "output_type": "stream",
     "text": [
      "zain\n",
      "zain\n",
      "zain\n",
      "zain\n"
     ]
    }
   ],
   "source": [
    "for key in class_python:\n",
    "    print(course)"
   ]
  },
  {
   "cell_type": "code",
   "execution_count": 87,
   "id": "97dd2e09",
   "metadata": {},
   "outputs": [
    {
     "name": "stdout",
     "output_type": "stream",
     "text": [
      "python\n",
      "web\n",
      "network\n",
      "cods\n",
      "ai\n"
     ]
    }
   ],
   "source": [
    "for key in class_python:\n",
    "    if key ==\"courses\":\n",
    "        for course in class_python[key]:\n",
    "            print(course)"
   ]
  },
  {
   "cell_type": "code",
   "execution_count": 94,
   "id": "9d067a1b",
   "metadata": {},
   "outputs": [
    {
     "name": "stdout",
     "output_type": "stream",
     "text": [
      "there is no 'course' key\n"
     ]
    }
   ],
   "source": [
    "for key in class_python:\n",
    "    if key ==\"courss\":\n",
    "        for course in class_python[key]:\n",
    "            print(course)\n",
    "    else:\n",
    "        print(\"there is no 'course' key\")\n",
    "        break"
   ]
  },
  {
   "cell_type": "code",
   "execution_count": 91,
   "id": "19857d21",
   "metadata": {},
   "outputs": [
    {
     "name": "stdout",
     "output_type": "stream",
     "text": [
      "students\n",
      "courses\n",
      "days\n",
      "ages\n"
     ]
    }
   ],
   "source": [
    "for key in class_python:\n",
    "    print(key)"
   ]
  },
  {
   "cell_type": "code",
   "execution_count": 92,
   "id": "962090a2",
   "metadata": {},
   "outputs": [
    {
     "name": "stdout",
     "output_type": "stream",
     "text": [
      "python\n",
      "web\n",
      "network\n",
      "cods\n",
      "ai\n"
     ]
    }
   ],
   "source": [
    "for key in class_python[\"courses\"]:\n",
    "    print(key)"
   ]
  },
  {
   "cell_type": "code",
   "execution_count": 95,
   "id": "b19f3872",
   "metadata": {},
   "outputs": [
    {
     "ename": "KeyError",
     "evalue": "'courss'",
     "output_type": "error",
     "traceback": [
      "\u001b[1;31m---------------------------------------------------------------------------\u001b[0m",
      "\u001b[1;31mKeyError\u001b[0m                                  Traceback (most recent call last)",
      "\u001b[1;32m<ipython-input-95-52ec3d5ca9e6>\u001b[0m in \u001b[0;36m<module>\u001b[1;34m\u001b[0m\n\u001b[1;32m----> 1\u001b[1;33m \u001b[1;32mfor\u001b[0m \u001b[0mkey\u001b[0m \u001b[1;32min\u001b[0m \u001b[0mclass_python\u001b[0m\u001b[1;33m[\u001b[0m\u001b[1;34m\"courss\"\u001b[0m\u001b[1;33m]\u001b[0m\u001b[1;33m:\u001b[0m\u001b[1;33m\u001b[0m\u001b[1;33m\u001b[0m\u001b[0m\n\u001b[0m\u001b[0;32m      2\u001b[0m     \u001b[0mprint\u001b[0m\u001b[1;33m(\u001b[0m\u001b[0mkey\u001b[0m\u001b[1;33m)\u001b[0m\u001b[1;33m\u001b[0m\u001b[1;33m\u001b[0m\u001b[0m\n",
      "\u001b[1;31mKeyError\u001b[0m: 'courss'"
     ]
    }
   ],
   "source": [
    "for key in class_python[\"courss\"]:\n",
    "    print(key)"
   ]
  },
  {
   "cell_type": "code",
   "execution_count": null,
   "id": "4b2e1aac",
   "metadata": {},
   "outputs": [],
   "source": []
  }
 ],
 "metadata": {
  "kernelspec": {
   "display_name": "Python 3",
   "language": "python",
   "name": "python3"
  },
  "language_info": {
   "codemirror_mode": {
    "name": "ipython",
    "version": 3
   },
   "file_extension": ".py",
   "mimetype": "text/x-python",
   "name": "python",
   "nbconvert_exporter": "python",
   "pygments_lexer": "ipython3",
   "version": "3.8.8"
  }
 },
 "nbformat": 4,
 "nbformat_minor": 5
}
