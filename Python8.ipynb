{
 "cells": [
  {
   "cell_type": "markdown",
   "id": "40c88dad",
   "metadata": {},
   "source": [
    "# Previous Topics\n",
    "\n",
    " - List\n",
    " - List Methods\n",
    " - List Indexing\n",
    " - List Slicing"
   ]
  },
  {
   "cell_type": "markdown",
   "id": "a043925b",
   "metadata": {},
   "source": [
    "# Topic Discussed\n",
    "\n",
    " - More on List\n",
    " - Loops\n",
    "   - For loop\n",
    "   - While loop"
   ]
  },
  {
   "cell_type": "code",
   "execution_count": 2,
   "id": "60fc32a4",
   "metadata": {},
   "outputs": [],
   "source": [
    "# List Slicing\n",
    "# Slicing is always done in right direction\n",
    "# There will be no syntax error in case of slicing but result empty list\n",
    "# Slice return the cpoy\n",
    "\n",
    "n1 = [0,  1,  2,   3, 4,  5,   6,  7,  8,  9,  10, 11, 12,  13, 14, 15, 16, 17, 18, 19, 20]\n",
    "sliced_num = n1[3:7]"
   ]
  },
  {
   "cell_type": "code",
   "execution_count": 3,
   "id": "e00eb8da",
   "metadata": {},
   "outputs": [
    {
     "data": {
      "text/plain": [
       "[3, 4, 5, 6]"
      ]
     },
     "execution_count": 3,
     "metadata": {},
     "output_type": "execute_result"
    }
   ],
   "source": [
    "sliced_num"
   ]
  },
  {
   "cell_type": "code",
   "execution_count": 4,
   "id": "64e9b534",
   "metadata": {},
   "outputs": [],
   "source": [
    "sliced_num = n1[7:3]"
   ]
  },
  {
   "cell_type": "code",
   "execution_count": 5,
   "id": "fcce44f2",
   "metadata": {},
   "outputs": [
    {
     "data": {
      "text/plain": [
       "[14, 15, 16, 17, 18, 19]"
      ]
     },
     "execution_count": 5,
     "metadata": {},
     "output_type": "execute_result"
    }
   ],
   "source": [
    "# I want to 14(index=14) to 20(20)\n",
    "n1[14:20]\n",
    "\n",
    "# 20 will not be included in the slice as the extreme right index is ignored in sliced"
   ]
  },
  {
   "cell_type": "code",
   "execution_count": 7,
   "id": "a94fc4aa",
   "metadata": {},
   "outputs": [
    {
     "data": {
      "text/plain": [
       "[14, 15, 16, 17, 18, 19, 20]"
      ]
     },
     "execution_count": 7,
     "metadata": {},
     "output_type": "execute_result"
    }
   ],
   "source": [
    "n1[14:21]\n",
    "\n",
    "# Now to get the 20 we had given the one more index\n"
   ]
  },
  {
   "cell_type": "code",
   "execution_count": 8,
   "id": "ae84ff1a",
   "metadata": {},
   "outputs": [
    {
     "data": {
      "text/plain": [
       "[14, 15, 16, 17, 18, 19, 20]"
      ]
     },
     "execution_count": 8,
     "metadata": {},
     "output_type": "execute_result"
    }
   ],
   "source": [
    "n1[14:] # Start index from 14 and goto the very last"
   ]
  },
  {
   "cell_type": "code",
   "execution_count": 9,
   "id": "44ca1cda",
   "metadata": {},
   "outputs": [
    {
     "data": {
      "text/plain": [
       "[0, 1, 2, 3, 4, 5]"
      ]
     },
     "execution_count": 9,
     "metadata": {},
     "output_type": "execute_result"
    }
   ],
   "source": [
    "n1[:6]"
   ]
  },
  {
   "cell_type": "markdown",
   "id": "6ce38900",
   "metadata": {},
   "source": [
    "# Copying a List"
   ]
  },
  {
   "cell_type": "code",
   "execution_count": 10,
   "id": "df33bcc0",
   "metadata": {},
   "outputs": [
    {
     "data": {
      "text/plain": [
       "[0, 1, 2, 3, 4, 5, 6, 7, 8, 9, 10, 11, 12, 13, 14, 15, 16, 17, 18, 19, 20]"
      ]
     },
     "execution_count": 10,
     "metadata": {},
     "output_type": "execute_result"
    }
   ],
   "source": [
    "new = n1.copy() # Pass by value\n",
    "new"
   ]
  },
  {
   "cell_type": "code",
   "execution_count": 11,
   "id": "4b4a665e",
   "metadata": {},
   "outputs": [
    {
     "data": {
      "text/plain": [
       "[0, 1, 2, 3, 4, 5, 6, 7, 8, 9, 10, 11, 12, 13, 14, 15, 16, 17, 18, 19, 20]"
      ]
     },
     "execution_count": 11,
     "metadata": {},
     "output_type": "execute_result"
    }
   ],
   "source": [
    "new1 = n1[:] # Pass by value\n",
    "new1"
   ]
  },
  {
   "cell_type": "code",
   "execution_count": 13,
   "id": "ff1cadfa",
   "metadata": {},
   "outputs": [
    {
     "data": {
      "text/plain": [
       "[0, 1, 2, 3, 4, 5, 6, 7, 8, 9, 10, 11, 12, 13, 14, 15, 16, 17, 18, 19, 20]"
      ]
     },
     "execution_count": 13,
     "metadata": {},
     "output_type": "execute_result"
    }
   ],
   "source": [
    "new2 = n1[0:21] # Pass by value\n",
    "new2"
   ]
  },
  {
   "cell_type": "code",
   "execution_count": 14,
   "id": "c0eeeb72",
   "metadata": {},
   "outputs": [
    {
     "data": {
      "text/plain": [
       "[0, 1, 2, 3, 4, 5, 6, 7, 8, 9, 10, 11, 12, 13, 14, 15, 16, 17, 18, 19, 20]"
      ]
     },
     "execution_count": 14,
     "metadata": {},
     "output_type": "execute_result"
    }
   ],
   "source": [
    "new3 = new2 # Pass value by reference \n",
    "new3\n",
    "\n",
    "# Referenced is transfered instead of pass by valule\n",
    "# Mean the address of both variable will remain same \n",
    "# new3 = new2 >>> what this will do is simply give another refernce number\n",
    "# Like two brother lives in a house and both will have same address"
   ]
  },
  {
   "cell_type": "code",
   "execution_count": 15,
   "id": "237ee728",
   "metadata": {},
   "outputs": [
    {
     "data": {
      "text/plain": [
       "1512043898560"
      ]
     },
     "execution_count": 15,
     "metadata": {},
     "output_type": "execute_result"
    }
   ],
   "source": [
    "id(new2)"
   ]
  },
  {
   "cell_type": "code",
   "execution_count": 16,
   "id": "e60e2f29",
   "metadata": {},
   "outputs": [
    {
     "data": {
      "text/plain": [
       "1512043898560"
      ]
     },
     "execution_count": 16,
     "metadata": {},
     "output_type": "execute_result"
    }
   ],
   "source": [
    "id(new3)"
   ]
  },
  {
   "cell_type": "code",
   "execution_count": 19,
   "id": "e2207109",
   "metadata": {},
   "outputs": [
    {
     "data": {
      "text/plain": [
       "[0, 1, 2, 3, 4, 5, 6, 7, 8, 9, 10, 11, 12, 13, 14, 15, 16, 17, 18, 19]"
      ]
     },
     "execution_count": 19,
     "metadata": {},
     "output_type": "execute_result"
    }
   ],
   "source": [
    "del new2[20]\n",
    "n1"
   ]
  },
  {
   "cell_type": "code",
   "execution_count": 25,
   "id": "98c947e6",
   "metadata": {},
   "outputs": [
    {
     "data": {
      "text/plain": [
       "[0, 1, 2, 3, 4, 5, 6, 7, 8, 9, 10, 11, 12, 13, 14, 15, 16, 17, 18, 19]"
      ]
     },
     "execution_count": 25,
     "metadata": {},
     "output_type": "execute_result"
    }
   ],
   "source": [
    "new3\n",
    "\n",
    "# Simply both have same reference so it will be also removed from other list\n",
    "# a= 100\n",
    "# b= a\n",
    "# pass by reference >>> both are connected via a same reference"
   ]
  },
  {
   "cell_type": "code",
   "execution_count": 22,
   "id": "e0d48c03",
   "metadata": {},
   "outputs": [],
   "source": [
    "a= 100\n",
    "b= a"
   ]
  },
  {
   "cell_type": "code",
   "execution_count": 23,
   "id": "949888cc",
   "metadata": {},
   "outputs": [
    {
     "data": {
      "text/plain": [
       "140724595667856"
      ]
     },
     "execution_count": 23,
     "metadata": {},
     "output_type": "execute_result"
    }
   ],
   "source": [
    "id(a)"
   ]
  },
  {
   "cell_type": "code",
   "execution_count": 24,
   "id": "a3a16a57",
   "metadata": {},
   "outputs": [
    {
     "data": {
      "text/plain": [
       "140724595667856"
      ]
     },
     "execution_count": 24,
     "metadata": {},
     "output_type": "execute_result"
    }
   ],
   "source": [
    "id(b)"
   ]
  },
  {
   "cell_type": "code",
   "execution_count": 26,
   "id": "ba8d136d",
   "metadata": {},
   "outputs": [],
   "source": [
    "c = 100"
   ]
  },
  {
   "cell_type": "code",
   "execution_count": 28,
   "id": "dbb764e8",
   "metadata": {},
   "outputs": [
    {
     "data": {
      "text/plain": [
       "140724595667856"
      ]
     },
     "execution_count": 28,
     "metadata": {},
     "output_type": "execute_result"
    }
   ],
   "source": [
    "id(c) # Pthon interpreter is smart and detect from memory that it already have a 100 in \n",
    "      # so it will simply refer it to old 100 address"
   ]
  },
  {
   "cell_type": "code",
   "execution_count": 36,
   "id": "8956233a",
   "metadata": {},
   "outputs": [
    {
     "data": {
      "text/plain": [
       "[11, 22, 33, 44, 55, 66, 77]"
      ]
     },
     "execution_count": 36,
     "metadata": {},
     "output_type": "execute_result"
    }
   ],
   "source": [
    "# Update (Replacing the old value)\n",
    "myNums = [11,22,33,44,55,66,77]\n",
    "myNums"
   ]
  },
  {
   "cell_type": "code",
   "execution_count": 38,
   "id": "5b4f76bc",
   "metadata": {},
   "outputs": [],
   "source": [
    "myNums[2] = 3333"
   ]
  },
  {
   "cell_type": "code",
   "execution_count": 39,
   "id": "65af6876",
   "metadata": {},
   "outputs": [
    {
     "data": {
      "text/plain": [
       "[11, 22, 3333, 44, 55, 66, 77]"
      ]
     },
     "execution_count": 39,
     "metadata": {},
     "output_type": "execute_result"
    }
   ],
   "source": [
    "myNums"
   ]
  },
  {
   "cell_type": "code",
   "execution_count": 40,
   "id": "e8a1bfbd",
   "metadata": {},
   "outputs": [],
   "source": [
    "myNums[2:4] =[33,\"f4\",\"f5\"]"
   ]
  },
  {
   "cell_type": "code",
   "execution_count": 42,
   "id": "9eecba84",
   "metadata": {},
   "outputs": [
    {
     "data": {
      "text/plain": [
       "[11, 22, 33, 'f4', 'f5', 55, 66, 77]"
      ]
     },
     "execution_count": 42,
     "metadata": {},
     "output_type": "execute_result"
    }
   ],
   "source": [
    "myNums"
   ]
  },
  {
   "cell_type": "code",
   "execution_count": 44,
   "id": "6fb12655",
   "metadata": {},
   "outputs": [
    {
     "data": {
      "text/plain": [
       "[22, 33, 'f4', 'f5', 55]"
      ]
     },
     "execution_count": 44,
     "metadata": {},
     "output_type": "execute_result"
    }
   ],
   "source": [
    "#myNums = [starting_index, ending_index:step == 1]\n",
    "myNums[1:6:1]"
   ]
  },
  {
   "cell_type": "code",
   "execution_count": 45,
   "id": "3232f7dd",
   "metadata": {},
   "outputs": [
    {
     "data": {
      "text/plain": [
       "[22, 'f4', 55]"
      ]
     },
     "execution_count": 45,
     "metadata": {},
     "output_type": "execute_result"
    }
   ],
   "source": [
    "myNums[1:6:2]"
   ]
  },
  {
   "cell_type": "code",
   "execution_count": 46,
   "id": "9ff24fcf",
   "metadata": {},
   "outputs": [
    {
     "data": {
      "text/plain": [
       "[11, 33, 'f5', 66]"
      ]
     },
     "execution_count": 46,
     "metadata": {},
     "output_type": "execute_result"
    }
   ],
   "source": [
    "myNums[::2]"
   ]
  },
  {
   "cell_type": "code",
   "execution_count": null,
   "id": "658c617b",
   "metadata": {},
   "outputs": [],
   "source": [
    "# Is there a way to slice from right to left"
   ]
  },
  {
   "cell_type": "code",
   "execution_count": 47,
   "id": "85846064",
   "metadata": {},
   "outputs": [
    {
     "data": {
      "text/plain": [
       "[20, 19, 18, 17, 16, 15, 14, 13, 12, 11, 10, 9, 8, 7, 6, 5, 4, 3, 2, 1, 0]"
      ]
     },
     "execution_count": 47,
     "metadata": {},
     "output_type": "execute_result"
    }
   ],
   "source": [
    "n1 = [0,  1,  2,   3, 4,  5,   6,  7,  8,  9,  10, 11, 12,  13, 14, 15, 16, 17, 18, 19, 20]\n",
    "n1[::-1]"
   ]
  },
  {
   "cell_type": "code",
   "execution_count": null,
   "id": "de5b8c71",
   "metadata": {},
   "outputs": [],
   "source": [
    "n1 = [0,  1,  2,   3, 4,  5,   6,  7,  8,  9,  10, 11, 12,  13, 14, 15, 16, 17, 18, 19, 20]\n",
    "#   - 21 -20 -19 -18 -17 -16 -15 -14  -13 -12 -11 -10  -9  -8   -7  -6  -5  -4  -3  -2  -1 \n",
    "#Reverse Index"
   ]
  },
  {
   "cell_type": "code",
   "execution_count": 51,
   "id": "b0baf116",
   "metadata": {},
   "outputs": [
    {
     "data": {
      "text/plain": [
       "[]"
      ]
     },
     "execution_count": 51,
     "metadata": {},
     "output_type": "execute_result"
    }
   ],
   "source": [
    "n1[-3:-6] # As -3 is bigger than -6 so it will print empty list"
   ]
  },
  {
   "cell_type": "code",
   "execution_count": 50,
   "id": "7e291bcb",
   "metadata": {},
   "outputs": [
    {
     "data": {
      "text/plain": [
       "[18, 17, 16]"
      ]
     },
     "execution_count": 50,
     "metadata": {},
     "output_type": "execute_result"
    }
   ],
   "source": [
    "n1[-3:-6:-1] "
   ]
  },
  {
   "cell_type": "code",
   "execution_count": 52,
   "id": "31fe88d6",
   "metadata": {},
   "outputs": [
    {
     "data": {
      "text/plain": [
       "[15, 16, 17]"
      ]
     },
     "execution_count": 52,
     "metadata": {},
     "output_type": "execute_result"
    }
   ],
   "source": [
    "n1[-6:-3]"
   ]
  },
  {
   "cell_type": "code",
   "execution_count": 53,
   "id": "5d453d60",
   "metadata": {},
   "outputs": [
    {
     "data": {
      "text/plain": [
       "'re learn'"
      ]
     },
     "execution_count": 53,
     "metadata": {},
     "output_type": "execute_result"
    }
   ],
   "source": [
    "# The rules of string slicing are same but string can't be update as it is immutable and its value can't be delete, remove\n",
    "\n",
    "para = \"we are learning python\"\n",
    "para[4:12]"
   ]
  },
  {
   "cell_type": "code",
   "execution_count": null,
   "id": "8edf5965",
   "metadata": {},
   "outputs": [],
   "source": [
    "para[4] = \"erete \" #Coz string sare immutable"
   ]
  },
  {
   "cell_type": "code",
   "execution_count": 54,
   "id": "16aa42eb",
   "metadata": {},
   "outputs": [
    {
     "data": {
      "text/plain": [
       "'we are learning pythonwe are learning python'"
      ]
     },
     "execution_count": 54,
     "metadata": {},
     "output_type": "execute_result"
    }
   ],
   "source": [
    "para*2"
   ]
  },
  {
   "cell_type": "code",
   "execution_count": 55,
   "id": "1ce3851c",
   "metadata": {},
   "outputs": [
    {
     "data": {
      "text/plain": [
       "'we are learning pythonwe are learning pythonwe are learning pythonwe are learning python'"
      ]
     },
     "execution_count": 55,
     "metadata": {},
     "output_type": "execute_result"
    }
   ],
   "source": [
    "para*4"
   ]
  },
  {
   "cell_type": "code",
   "execution_count": 56,
   "id": "495ddad0",
   "metadata": {},
   "outputs": [
    {
     "data": {
      "text/plain": [
       "'666'"
      ]
     },
     "execution_count": 56,
     "metadata": {},
     "output_type": "execute_result"
    }
   ],
   "source": [
    "a = str(6)\n",
    "b = 3\n",
    "\n",
    "a*b  # Since a is string so it multiply the statement will integers"
   ]
  },
  {
   "cell_type": "code",
   "execution_count": 58,
   "id": "52004691",
   "metadata": {},
   "outputs": [
    {
     "data": {
      "text/plain": [
       "[11, 22, 33, 'f4', 'f5', 55, 66, 77, 11, 22, 33, 'f4', 'f5', 55, 66, 77]"
      ]
     },
     "execution_count": 58,
     "metadata": {},
     "output_type": "execute_result"
    }
   ],
   "source": [
    "myNums*2"
   ]
  },
  {
   "cell_type": "markdown",
   "id": "d70e08e5",
   "metadata": {},
   "source": [
    "# Loops"
   ]
  },
  {
   "cell_type": "code",
   "execution_count": 59,
   "id": "a58b2fc7",
   "metadata": {},
   "outputs": [],
   "source": [
    "# for loops\n",
    "# while loops"
   ]
  },
  {
   "cell_type": "code",
   "execution_count": 60,
   "id": "9d5ff23e",
   "metadata": {},
   "outputs": [],
   "source": [
    "# To reduce our code"
   ]
  },
  {
   "cell_type": "code",
   "execution_count": 61,
   "id": "4a82947a",
   "metadata": {},
   "outputs": [
    {
     "name": "stdout",
     "output_type": "stream",
     "text": [
      "Hoi\n"
     ]
    }
   ],
   "source": [
    "print(\"Hoi\")"
   ]
  },
  {
   "cell_type": "code",
   "execution_count": 66,
   "id": "4c4b888f",
   "metadata": {},
   "outputs": [
    {
     "name": "stdout",
     "output_type": "stream",
     "text": [
      "WELDONE Naisr\n",
      "WELDONE Asad\n",
      "WELDONE Mehmon\n",
      "WELDONE Naisr1\n",
      "WELDONE Asad2\n",
      "WELDONE Mehmon3\n"
     ]
    }
   ],
   "source": [
    "staff =[ \"Naisr\", \"Asad\", \"Mehmon\", \"Naisr1\", \"Asad2\", \"Mehmon3\"]\n",
    "print(f\"WELDONE {staff[0]}\")\n",
    "print(f\"WELDONE {staff[1]}\")\n",
    "print(f\"WELDONE {staff[2]}\")\n",
    "print(f\"WELDONE {staff[3]}\")\n",
    "print(f\"WELDONE {staff[4]}\")\n",
    "print(f\"WELDONE {staff[5]}\")"
   ]
  },
  {
   "cell_type": "markdown",
   "id": "469656f7",
   "metadata": {},
   "source": [
    "## Loops"
   ]
  },
  {
   "cell_type": "code",
   "execution_count": 73,
   "id": "b79f5007",
   "metadata": {},
   "outputs": [
    {
     "name": "stdout",
     "output_type": "stream",
     "text": [
      "WELDONE Naisr\n",
      "WELDONE Asad\n",
      "WELDONE Mehmon\n",
      "WELDONE Naisr1\n",
      "WELDONE Asad2\n",
      "WELDONE Mehmon3\n"
     ]
    }
   ],
   "source": [
    "staff_list = [\"Naisr\",\"Asad\",\"Mehmon\",\"Naisr1\",\"Asad2\",\"Mehmon3\"]\n",
    "\n",
    "# to do repeated task in one go\n",
    "\n",
    "for staff in staff_list:\n",
    "    print(f\"WELDONE {staff}\")"
   ]
  },
  {
   "cell_type": "code",
   "execution_count": 77,
   "id": "e09e535e",
   "metadata": {},
   "outputs": [
    {
     "name": "stdout",
     "output_type": "stream",
     "text": [
      "Naisr\n",
      "Asad\n",
      "Mehmon\n",
      "Naisr1\n",
      "Asad2\n",
      "Mehmon3\n"
     ]
    }
   ],
   "source": [
    "for staff in staff_list:\n",
    "    print(staff)"
   ]
  },
  {
   "cell_type": "code",
   "execution_count": 78,
   "id": "c04e426a",
   "metadata": {},
   "outputs": [
    {
     "name": "stdout",
     "output_type": "stream",
     "text": [
      "w\n",
      "e\n",
      " \n",
      "a\n",
      "r\n",
      "e\n",
      " \n",
      "l\n",
      "e\n",
      "a\n",
      "r\n",
      "n\n",
      "i\n",
      "n\n",
      "g\n",
      " \n",
      "p\n",
      "y\n",
      "t\n",
      "h\n",
      "o\n",
      "n\n"
     ]
    },
    {
     "data": {
      "text/plain": [
       "'n'"
      ]
     },
     "execution_count": 78,
     "metadata": {},
     "output_type": "execute_result"
    }
   ],
   "source": [
    "for character in para:\n",
    "    print(character)\n",
    "character"
   ]
  },
  {
   "cell_type": "code",
   "execution_count": 79,
   "id": "37a5dc77",
   "metadata": {},
   "outputs": [
    {
     "name": "stdout",
     "output_type": "stream",
     "text": [
      "p\n",
      "a\n",
      "r\n",
      "a\n"
     ]
    }
   ],
   "source": [
    "for character in \"para\":\n",
    "    print(character)"
   ]
  },
  {
   "cell_type": "code",
   "execution_count": 80,
   "id": "e66da0f5",
   "metadata": {},
   "outputs": [
    {
     "name": "stdout",
     "output_type": "stream",
     "text": [
      "pppppppppp\n",
      "aaaaaaaaaa\n",
      "rrrrrrrrrr\n",
      "aaaaaaaaaa\n"
     ]
    }
   ],
   "source": [
    "for character in \"para\":\n",
    "    print(character*10)"
   ]
  },
  {
   "cell_type": "code",
   "execution_count": 81,
   "id": "dc1d55e3",
   "metadata": {},
   "outputs": [
    {
     "ename": "TypeError",
     "evalue": "'int' object is not iterable",
     "output_type": "error",
     "traceback": [
      "\u001b[1;31m---------------------------------------------------------------------------\u001b[0m",
      "\u001b[1;31mTypeError\u001b[0m                                 Traceback (most recent call last)",
      "\u001b[1;32m<ipython-input-81-1bbb662ce509>\u001b[0m in \u001b[0;36m<module>\u001b[1;34m\u001b[0m\n\u001b[0;32m      2\u001b[0m \u001b[1;31m# Integers are not iterable\u001b[0m\u001b[1;33m\u001b[0m\u001b[1;33m\u001b[0m\u001b[1;33m\u001b[0m\u001b[0m\n\u001b[0;32m      3\u001b[0m \u001b[1;33m\u001b[0m\u001b[0m\n\u001b[1;32m----> 4\u001b[1;33m \u001b[1;32mfor\u001b[0m \u001b[0mdigit\u001b[0m \u001b[1;32min\u001b[0m \u001b[1;36m10000\u001b[0m\u001b[1;33m:\u001b[0m\u001b[1;33m\u001b[0m\u001b[1;33m\u001b[0m\u001b[0m\n\u001b[0m\u001b[0;32m      5\u001b[0m     \u001b[0mprint\u001b[0m\u001b[1;33m(\u001b[0m\u001b[0mdigit\u001b[0m\u001b[1;33m)\u001b[0m\u001b[1;33m\u001b[0m\u001b[1;33m\u001b[0m\u001b[0m\n",
      "\u001b[1;31mTypeError\u001b[0m: 'int' object is not iterable"
     ]
    }
   ],
   "source": [
    "# String and list both are iterable\n",
    "# Integers are not iterable\n",
    "\n",
    "for digit in 10000:\n",
    "    print(digit)"
   ]
  },
  {
   "cell_type": "code",
   "execution_count": 82,
   "id": "0f840602",
   "metadata": {},
   "outputs": [
    {
     "name": "stdout",
     "output_type": "stream",
     "text": [
      "1\n",
      "0\n",
      "0\n",
      "0\n",
      "0\n"
     ]
    }
   ],
   "source": [
    "for digit in \"10000\":\n",
    "    print(digit)"
   ]
  },
  {
   "cell_type": "markdown",
   "id": "bead01f9",
   "metadata": {},
   "source": [
    "## Range()\n"
   ]
  },
  {
   "cell_type": "code",
   "execution_count": 84,
   "id": "01813f96",
   "metadata": {},
   "outputs": [
    {
     "name": "stdout",
     "output_type": "stream",
     "text": [
      "0\n",
      "1\n",
      "2\n",
      "3\n",
      "4\n"
     ]
    }
   ],
   "source": [
    "for i in range(5): #01234\n",
    "    print(i)"
   ]
  },
  {
   "cell_type": "code",
   "execution_count": 88,
   "id": "7324efa5",
   "metadata": {},
   "outputs": [
    {
     "name": "stdout",
     "output_type": "stream",
     "text": [
      "01234"
     ]
    }
   ],
   "source": [
    "for i in range(5): #01234\n",
    "    print(i,sep = \",\", end = \"\")"
   ]
  },
  {
   "cell_type": "code",
   "execution_count": 89,
   "id": "c311fbb8",
   "metadata": {},
   "outputs": [
    {
     "name": "stdout",
     "output_type": "stream",
     "text": [
      "123456789101112131415161718192021222324"
     ]
    }
   ],
   "source": [
    "for i in range(1,25): \n",
    "    print(i, end = \"\")"
   ]
  },
  {
   "cell_type": "code",
   "execution_count": 90,
   "id": "23ca1a09",
   "metadata": {},
   "outputs": [],
   "source": [
    "for i in range(10,1): # Trying to print in reverse direction\n",
    "    print(i)"
   ]
  },
  {
   "cell_type": "code",
   "execution_count": 91,
   "id": "dedb9dbb",
   "metadata": {},
   "outputs": [
    {
     "name": "stdout",
     "output_type": "stream",
     "text": [
      "1357911131517192123"
     ]
    }
   ],
   "source": [
    "for i in range(1,25,2): # step = 2\n",
    "    print(i, end = \"\")"
   ]
  },
  {
   "cell_type": "code",
   "execution_count": 92,
   "id": "b7189926",
   "metadata": {},
   "outputs": [
    {
     "name": "stdout",
     "output_type": "stream",
     "text": [
      "1471013161922"
     ]
    }
   ],
   "source": [
    "for i in range(1,25,3): # step = 3\n",
    "    print(i, end = \"\")"
   ]
  },
  {
   "cell_type": "code",
   "execution_count": 94,
   "id": "61f43d34",
   "metadata": {},
   "outputs": [
    {
     "name": "stdout",
     "output_type": "stream",
     "text": [
      "2524232221201918171615141312111098765432"
     ]
    }
   ],
   "source": [
    "for i in range(25,1,-1): # for reverse print the step should be in reverse direction\n",
    "    print(i, end= \"\")"
   ]
  },
  {
   "cell_type": "code",
   "execution_count": 95,
   "id": "27967864",
   "metadata": {},
   "outputs": [
    {
     "name": "stdout",
     "output_type": "stream",
     "text": [
      "25221916131074"
     ]
    }
   ],
   "source": [
    "for i in range(25,1,-3):\n",
    "    print(i, end= \"\")"
   ]
  },
  {
   "cell_type": "markdown",
   "id": "23a333e7",
   "metadata": {},
   "source": [
    "## For loops keywords\n",
    "\n",
    "  - continue\n",
    "  - break \n",
    "  - else"
   ]
  },
  {
   "cell_type": "code",
   "execution_count": 97,
   "id": "c7efdab9",
   "metadata": {},
   "outputs": [
    {
     "name": "stdout",
     "output_type": "stream",
     "text": [
      "12345678910"
     ]
    }
   ],
   "source": [
    "for nums in range(1,11):\n",
    "    print(nums, end = \"\")"
   ]
  },
  {
   "cell_type": "code",
   "execution_count": 101,
   "id": "ad4e3a48",
   "metadata": {},
   "outputs": [
    {
     "name": "stdout",
     "output_type": "stream",
     "text": [
      "1\n",
      "2\n",
      "3\n",
      "4\n",
      "5\n",
      "6\n"
     ]
    }
   ],
   "source": [
    "for num in range(1,11):\n",
    "    if num == 7:\n",
    "        break # loop will break and will stop its execution\n",
    "    \n",
    "    print(num)\n",
    "        "
   ]
  },
  {
   "cell_type": "code",
   "execution_count": 102,
   "id": "3da714d6",
   "metadata": {},
   "outputs": [
    {
     "name": "stdout",
     "output_type": "stream",
     "text": [
      "1\n",
      "2\n",
      "3\n",
      "4\n",
      "5\n",
      "6\n",
      "8\n",
      "9\n",
      "10\n"
     ]
    }
   ],
   "source": [
    "for num in range(1,11):\n",
    "    if num == 7:\n",
    "        continue # loop will skip from there and than remaining work\n",
    "    print(num) "
   ]
  },
  {
   "cell_type": "code",
   "execution_count": 103,
   "id": "47f24b39",
   "metadata": {},
   "outputs": [
    {
     "name": "stdout",
     "output_type": "stream",
     "text": [
      "1\n",
      "2\n",
      "3\n",
      "4\n",
      "5\n",
      "6\n",
      "8\n",
      "9\n",
      "10\n"
     ]
    }
   ],
   "source": [
    "for num in range(1,11):\n",
    "    if num == 7:\n",
    "        continue # loop will skip from there and than remaining work\n",
    "    print(num) \n",
    "    "
   ]
  },
  {
   "cell_type": "code",
   "execution_count": 105,
   "id": "e719f996",
   "metadata": {},
   "outputs": [
    {
     "name": "stdout",
     "output_type": "stream",
     "text": [
      "enter a number3\n",
      "The number 3 is odd\n"
     ]
    }
   ],
   "source": [
    "# write a program to check even and odd\n",
    "\n",
    "num = int(input(\"enter a number\"))\n",
    "\n",
    "if num%2 ==0:\n",
    "    print(f\"The number {num} is even\")\n",
    "else:\n",
    "    print(f\"The number {num} is odd\")"
   ]
  },
  {
   "cell_type": "code",
   "execution_count": 107,
   "id": "8c2996b3",
   "metadata": {},
   "outputs": [
    {
     "name": "stdout",
     "output_type": "stream",
     "text": [
      "enter a number 3\n",
      "The number 3 is odd\n",
      "enter a number 3\n",
      "The number 3 is odd\n",
      "enter a number 4\n",
      "The number 4 is even\n",
      "enter a number 5\n",
      "The number 5 is odd\n",
      "enter a number 6\n",
      "The number 6 is even\n"
     ]
    }
   ],
   "source": [
    "\n",
    "for a in range(5):\n",
    "    num = int(input(\"enter a number \"))\n",
    "    \n",
    "    if num%2 ==0:\n",
    "        print(f\"The number {num} is even\")\n",
    "    else:\n",
    "        print(f\"The number {num} is odd\")\n",
    "    "
   ]
  },
  {
   "cell_type": "code",
   "execution_count": 113,
   "id": "29a5df48",
   "metadata": {},
   "outputs": [
    {
     "name": "stdout",
     "output_type": "stream",
     "text": [
      "Enter a number 22\n",
      "The number 22 is even\n",
      "Enter a number 33\n",
      "The number 33 is odd\n",
      "Enter a number 12\n",
      "The number 12 is even\n",
      "Enter a number 3\n",
      "The number 3 is odd\n",
      "Enter a number 4\n",
      "The number 4 is even\n",
      "The even numbers are [22, 12, 4] and odd are [33, 3]\n"
     ]
    }
   ],
   "source": [
    "even = []\n",
    "odd  = []\n",
    "for a in range(5):\n",
    "    num = int(input(\"Enter a number \"))\n",
    "    \n",
    "    if num%2 ==0:\n",
    "        print(f\"The number {num} is even\")\n",
    "        even.append(num)\n",
    "    else:\n",
    "        print(f\"The number {num} is odd\")\n",
    "        odd.append(num)\n",
    "        \n",
    "print(f\"The even numbers are {even} and odd are {odd}\")"
   ]
  },
  {
   "cell_type": "code",
   "execution_count": 114,
   "id": "d08abeae",
   "metadata": {},
   "outputs": [
    {
     "data": {
      "text/plain": [
       "[33, 3]"
      ]
     },
     "execution_count": 114,
     "metadata": {},
     "output_type": "execute_result"
    }
   ],
   "source": [
    "odd"
   ]
  },
  {
   "cell_type": "code",
   "execution_count": 115,
   "id": "58488182",
   "metadata": {},
   "outputs": [
    {
     "data": {
      "text/plain": [
       "[22, 12, 4]"
      ]
     },
     "execution_count": 115,
     "metadata": {},
     "output_type": "execute_result"
    }
   ],
   "source": [
    "even"
   ]
  },
  {
   "cell_type": "code",
   "execution_count": 117,
   "id": "30f7164b",
   "metadata": {},
   "outputs": [
    {
     "name": "stdout",
     "output_type": "stream",
     "text": [
      "Enter your favourite numbers 4\n"
     ]
    },
    {
     "data": {
      "text/plain": [
       "4"
      ]
     },
     "execution_count": 117,
     "metadata": {},
     "output_type": "execute_result"
    }
   ],
   "source": [
    "numbers = int(input(\"Enter your favourite numbers \"))\n",
    "numbers"
   ]
  },
  {
   "cell_type": "code",
   "execution_count": 118,
   "id": "3e6c2158",
   "metadata": {},
   "outputs": [
    {
     "data": {
      "text/plain": [
       "['my', 'name', 'is', 'Nasir']"
      ]
     },
     "execution_count": 118,
     "metadata": {},
     "output_type": "execute_result"
    }
   ],
   "source": [
    "\"my,name,is,Nasir\".split(\",\")"
   ]
  },
  {
   "cell_type": "code",
   "execution_count": 120,
   "id": "e42af453",
   "metadata": {},
   "outputs": [
    {
     "name": "stdout",
     "output_type": "stream",
     "text": [
      "Enter your favourite numbers 4,3,4,5,5,3,4,3,2,4,4,5,5,54,3,2,2,3,2,2\n"
     ]
    },
    {
     "data": {
      "text/plain": [
       "'4,3,4,5,5,3,4,3,2,4,4,5,5,54,3,2,2,3,2,2'"
      ]
     },
     "execution_count": 120,
     "metadata": {},
     "output_type": "execute_result"
    }
   ],
   "source": [
    "numbers = input(\"Enter your favourite numbers \")\n",
    "numbers"
   ]
  },
  {
   "cell_type": "code",
   "execution_count": 130,
   "id": "61d5defc",
   "metadata": {},
   "outputs": [
    {
     "name": "stdout",
     "output_type": "stream",
     "text": [
      "Enter your favourite numbers 2,3,4,5,6,6,6,4,3,2,3,4,5,6\n"
     ]
    },
    {
     "data": {
      "text/plain": [
       "['2', '3', '4', '5', '6', '6', '6', '4', '3', '2', '3', '4', '5', '6']"
      ]
     },
     "execution_count": 130,
     "metadata": {},
     "output_type": "execute_result"
    }
   ],
   "source": [
    "numbers = input(\"Enter your favourite numbers \").split(',')\n",
    "numbers"
   ]
  },
  {
   "cell_type": "code",
   "execution_count": 129,
   "id": "13748977",
   "metadata": {},
   "outputs": [
    {
     "name": "stdout",
     "output_type": "stream",
     "text": [
      "Enter your favourite numbers 2,2,3,4,5,6,6,7,6,4,3\n",
      "Evens are ['2', '2', '4', '6', '6', '6', '4']\n",
      "Odds are ['3', '5', '7', '3']\n"
     ]
    }
   ],
   "source": [
    "numbers = input(\"Enter your favourite numbers \").split(',')\n",
    "even = []\n",
    "odd  = []\n",
    "\n",
    "for number in numbers:        #intNum = int(number)\n",
    "    if int(number)%2 == 0:\n",
    "        even.append(number)\n",
    "    else:                     #intNum = int(number) if int(number)%2 != 0:\n",
    "        odd.append(number)\n",
    "print(f\"Evens are {even}\")\n",
    "print(f\"Odds are {odd}\")"
   ]
  },
  {
   "cell_type": "code",
   "execution_count": null,
   "id": "323ebce6",
   "metadata": {},
   "outputs": [],
   "source": []
  }
 ],
 "metadata": {
  "kernelspec": {
   "display_name": "Python 3",
   "language": "python",
   "name": "python3"
  },
  "language_info": {
   "codemirror_mode": {
    "name": "ipython",
    "version": 3
   },
   "file_extension": ".py",
   "mimetype": "text/x-python",
   "name": "python",
   "nbconvert_exporter": "python",
   "pygments_lexer": "ipython3",
   "version": "3.8.8"
  }
 },
 "nbformat": 4,
 "nbformat_minor": 5
}
