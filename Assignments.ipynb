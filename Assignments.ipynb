{
 "cells": [
  {
   "cell_type": "markdown",
   "metadata": {
    "id": "J_jheu77hfDL"
   },
   "source": [
    "# **Task5**: \n",
    "You need to write a program that counts the number of vowels in a given sentence as input from console. \n",
    "Suppose the following input is supplied to the program:\n",
    "Hello world\n",
    "Practice makes perfect\n",
    "Then, the output should be:\n",
    "a appeared 2 times\n",
    "e appeared 5 times\n",
    "i appeared  1 time\n",
    "o appeared 2 times\n",
    "u appeared 0 time"
   ]
  },
  {
   "cell_type": "code",
   "execution_count": null,
   "metadata": {
    "colab": {
     "base_uri": "https://localhost:8080/"
    },
    "id": "6jTz0nbIjIKb",
    "outputId": "54d48c41-eb73-49ca-cc83-6dd80285dd43"
   },
   "outputs": [
    {
     "name": "stdout",
     "output_type": "stream",
     "text": [
      "Enter the words for Vowels Counts- hello world practice make perfect\n",
      "a appeared 2 times\n",
      "e appeared 5 times\n",
      "i appeared 1 times\n",
      "o appeared 2 times\n",
      "u appeared 0 times\n"
     ]
    }
   ],
   "source": [
    "sentence= input(\"Enter the words for Vowels Counts- \")\n",
    "wordCount=sentence.count('a')\n",
    "print(f\"a appeared {wordCount} times\")\n",
    "wordCount=sentence.count('e')\n",
    "print(f\"e appeared {wordCount} times\")\n",
    "wordCount=sentence.count('i')\n",
    "print(f\"i appeared {wordCount} times\")\n",
    "wordCount=sentence.count('o')\n",
    "print(f\"o appeared {wordCount} times\")\n",
    "wordCount=sentence.count('u')\n",
    "print(f\"u appeared {wordCount} times\")"
   ]
  },
  {
   "cell_type": "markdown",
   "metadata": {
    "id": "_KywnMHZmnXC"
   },
   "source": [
    "## **Task4:**\n",
    "You need to write a program that takes sequence of lines as input and prints the lines after making all characters in the sentence capitalized.\n",
    "Suppose the following input is supplied to the program:\n",
    "Hello world\n",
    "Practice makes perfect\n",
    "Then, the output should be:\n",
    "HELLO WORLD\n",
    "PRACTICE MAKES PERFECT"
   ]
  },
  {
   "cell_type": "code",
   "execution_count": null,
   "metadata": {
    "colab": {
     "base_uri": "https://localhost:8080/"
    },
    "id": "5N07NR_0mG9x",
    "outputId": "ef18b81f-e49a-43d5-a227-57e62e3fe234"
   },
   "outputs": [
    {
     "name": "stdout",
     "output_type": "stream",
     "text": [
      "hello world practice makes perfect\n",
      "HELLO WORLD PRACTICE MAKES PERFECT\n"
     ]
    }
   ],
   "source": [
    "string= input()\n",
    "a=string.upper()\n",
    "print (a)"
   ]
  },
  {
   "cell_type": "code",
   "execution_count": null,
   "metadata": {
    "id": "i46_5kPVnThB"
   },
   "outputs": [],
   "source": []
  },
  {
   "cell_type": "markdown",
   "metadata": {
    "id": "gQkAtSmDnvNS"
   },
   "source": [
    "## **Task6:**\n",
    "You need to trace and make a list of all such numbers from1000 to 3000 in which all the digits are even numbers."
   ]
  },
  {
   "cell_type": "code",
   "execution_count": null,
   "metadata": {
    "colab": {
     "base_uri": "https://localhost:8080/"
    },
    "id": "1DFKh_vjn1sP",
    "outputId": "ff6da1c1-4783-46fc-a6de-df8210932d53"
   },
   "outputs": [
    {
     "name": "stdout",
     "output_type": "stream",
     "text": [
      "['2000', '2002', '2004', '2006', '2008', '2020', '2022', '2024', '2026', '2028', '2040', '2042', '2044', '2046', '2048', '2060', '2062', '2064', '2066', '2068', '2080', '2082', '2084', '2086', '2088', '2200', '2202', '2204', '2206', '2208', '2220', '2222', '2224', '2226', '2228', '2240', '2242', '2244', '2246', '2248', '2260', '2262', '2264', '2266', '2268', '2280', '2282', '2284', '2286', '2288', '2400', '2402', '2404', '2406', '2408', '2420', '2422', '2424', '2426', '2428', '2440', '2442', '2444', '2446', '2448', '2460', '2462', '2464', '2466', '2468', '2480', '2482', '2484', '2486', '2488', '2600', '2602', '2604', '2606', '2608', '2620', '2622', '2624', '2626', '2628', '2640', '2642', '2644', '2646', '2648', '2660', '2662', '2664', '2666', '2668', '2680', '2682', '2684', '2686', '2688', '2800', '2802', '2804', '2806', '2808', '2820', '2822', '2824', '2826', '2828', '2840', '2842', '2844', '2846', '2848', '2860', '2862', '2864', '2866', '2868', '2880', '2882', '2884', '2886', '2888']\n"
     ]
    }
   ],
   "source": [
    "a=[]\n",
    "for i in range(1000,3000+1):\n",
    "    x= str (i)\n",
    "    if int(x[0])%2==0:\n",
    "        if int(x[1])%2==0:\n",
    "          if int(x[2])%2==0:\n",
    "            if int(x[3])%2==0:\n",
    "                  a.append(x)\n",
    "print (a)\n"
   ]
  },
  {
   "cell_type": "code",
   "execution_count": null,
   "metadata": {
    "id": "04q4jklaoTlI"
   },
   "outputs": [],
   "source": []
  },
  {
   "cell_type": "markdown",
   "metadata": {
    "id": "3zHykL7EvaN0"
   },
   "source": [
    "## **Task3:**\n",
    "You need to write a code that takes a comma separated sequence of words as input and prints the words in a comma-separated sequence after sorting them alphabetically.\n",
    "Suppose the following input is supplied to the program:\n",
    "without,hello,bag,world\n",
    "Then, the output should be:\n",
    "bag,hello,without,world"
   ]
  },
  {
   "cell_type": "code",
   "execution_count": null,
   "metadata": {
    "colab": {
     "base_uri": "https://localhost:8080/"
    },
    "id": "lfLohlxsvfK0",
    "outputId": "f0e0a088-a7b5-4152-80cd-43b5ac64214b"
   },
   "outputs": [
    {
     "name": "stdout",
     "output_type": "stream",
     "text": [
      "Enter a words more than 2 separated by comma : without, hello, bag, world\n",
      " bag, hello, world\n"
     ]
    }
   ],
   "source": [
    "value = input(\"Enter a words more than 2 separated by comma : \").split(\",\")\n",
    "value.sort()\n",
    "print(f\"{value[0]},{value[1]},{value[2]}\")"
   ]
  },
  {
   "cell_type": "code",
   "execution_count": null,
   "metadata": {
    "id": "OsS3UaZPwFca"
   },
   "outputs": [],
   "source": [
    ",,,                                                                                                                                                                                                                                                                                                                                                                                                                                                                                                                                                                                                                                                                                                                                                                                                                                                                                                                                                                                                                                                                                                                                                                                                                                                                                                                                       ssssss,.......[%%!]"
   ]
  },
  {
   "cell_type": "code",
   "execution_count": null,
   "metadata": {
    "id": "FDPmvtpWN0Hc"
   },
   "outputs": [],
   "source": []
  },
  {
   "cell_type": "markdown",
   "metadata": {
    "id": "K0LqqPusN2TT"
   },
   "source": [
    "# **Task9:**\n",
    "\n",
    "With a given integral number n, write a program to generate a dictionary that contains (i, i*i) such that is an integral number between 1 and n (both included). and then the program should print the dictionary.\n",
    "\n",
    "Suppose the following input is supplied to the program:\n",
    "8\n",
    "\n",
    "Then, the output should be:\n",
    "\n",
    "{1: 1, 2: 4, 3: 9, 4: 16, 5: 25, 6: 36, 7: 49, 8: 64}\n"
   ]
  },
  {
   "cell_type": "code",
   "execution_count": null,
   "metadata": {
    "colab": {
     "base_uri": "https://localhost:8080/"
    },
    "id": "cYx5vRFQON5D",
    "outputId": "bd24af10-5208-40ab-d55a-60400332f7c0"
   },
   "outputs": [
    {
     "name": "stdout",
     "output_type": "stream",
     "text": [
      "9\n",
      "{1: 1, 2: 4, 3: 9, 4: 16, 5: 25, 6: 36, 7: 49, 8: 64, 9: 81}\n"
     ]
    }
   ],
   "source": [
    "dict0 = {}\n",
    "n = int(input())\n",
    "for i in range(1,n+1):\n",
    "  dict0[i]=i*i\n",
    "i+=1\n",
    "print(dict0)"
   ]
  },
  {
   "cell_type": "markdown",
   "metadata": {
    "id": "Pbxgu1lxPY2k"
   },
   "source": [
    "# **Task8**:\n",
    "\n",
    "Write a program that accepts a sentence and calculate the number of letters and digits.\n",
    "\n",
    "Suppose the following input is supplied to the program:\n",
    "\n",
    "hello world! 123\n",
    "\n",
    "Then, the output should be:\n",
    "\n",
    "LETTERS 10\n",
    "\n",
    "DIGITS 3"
   ]
  },
  {
   "cell_type": "code",
   "execution_count": null,
   "metadata": {
    "colab": {
     "base_uri": "https://localhost:8080/"
    },
    "id": "3s-OqezhPl4D",
    "outputId": "5c742736-173e-4a63-d903-e6682232e3f5"
   },
   "outputs": [
    {
     "name": "stdout",
     "output_type": "stream",
     "text": [
      "Accepted SentenceHELLO WORLD! 123\n",
      "LETTERS 10\n",
      "DIGITS 3\n"
     ]
    }
   ],
   "source": [
    "given= input(\"Accepted Sentence\")\n",
    "digit =0;\n",
    "letters =0;\n",
    "for continuing in given:\n",
    "  if continuing.isalpha():\n",
    "    letters += 1;\n",
    "  elif continuing.isdigit():\n",
    "    digit += 1;\n",
    "print(f\"LETTERS {letters}\\nDIGITS {digit}\")"
   ]
  },
  {
   "cell_type": "code",
   "execution_count": null,
   "metadata": {
    "id": "6irgSsYfVH3d"
   },
   "outputs": [],
   "source": []
  },
  {
   "cell_type": "markdown",
   "metadata": {
    "id": "vAs5vdMXVMum"
   },
   "source": [
    "# **Task1: Question:**\n",
    "\n",
    "You need to write a ocde in python that finds all such numbers which are divisible by 7 but are not a multiple of 5,\n",
    "between 2000 and 3200 (both included).\n",
    "Print the obtained numbers in a comma-separated sequence on a single line."
   ]
  },
  {
   "cell_type": "code",
   "execution_count": null,
   "metadata": {
    "colab": {
     "base_uri": "https://localhost:8080/"
    },
    "id": "4Vpru2XcVHwH",
    "outputId": "94873c1b-6ace-44e5-a1ce-eff573965d55"
   },
   "outputs": [
    {
     "name": "stdout",
     "output_type": "stream",
     "text": [
      "[2002, 2009, 2016, 2023, 2037, 2044, 2051, 2058, 2072, 2079, 2086, 2093, 2107, 2114, 2121, 2128, 2142, 2149, 2156, 2163, 2177, 2184, 2191, 2198, 2212, 2219, 2226, 2233, 2247, 2254, 2261, 2268, 2282, 2289, 2296, 2303, 2317, 2324, 2331, 2338, 2352, 2359, 2366, 2373, 2387, 2394, 2401, 2408, 2422, 2429, 2436, 2443, 2457, 2464, 2471, 2478, 2492, 2499, 2506, 2513, 2527, 2534, 2541, 2548, 2562, 2569, 2576, 2583, 2597, 2604, 2611, 2618, 2632, 2639, 2646, 2653, 2667, 2674, 2681, 2688, 2702, 2709, 2716, 2723, 2737, 2744, 2751, 2758, 2772, 2779, 2786, 2793, 2807, 2814, 2821, 2828, 2842, 2849, 2856, 2863, 2877, 2884, 2891, 2898, 2912, 2919, 2926, 2933, 2947, 2954, 2961, 2968, 2982, 2989, 2996, 3003, 3017, 3024, 3031, 3038, 3052, 3059, 3066, 3073, 3087, 3094, 3101, 3108, 3122, 3129, 3136, 3143, 3157, 3164, 3171, 3178, 3192, 3199]\n"
     ]
    }
   ],
   "source": [
    "list = [i for i in range (2000,3201) if i%7==0 and i%5!=0]\n",
    "print(list)"
   ]
  },
  {
   "cell_type": "code",
   "execution_count": null,
   "metadata": {
    "id": "AeHachF_V4-O"
   },
   "outputs": [],
   "source": []
  },
  {
   "cell_type": "markdown",
   "metadata": {
    "id": "CCUQKs-CXEX0"
   },
   "source": [
    "# **Task2**:\n",
    "\n",
    "You need code a program that calculates and prints the value according to the given formula:\n",
    "\n",
    "P = Square root of [(2 * A * B)/C]\n",
    "\n",
    "Following are the fixed values of A and B:\n",
    "\n",
    "A is 50.\n",
    " B is 30.\n",
    "\n",
    "The values of the literal C should be taken as console input to your program in a comma-separated sequence.\n",
    "\n",
    "Example\n",
    "\n",
    "Let us assume the following comma separated input sequence is given to the program:\n",
    "\n",
    "100,150,180\n",
    "\n",
    "The output of the program should be:\n",
    "\n",
    "18,22,24"
   ]
  },
  {
   "cell_type": "code",
   "execution_count": null,
   "metadata": {
    "colab": {
     "base_uri": "https://localhost:8080/"
    },
    "id": "FlzhafhuYJ2m",
    "outputId": "1bd75bc8-7b17-4da6-89d8-c158abcd7a1c"
   },
   "outputs": [
    {
     "name": "stdout",
     "output_type": "stream",
     "text": [
      "Type three numbers separated by comma: \n",
      "100\n",
      "[5]\n"
     ]
    }
   ],
   "source": [
    "A = 50\n",
    "B = 30\n",
    "result=[]\n",
    "C = input(\"Type three numbers separated by comma: \\n\")\n",
    "C=C.split(\",\")\n",
    "for i in C:\n",
    "  P = (int(((2*A*B)//int(i))**0.5))\n",
    "  result.append(P)\n",
    "print(result)"
   ]
  },
  {
   "cell_type": "code",
   "execution_count": null,
   "metadata": {
    "colab": {
     "base_uri": "https://localhost:8080/"
    },
    "id": "jVmqFGoPfv6W",
    "outputId": "188971b7-7dac-4f5e-d3b4-c626351b1eda"
   },
   "outputs": [
    {
     "name": "stdout",
     "output_type": "stream",
     "text": [
      "Type three numbers separated by comma: 100, 150, 180\n",
      "4.08248290463863\n"
     ]
    }
   ],
   "source": [
    "A = 50\n",
    "B = 30\n",
    "C = input(\"Type three numbers separated by comma: \").split(\",\")\n",
    "for i in C:\n",
    "  P = (((2*A*B)/int(i))**0.5)\n",
    "print(P)"
   ]
  },
  {
   "cell_type": "code",
   "execution_count": null,
   "metadata": {
    "id": "ac-1Axn40mqB"
   },
   "outputs": [],
   "source": []
  },
  {
   "cell_type": "markdown",
   "metadata": {
    "id": "nXNdAiJZ0n04"
   },
   "source": [
    "Write a program that calculates and prints the value according to the given formula: Q = Square root of [(2 * C * D)/H] Following are the fixed values of C and H: C is 50. H is 30. D is the variable whose values should be input to your program in a comma-separated sequence. Example Let us assume the following comma separated input sequence is gi…"
   ]
  },
  {
   "cell_type": "code",
   "execution_count": null,
   "metadata": {
    "colab": {
     "base_uri": "https://localhost:8080/"
    },
    "id": "uRm2X-o9hv70",
    "outputId": "74c5d3a2-8bda-4bc1-9d31-a76bac32d95e"
   },
   "outputs": [
    {
     "name": "stdout",
     "output_type": "stream",
     "text": [
      "Provide D: 100,150,180\n",
      "[18, 22, 24]\n"
     ]
    }
   ],
   "source": [
    "import math\n",
    "\n",
    "numbers = input(\"Provide D: \")\n",
    "numbers = numbers.split(',')\n",
    "\n",
    "result_list = []\n",
    "for D in numbers:\n",
    "    Q = round(math.sqrt(2 * 50 * int(D) / 30))\n",
    "    result_list.append(Q)\n",
    "\n",
    "print(result_list)"
   ]
  },
  {
   "cell_type": "code",
   "execution_count": null,
   "metadata": {
    "id": "XBmlVi5I07Fg"
   },
   "outputs": [],
   "source": []
  },
  {
   "cell_type": "markdown",
   "metadata": {
    "id": "n-r4NM5-1D9Q"
   },
   "source": [
    "# **Task7**\n",
    "\n",
    "You need to write a code which accepts a sequence of comma separated 4 digit binary numbers as its input and then check whether they are divisible by 5 or not. The numbers that are divisible by 5 are to be printed in a comma separated sequence.\n",
    "\n",
    "\n",
    "Example:\n",
    "\n",
    "0100,0011,1010,1001\n",
    "\n",
    "Then the output should be:\n",
    "\n",
    "1010\n",
    "Reference: https://www.datacamp.com/.../python-data-type-conversion\n",
    "\n",
    "https://stackoverflow.com/.../converting-binary-to..."
   ]
  },
  {
   "cell_type": "code",
   "execution_count": null,
   "metadata": {
    "colab": {
     "base_uri": "https://localhost:8080/"
    },
    "id": "Z4MxfymF0ul5",
    "outputId": "922a19df-461c-4213-d85d-d5d624615f15"
   },
   "outputs": [
    {
     "name": "stdout",
     "output_type": "stream",
     "text": [
      "Enter binary values in a comma_seperated sequence: \n",
      "0100,0011,1010,1001\n",
      "Below values are divisible by 5:\n",
      "Binary: {'1010'}\n",
      "Decimal: {10}\n"
     ]
    }
   ],
   "source": [
    "nums = input (\"Enter binary values in a comma_seperated sequence: \\n\").split(',')\n",
    "binary=[]\n",
    "decimal=[]\n",
    "for i in nums:\n",
    "  if int(i,2)%5==0:\n",
    "    x=int(i,2)\n",
    "    binary.append (i)\n",
    "    decimal.append (x)\n",
    "binary=set(binary)\n",
    "decimal=set(decimal)\n",
    "print(\"Below values are divisible by 5:\")\n",
    "print(\"Binary:\", binary)\n",
    "print(\"Decimal:\", decimal)"
   ]
  },
  {
   "cell_type": "code",
   "execution_count": null,
   "metadata": {
    "id": "GDZeCaut3NOu"
   },
   "outputs": [],
   "source": []
  },
  {
   "cell_type": "markdown",
   "metadata": {
    "id": "SPyxVp8qc__H"
   },
   "source": [
    "# **Task9**:\n",
    "\n",
    "With a given integral number n, write a program to generate a dictionary that contains (i, i*i) such that is an integral number between 1 and n (both included). and then the program should print the dictionary.\n",
    "\n",
    "Suppose the following input is supplied to the program:\n",
    "\n",
    "8\n",
    "\n",
    "Then, the output should be:\n",
    "\n",
    "{1: 1, 2: 4, 3: 9, 4: 16, 5: 25, 6: 36, 7: 49, 8: 64}"
   ]
  },
  {
   "cell_type": "code",
   "execution_count": null,
   "metadata": {
    "colab": {
     "base_uri": "https://localhost:8080/"
    },
    "id": "Vv-imvQpc_x_",
    "outputId": "e4da867a-bcc8-468d-9d75-10d9a0b341a4"
   },
   "outputs": [
    {
     "name": "stdout",
     "output_type": "stream",
     "text": [
      "6\n",
      "{1: 1, 2: 4, 3: 9, 4: 16, 5: 25, 6: 36}\n"
     ]
    }
   ],
   "source": [
    "dict0 = {}\n",
    "n = int(input())\n",
    "for i in range(1,n+1):\n",
    "    dict0 [i]=i*i\n",
    "    i+=1\n",
    "print(dict0)"
   ]
  },
  {
   "cell_type": "code",
   "execution_count": null,
   "metadata": {
    "id": "IsTlVtu9c_q3"
   },
   "outputs": [],
   "source": []
  }
 ],
 "metadata": {
  "colab": {
   "collapsed_sections": [],
   "name": "TASKS done.ipynb",
   "provenance": []
  },
  "kernelspec": {
   "display_name": "Python 3",
   "language": "python",
   "name": "python3"
  },
  "language_info": {
   "codemirror_mode": {
    "name": "ipython",
    "version": 3
   },
   "file_extension": ".py",
   "mimetype": "text/x-python",
   "name": "python",
   "nbconvert_exporter": "python",
   "pygments_lexer": "ipython3",
   "version": "3.8.8"
  }
 },
 "nbformat": 4,
 "nbformat_minor": 1
}
