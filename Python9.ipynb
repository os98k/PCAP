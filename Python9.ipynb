{
 "cells": [
  {
   "cell_type": "markdown",
   "id": "0f184e97",
   "metadata": {},
   "source": [
    "# Previous Discussed\n",
    "\n",
    "- More on List\n",
    "- Loops\n",
    "\n",
    "  - for loops"
   ]
  },
  {
   "cell_type": "markdown",
   "id": "deebadc4",
   "metadata": {},
   "source": [
    "# Topic Discussed\n",
    "\n",
    "- While loops\n",
    "- list packing and unpacking\n",
    "- tuple\n",
    "- set\n",
    "- dictionary"
   ]
  },
  {
   "cell_type": "markdown",
   "id": "e61ce281",
   "metadata": {},
   "source": [
    "## Difference between for and while loop"
   ]
  },
  {
   "cell_type": "markdown",
   "id": "2a7e0b8e",
   "metadata": {},
   "source": [
    "For loop is used to run (block of codes) for a specific number of times and while loop is used to run for as long as given condition is met. If we know number of iterations exactly then we go for for loop. If we don't know number of iterations exactly then we go for while loop. both are for repeat a task continuously up to few number of iterations based on a some condition.\n",
    "for loop is used when the number of iteration defined but in while loop it is undefined and you should use it until certain condition will met."
   ]
  },
  {
   "cell_type": "raw",
   "id": "f76daaed",
   "metadata": {},
   "source": [
    "For Loop\n",
    "\n",
    "For loop allows a programmer to execute a sequence of statements several times, it abbreviates the code which helps to manage loop variables.\n",
    "\n",
    "While loop\n",
    "\n",
    "While loop allows a programmer to repeat a single statement or a group of statements for the TRUE condition. It verifies the condition before executing the loop."
   ]
  },
  {
   "cell_type": "raw",
   "id": "6430b629",
   "metadata": {},
   "source": [
    "# while loop is conditional based \n",
    "\n",
    "The while loop statement is used to repeat a block of code till a condition is fulfilled. When we don’t know the exact number of times, a loop statement has to be executed. We make use of while loops. This way, till the test expression holds true, the loop body will be executed."
   ]
  },
  {
   "cell_type": "raw",
   "id": "fb3ffcbd",
   "metadata": {},
   "source": [
    "while condition:\n",
    "  #The loop body"
   ]
  },
  {
   "cell_type": "raw",
   "id": "6b9fafa2",
   "metadata": {},
   "source": [
    "#  The for loop\n",
    "\n",
    "The for loop in python is used to iterate over a given sequence. The sequence can be a string, a list, a tuple, a set, a dictionary, etc. As long as the length of the sequence is not reached, it will iterate over that sequence. The for loop contains initialization, the test expression, and the increment/decrement expression in the C language. Whereas in the case of python, we only have to mention the value and the sequence to be iterated."
   ]
  },
  {
   "cell_type": "raw",
   "id": "de2f7a17",
   "metadata": {},
   "source": [
    "for value in sequence:\n",
    "  #The loop body"
   ]
  },
  {
   "cell_type": "code",
   "execution_count": 5,
   "id": "af710fff",
   "metadata": {},
   "outputs": [
    {
     "name": "stdout",
     "output_type": "stream",
     "text": [
      "This looop will iterate for 10 times 0\n",
      "This looop will iterate for 10 times 1\n",
      "This looop will iterate for 10 times 2\n",
      "This looop will iterate for 10 times 3\n",
      "This looop will iterate for 10 times 4\n",
      "This looop will iterate for 10 times 5\n",
      "This looop will iterate for 10 times 6\n",
      "This looop will iterate for 10 times 7\n",
      "This looop will iterate for 10 times 8\n",
      "This looop will iterate for 10 times 9\n"
     ]
    }
   ],
   "source": [
    "for num in range(10):\n",
    "    print(\"This looop will iterate for 10 times\", num)"
   ]
  },
  {
   "cell_type": "markdown",
   "id": "7a6b5e2c",
   "metadata": {},
   "source": [
    "# While Loop"
   ]
  },
  {
   "cell_type": "code",
   "execution_count": 6,
   "id": "34329613",
   "metadata": {},
   "outputs": [
    {
     "name": "stdout",
     "output_type": "stream",
     "text": [
      "This loop will run until value reches to 10 0\n",
      "This loop will run until value reches to 10 1\n",
      "This loop will run until value reches to 10 2\n",
      "This loop will run until value reches to 10 3\n",
      "This loop will run until value reches to 10 4\n",
      "This loop will run until value reches to 10 5\n",
      "This loop will run until value reches to 10 6\n",
      "This loop will run until value reches to 10 7\n",
      "This loop will run until value reches to 10 8\n",
      "This loop will run until value reches to 10 9\n",
      "I am out of while loop now\n"
     ]
    }
   ],
   "source": [
    "a = 0 \n",
    "while a <10:\n",
    "    print(\"This loop will run until value reches to 10\",a)\n",
    "    a +=1  # counter\n",
    "print(\"I am out of while loop now\")"
   ]
  },
  {
   "cell_type": "code",
   "execution_count": 7,
   "id": "05a40ae9",
   "metadata": {},
   "outputs": [
    {
     "name": "stdout",
     "output_type": "stream",
     "text": [
      "I am out of while loop now\n"
     ]
    }
   ],
   "source": [
    "a = 0 \n",
    "while a <10:\n",
    "    print(\"This loop will run until value reches to 10\",a)\n",
    "    a +=1  # counter\n",
    "print(\"I am out of while loop now\")"
   ]
  },
  {
   "cell_type": "code",
   "execution_count": 11,
   "id": "c9ef92fa",
   "metadata": {},
   "outputs": [
    {
     "name": "stdout",
     "output_type": "stream",
     "text": [
      "This loop will run until value reches to 0 10\n",
      "This loop will run until value reches to 0 9\n",
      "This loop will run until value reches to 0 8\n",
      "This loop will run until value reches to 0 7\n",
      "This loop will run until value reches to 0 6\n",
      "This loop will run until value reches to 0 5\n",
      "This loop will run until value reches to 0 4\n",
      "This loop will run until value reches to 0 3\n",
      "This loop will run until value reches to 0 2\n",
      "This loop will run until value reches to 0 1\n",
      "I am out of while loop now\n"
     ]
    }
   ],
   "source": [
    "a = 10 \n",
    "while a > 0:\n",
    "    print(\"This loop will run until value reches to 0\",a)\n",
    "    a -=1  # counter\n",
    "print(\"I am out of while loop now\")"
   ]
  },
  {
   "cell_type": "code",
   "execution_count": 12,
   "id": "f636f159",
   "metadata": {},
   "outputs": [],
   "source": [
    "# Continue and break both are used in while loop"
   ]
  },
  {
   "cell_type": "code",
   "execution_count": 13,
   "id": "8881283d",
   "metadata": {},
   "outputs": [],
   "source": [
    "# for loop is executed number of times\n",
    "# we can use break keyword to break the for loop\n",
    "# while loop also executed defined number of time but conditional based\n",
    "# we can use break keyword to break the while loop"
   ]
  },
  {
   "cell_type": "code",
   "execution_count": 18,
   "id": "54930971",
   "metadata": {},
   "outputs": [
    {
     "name": "stdout",
     "output_type": "stream",
     "text": [
      "Enter your favourite dishedbiryani\n",
      "Enter your favourite dishedqorma\n",
      "Enter your favourite dishedghosma\n",
      "['biryani', 'qorma', 'ghosma']\n"
     ]
    }
   ],
   "source": [
    "dishes = []\n",
    "for a in range(3):\n",
    "    x = input(\"Enter your favourite dished\")\n",
    "    dishes.append(x)\n",
    "print(dishes)\n"
   ]
  },
  {
   "cell_type": "code",
   "execution_count": 67,
   "id": "dacb1e3d",
   "metadata": {},
   "outputs": [
    {
     "name": "stdout",
     "output_type": "stream",
     "text": [
      "Enter your number of dishes3\n",
      "['ww', '', 'w']\n",
      "['ww', '', 'w']\n",
      "['ww', '', 'w']\n"
     ]
    }
   ],
   "source": [
    "num_of_dishes = int(input(\"Enter your number of dishes\"))\n",
    "for a in range(num_of_dishes):\n",
    "    print(dishes)"
   ]
  },
  {
   "cell_type": "code",
   "execution_count": 68,
   "id": "1d77991a",
   "metadata": {},
   "outputs": [
    {
     "name": "stdout",
     "output_type": "stream",
     "text": [
      "Enter your number of dishes4\n",
      "Enter your favourite dishedd\n",
      "Enter your favourite dishedds\n",
      "Enter your favourite dishedfg\n",
      "Enter your favourite dishedgd\n",
      "['d', 'ds', 'fg', 'gd']\n"
     ]
    }
   ],
   "source": [
    "dishes = []\n",
    "num_of_dishes = int(input(\"Enter your number of dishes\"))\n",
    "for a in range(num_of_dishes):\n",
    "    x = input(\"Enter your favourite dished\")\n",
    "    dishes.append(x)\n",
    "print(dishes)"
   ]
  },
  {
   "cell_type": "code",
   "execution_count": 2,
   "id": "53867774",
   "metadata": {},
   "outputs": [
    {
     "name": "stdout",
     "output_type": "stream",
     "text": [
      "Enter your favourite dished w\n",
      "Enter your favourite dished w\n",
      "Enter your favourite dished \n",
      "Enter your favourite dished ee\n",
      "['w', 'w', '', 'ee']\n"
     ]
    }
   ],
   "source": [
    "dishes = []\n",
    "z = 0\n",
    "while z<4:\n",
    "    x = input(\"Enter your favourite dishes\")\n",
    "    dishes.append(x)\n",
    "    z +=1\n",
    "print(dishes)"
   ]
  },
  {
   "cell_type": "markdown",
   "id": "9511a082",
   "metadata": {},
   "source": [
    "## Flag in while loop"
   ]
  },
  {
   "cell_type": "code",
   "execution_count": 4,
   "id": "0886ddd6",
   "metadata": {},
   "outputs": [
    {
     "name": "stdout",
     "output_type": "stream",
     "text": [
      "Enter your favourite dish or q to exitg\n",
      "['g']\n",
      "Enter your favourite dish or q to exitj\n",
      "['g', 'j']\n",
      "Enter your favourite dish or q to exith\n",
      "['g', 'j', 'h']\n",
      "Enter your favourite dish or q to exith\n",
      "['g', 'j', 'h', 'h']\n",
      "Enter your favourite dish or q to exitf\n",
      "['g', 'j', 'h', 'h', 'f']\n",
      "Enter your favourite dish or q to exitq\n",
      "['g', 'j', 'h', 'h', 'f', 'q']\n"
     ]
    }
   ],
   "source": [
    "flag = True\n",
    "dishes = []\n",
    "while flag:\n",
    "    dish = input(\"Enter your favourite dish or q to exit\")\n",
    "    dishes.append(dish)\n",
    "    if dish == \"q\":\n",
    "        flag = False\n",
    "\n",
    "    print(dishes)"
   ]
  },
  {
   "cell_type": "code",
   "execution_count": 5,
   "id": "ba84f052",
   "metadata": {},
   "outputs": [
    {
     "name": "stdout",
     "output_type": "stream",
     "text": [
      "Enter your favourite dish or q to exitw\n",
      "['w']\n",
      "Enter your favourite dish or q to exitw\n",
      "['w', 'w']\n",
      "Enter your favourite dish or q to exite\n",
      "['w', 'w', 'e']\n",
      "Enter your favourite dish or q to exitq\n",
      "['w', 'w', 'e']\n"
     ]
    }
   ],
   "source": [
    "flag = True\n",
    "dishes = []\n",
    "while flag:\n",
    "    dish = input(\"Enter your favourite dish or q to exit\")\n",
    "   \n",
    "    if dish == \"q\":\n",
    "        flag = False\n",
    "    else:\n",
    "        dishes.append(dish)\n",
    "\n",
    "    print(dishes)"
   ]
  },
  {
   "cell_type": "code",
   "execution_count": 6,
   "id": "00a6ee40",
   "metadata": {},
   "outputs": [
    {
     "name": "stdout",
     "output_type": "stream",
     "text": [
      "Enter your favourite dish or q to exitw\n",
      "Enter your favourite dish or q to exitw\n",
      "Enter your favourite dish or q to exitw\n",
      "['w', 'w', 'w']\n"
     ]
    }
   ],
   "source": [
    "flag = True\n",
    "dishes = []\n",
    "for a in range(3):\n",
    "    dish = input(\"Enter your favourite dish or q to exit\")\n",
    "   \n",
    "    if dish == \"q\":\n",
    "        flag = False\n",
    "    else:\n",
    "        dishes.append(dish)\n",
    "\n",
    "print(dishes)\n"
   ]
  },
  {
   "cell_type": "code",
   "execution_count": 7,
   "id": "5b12cc39",
   "metadata": {},
   "outputs": [],
   "source": [
    "# for loop can not its limit \n",
    "# maximum it will go to 3 iterations\n"
   ]
  },
  {
   "cell_type": "code",
   "execution_count": 9,
   "id": "3b3e5bbf",
   "metadata": {},
   "outputs": [
    {
     "name": "stdout",
     "output_type": "stream",
     "text": [
      "Enter your favourite dish or q to exitww\n",
      "Enter your favourite dish or q to exit\n",
      "Enter your favourite dish or q to exitw\n",
      "Enter your favourite dish or q to exitq\n",
      "['ww', '', 'w']\n"
     ]
    }
   ],
   "source": [
    "#flag = True\n",
    "dishes = []\n",
    "for a in range(5):\n",
    "    dish = input(\"Enter your favourite dish or q to exit\")\n",
    "   \n",
    "    if dish == \"q\":\n",
    "        break\n",
    "    else:\n",
    "        dishes.append(dish)\n",
    "\n",
    "print(dishes)"
   ]
  },
  {
   "cell_type": "markdown",
   "id": "0c367033",
   "metadata": {},
   "source": [
    "## List Packing and Unpacking"
   ]
  },
  {
   "cell_type": "code",
   "execution_count": 11,
   "id": "a1fd8bce",
   "metadata": {},
   "outputs": [],
   "source": [
    "a = [\"mango\", \"apple\", \"grapes\", \"peas\"]\n",
    "# Packing"
   ]
  },
  {
   "cell_type": "code",
   "execution_count": 13,
   "id": "84df3e84",
   "metadata": {},
   "outputs": [],
   "source": [
    "fruit1, fruit2, fruit3, fruit4 = a\n",
    "# Unpacking"
   ]
  },
  {
   "cell_type": "code",
   "execution_count": 15,
   "id": "9b6c2fc0",
   "metadata": {},
   "outputs": [
    {
     "name": "stdout",
     "output_type": "stream",
     "text": [
      "mango apple grapes peas\n"
     ]
    }
   ],
   "source": [
    "print(fruit1, fruit2, fruit3, fruit4)"
   ]
  },
  {
   "cell_type": "code",
   "execution_count": 16,
   "id": "dfb7b7c0",
   "metadata": {},
   "outputs": [],
   "source": [
    "e = [\"mango\", \"apple\", \"grapes\", \"peas\"]\n",
    "# Packing"
   ]
  },
  {
   "cell_type": "code",
   "execution_count": 17,
   "id": "6575ab81",
   "metadata": {},
   "outputs": [
    {
     "ename": "ValueError",
     "evalue": "not enough values to unpack (expected 5, got 4)",
     "output_type": "error",
     "traceback": [
      "\u001b[1;31m---------------------------------------------------------------------------\u001b[0m",
      "\u001b[1;31mValueError\u001b[0m                                Traceback (most recent call last)",
      "\u001b[1;32m<ipython-input-17-ee2499a492d5>\u001b[0m in \u001b[0;36m<module>\u001b[1;34m\u001b[0m\n\u001b[1;32m----> 1\u001b[1;33m \u001b[0mfruit1\u001b[0m\u001b[1;33m,\u001b[0m \u001b[0mfruit2\u001b[0m\u001b[1;33m,\u001b[0m \u001b[0mfruit3\u001b[0m\u001b[1;33m,\u001b[0m \u001b[0mfruit4\u001b[0m\u001b[1;33m,\u001b[0m \u001b[0mfruit5\u001b[0m \u001b[1;33m=\u001b[0m \u001b[0me\u001b[0m\u001b[1;33m\u001b[0m\u001b[1;33m\u001b[0m\u001b[0m\n\u001b[0m",
      "\u001b[1;31mValueError\u001b[0m: not enough values to unpack (expected 5, got 4)"
     ]
    }
   ],
   "source": [
    "fruit1, fruit2, fruit3, fruit4, fruit5 = e\n",
    "# Giving more values than total "
   ]
  },
  {
   "cell_type": "code",
   "execution_count": 18,
   "id": "1316d368",
   "metadata": {},
   "outputs": [
    {
     "ename": "ValueError",
     "evalue": "too many values to unpack (expected 3)",
     "output_type": "error",
     "traceback": [
      "\u001b[1;31m---------------------------------------------------------------------------\u001b[0m",
      "\u001b[1;31mValueError\u001b[0m                                Traceback (most recent call last)",
      "\u001b[1;32m<ipython-input-18-cf9da4472e7a>\u001b[0m in \u001b[0;36m<module>\u001b[1;34m\u001b[0m\n\u001b[1;32m----> 1\u001b[1;33m \u001b[0mfruit1\u001b[0m\u001b[1;33m,\u001b[0m \u001b[0mfruit2\u001b[0m\u001b[1;33m,\u001b[0m \u001b[0mfruit3\u001b[0m \u001b[1;33m=\u001b[0m \u001b[0me\u001b[0m\u001b[1;33m\u001b[0m\u001b[1;33m\u001b[0m\u001b[0m\n\u001b[0m\u001b[0;32m      2\u001b[0m \u001b[1;31m# Giving more values than total\u001b[0m\u001b[1;33m\u001b[0m\u001b[1;33m\u001b[0m\u001b[1;33m\u001b[0m\u001b[0m\n",
      "\u001b[1;31mValueError\u001b[0m: too many values to unpack (expected 3)"
     ]
    }
   ],
   "source": [
    "fruit1, fruit2, fruit3 = e\n",
    "# Giving less values than total "
   ]
  },
  {
   "cell_type": "code",
   "execution_count": 19,
   "id": "82fc89aa",
   "metadata": {},
   "outputs": [],
   "source": [
    "fruit1, fruit2, fruit3, fruit4 = e\n",
    "# Giving equal values than total "
   ]
  },
  {
   "cell_type": "code",
   "execution_count": 20,
   "id": "3b17f358",
   "metadata": {},
   "outputs": [
    {
     "name": "stdout",
     "output_type": "stream",
     "text": [
      "mango apple grapes peas\n"
     ]
    }
   ],
   "source": [
    "print(fruit1, fruit2, fruit3, fruit4)\n"
   ]
  },
  {
   "cell_type": "markdown",
   "id": "84d9c0d1",
   "metadata": {},
   "source": [
    "# Tuple"
   ]
  },
  {
   "cell_type": "raw",
   "id": "7eb55790",
   "metadata": {},
   "source": [
    "As we has studeid before, strings are immutable and we can make changes in orignal string.\n",
    "Tuples are datatypes similar to list with one difference which is tuples are immutable like strings"
   ]
  },
  {
   "cell_type": "code",
   "execution_count": 22,
   "id": "0706b84e",
   "metadata": {},
   "outputs": [],
   "source": [
    "a_tuple = ()"
   ]
  },
  {
   "cell_type": "code",
   "execution_count": 23,
   "id": "8e679802",
   "metadata": {},
   "outputs": [],
   "source": [
    "# Changes can be only done at the time of declaration and initialization"
   ]
  },
  {
   "cell_type": "code",
   "execution_count": 24,
   "id": "186e11b6",
   "metadata": {},
   "outputs": [],
   "source": [
    "b_tuple = (\"mango\", \"apple\", \"grapes\", \"peas\")"
   ]
  },
  {
   "cell_type": "code",
   "execution_count": 25,
   "id": "d307d786",
   "metadata": {},
   "outputs": [
    {
     "data": {
      "text/plain": [
       "('mango', 'apple', 'grapes', 'peas')"
      ]
     },
     "execution_count": 25,
     "metadata": {},
     "output_type": "execute_result"
    }
   ],
   "source": [
    "b_tuple"
   ]
  },
  {
   "cell_type": "code",
   "execution_count": 26,
   "id": "516de5c7",
   "metadata": {},
   "outputs": [],
   "source": [
    "names = \"nasir\", \"osama\", \"shakeel\", \"hussain\""
   ]
  },
  {
   "cell_type": "code",
   "execution_count": 27,
   "id": "12415f85",
   "metadata": {},
   "outputs": [
    {
     "data": {
      "text/plain": [
       "('nasir', 'osama', 'shakeel', 'hussain')"
      ]
     },
     "execution_count": 27,
     "metadata": {},
     "output_type": "execute_result"
    }
   ],
   "source": [
    "names\n"
   ]
  },
  {
   "cell_type": "code",
   "execution_count": 28,
   "id": "2840f1ef",
   "metadata": {},
   "outputs": [
    {
     "data": {
      "text/plain": [
       "tuple"
      ]
     },
     "execution_count": 28,
     "metadata": {},
     "output_type": "execute_result"
    }
   ],
   "source": [
    "type(names)"
   ]
  },
  {
   "cell_type": "code",
   "execution_count": 29,
   "id": "3837b325",
   "metadata": {},
   "outputs": [],
   "source": [
    "st1,st2,st3,st4 = names\n",
    "#unpacking"
   ]
  },
  {
   "cell_type": "code",
   "execution_count": 30,
   "id": "10f69c41",
   "metadata": {},
   "outputs": [
    {
     "name": "stdout",
     "output_type": "stream",
     "text": [
      "nasir osama shakeel hussain\n"
     ]
    }
   ],
   "source": [
    "print(st1,st2,st3,st4)"
   ]
  },
  {
   "cell_type": "code",
   "execution_count": 31,
   "id": "ea3c07c7",
   "metadata": {},
   "outputs": [
    {
     "data": {
      "text/plain": [
       "'nasir'"
      ]
     },
     "execution_count": 31,
     "metadata": {},
     "output_type": "execute_result"
    }
   ],
   "source": [
    "names[0]"
   ]
  },
  {
   "cell_type": "code",
   "execution_count": 32,
   "id": "10f25541",
   "metadata": {},
   "outputs": [
    {
     "data": {
      "text/plain": [
       "('nasir', 'osama')"
      ]
     },
     "execution_count": 32,
     "metadata": {},
     "output_type": "execute_result"
    }
   ],
   "source": [
    "names[0:2]"
   ]
  },
  {
   "cell_type": "code",
   "execution_count": 34,
   "id": "97484f32",
   "metadata": {},
   "outputs": [
    {
     "data": {
      "text/plain": [
       "('nasir', 'osama', 'shakeel', 'hussain')"
      ]
     },
     "execution_count": 34,
     "metadata": {},
     "output_type": "execute_result"
    }
   ],
   "source": [
    "names[:]"
   ]
  },
  {
   "cell_type": "code",
   "execution_count": 36,
   "id": "62924182",
   "metadata": {},
   "outputs": [],
   "source": [
    "# We can not perfrom append,, pop , slice, update and delete in tuples\n",
    "# As we can not make changes in orignal tuple value"
   ]
  },
  {
   "cell_type": "code",
   "execution_count": 38,
   "id": "8f8a1a5b",
   "metadata": {},
   "outputs": [
    {
     "data": {
      "text/plain": [
       "1"
      ]
     },
     "execution_count": 38,
     "metadata": {},
     "output_type": "execute_result"
    }
   ],
   "source": [
    "names.count(\"osama\")"
   ]
  },
  {
   "cell_type": "code",
   "execution_count": 39,
   "id": "02064c47",
   "metadata": {},
   "outputs": [
    {
     "data": {
      "text/plain": [
       "1"
      ]
     },
     "execution_count": 39,
     "metadata": {},
     "output_type": "execute_result"
    }
   ],
   "source": [
    "names.index(\"osama\")"
   ]
  },
  {
   "cell_type": "code",
   "execution_count": 42,
   "id": "59a81c80",
   "metadata": {},
   "outputs": [],
   "source": [
    "two_stud = names[0:2] #making a copy of tuple"
   ]
  },
  {
   "cell_type": "code",
   "execution_count": 43,
   "id": "2729e11f",
   "metadata": {},
   "outputs": [
    {
     "data": {
      "text/plain": [
       "('nasir', 'osama')"
      ]
     },
     "execution_count": 43,
     "metadata": {},
     "output_type": "execute_result"
    }
   ],
   "source": [
    "two_stud"
   ]
  },
  {
   "cell_type": "code",
   "execution_count": 45,
   "id": "dfa0f009",
   "metadata": {},
   "outputs": [
    {
     "data": {
      "text/plain": [
       "['nasir', 'osama', 'shakeel', 'hussain']"
      ]
     },
     "execution_count": 45,
     "metadata": {},
     "output_type": "execute_result"
    }
   ],
   "source": [
    "list(names) #Typecasting "
   ]
  },
  {
   "cell_type": "code",
   "execution_count": 46,
   "id": "8e23dc70",
   "metadata": {},
   "outputs": [
    {
     "data": {
      "text/plain": [
       "('nasir', 'osama', 'shakeel', 'hussain')"
      ]
     },
     "execution_count": 46,
     "metadata": {},
     "output_type": "execute_result"
    }
   ],
   "source": [
    "names"
   ]
  },
  {
   "cell_type": "code",
   "execution_count": 47,
   "id": "ae2202a9",
   "metadata": {},
   "outputs": [
    {
     "data": {
      "text/plain": [
       "('mango', 'apple', 'grapes', 'peas')"
      ]
     },
     "execution_count": 47,
     "metadata": {},
     "output_type": "execute_result"
    }
   ],
   "source": [
    "tuple(a) # typecasting"
   ]
  },
  {
   "cell_type": "code",
   "execution_count": 48,
   "id": "a3f4817c",
   "metadata": {},
   "outputs": [
    {
     "data": {
      "text/plain": [
       "['mango', 'apple', 'grapes', 'peas']"
      ]
     },
     "execution_count": 48,
     "metadata": {},
     "output_type": "execute_result"
    }
   ],
   "source": [
    "a"
   ]
  },
  {
   "cell_type": "code",
   "execution_count": 49,
   "id": "15dd261c",
   "metadata": {},
   "outputs": [],
   "source": [
    "# A tuple can have a tuple in it\n",
    "multi_tuple = (2,3,4,5,names) #tuple in tuple"
   ]
  },
  {
   "cell_type": "code",
   "execution_count": 50,
   "id": "de3efb03",
   "metadata": {},
   "outputs": [
    {
     "data": {
      "text/plain": [
       "(2, 3, 4, 5, ('nasir', 'osama', 'shakeel', 'hussain'))"
      ]
     },
     "execution_count": 50,
     "metadata": {},
     "output_type": "execute_result"
    }
   ],
   "source": [
    "multi_tuple"
   ]
  },
  {
   "cell_type": "code",
   "execution_count": 54,
   "id": "aff08be4",
   "metadata": {},
   "outputs": [
    {
     "data": {
      "text/plain": [
       "'osama'"
      ]
     },
     "execution_count": 54,
     "metadata": {},
     "output_type": "execute_result"
    }
   ],
   "source": [
    "multi_tuple[4][1]"
   ]
  },
  {
   "cell_type": "code",
   "execution_count": 51,
   "id": "f340fcce",
   "metadata": {},
   "outputs": [],
   "source": [
    "# A tuple can have a kist in it\n",
    "list_in_tuple = (2,3,4,5,a)"
   ]
  },
  {
   "cell_type": "code",
   "execution_count": 52,
   "id": "a715ea78",
   "metadata": {},
   "outputs": [
    {
     "data": {
      "text/plain": [
       "(2, 3, 4, 5, ['mango', 'apple', 'grapes', 'peas'])"
      ]
     },
     "execution_count": 52,
     "metadata": {},
     "output_type": "execute_result"
    }
   ],
   "source": [
    "list_in_tuple"
   ]
  },
  {
   "cell_type": "code",
   "execution_count": 55,
   "id": "b1791535",
   "metadata": {},
   "outputs": [
    {
     "data": {
      "text/plain": [
       "'apple'"
      ]
     },
     "execution_count": 55,
     "metadata": {},
     "output_type": "execute_result"
    }
   ],
   "source": [
    "list_in_tuple[4][1]"
   ]
  },
  {
   "cell_type": "markdown",
   "id": "076b6a85",
   "metadata": {},
   "source": [
    "# Set"
   ]
  },
  {
   "cell_type": "markdown",
   "id": "236e2bc5",
   "metadata": {},
   "source": [
    "Sets are used to store multiple items in a single variable. Set is one of 4 built-in data types in Python used to store collections of data, the other 3 are ... \n",
    "set is an unordered collection data type its iterable,mutable and has no duplicate elements set, In mathematics and logic, any collection of objects (elements), which may be mathematical (e.g., numbers, functions)"
   ]
  },
  {
   "cell_type": "code",
   "execution_count": 58,
   "id": "27b227cc",
   "metadata": {},
   "outputs": [],
   "source": [
    "a_set = {1,2,3,4,5,6}"
   ]
  },
  {
   "cell_type": "code",
   "execution_count": 59,
   "id": "1273179e",
   "metadata": {},
   "outputs": [
    {
     "data": {
      "text/plain": [
       "set"
      ]
     },
     "execution_count": 59,
     "metadata": {},
     "output_type": "execute_result"
    }
   ],
   "source": [
    "type(a_set)"
   ]
  },
  {
   "cell_type": "code",
   "execution_count": 62,
   "id": "21549c26",
   "metadata": {},
   "outputs": [],
   "source": [
    "b_set = set(a) #typecaste"
   ]
  },
  {
   "cell_type": "code",
   "execution_count": 63,
   "id": "54d5446c",
   "metadata": {},
   "outputs": [
    {
     "data": {
      "text/plain": [
       "{'apple', 'grapes', 'mango', 'peas'}"
      ]
     },
     "execution_count": 63,
     "metadata": {},
     "output_type": "execute_result"
    }
   ],
   "source": [
    "b_set"
   ]
  },
  {
   "cell_type": "code",
   "execution_count": 64,
   "id": "f4901d9a",
   "metadata": {},
   "outputs": [],
   "source": [
    "# Set is a collection of well defined and distinct object \n",
    "# These objects can be strings, numbers, list or tuple\n",
    "# Set can not have repeated value"
   ]
  },
  {
   "cell_type": "code",
   "execution_count": 87,
   "id": "09b2ad5c",
   "metadata": {},
   "outputs": [],
   "source": [
    "d = set([9,8,7,6,5,4,3,2,1])"
   ]
  },
  {
   "cell_type": "code",
   "execution_count": 88,
   "id": "7d520301",
   "metadata": {},
   "outputs": [
    {
     "data": {
      "text/plain": [
       "{1, 2, 3, 4, 5, 6, 7, 8, 9}"
      ]
     },
     "execution_count": 88,
     "metadata": {},
     "output_type": "execute_result"
    }
   ],
   "source": [
    "d"
   ]
  },
  {
   "cell_type": "code",
   "execution_count": null,
   "id": "53e03d72",
   "metadata": {},
   "outputs": [],
   "source": []
  },
  {
   "cell_type": "code",
   "execution_count": null,
   "id": "0aa19909",
   "metadata": {},
   "outputs": [],
   "source": []
  },
  {
   "cell_type": "code",
   "execution_count": 65,
   "id": "36b0e65a",
   "metadata": {},
   "outputs": [],
   "source": [
    "c = {1,23,3,44,5,67,1,23,3}"
   ]
  },
  {
   "cell_type": "code",
   "execution_count": 66,
   "id": "487ad95d",
   "metadata": {},
   "outputs": [
    {
     "data": {
      "text/plain": [
       "{1, 3, 5, 23, 44, 67}"
      ]
     },
     "execution_count": 66,
     "metadata": {},
     "output_type": "execute_result"
    }
   ],
   "source": [
    "c"
   ]
  },
  {
   "cell_type": "raw",
   "id": "986731b3",
   "metadata": {},
   "source": [
    "Now to remove repetive values from list or tuple we can simply typecaste it in set and set will remove the duplicate"
   ]
  },
  {
   "cell_type": "code",
   "execution_count": null,
   "id": "7b374185",
   "metadata": {},
   "outputs": [],
   "source": [
    "# We have set functions .add, copy, difference and many more"
   ]
  },
  {
   "cell_type": "code",
   "execution_count": 69,
   "id": "4970bc43",
   "metadata": {},
   "outputs": [],
   "source": [
    "c.discard(67)"
   ]
  },
  {
   "cell_type": "code",
   "execution_count": 70,
   "id": "915985eb",
   "metadata": {},
   "outputs": [
    {
     "data": {
      "text/plain": [
       "{1, 3, 5, 23, 44}"
      ]
     },
     "execution_count": 70,
     "metadata": {},
     "output_type": "execute_result"
    }
   ],
   "source": [
    "c"
   ]
  },
  {
   "cell_type": "code",
   "execution_count": 71,
   "id": "287b3bf4",
   "metadata": {},
   "outputs": [],
   "source": [
    "c.remove(44)"
   ]
  },
  {
   "cell_type": "code",
   "execution_count": 72,
   "id": "33fc95f3",
   "metadata": {},
   "outputs": [
    {
     "data": {
      "text/plain": [
       "{1, 3, 5, 23}"
      ]
     },
     "execution_count": 72,
     "metadata": {},
     "output_type": "execute_result"
    }
   ],
   "source": [
    "c"
   ]
  },
  {
   "cell_type": "code",
   "execution_count": 74,
   "id": "f2614ef7",
   "metadata": {},
   "outputs": [],
   "source": [
    "c.discard(12) # discarding a value that doesn't exist"
   ]
  },
  {
   "cell_type": "code",
   "execution_count": 75,
   "id": "f0d7056d",
   "metadata": {},
   "outputs": [
    {
     "data": {
      "text/plain": [
       "{1, 3, 5, 23}"
      ]
     },
     "execution_count": 75,
     "metadata": {},
     "output_type": "execute_result"
    }
   ],
   "source": [
    "c"
   ]
  },
  {
   "cell_type": "code",
   "execution_count": 76,
   "id": "582d8832",
   "metadata": {},
   "outputs": [
    {
     "ename": "KeyError",
     "evalue": "13",
     "output_type": "error",
     "traceback": [
      "\u001b[1;31m---------------------------------------------------------------------------\u001b[0m",
      "\u001b[1;31mKeyError\u001b[0m                                  Traceback (most recent call last)",
      "\u001b[1;32m<ipython-input-76-cee14365a327>\u001b[0m in \u001b[0;36m<module>\u001b[1;34m\u001b[0m\n\u001b[1;32m----> 1\u001b[1;33m \u001b[0mc\u001b[0m\u001b[1;33m.\u001b[0m\u001b[0mremove\u001b[0m\u001b[1;33m(\u001b[0m\u001b[1;36m13\u001b[0m\u001b[1;33m)\u001b[0m \u001b[1;31m# removing a value that doesn't exist\u001b[0m\u001b[1;33m\u001b[0m\u001b[1;33m\u001b[0m\u001b[0m\n\u001b[0m",
      "\u001b[1;31mKeyError\u001b[0m: 13"
     ]
    }
   ],
   "source": [
    "c.remove(13) # removing a value that doesn't exist\n",
    "# It will through an error"
   ]
  },
  {
   "cell_type": "code",
   "execution_count": 79,
   "id": "345316e6",
   "metadata": {},
   "outputs": [
    {
     "name": "stdout",
     "output_type": "stream",
     "text": [
      "5\n",
      "{23}\n"
     ]
    }
   ],
   "source": [
    "print(c.pop()) # Will delete a random file\n",
    "print(c)"
   ]
  },
  {
   "cell_type": "code",
   "execution_count": 81,
   "id": "be05d450",
   "metadata": {},
   "outputs": [],
   "source": [
    "c.clear()"
   ]
  },
  {
   "cell_type": "code",
   "execution_count": 82,
   "id": "d7034a52",
   "metadata": {},
   "outputs": [
    {
     "data": {
      "text/plain": [
       "set()"
      ]
     },
     "execution_count": 82,
     "metadata": {},
     "output_type": "execute_result"
    }
   ],
   "source": [
    "c"
   ]
  },
  {
   "cell_type": "code",
   "execution_count": 80,
   "id": "9a987c1c",
   "metadata": {},
   "outputs": [],
   "source": [
    "b = {2,3,4,5,3,4,5,6,7,8}"
   ]
  },
  {
   "cell_type": "code",
   "execution_count": 83,
   "id": "bfbf6bec",
   "metadata": {},
   "outputs": [],
   "source": [
    "# add function in set\n",
    "b.add(456)"
   ]
  },
  {
   "cell_type": "code",
   "execution_count": 84,
   "id": "d766cb73",
   "metadata": {},
   "outputs": [
    {
     "name": "stdout",
     "output_type": "stream",
     "text": [
      "{2, 3, 4, 5, 6, 7, 8, 456}\n"
     ]
    }
   ],
   "source": [
    "print(b)"
   ]
  },
  {
   "cell_type": "code",
   "execution_count": 85,
   "id": "85b04a5d",
   "metadata": {},
   "outputs": [
    {
     "data": {
      "text/plain": [
       "{2, 3, 4, 5, 6, 7, 8, 345, 456}"
      ]
     },
     "execution_count": 85,
     "metadata": {},
     "output_type": "execute_result"
    }
   ],
   "source": [
    "b.add(345)\n",
    "b"
   ]
  },
  {
   "cell_type": "code",
   "execution_count": 86,
   "id": "80fd5d02",
   "metadata": {},
   "outputs": [
    {
     "data": {
      "text/plain": [
       "{2, 3, 4, 5, 6, 7, 8, 9, 56, 345, 456}"
      ]
     },
     "execution_count": 86,
     "metadata": {},
     "output_type": "execute_result"
    }
   ],
   "source": [
    "# Updating set giving multiole values \n",
    "b.update([2,3,4,56,9])\n",
    "b"
   ]
  },
  {
   "cell_type": "code",
   "execution_count": 89,
   "id": "63458e8e",
   "metadata": {},
   "outputs": [],
   "source": [
    "c.update([11,12,13,14],d)"
   ]
  },
  {
   "cell_type": "code",
   "execution_count": 90,
   "id": "b52805bd",
   "metadata": {},
   "outputs": [
    {
     "data": {
      "text/plain": [
       "{1, 2, 3, 4, 5, 6, 7, 8, 9, 11, 12, 13, 14}"
      ]
     },
     "execution_count": 90,
     "metadata": {},
     "output_type": "execute_result"
    }
   ],
   "source": [
    "c"
   ]
  },
  {
   "cell_type": "code",
   "execution_count": 91,
   "id": "e9c84a0c",
   "metadata": {},
   "outputs": [],
   "source": [
    "s1 = {1,2,3}\n",
    "s2 = {2,3,4}\n",
    "s3 = {3,4,5}"
   ]
  },
  {
   "cell_type": "code",
   "execution_count": 92,
   "id": "e6c3822b",
   "metadata": {},
   "outputs": [],
   "source": [
    "s4 = s1.intersection(s2)"
   ]
  },
  {
   "cell_type": "code",
   "execution_count": 93,
   "id": "b8e12ac0",
   "metadata": {},
   "outputs": [
    {
     "data": {
      "text/plain": [
       "{2, 3}"
      ]
     },
     "execution_count": 93,
     "metadata": {},
     "output_type": "execute_result"
    }
   ],
   "source": [
    "s4"
   ]
  },
  {
   "cell_type": "code",
   "execution_count": 94,
   "id": "931c48ab",
   "metadata": {},
   "outputs": [],
   "source": [
    "s5 = s1.intersection(s2,s3)"
   ]
  },
  {
   "cell_type": "code",
   "execution_count": 95,
   "id": "82dd0aa1",
   "metadata": {},
   "outputs": [
    {
     "data": {
      "text/plain": [
       "{3}"
      ]
     },
     "execution_count": 95,
     "metadata": {},
     "output_type": "execute_result"
    }
   ],
   "source": [
    "s5"
   ]
  },
  {
   "cell_type": "code",
   "execution_count": 96,
   "id": "bf34d6dd",
   "metadata": {},
   "outputs": [
    {
     "data": {
      "text/plain": [
       "{1}"
      ]
     },
     "execution_count": 96,
     "metadata": {},
     "output_type": "execute_result"
    }
   ],
   "source": [
    "s6 = s1.difference(s2)\n",
    "s6\n"
   ]
  },
  {
   "cell_type": "code",
   "execution_count": 97,
   "id": "a7978bb7",
   "metadata": {},
   "outputs": [
    {
     "data": {
      "text/plain": [
       "{1}"
      ]
     },
     "execution_count": 97,
     "metadata": {},
     "output_type": "execute_result"
    }
   ],
   "source": [
    "s7 = s1.difference(s2,s3)# s have 1,2,3 s2 have 2,3,4 and s3 have 3,4,5 means s1 has only 1 has unique has compare to other both\n",
    "                         # so it will only return 1 as difference\n",
    "s7"
   ]
  },
  {
   "cell_type": "code",
   "execution_count": 98,
   "id": "9da499e1",
   "metadata": {},
   "outputs": [
    {
     "data": {
      "text/plain": [
       "{4}"
      ]
     },
     "execution_count": 98,
     "metadata": {},
     "output_type": "execute_result"
    }
   ],
   "source": [
    "s8 = s2.difference(s1)  # s2 has only 4 as different from s1\n",
    "s8"
   ]
  },
  {
   "cell_type": "code",
   "execution_count": 100,
   "id": "6ad36b32",
   "metadata": {},
   "outputs": [
    {
     "data": {
      "text/plain": [
       "set()"
      ]
     },
     "execution_count": 100,
     "metadata": {},
     "output_type": "execute_result"
    }
   ],
   "source": [
    "s9 = s2.difference(s1,s3) # it has nothing different from both sets\n",
    "s9"
   ]
  },
  {
   "cell_type": "code",
   "execution_count": 102,
   "id": "64fd0083",
   "metadata": {},
   "outputs": [
    {
     "data": {
      "text/plain": [
       "{1, 4}"
      ]
     },
     "execution_count": 102,
     "metadata": {},
     "output_type": "execute_result"
    }
   ],
   "source": [
    "s10 = s1.symmetric_difference(s2) # differnce in both\n",
    "s10"
   ]
  },
  {
   "cell_type": "code",
   "execution_count": 103,
   "id": "24ba3700",
   "metadata": {},
   "outputs": [
    {
     "data": {
      "text/plain": [
       "[1, 2, 3]"
      ]
     },
     "execution_count": 103,
     "metadata": {},
     "output_type": "execute_result"
    }
   ],
   "source": [
    "l1 = [1,2,3,1,2,3] # Removing duplicate from list\n",
    "l2 = list(set(l1))\n",
    "l2"
   ]
  },
  {
   "cell_type": "code",
   "execution_count": 107,
   "id": "bfe01e80",
   "metadata": {},
   "outputs": [
    {
     "data": {
      "text/plain": [
       "{'osama'}"
      ]
     },
     "execution_count": 107,
     "metadata": {},
     "output_type": "execute_result"
    }
   ],
   "source": [
    "house_members = [\"osama\", \"zain\", \"hassan\", \"amir\", \"yaseen\", \"Muhammad\", \"Ahmed\"]\n",
    "job_mem = [\"amir\", \"yaseen\",\"osama\"]\n",
    "stud_mem = [\"osama\", \"zain\", \"hassan\"]\n",
    "\n",
    "job_stud_mem = set(job_mem).intersection(stud_mem)\n",
    "job_stud_mem"
   ]
  },
  {
   "cell_type": "code",
   "execution_count": 108,
   "id": "87dff39b",
   "metadata": {},
   "outputs": [
    {
     "data": {
      "text/plain": [
       "{'Ahmed', 'Muhammad'}"
      ]
     },
     "execution_count": 108,
     "metadata": {},
     "output_type": "execute_result"
    }
   ],
   "source": [
    "nor_job_stud_mem = set(house_members).difference(stud_mem, job_mem)\n",
    "nor_job_stud_mem"
   ]
  },
  {
   "cell_type": "code",
   "execution_count": 109,
   "id": "f81784c4",
   "metadata": {},
   "outputs": [
    {
     "name": "stdout",
     "output_type": "stream",
     "text": [
      "found!\n"
     ]
    }
   ],
   "source": [
    "if \"osama\" in job_mem:\n",
    "    print(\"found!\")"
   ]
  },
  {
   "cell_type": "code",
   "execution_count": null,
   "id": "dd07b9d8",
   "metadata": {},
   "outputs": [],
   "source": [
    "# We can use for loop for finding any element from the list but we can do this using intersection and difference \n",
    "# function in sets.\n",
    "\n",
    "# One can be more effecient than other \n",
    "# Improve code performance and effeciency"
   ]
  },
  {
   "cell_type": "markdown",
   "id": "6401e93f",
   "metadata": {},
   "source": [
    "# Dictionary"
   ]
  },
  {
   "cell_type": "code",
   "execution_count": 60,
   "id": "733ee379",
   "metadata": {},
   "outputs": [],
   "source": [
    "a_dictionary = {\"key\":100}"
   ]
  },
  {
   "cell_type": "code",
   "execution_count": 61,
   "id": "cd95d5b0",
   "metadata": {},
   "outputs": [
    {
     "data": {
      "text/plain": [
       "dict"
      ]
     },
     "execution_count": 61,
     "metadata": {},
     "output_type": "execute_result"
    }
   ],
   "source": [
    "type(a_dictionary)"
   ]
  },
  {
   "cell_type": "code",
   "execution_count": null,
   "id": "f6abd8f9",
   "metadata": {},
   "outputs": [],
   "source": []
  }
 ],
 "metadata": {
  "kernelspec": {
   "display_name": "Python 3",
   "language": "python",
   "name": "python3"
  },
  "language_info": {
   "codemirror_mode": {
    "name": "ipython",
    "version": 3
   },
   "file_extension": ".py",
   "mimetype": "text/x-python",
   "name": "python",
   "nbconvert_exporter": "python",
   "pygments_lexer": "ipython3",
   "version": "3.8.8"
  }
 },
 "nbformat": 4,
 "nbformat_minor": 5
}
