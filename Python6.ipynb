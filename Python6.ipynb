{
 "cells": [
  {
   "cell_type": "markdown",
   "id": "975c6b9b",
   "metadata": {},
   "source": [
    "# Topic Discussed\n",
    "\n",
    "- Logical Operator \n",
    "- Bitwise Operator"
   ]
  },
  {
   "cell_type": "markdown",
   "id": "17b02776",
   "metadata": {},
   "source": [
    "## Last Class\n",
    "\n",
    "- If statement\n",
    "- If else statement\n",
    "- Elif\n",
    "- Multiple If's\n",
    "- Nested if's"
   ]
  },
  {
   "cell_type": "markdown",
   "id": "3fbb02fd",
   "metadata": {},
   "source": [
    "## Logical Operator\n",
    "\n",
    "- and  \n",
    "- or   "
   ]
  },
  {
   "cell_type": "raw",
   "id": "cbeedbf4",
   "metadata": {},
   "source": [
    "Works on Boolean Conditioin\n",
    "And - Work as Nested If's \n",
    "And operator is like multiply\n",
    "Or -  Work as Multiple If's\n",
    "Or operator is like addition\n",
    "\n",
    "Boolean Result = True (1) and False (0)\n",
    " \n",
    "And Operator:\n",
    "\n",
    "True  True  >>> True\n",
    "True  False >>> True\n",
    "False True  >>> True\n",
    "False False >>> False\n",
    "\n",
    " 1    1   >>  True\n",
    " 1    0   >>  False\n",
    " 0    1   >>  False\n",
    " 0    0   >>  False\n",
    " \n",
    "Or Operator:\n",
    "\n",
    "True True   >>> True\n",
    "True  False >>> True\n",
    "False True  >>> True\n",
    "False False >>> False\n",
    "\n",
    " 1    1   >>  True\n",
    " 1    0   >>  True\n",
    " 0    1   >>  True\n",
    " 0    0   >>  False\n",
    " "
   ]
  },
  {
   "cell_type": "code",
   "execution_count": 6,
   "id": "5e06bed5",
   "metadata": {},
   "outputs": [],
   "source": [
    "a = 10\n",
    "b = 12\n",
    "c = 13\n",
    "d = 14\n",
    "e = 15"
   ]
  },
  {
   "cell_type": "code",
   "execution_count": 7,
   "id": "49f2b938",
   "metadata": {},
   "outputs": [
    {
     "name": "stdout",
     "output_type": "stream",
     "text": [
      "Okay\n"
     ]
    }
   ],
   "source": [
    "if ((a==10) and (b==12) and (c==13) and (d==14) and (e==15)):\n",
    "    # True        True\n",
    "    print(\"Okay\")\n",
    "else:\n",
    "    print(\"Not Okay\")"
   ]
  },
  {
   "cell_type": "code",
   "execution_count": 10,
   "id": "0928b280",
   "metadata": {},
   "outputs": [
    {
     "name": "stdout",
     "output_type": "stream",
     "text": [
      "what is your percentage: 99.9\n",
      "Passed\n"
     ]
    }
   ],
   "source": [
    "grade = None\n",
    "\n",
    "per = float(input(\"what is your percentage: \"))\n",
    "if ((per>=90) or (per>=80) or (per>=70) or (per>=60) or (per>=50)):\n",
    "    print(\"Passed\")\n",
    "else:\n",
    "    print(\"Not passed\")"
   ]
  },
  {
   "cell_type": "code",
   "execution_count": 11,
   "id": "75856c0d",
   "metadata": {},
   "outputs": [
    {
     "name": "stdout",
     "output_type": "stream",
     "text": [
      "Well Done\n"
     ]
    }
   ],
   "source": [
    "if((a==10) and (b==12)):\n",
    "    \n",
    "    print(\"Well Done\")\n",
    "    \n",
    "else:\n",
    "    print(\"Not Worked\")"
   ]
  },
  {
   "cell_type": "code",
   "execution_count": 14,
   "id": "b7e47eeb",
   "metadata": {},
   "outputs": [
    {
     "name": "stdout",
     "output_type": "stream",
     "text": [
      "Well Done\n"
     ]
    }
   ],
   "source": [
    "if((a==10) and (not(b==232))):\n",
    "    \n",
    "    print(\"Well Done\")\n",
    "    \n",
    "else:\n",
    "    print(\"Not Worked\")"
   ]
  },
  {
   "cell_type": "markdown",
   "id": "2c763386",
   "metadata": {},
   "source": [
    "## Bitwise Operator"
   ]
  },
  {
   "cell_type": "raw",
   "id": "75fdd2d7",
   "metadata": {},
   "source": [
    "- &     (ampersand)\n",
    "- |     (pipe or opr)\n",
    "- ^     (Xor- Exclusive Or opr)\n",
    "- ~     (Tilde compliment opr)\n",
    "- <<    (left shift opr)\n",
    "- >>    (Right Shift Opr)"
   ]
  },
  {
   "cell_type": "code",
   "execution_count": 16,
   "id": "16af9636",
   "metadata": {},
   "outputs": [
    {
     "data": {
      "text/plain": [
       "-13"
      ]
     },
     "execution_count": 16,
     "metadata": {},
     "output_type": "execute_result"
    }
   ],
   "source": [
    "#Compliment Bitwise Operator\n",
    "\n",
    "~12 \n",
    "\n",
    "# 128 64 32 16 8 4 2 1\n",
    "# 0   0  0  0  1 1 0 0 \n",
    "\n",
    "#Compliment of 12 will reverse every bit\n",
    "\n",
    "# 128 64 32 16 8 4 2 1\n",
    "#_____________________\n",
    "#  1  1   1  1 0 0 1 1    # 1's Compliment\n",
    "#_____________________"
   ]
  },
  {
   "cell_type": "raw",
   "id": "6ad3efbe",
   "metadata": {},
   "source": [
    "# 2's Compliment = 1's Compliment + 1\n",
    "-13 Binary: 0 0 0 0 1 1 0 1 \n",
    "\n",
    "\n",
    "_______________\n",
    "1 1 1 1 0 0 1 1 #1's Complimenet\n",
    "_____________+1\n",
    "1 1 1 1 0 0 1 1 2's Compliment \n",
    "\n",
    "The second compliment of -13 is equal to 12 first compliment"
   ]
  },
  {
   "cell_type": "raw",
   "id": "dffc4c4a",
   "metadata": {},
   "source": [
    "~12 = -13\n",
    "(~12) = ( 00001100) = 11110011\n",
    "\n",
    "13 = 00001101 \n",
    "Now to make it negative we will take it 2's compliment \n",
    " \n",
    "1's 11110010\n",
    "__________+1\n",
    "2/s 11110011 \n",
    "\n",
    "~12 = -13"
   ]
  },
  {
   "cell_type": "code",
   "execution_count": 19,
   "id": "65e38efc",
   "metadata": {},
   "outputs": [
    {
     "data": {
      "text/plain": [
       "-35"
      ]
     },
     "execution_count": 19,
     "metadata": {},
     "output_type": "execute_result"
    }
   ],
   "source": [
    "~34"
   ]
  },
  {
   "cell_type": "code",
   "execution_count": 20,
   "id": "f2d92a5f",
   "metadata": {},
   "outputs": [
    {
     "data": {
      "text/plain": [
       "-1234"
      ]
     },
     "execution_count": 20,
     "metadata": {},
     "output_type": "execute_result"
    }
   ],
   "source": [
    "~1233"
   ]
  },
  {
   "cell_type": "markdown",
   "id": "f426bca0",
   "metadata": {},
   "source": [
    "## & Bitwise Operator (Ampersand)"
   ]
  },
  {
   "cell_type": "code",
   "execution_count": 21,
   "id": "acc12215",
   "metadata": {},
   "outputs": [
    {
     "data": {
      "text/plain": [
       "12"
      ]
     },
     "execution_count": 21,
     "metadata": {},
     "output_type": "execute_result"
    }
   ],
   "source": [
    "12 & 13\n",
    "\n",
    "#12 >>> 00001100\n",
    "#13 >>> 00001101 (&)\n",
    "________________    \n",
    "#       00001100 >>>12"
   ]
  },
  {
   "cell_type": "markdown",
   "id": "32a8ebad",
   "metadata": {},
   "source": [
    "## Bitwise Or Operator (pipe)"
   ]
  },
  {
   "cell_type": "code",
   "execution_count": 23,
   "id": "b1369ec0",
   "metadata": {},
   "outputs": [
    {
     "data": {
      "text/plain": [
       "13"
      ]
     },
     "execution_count": 23,
     "metadata": {},
     "output_type": "execute_result"
    }
   ],
   "source": [
    "12 | 13\n",
    "\n",
    "#12 >>> 00001100\n",
    "#13 >>> 00001101 (|)\n",
    "________________    \n",
    "#       00001101 >>>13"
   ]
  },
  {
   "cell_type": "markdown",
   "id": "cac0e258",
   "metadata": {},
   "source": [
    "## Bitwise Xor Operator (Exclusive Or Operator)"
   ]
  },
  {
   "cell_type": "raw",
   "id": "b7313923",
   "metadata": {},
   "source": [
    " 1    1   >>  0\n",
    " 0    0   >>  0\n",
    " 1    0   >>  1\n",
    " 0    1   >>  1\n",
    " \n",
    " Bits must be different to be one \n",
    " Negation/Opposite of or operator "
   ]
  },
  {
   "cell_type": "code",
   "execution_count": 26,
   "id": "a2b11bdb",
   "metadata": {},
   "outputs": [
    {
     "data": {
      "text/plain": [
       "1"
      ]
     },
     "execution_count": 26,
     "metadata": {},
     "output_type": "execute_result"
    }
   ],
   "source": [
    "12 ^ 13\n",
    "\n",
    "#12 >>> 00001100\n",
    "#13 >>> 00001101 (^)\n",
    "#________________    \n",
    "#       00000001 >>> The only different bit is at end which is one"
   ]
  },
  {
   "cell_type": "markdown",
   "id": "faa66236",
   "metadata": {},
   "source": [
    "## Bitwise left shift operator (<<)"
   ]
  },
  {
   "cell_type": "code",
   "execution_count": 27,
   "id": "d99a18a2",
   "metadata": {},
   "outputs": [
    {
     "data": {
      "text/plain": [
       "40"
      ]
     },
     "execution_count": 27,
     "metadata": {},
     "output_type": "execute_result"
    }
   ],
   "source": [
    "10 << 2"
   ]
  },
  {
   "cell_type": "raw",
   "id": "6e95a980",
   "metadata": {},
   "source": [
    "10 = 10.0 in normal mathematics but in programing it become floats\n",
    "    128 64 32 16 8 4 2 1 \n",
    "10   0   0  0  0 1 0 1 0 \n",
    "    \n",
    "Now for 10 << 2 left shift mean [00}001010.00 it becomes as 00101000 which is 40"
   ]
  },
  {
   "cell_type": "code",
   "execution_count": 2,
   "id": "47723905",
   "metadata": {},
   "outputs": [
    {
     "data": {
      "text/plain": [
       "320"
      ]
     },
     "execution_count": 2,
     "metadata": {},
     "output_type": "execute_result"
    }
   ],
   "source": [
    "40<<3\n",
    "#2**3 = 8*40 =320"
   ]
  },
  {
   "cell_type": "markdown",
   "id": "46ad858f",
   "metadata": {},
   "source": [
    "## Bitwise Right shift operator (>>)"
   ]
  },
  {
   "cell_type": "code",
   "execution_count": 28,
   "id": "1247e967",
   "metadata": {},
   "outputs": [
    {
     "data": {
      "text/plain": [
       "2"
      ]
     },
     "execution_count": 28,
     "metadata": {},
     "output_type": "execute_result"
    }
   ],
   "source": [
    "10 >> 2\n",
    "\n"
   ]
  },
  {
   "cell_type": "raw",
   "id": "80ee77b0",
   "metadata": {},
   "source": [
    "10 = 10.0 in normal mathematics but in programing it become floats\n",
    "    128 64 32 16 8 4 2 1 \n",
    "10   0   0  0  0 1 0 1 0 \n",
    "\n",
    "Now for 10 << 2 right shift mean 00001010 it becomes as 00000010[00] which is 2"
   ]
  },
  {
   "cell_type": "code",
   "execution_count": 1,
   "id": "3af35346",
   "metadata": {},
   "outputs": [
    {
     "data": {
      "text/plain": [
       "15"
      ]
     },
     "execution_count": 1,
     "metadata": {},
     "output_type": "execute_result"
    }
   ],
   "source": [
    "500 >> 5"
   ]
  },
  {
   "cell_type": "code",
   "execution_count": 3,
   "id": "d6ab7934",
   "metadata": {},
   "outputs": [
    {
     "data": {
      "text/plain": [
       "5"
      ]
     },
     "execution_count": 3,
     "metadata": {},
     "output_type": "execute_result"
    }
   ],
   "source": [
    "40>>3 \n",
    "\n",
    "#2**3 = 8 >> 40//8 =5"
   ]
  },
  {
   "cell_type": "code",
   "execution_count": null,
   "id": "f3bbac7c",
   "metadata": {},
   "outputs": [],
   "source": []
  }
 ],
 "metadata": {
  "kernelspec": {
   "display_name": "Python 3",
   "language": "python",
   "name": "python3"
  },
  "language_info": {
   "codemirror_mode": {
    "name": "ipython",
    "version": 3
   },
   "file_extension": ".py",
   "mimetype": "text/x-python",
   "name": "python",
   "nbconvert_exporter": "python",
   "pygments_lexer": "ipython3",
   "version": "3.8.8"
  }
 },
 "nbformat": 4,
 "nbformat_minor": 5
}
