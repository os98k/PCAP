{
 "cells": [
  {
   "cell_type": "markdown",
   "id": "29c6d267",
   "metadata": {},
   "source": [
    "# Last Discussed\n",
    "\n",
    "- Function\n",
    "- Paramters and Arguments\n",
    "- Return"
   ]
  },
  {
   "cell_type": "markdown",
   "id": "a127a700",
   "metadata": {},
   "source": [
    "# Today Discussed\n",
    "\n",
    "- More on Function"
   ]
  },
  {
   "cell_type": "code",
   "execution_count": 6,
   "id": "aa6a93fc",
   "metadata": {},
   "outputs": [],
   "source": [
    "def build_person(f_name,l_name):\n",
    "    \"\"\"This will return first and last name of the person\"\"\"\n",
    "    person ={ \"first \" : {f_name}, l_name :{l_name}}\n",
    "    return person"
   ]
  },
  {
   "cell_type": "code",
   "execution_count": 7,
   "id": "299e8244",
   "metadata": {},
   "outputs": [
    {
     "name": "stdout",
     "output_type": "stream",
     "text": [
      "{'first ': {'jami'}, 'heny': {'heny'}}\n"
     ]
    }
   ],
   "source": [
    "musician = build_person(\"jami\", \"heny\")\n",
    "print(musician)"
   ]
  },
  {
   "cell_type": "code",
   "execution_count": 8,
   "id": "11948b48",
   "metadata": {},
   "outputs": [],
   "source": [
    "def build_person(f_name,l_name, age = \" \"):\n",
    "    \"\"\"This will return first and last name of the person\"\"\"\n",
    "    person ={ \"first \" : {f_name}, l_name :{l_name}}\n",
    "    if age:\n",
    "        person[\"age\"] = age\n",
    "    return person"
   ]
  },
  {
   "cell_type": "code",
   "execution_count": 9,
   "id": "dc7631c7",
   "metadata": {},
   "outputs": [
    {
     "name": "stdout",
     "output_type": "stream",
     "text": [
      "{'first ': {'jami'}, 'heny': {'heny'}, 'age': ' '}\n"
     ]
    }
   ],
   "source": [
    "musician = build_person(\"jami\", \"heny\")\n",
    "print(musician)"
   ]
  },
  {
   "cell_type": "code",
   "execution_count": 10,
   "id": "2933595f",
   "metadata": {},
   "outputs": [
    {
     "name": "stdout",
     "output_type": "stream",
     "text": [
      "{'first ': {'jami'}, 'heny': {'heny'}, 'age': 23}\n"
     ]
    }
   ],
   "source": [
    "musician = build_person(\"jami\", \"heny\", 23)\n",
    "print(musician)"
   ]
  },
  {
   "cell_type": "code",
   "execution_count": null,
   "id": "01b79165",
   "metadata": {},
   "outputs": [],
   "source": [
    "def getname_formatted(f_name,l_name):\n",
    "    \"\"\"This will return first and last name of the person\"\"\"\n",
    "    person ={ \"first \" : {f_name}, l_name : {l_name}}\n",
    "    return person"
   ]
  },
  {
   "cell_type": "code",
   "execution_count": 21,
   "id": "2a0f1b41",
   "metadata": {},
   "outputs": [
    {
     "name": "stdout",
     "output_type": "stream",
     "text": [
      "Please enter your name\n",
      "print q at any time to exit\n",
      "Enter first name Osama\n",
      "Enter last name Shakeel\n",
      "hello{'first ': {'Osama'}, 'Shakeel': {'Shakeel'}}\n",
      "Please enter your name\n",
      "print q at any time to exit\n"
     ]
    },
    {
     "ename": "KeyboardInterrupt",
     "evalue": "Interrupted by user",
     "output_type": "error",
     "traceback": [
      "\u001b[1;31m---------------------------------------------------------------------------\u001b[0m",
      "\u001b[1;31mKeyboardInterrupt\u001b[0m                         Traceback (most recent call last)",
      "\u001b[1;32m<ipython-input-21-ab82934ad79f>\u001b[0m in \u001b[0;36m<module>\u001b[1;34m\u001b[0m\n\u001b[0;32m      3\u001b[0m     \u001b[0mprint\u001b[0m\u001b[1;33m(\u001b[0m\u001b[1;34m\"print q at any time to exit\"\u001b[0m\u001b[1;33m)\u001b[0m\u001b[1;33m\u001b[0m\u001b[1;33m\u001b[0m\u001b[0m\n\u001b[0;32m      4\u001b[0m \u001b[1;33m\u001b[0m\u001b[0m\n\u001b[1;32m----> 5\u001b[1;33m     \u001b[0mf_name\u001b[0m \u001b[1;33m=\u001b[0m \u001b[0minput\u001b[0m\u001b[1;33m(\u001b[0m\u001b[1;34m\"Enter first name \"\u001b[0m\u001b[1;33m)\u001b[0m\u001b[1;33m\u001b[0m\u001b[1;33m\u001b[0m\u001b[0m\n\u001b[0m\u001b[0;32m      6\u001b[0m     \u001b[1;32mif\u001b[0m \u001b[0mf_name\u001b[0m \u001b[1;33m==\u001b[0m\u001b[1;34m\"q \"\u001b[0m\u001b[1;33m:\u001b[0m\u001b[1;33m\u001b[0m\u001b[1;33m\u001b[0m\u001b[0m\n\u001b[0;32m      7\u001b[0m           \u001b[1;32mbreak\u001b[0m\u001b[1;33m\u001b[0m\u001b[1;33m\u001b[0m\u001b[0m\n",
      "\u001b[1;32m~\\anaconda3\\lib\\site-packages\\ipykernel\\kernelbase.py\u001b[0m in \u001b[0;36mraw_input\u001b[1;34m(self, prompt)\u001b[0m\n\u001b[0;32m    858\u001b[0m                 \u001b[1;34m\"raw_input was called, but this frontend does not support input requests.\"\u001b[0m\u001b[1;33m\u001b[0m\u001b[1;33m\u001b[0m\u001b[0m\n\u001b[0;32m    859\u001b[0m             )\n\u001b[1;32m--> 860\u001b[1;33m         return self._input_request(str(prompt),\n\u001b[0m\u001b[0;32m    861\u001b[0m             \u001b[0mself\u001b[0m\u001b[1;33m.\u001b[0m\u001b[0m_parent_ident\u001b[0m\u001b[1;33m,\u001b[0m\u001b[1;33m\u001b[0m\u001b[1;33m\u001b[0m\u001b[0m\n\u001b[0;32m    862\u001b[0m             \u001b[0mself\u001b[0m\u001b[1;33m.\u001b[0m\u001b[0m_parent_header\u001b[0m\u001b[1;33m,\u001b[0m\u001b[1;33m\u001b[0m\u001b[1;33m\u001b[0m\u001b[0m\n",
      "\u001b[1;32m~\\anaconda3\\lib\\site-packages\\ipykernel\\kernelbase.py\u001b[0m in \u001b[0;36m_input_request\u001b[1;34m(self, prompt, ident, parent, password)\u001b[0m\n\u001b[0;32m    902\u001b[0m             \u001b[1;32mexcept\u001b[0m \u001b[0mKeyboardInterrupt\u001b[0m\u001b[1;33m:\u001b[0m\u001b[1;33m\u001b[0m\u001b[1;33m\u001b[0m\u001b[0m\n\u001b[0;32m    903\u001b[0m                 \u001b[1;31m# re-raise KeyboardInterrupt, to truncate traceback\u001b[0m\u001b[1;33m\u001b[0m\u001b[1;33m\u001b[0m\u001b[1;33m\u001b[0m\u001b[0m\n\u001b[1;32m--> 904\u001b[1;33m                 \u001b[1;32mraise\u001b[0m \u001b[0mKeyboardInterrupt\u001b[0m\u001b[1;33m(\u001b[0m\u001b[1;34m\"Interrupted by user\"\u001b[0m\u001b[1;33m)\u001b[0m \u001b[1;32mfrom\u001b[0m \u001b[1;32mNone\u001b[0m\u001b[1;33m\u001b[0m\u001b[1;33m\u001b[0m\u001b[0m\n\u001b[0m\u001b[0;32m    905\u001b[0m             \u001b[1;32mexcept\u001b[0m \u001b[0mException\u001b[0m \u001b[1;32mas\u001b[0m \u001b[0me\u001b[0m\u001b[1;33m:\u001b[0m\u001b[1;33m\u001b[0m\u001b[1;33m\u001b[0m\u001b[0m\n\u001b[0;32m    906\u001b[0m                 \u001b[0mself\u001b[0m\u001b[1;33m.\u001b[0m\u001b[0mlog\u001b[0m\u001b[1;33m.\u001b[0m\u001b[0mwarning\u001b[0m\u001b[1;33m(\u001b[0m\u001b[1;34m\"Invalid Message:\"\u001b[0m\u001b[1;33m,\u001b[0m \u001b[0mexc_info\u001b[0m\u001b[1;33m=\u001b[0m\u001b[1;32mTrue\u001b[0m\u001b[1;33m)\u001b[0m\u001b[1;33m\u001b[0m\u001b[1;33m\u001b[0m\u001b[0m\n",
      "\u001b[1;31mKeyboardInterrupt\u001b[0m: Interrupted by user"
     ]
    }
   ],
   "source": [
    "\n",
    "while True:\n",
    "    print(\"Please enter your name\")\n",
    "    print(\"print q at any time to exit\")\n",
    "          \n",
    "    f_name = input(\"Enter first name \")\n",
    "    if f_name ==\"q \":\n",
    "          break\n",
    "          \n",
    "          \n",
    "    l_name = input(\"Enter last name \")\n",
    "    if l_name == \"q \":\n",
    "          break\n",
    "          \n",
    "    nameFormated = getname_formatted(f_name, l_name)\n",
    "    print(\"hello\" + str(nameFormated))"
   ]
  },
  {
   "cell_type": "code",
   "execution_count": 29,
   "id": "2e48b585",
   "metadata": {},
   "outputs": [],
   "source": [
    "def make_album(artist_name, album_name, number_of_tracks = \"\"):\n",
    "    \n",
    "    album_dic = {\"artist\":artist_name, \"album\": album_name}\n",
    "    \n",
    "    if number_of_tracks:\n",
    "        album_dic[\"tracks\"] = number_of_tracks\n",
    "    \n",
    "    return album_dic\n"
   ]
  },
  {
   "cell_type": "code",
   "execution_count": 32,
   "id": "967275d6",
   "metadata": {},
   "outputs": [
    {
     "name": "stdout",
     "output_type": "stream",
     "text": [
      "{'artist': 'atif', 'album': 'aes'}\n"
     ]
    }
   ],
   "source": [
    "res = make_album(artist_name= \"atif\", album_name=\"aes\")\n",
    "print(res)"
   ]
  },
  {
   "cell_type": "code",
   "execution_count": 34,
   "id": "95c3315f",
   "metadata": {},
   "outputs": [],
   "source": [
    "studio = []\n",
    "records = make_album(\"Farhan\", \"Alb\",8)\n",
    "studio.append(records)"
   ]
  },
  {
   "cell_type": "code",
   "execution_count": 35,
   "id": "078e2524",
   "metadata": {},
   "outputs": [
    {
     "data": {
      "text/plain": [
       "[{'artist': 'Farhan', 'album': 'Alb', 'tracks': 8}]"
      ]
     },
     "execution_count": 35,
     "metadata": {},
     "output_type": "execute_result"
    }
   ],
   "source": [
    "studio"
   ]
  },
  {
   "cell_type": "code",
   "execution_count": 36,
   "id": "015d01e4",
   "metadata": {},
   "outputs": [],
   "source": [
    "records = make_album(\"Fan\", \"Al\")\n",
    "studio.append(records)"
   ]
  },
  {
   "cell_type": "code",
   "execution_count": 37,
   "id": "50e88cbd",
   "metadata": {},
   "outputs": [
    {
     "data": {
      "text/plain": [
       "[{'artist': 'Farhan', 'album': 'Alb', 'tracks': 8},\n",
       " {'artist': 'Fan', 'album': 'Al'}]"
      ]
     },
     "execution_count": 37,
     "metadata": {},
     "output_type": "execute_result"
    }
   ],
   "source": [
    "studio"
   ]
  },
  {
   "cell_type": "code",
   "execution_count": 38,
   "id": "487a948b",
   "metadata": {},
   "outputs": [],
   "source": [
    "studio = []"
   ]
  },
  {
   "cell_type": "code",
   "execution_count": null,
   "id": "6bd92858",
   "metadata": {},
   "outputs": [],
   "source": [
    "def make_album(artist_name, album_name, number_of_tracks = \"\"):\n",
    "    \n",
    "    album_dic = {\"artist\":artist_name, \"album\": album_name}\n",
    "    \n",
    "    if number_of_tracks:\n",
    "        album_dic[\"tracks\"] = number_of_tracks\n",
    "    \n",
    "    return album_dic\n"
   ]
  },
  {
   "cell_type": "code",
   "execution_count": 41,
   "id": "fb5e9285",
   "metadata": {},
   "outputs": [
    {
     "name": "stdout",
     "output_type": "stream",
     "text": [
      "Enter artist nameatif\n",
      "Enter album nameal23\n",
      "Enter number of tracksas\n",
      "enter q to exit\n",
      "Enter artist namesami\n",
      "Enter album nameajal\n",
      "Enter number of tracksal34\n",
      "enter q to exit\n",
      "Enter artist nameq\n"
     ]
    }
   ],
   "source": [
    "while True:\n",
    "    artist_name = input(\"Enter artist name\")\n",
    "    if artist_name ==\"q\":\n",
    "        break\n",
    "    album_name = input(\"Enter album name\")\n",
    "    if album_name ==\"q\":\n",
    "        break\n",
    "    number_of_tracks = input(\"Enter number of tracks\")\n",
    "    if number_of_tracks ==\"q\":\n",
    "        break\n",
    "    print(\"enter q to exit\")\n",
    "    studio.append(make_album(artist_name, album_name, number_of_tracks))\n",
    "    \n",
    "    "
   ]
  },
  {
   "cell_type": "code",
   "execution_count": 42,
   "id": "ecb02394",
   "metadata": {},
   "outputs": [
    {
     "data": {
      "text/plain": [
       "[{'artist': 'Oas', 'album': 'hg', 'tracks': 'as'},\n",
       " {'artist': 'Sam', 'album': 'al2', 'tracks': 'sd'},\n",
       " {'artist': 'atif', 'album': 'al23', 'tracks': 'as'},\n",
       " {'artist': 'sami', 'album': 'ajal', 'tracks': 'al34'}]"
      ]
     },
     "execution_count": 42,
     "metadata": {},
     "output_type": "execute_result"
    }
   ],
   "source": [
    "studio"
   ]
  },
  {
   "cell_type": "markdown",
   "id": "c4e3fe9c",
   "metadata": {},
   "source": [
    "# Passing a list (in arguments)\n",
    "\n"
   ]
  },
  {
   "cell_type": "code",
   "execution_count": 46,
   "id": "6db92b8e",
   "metadata": {},
   "outputs": [],
   "source": [
    "def my_sum(alist):\n",
    "    total = sum(alist)\n",
    "    return total"
   ]
  },
  {
   "cell_type": "code",
   "execution_count": 47,
   "id": "172efd6b",
   "metadata": {},
   "outputs": [
    {
     "name": "stdout",
     "output_type": "stream",
     "text": [
      "126\n"
     ]
    }
   ],
   "source": [
    "print(my_sum([1,23,4,5,6,78,9]))"
   ]
  },
  {
   "cell_type": "code",
   "execution_count": 49,
   "id": "b4c8bc49",
   "metadata": {},
   "outputs": [],
   "source": [
    "def greet_user(names):\n",
    "    for name in names:\n",
    "        msg = \"Hello \" + name.title() + \"!\"\n",
    "        print(msg)\n",
    "        "
   ]
  },
  {
   "cell_type": "code",
   "execution_count": 50,
   "id": "59aa5e5f",
   "metadata": {},
   "outputs": [
    {
     "name": "stdout",
     "output_type": "stream",
     "text": [
      "Hello Hane!\n",
      "Hello Wasee!\n",
      "Hello Ferr!\n"
     ]
    }
   ],
   "source": [
    "user_name = [\"hane\", \"wasee\", \"ferr\"]\n",
    "greet_user(user_name)"
   ]
  },
  {
   "cell_type": "markdown",
   "id": "e47e97d4",
   "metadata": {},
   "source": [
    "# Modifying  a list in function"
   ]
  },
  {
   "cell_type": "code",
   "execution_count": 51,
   "id": "211731e5",
   "metadata": {},
   "outputs": [],
   "source": [
    "unprinted_design = [\"iphone\", \"case\", \"pendent\", \"documenet\"]\n",
    "completed_design = []"
   ]
  },
  {
   "cell_type": "code",
   "execution_count": 52,
   "id": "cf4940f3",
   "metadata": {},
   "outputs": [
    {
     "name": "stdout",
     "output_type": "stream",
     "text": [
      "printing modeldocumenet\n",
      "printing modelpendent\n",
      "printing modelcase\n",
      "printing modeliphone\n"
     ]
    }
   ],
   "source": [
    "while unprinted_design:\n",
    "    current_design = unprinted_design.pop()\n",
    "    \n",
    "    print(\"printing model\" + current_design)\n",
    "    completed_design.append(current_design)"
   ]
  },
  {
   "cell_type": "markdown",
   "id": "886939c3",
   "metadata": {},
   "source": [
    "# Prevent List from Modification"
   ]
  },
  {
   "cell_type": "markdown",
   "id": "85d44af1",
   "metadata": {},
   "source": [
    "we can create a copy before poping the list and hence the copy will be popped and orignal will remain unchanged"
   ]
  },
  {
   "cell_type": "markdown",
   "id": "7e0913a8",
   "metadata": {},
   "source": [
    "# Passing an Orbitary Number of Arguments"
   ]
  },
  {
   "cell_type": "code",
   "execution_count": 62,
   "id": "18b2216e",
   "metadata": {},
   "outputs": [],
   "source": [
    "def addFunction(a,b,c,d,e,f = None):\n",
    "    print(a,b,c,d,e,f)\n"
   ]
  },
  {
   "cell_type": "code",
   "execution_count": 58,
   "id": "3038df7f",
   "metadata": {},
   "outputs": [
    {
     "name": "stdout",
     "output_type": "stream",
     "text": [
      "A B C D E F\n"
     ]
    }
   ],
   "source": [
    "addFunction(\"A\",\"B\",\"C\",\"D\",\"E\",\"F\")"
   ]
  },
  {
   "cell_type": "code",
   "execution_count": 60,
   "id": "da0ab06d",
   "metadata": {},
   "outputs": [
    {
     "name": "stdout",
     "output_type": "stream",
     "text": [
      "A B C D E None\n"
     ]
    }
   ],
   "source": [
    "addFunction(\"A\",\"B\",\"C\",\"D\",\"E\")"
   ]
  },
  {
   "cell_type": "code",
   "execution_count": 64,
   "id": "bac966cb",
   "metadata": {},
   "outputs": [
    {
     "ename": "TypeError",
     "evalue": "addFunction() takes 6 positional arguments but 7 were given",
     "output_type": "error",
     "traceback": [
      "\u001b[1;31m---------------------------------------------------------------------------\u001b[0m",
      "\u001b[1;31mTypeError\u001b[0m                                 Traceback (most recent call last)",
      "\u001b[1;32m<ipython-input-64-19391a2b6a40>\u001b[0m in \u001b[0;36m<module>\u001b[1;34m\u001b[0m\n\u001b[1;32m----> 1\u001b[1;33m \u001b[0maddFunction\u001b[0m\u001b[1;33m(\u001b[0m\u001b[1;34m\"A\"\u001b[0m\u001b[1;33m,\u001b[0m\u001b[1;34m\"B\"\u001b[0m\u001b[1;33m,\u001b[0m\u001b[1;34m\"C\"\u001b[0m\u001b[1;33m,\u001b[0m\u001b[1;34m\"D\"\u001b[0m\u001b[1;33m,\u001b[0m\u001b[1;34m\"E\"\u001b[0m\u001b[1;33m,\u001b[0m\u001b[1;34m\"F\"\u001b[0m\u001b[1;33m,\u001b[0m\u001b[1;34m\"G\"\u001b[0m\u001b[1;33m)\u001b[0m\u001b[1;33m\u001b[0m\u001b[1;33m\u001b[0m\u001b[0m\n\u001b[0m",
      "\u001b[1;31mTypeError\u001b[0m: addFunction() takes 6 positional arguments but 7 were given"
     ]
    }
   ],
   "source": [
    "addFunction(\"A\",\"B\",\"C\",\"D\",\"E\",\"F\",\"G\") # Giving seven values "
   ]
  },
  {
   "cell_type": "code",
   "execution_count": 65,
   "id": "2b0803f3",
   "metadata": {},
   "outputs": [],
   "source": [
    "# Here comes the use of arbitary (azaad = free) variable \n",
    "\n",
    "def make_pizza(*topping):\n",
    "    print(topping)"
   ]
  },
  {
   "cell_type": "code",
   "execution_count": 67,
   "id": "eeb06fcd",
   "metadata": {},
   "outputs": [
    {
     "name": "stdout",
     "output_type": "stream",
     "text": [
      "('pepperoni',)\n"
     ]
    }
   ],
   "source": [
    "make_pizza(\"pepperoni\") # giving in the form of tuple"
   ]
  },
  {
   "cell_type": "code",
   "execution_count": 69,
   "id": "6a612589",
   "metadata": {},
   "outputs": [
    {
     "name": "stdout",
     "output_type": "stream",
     "text": [
      "('mushrooms', 'greenpepper')\n"
     ]
    }
   ],
   "source": [
    "make_pizza(\"mushrooms\", \"greenpepper\")"
   ]
  },
  {
   "cell_type": "code",
   "execution_count": 70,
   "id": "0bea976e",
   "metadata": {},
   "outputs": [
    {
     "name": "stdout",
     "output_type": "stream",
     "text": [
      "('mushrooms', 'greenpepper', 'extracheese')\n"
     ]
    }
   ],
   "source": [
    "make_pizza(\"mushrooms\", \"greenpepper\", \"extracheese\")"
   ]
  },
  {
   "cell_type": "code",
   "execution_count": 78,
   "id": "91a257c3",
   "metadata": {},
   "outputs": [],
   "source": [
    "def make_pizza(*toppings):\n",
    "    print(\"making pizza with the following toppings\")\n",
    "    for topping in toppings:\n",
    "        print(\"-\" + topping)\n",
    "    \n",
    "        "
   ]
  },
  {
   "cell_type": "code",
   "execution_count": 79,
   "id": "c1f7dd28",
   "metadata": {},
   "outputs": [
    {
     "name": "stdout",
     "output_type": "stream",
     "text": [
      "making pizza with the following toppings\n",
      "-mushrooms\n",
      "-greenpepper\n"
     ]
    }
   ],
   "source": [
    "make_pizza(\"mushrooms\", \"greenpepper\")"
   ]
  },
  {
   "cell_type": "code",
   "execution_count": 80,
   "id": "7bb95625",
   "metadata": {},
   "outputs": [
    {
     "name": "stdout",
     "output_type": "stream",
     "text": [
      "making pizza with the following toppings\n",
      "-mushrooms\n",
      "-greenpepper\n",
      "-extracheese\n"
     ]
    }
   ],
   "source": [
    "make_pizza(\"mushrooms\", \"greenpepper\", \"extracheese\")"
   ]
  },
  {
   "cell_type": "markdown",
   "id": "6d47dd92",
   "metadata": {},
   "source": [
    "# Mixing Positional Arbitary Arguments"
   ]
  },
  {
   "cell_type": "code",
   "execution_count": 85,
   "id": "bd39d5b4",
   "metadata": {},
   "outputs": [],
   "source": [
    "# arbitary argument should be at last, if it is first than than number of second argument will not come\n",
    "def make_pizza(size, *toppings): \n",
    "    print(f\"making pizza of size \"+ str(size) + \"with the following toppings\")\n",
    "    for topping in toppings:\n",
    "        print(\"-\" + topping)"
   ]
  },
  {
   "cell_type": "code",
   "execution_count": 86,
   "id": "055556cf",
   "metadata": {},
   "outputs": [
    {
     "name": "stdout",
     "output_type": "stream",
     "text": [
      "making pizza of size 12with the following toppings\n",
      "-mushrooms\n"
     ]
    }
   ],
   "source": [
    "make_pizza(12, \"mushrooms\")"
   ]
  },
  {
   "cell_type": "code",
   "execution_count": 87,
   "id": "9543f4f6",
   "metadata": {},
   "outputs": [
    {
     "name": "stdout",
     "output_type": "stream",
     "text": [
      "making pizza of size 16with the following toppings\n",
      "-mushrooms\n",
      "-greenpepper\n",
      "-extracheese\n"
     ]
    }
   ],
   "source": [
    "make_pizza(16, \"mushrooms\", \"greenpepper\", \"extracheese\")"
   ]
  },
  {
   "cell_type": "code",
   "execution_count": null,
   "id": "d84a7af6",
   "metadata": {},
   "outputs": [],
   "source": []
  }
 ],
 "metadata": {
  "kernelspec": {
   "display_name": "Python 3",
   "language": "python",
   "name": "python3"
  },
  "language_info": {
   "codemirror_mode": {
    "name": "ipython",
    "version": 3
   },
   "file_extension": ".py",
   "mimetype": "text/x-python",
   "name": "python",
   "nbconvert_exporter": "python",
   "pygments_lexer": "ipython3",
   "version": "3.8.8"
  }
 },
 "nbformat": 4,
 "nbformat_minor": 5
}
