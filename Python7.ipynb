{
 "cells": [
  {
   "cell_type": "markdown",
   "id": "ac7bd569",
   "metadata": {},
   "source": [
    "# Last Class\n",
    "\n",
    "- Logical Operator\n",
    "  - and , or \n",
    "- Bitwise Operator\n",
    "  - Ampersand, pipe, Xor, complement, left shift and right shift"
   ]
  },
  {
   "cell_type": "markdown",
   "id": "05b1a6dd",
   "metadata": {},
   "source": [
    "# Topic Discussed\n",
    "\n",
    "- List \n",
    "- List Methods\n",
    "- List Indexing\n",
    "- List Slicing\n"
   ]
  },
  {
   "cell_type": "markdown",
   "id": "d8d19d7d",
   "metadata": {},
   "source": [
    "# List"
   ]
  },
  {
   "cell_type": "code",
   "execution_count": 2,
   "id": "7be31ef9",
   "metadata": {},
   "outputs": [
    {
     "name": "stdout",
     "output_type": "stream",
     "text": [
      "<class 'str'>\n",
      "<class 'list'>\n"
     ]
    }
   ],
   "source": [
    "#It is a contruct data structure\n",
    "# list >>> arrays\n",
    "\n",
    "country_name = \"Pakistan\"\n",
    "student1 = \"Asad\"\n",
    "\n",
    "student_list = []\n",
    "\n",
    "print(type(student1))\n",
    "print(type(student_list))"
   ]
  },
  {
   "cell_type": "code",
   "execution_count": 4,
   "id": "4a716195",
   "metadata": {},
   "outputs": [
    {
     "name": "stdout",
     "output_type": "stream",
     "text": [
      "['Osama', 'Ahmed', 'Uzair', 'Usman', 'Aqeel']\n"
     ]
    }
   ],
   "source": [
    "student = [\"Osama\", \"Ahmed\", \"Uzair\", \"Usman\", \"Aqeel\"]\n",
    "print(student)"
   ]
  },
  {
   "cell_type": "markdown",
   "id": "d17bd5d0",
   "metadata": {},
   "source": [
    "# Indexing\n",
    "   \n",
    "   - forward indexing\n",
    "   - reverse indexing"
   ]
  },
  {
   "cell_type": "code",
   "execution_count": 5,
   "id": "18b5f934",
   "metadata": {},
   "outputs": [],
   "source": [
    "## Forward Indexing: Counting starts from left to right\n",
    "\n",
    "##list of strings##\n",
    "\n",
    "student = [\"Osama\", \"Ahmed\", \"Uzair\", \"Usman\", \"Aqeel\"]\n",
    "#            0        1       2          3        4"
   ]
  },
  {
   "cell_type": "code",
   "execution_count": 10,
   "id": "1b901505",
   "metadata": {},
   "outputs": [
    {
     "data": {
      "text/plain": [
       "'Usman'"
      ]
     },
     "execution_count": 10,
     "metadata": {},
     "output_type": "execute_result"
    }
   ],
   "source": [
    "student[3]"
   ]
  },
  {
   "cell_type": "code",
   "execution_count": 11,
   "id": "66a44149",
   "metadata": {},
   "outputs": [
    {
     "data": {
      "text/plain": [
       "'Osama'"
      ]
     },
     "execution_count": 11,
     "metadata": {},
     "output_type": "execute_result"
    }
   ],
   "source": [
    "student[0]"
   ]
  },
  {
   "cell_type": "code",
   "execution_count": 13,
   "id": "a93116ac",
   "metadata": {},
   "outputs": [
    {
     "name": "stdout",
     "output_type": "stream",
     "text": [
      "<class 'list'>\n"
     ]
    }
   ],
   "source": [
    "print(type(student))"
   ]
  },
  {
   "cell_type": "code",
   "execution_count": 14,
   "id": "3898c560",
   "metadata": {},
   "outputs": [
    {
     "data": {
      "text/plain": [
       "str"
      ]
     },
     "execution_count": 14,
     "metadata": {},
     "output_type": "execute_result"
    }
   ],
   "source": [
    "type(student[2])"
   ]
  },
  {
   "cell_type": "code",
   "execution_count": 15,
   "id": "3d9c4c43",
   "metadata": {},
   "outputs": [],
   "source": [
    "## Reverse Indexing\n",
    "student = [\"Osama\", \"Ahmed\", \"Uzair\", \"Usman\", \"Aqeel\"]\n",
    "#            -5      -4       -3       -2       -1"
   ]
  },
  {
   "cell_type": "code",
   "execution_count": 16,
   "id": "bdb605b7",
   "metadata": {},
   "outputs": [
    {
     "data": {
      "text/plain": [
       "'Uzair'"
      ]
     },
     "execution_count": 16,
     "metadata": {},
     "output_type": "execute_result"
    }
   ],
   "source": [
    "student[-3]"
   ]
  },
  {
   "cell_type": "code",
   "execution_count": 17,
   "id": "f9888c9b",
   "metadata": {},
   "outputs": [
    {
     "data": {
      "text/plain": [
       "'Uzair'"
      ]
     },
     "execution_count": 17,
     "metadata": {},
     "output_type": "execute_result"
    }
   ],
   "source": [
    "student[2]"
   ]
  },
  {
   "cell_type": "code",
   "execution_count": 18,
   "id": "3e77eb4e",
   "metadata": {},
   "outputs": [
    {
     "data": {
      "text/plain": [
       "True"
      ]
     },
     "execution_count": 18,
     "metadata": {},
     "output_type": "execute_result"
    }
   ],
   "source": [
    "student[-3] == student[2]"
   ]
  },
  {
   "cell_type": "code",
   "execution_count": 19,
   "id": "58f1427a",
   "metadata": {},
   "outputs": [
    {
     "data": {
      "text/plain": [
       "5"
      ]
     },
     "execution_count": 19,
     "metadata": {},
     "output_type": "execute_result"
    }
   ],
   "source": [
    "len(student) #length"
   ]
  },
  {
   "cell_type": "code",
   "execution_count": 20,
   "id": "d1bf8ad5",
   "metadata": {},
   "outputs": [],
   "source": [
    "##list of integers##\n",
    "marks = [9,8,7,6,5,4,3,3,2]"
   ]
  },
  {
   "cell_type": "code",
   "execution_count": 21,
   "id": "22262284",
   "metadata": {},
   "outputs": [
    {
     "data": {
      "text/plain": [
       "[9, 8, 7, 6, 5, 4, 3, 3, 2]"
      ]
     },
     "execution_count": 21,
     "metadata": {},
     "output_type": "execute_result"
    }
   ],
   "source": [
    "marks"
   ]
  },
  {
   "cell_type": "code",
   "execution_count": 22,
   "id": "2c463e9f",
   "metadata": {},
   "outputs": [
    {
     "name": "stdout",
     "output_type": "stream",
     "text": [
      "<class 'list'>\n"
     ]
    }
   ],
   "source": [
    "print(type(marks))"
   ]
  },
  {
   "cell_type": "code",
   "execution_count": 23,
   "id": "82e3742f",
   "metadata": {},
   "outputs": [
    {
     "name": "stdout",
     "output_type": "stream",
     "text": [
      "<class 'int'>\n"
     ]
    }
   ],
   "source": [
    "print(type(marks[6]))"
   ]
  },
  {
   "cell_type": "markdown",
   "id": "2997ebcf",
   "metadata": {},
   "source": [
    "<b> A list can hold <b>\n",
    "    \n",
    "    - int\n",
    "    - float\n",
    "    - boolean\n",
    "    - string\n",
    "    - list\n",
    "    - List can hold all the mentioned data together"
   ]
  },
  {
   "cell_type": "code",
   "execution_count": 25,
   "id": "2f799cd9",
   "metadata": {},
   "outputs": [
    {
     "name": "stdout",
     "output_type": "stream",
     "text": [
      "light gone\n"
     ]
    }
   ],
   "source": [
    "print(\"light gone\")"
   ]
  },
  {
   "cell_type": "code",
   "execution_count": 31,
   "id": "46a3616a",
   "metadata": {},
   "outputs": [
    {
     "data": {
      "text/plain": [
       "['python', 100, 50.5, True, [9, 8, 7, 6, 5, 4, 3, 3, 2], (), {}]"
      ]
     },
     "execution_count": 31,
     "metadata": {},
     "output_type": "execute_result"
    }
   ],
   "source": [
    "misc = [\"python\", 100, 50.5, True, marks, (), {}]\n",
    "#         0        1    2     3     4      5   6\n",
    "misc"
   ]
  },
  {
   "cell_type": "code",
   "execution_count": 28,
   "id": "a6042caa",
   "metadata": {},
   "outputs": [
    {
     "data": {
      "text/plain": [
       "True"
      ]
     },
     "execution_count": 28,
     "metadata": {},
     "output_type": "execute_result"
    }
   ],
   "source": [
    "misc[3]"
   ]
  },
  {
   "cell_type": "code",
   "execution_count": 32,
   "id": "6aa59d45",
   "metadata": {},
   "outputs": [
    {
     "data": {
      "text/plain": [
       "()"
      ]
     },
     "execution_count": 32,
     "metadata": {},
     "output_type": "execute_result"
    }
   ],
   "source": [
    "misc[marks[4]]"
   ]
  },
  {
   "cell_type": "code",
   "execution_count": 34,
   "id": "caa29cda",
   "metadata": {},
   "outputs": [
    {
     "data": {
      "text/plain": [
       "[9, 8, 7, 6, 5, 4, 3, 3, 2]"
      ]
     },
     "execution_count": 34,
     "metadata": {},
     "output_type": "execute_result"
    }
   ],
   "source": [
    "misc[4]"
   ]
  },
  {
   "cell_type": "code",
   "execution_count": 36,
   "id": "eb2651c5",
   "metadata": {},
   "outputs": [
    {
     "data": {
      "text/plain": [
       "5"
      ]
     },
     "execution_count": 36,
     "metadata": {},
     "output_type": "execute_result"
    }
   ],
   "source": [
    "misc[4][4]"
   ]
  },
  {
   "cell_type": "code",
   "execution_count": 38,
   "id": "2ce0d3a2",
   "metadata": {},
   "outputs": [
    {
     "data": {
      "text/plain": [
       "[9, 8, 7, 6, 5, 4, 3, 3, 2]"
      ]
     },
     "execution_count": 38,
     "metadata": {},
     "output_type": "execute_result"
    }
   ],
   "source": [
    "misc[4]"
   ]
  },
  {
   "cell_type": "code",
   "execution_count": 39,
   "id": "e8983b3e",
   "metadata": {},
   "outputs": [
    {
     "data": {
      "text/plain": [
       "{}"
      ]
     },
     "execution_count": 39,
     "metadata": {},
     "output_type": "execute_result"
    }
   ],
   "source": [
    "misc[6]"
   ]
  },
  {
   "cell_type": "markdown",
   "id": "0c0b6679",
   "metadata": {},
   "source": [
    "Iterable >>> means that can be accessed in parts\n",
    "\n",
    "like strings are iterable, list are iterable"
   ]
  },
  {
   "cell_type": "code",
   "execution_count": 40,
   "id": "1dfbbc9e",
   "metadata": {},
   "outputs": [
    {
     "data": {
      "text/plain": [
       "'Pakistan'"
      ]
     },
     "execution_count": 40,
     "metadata": {},
     "output_type": "execute_result"
    }
   ],
   "source": [
    "country_name"
   ]
  },
  {
   "cell_type": "code",
   "execution_count": 41,
   "id": "9b5665b7",
   "metadata": {},
   "outputs": [
    {
     "data": {
      "text/plain": [
       "'a'"
      ]
     },
     "execution_count": 41,
     "metadata": {},
     "output_type": "execute_result"
    }
   ],
   "source": [
    "country_name[6]"
   ]
  },
  {
   "cell_type": "code",
   "execution_count": 42,
   "id": "7be28eae",
   "metadata": {},
   "outputs": [
    {
     "data": {
      "text/plain": [
       "'t'"
      ]
     },
     "execution_count": 42,
     "metadata": {},
     "output_type": "execute_result"
    }
   ],
   "source": [
    "misc[0][2]"
   ]
  },
  {
   "cell_type": "code",
   "execution_count": 43,
   "id": "6e9a71e7",
   "metadata": {},
   "outputs": [
    {
     "data": {
      "text/plain": [
       "100"
      ]
     },
     "execution_count": 43,
     "metadata": {},
     "output_type": "execute_result"
    }
   ],
   "source": [
    "misc[1]"
   ]
  },
  {
   "cell_type": "code",
   "execution_count": 44,
   "id": "4109ef45",
   "metadata": {},
   "outputs": [
    {
     "ename": "TypeError",
     "evalue": "'int' object is not subscriptable",
     "output_type": "error",
     "traceback": [
      "\u001b[1;31m---------------------------------------------------------------------------\u001b[0m",
      "\u001b[1;31mTypeError\u001b[0m                                 Traceback (most recent call last)",
      "\u001b[1;32m<ipython-input-44-ff6bf219f80b>\u001b[0m in \u001b[0;36m<module>\u001b[1;34m\u001b[0m\n\u001b[1;32m----> 1\u001b[1;33m \u001b[0mmisc\u001b[0m\u001b[1;33m[\u001b[0m\u001b[1;36m1\u001b[0m\u001b[1;33m]\u001b[0m\u001b[1;33m[\u001b[0m\u001b[1;36m2\u001b[0m\u001b[1;33m]\u001b[0m\u001b[1;33m\u001b[0m\u001b[1;33m\u001b[0m\u001b[0m\n\u001b[0m",
      "\u001b[1;31mTypeError\u001b[0m: 'int' object is not subscriptable"
     ]
    }
   ],
   "source": [
    "misc[1][2] # int are not iterable"
   ]
  },
  {
   "cell_type": "markdown",
   "id": "414ebf5b",
   "metadata": {},
   "source": [
    "## Methods"
   ]
  },
  {
   "cell_type": "code",
   "execution_count": 65,
   "id": "01dc2c15",
   "metadata": {},
   "outputs": [
    {
     "data": {
      "text/plain": [
       "[11, 22, 33, 44, 55, 66, 77, 88]"
      ]
     },
     "execution_count": 65,
     "metadata": {},
     "output_type": "execute_result"
    }
   ],
   "source": [
    "newlist = [11,22,33,44,55,66,77,88]\n",
    "newlist\n",
    "\n",
    "#List are immutable \n",
    "#Strings are immutable\n",
    "\n",
    "#delete, update(replace), add(append) , create"
   ]
  },
  {
   "cell_type": "code",
   "execution_count": 50,
   "id": "dd3eb832",
   "metadata": {},
   "outputs": [],
   "source": [
    "newlist[6] = \"Pakistan\" #update list"
   ]
  },
  {
   "cell_type": "code",
   "execution_count": 51,
   "id": "1ebbe058",
   "metadata": {},
   "outputs": [
    {
     "data": {
      "text/plain": [
       "[11, 22, 33, 44, 55, 66, 'Pakistan', 88]"
      ]
     },
     "execution_count": 51,
     "metadata": {},
     "output_type": "execute_result"
    }
   ],
   "source": [
    "newlist"
   ]
  },
  {
   "cell_type": "code",
   "execution_count": 54,
   "id": "31def3e1",
   "metadata": {},
   "outputs": [],
   "source": [
    "newlist.append(99)  # Add"
   ]
  },
  {
   "cell_type": "code",
   "execution_count": 55,
   "id": "cd6ff614",
   "metadata": {},
   "outputs": [
    {
     "data": {
      "text/plain": [
       "[11, 22, 33, 44, 55, 66, 'Pakistan', 88, '99', 99]"
      ]
     },
     "execution_count": 55,
     "metadata": {},
     "output_type": "execute_result"
    }
   ],
   "source": [
    "newlist"
   ]
  },
  {
   "cell_type": "code",
   "execution_count": 59,
   "id": "ae0a1ccf",
   "metadata": {},
   "outputs": [],
   "source": [
    "del newlist[8]"
   ]
  },
  {
   "cell_type": "code",
   "execution_count": 60,
   "id": "ab625c21",
   "metadata": {},
   "outputs": [
    {
     "data": {
      "text/plain": [
       "[11, 22, 33, 44, 55, 66, 'Pakistan', '99']"
      ]
     },
     "execution_count": 60,
     "metadata": {},
     "output_type": "execute_result"
    }
   ],
   "source": [
    "newlist"
   ]
  },
  {
   "cell_type": "code",
   "execution_count": 68,
   "id": "98ced1a3",
   "metadata": {},
   "outputs": [
    {
     "data": {
      "text/plain": [
       "[11, 22, 33, 44, 55, 66, 77, 88]"
      ]
     },
     "execution_count": 68,
     "metadata": {},
     "output_type": "execute_result"
    }
   ],
   "source": [
    "newlist.copy()"
   ]
  },
  {
   "cell_type": "code",
   "execution_count": 62,
   "id": "f45b4096",
   "metadata": {},
   "outputs": [
    {
     "data": {
      "text/plain": [
       "[11, 22, 33, 44, 55, 66, 'Pakistan', '99']"
      ]
     },
     "execution_count": 62,
     "metadata": {},
     "output_type": "execute_result"
    }
   ],
   "source": [
    "newlist"
   ]
  },
  {
   "cell_type": "code",
   "execution_count": 63,
   "id": "b86addaf",
   "metadata": {},
   "outputs": [],
   "source": [
    "newlist.clear()"
   ]
  },
  {
   "cell_type": "code",
   "execution_count": 64,
   "id": "57f4780a",
   "metadata": {},
   "outputs": [
    {
     "data": {
      "text/plain": [
       "[]"
      ]
     },
     "execution_count": 64,
     "metadata": {},
     "output_type": "execute_result"
    }
   ],
   "source": [
    "newlist"
   ]
  },
  {
   "cell_type": "code",
   "execution_count": 66,
   "id": "15709d58",
   "metadata": {},
   "outputs": [
    {
     "data": {
      "text/plain": [
       "[11, 22, 33, 44, 55, 66, 77, 88]"
      ]
     },
     "execution_count": 66,
     "metadata": {},
     "output_type": "execute_result"
    }
   ],
   "source": [
    "newlist"
   ]
  },
  {
   "cell_type": "code",
   "execution_count": 77,
   "id": "32843699",
   "metadata": {},
   "outputs": [],
   "source": [
    "newlist = [11, 22, 33, 44, 55, 66, 77, 88]"
   ]
  },
  {
   "cell_type": "code",
   "execution_count": 69,
   "id": "2bd4402d",
   "metadata": {},
   "outputs": [],
   "source": [
    "copy_of_new_list = newlist.copy()"
   ]
  },
  {
   "cell_type": "code",
   "execution_count": 70,
   "id": "b7fcb5e7",
   "metadata": {},
   "outputs": [
    {
     "data": {
      "text/plain": [
       "[11, 22, 33, 44, 55, 66, 77, 88]"
      ]
     },
     "execution_count": 70,
     "metadata": {},
     "output_type": "execute_result"
    }
   ],
   "source": [
    "copy_of_new_list"
   ]
  },
  {
   "cell_type": "code",
   "execution_count": 72,
   "id": "7cd5d7eb",
   "metadata": {},
   "outputs": [
    {
     "data": {
      "text/plain": [
       "1"
      ]
     },
     "execution_count": 72,
     "metadata": {},
     "output_type": "execute_result"
    }
   ],
   "source": [
    "newlist.count(44)"
   ]
  },
  {
   "cell_type": "code",
   "execution_count": 74,
   "id": "d7ffe41b",
   "metadata": {},
   "outputs": [],
   "source": [
    "newlist.append(copy_of_new_list) # add all numbers as list (one number)"
   ]
  },
  {
   "cell_type": "code",
   "execution_count": 75,
   "id": "4fefce5c",
   "metadata": {},
   "outputs": [
    {
     "data": {
      "text/plain": [
       "[11, 22, 33, 44, 55, 66, 77, 88, [11, 22, 33, 44, 55, 66, 77, 88]]"
      ]
     },
     "execution_count": 75,
     "metadata": {},
     "output_type": "execute_result"
    }
   ],
   "source": [
    "newlist"
   ]
  },
  {
   "cell_type": "code",
   "execution_count": 76,
   "id": "211da7c1",
   "metadata": {},
   "outputs": [
    {
     "data": {
      "text/plain": [
       "9"
      ]
     },
     "execution_count": 76,
     "metadata": {},
     "output_type": "execute_result"
    }
   ],
   "source": [
    "len(newlist)"
   ]
  },
  {
   "cell_type": "code",
   "execution_count": 78,
   "id": "123c7aca",
   "metadata": {},
   "outputs": [],
   "source": [
    "newlist.extend(copy_of_new_list) # add as separate members "
   ]
  },
  {
   "cell_type": "code",
   "execution_count": 79,
   "id": "334cf088",
   "metadata": {},
   "outputs": [
    {
     "data": {
      "text/plain": [
       "[11, 22, 33, 44, 55, 66, 77, 88, 11, 22, 33, 44, 55, 66, 77, 88]"
      ]
     },
     "execution_count": 79,
     "metadata": {},
     "output_type": "execute_result"
    }
   ],
   "source": [
    "newlist"
   ]
  },
  {
   "cell_type": "code",
   "execution_count": 80,
   "id": "fc9e88c8",
   "metadata": {},
   "outputs": [],
   "source": [
    "copy_of_new_list.extend(country_name) # extends works on every iterable like strings"
   ]
  },
  {
   "cell_type": "code",
   "execution_count": 81,
   "id": "36423c7e",
   "metadata": {},
   "outputs": [
    {
     "data": {
      "text/plain": [
       "[11, 22, 33, 44, 55, 66, 77, 88, 'P', 'a', 'k', 'i', 's', 't', 'a', 'n']"
      ]
     },
     "execution_count": 81,
     "metadata": {},
     "output_type": "execute_result"
    }
   ],
   "source": [
    "copy_of_new_list"
   ]
  },
  {
   "cell_type": "code",
   "execution_count": 84,
   "id": "c29f9748",
   "metadata": {},
   "outputs": [
    {
     "data": {
      "text/plain": [
       "[1, 2, 3, 4, 5, 6]"
      ]
     },
     "execution_count": 84,
     "metadata": {},
     "output_type": "execute_result"
    }
   ],
   "source": [
    "alist = [1,2,3]\n",
    "blist = [4,5,6]\n",
    "# alternative of extend\n",
    "alist + blist #Concatenate the list"
   ]
  },
  {
   "cell_type": "code",
   "execution_count": 85,
   "id": "659e1c74",
   "metadata": {},
   "outputs": [],
   "source": [
    "alist.extend(blist)"
   ]
  },
  {
   "cell_type": "code",
   "execution_count": 86,
   "id": "ff8ea4cc",
   "metadata": {},
   "outputs": [
    {
     "data": {
      "text/plain": [
       "[1, 2, 3, 4, 5, 6]"
      ]
     },
     "execution_count": 86,
     "metadata": {},
     "output_type": "execute_result"
    }
   ],
   "source": [
    "alist"
   ]
  },
  {
   "cell_type": "code",
   "execution_count": 87,
   "id": "ee962891",
   "metadata": {},
   "outputs": [
    {
     "data": {
      "text/plain": [
       "4"
      ]
     },
     "execution_count": 87,
     "metadata": {},
     "output_type": "execute_result"
    }
   ],
   "source": [
    "alist.index(5)                                                             "
   ]
  },
  {
   "cell_type": "code",
   "execution_count": 88,
   "id": "b462f472",
   "metadata": {},
   "outputs": [
    {
     "ename": "ValueError",
     "evalue": "45 is not in list",
     "output_type": "error",
     "traceback": [
      "\u001b[1;31m---------------------------------------------------------------------------\u001b[0m",
      "\u001b[1;31mValueError\u001b[0m                                Traceback (most recent call last)",
      "\u001b[1;32m<ipython-input-88-9493d6dd4192>\u001b[0m in \u001b[0;36m<module>\u001b[1;34m\u001b[0m\n\u001b[1;32m----> 1\u001b[1;33m \u001b[0malist\u001b[0m\u001b[1;33m.\u001b[0m\u001b[0mindex\u001b[0m\u001b[1;33m(\u001b[0m\u001b[1;36m45\u001b[0m\u001b[1;33m)\u001b[0m\u001b[1;33m\u001b[0m\u001b[1;33m\u001b[0m\u001b[0m\n\u001b[0m",
      "\u001b[1;31mValueError\u001b[0m: 45 is not in list"
     ]
    }
   ],
   "source": [
    "alist.index(45)     "
   ]
  },
  {
   "cell_type": "code",
   "execution_count": 91,
   "id": "f25b58e6",
   "metadata": {},
   "outputs": [],
   "source": [
    "#append places the value in the end of list \n",
    "#and insert place the value at your desire index\n",
    "\n",
    "alist.insert(3,\"iminsert\")"
   ]
  },
  {
   "cell_type": "code",
   "execution_count": 92,
   "id": "1b15e410",
   "metadata": {},
   "outputs": [
    {
     "data": {
      "text/plain": [
       "[1, 2, 3, 'iminsert', 'k', 4, 5, 6]"
      ]
     },
     "execution_count": 92,
     "metadata": {},
     "output_type": "execute_result"
    }
   ],
   "source": [
    "alist"
   ]
  },
  {
   "cell_type": "code",
   "execution_count": 94,
   "id": "53ee7e2e",
   "metadata": {},
   "outputs": [],
   "source": [
    "#Delete delete the value from your desire location using del keyword\n",
    "#It don't return a deleted value\n",
    "\n",
    "del alist[6]"
   ]
  },
  {
   "cell_type": "code",
   "execution_count": 95,
   "id": "3c1460ad",
   "metadata": {},
   "outputs": [
    {
     "data": {
      "text/plain": [
       "[1, 2, 3, 'iminsert', 'k', 4, 6]"
      ]
     },
     "execution_count": 95,
     "metadata": {},
     "output_type": "execute_result"
    }
   ],
   "source": [
    "alist"
   ]
  },
  {
   "cell_type": "code",
   "execution_count": 96,
   "id": "03cc8311",
   "metadata": {},
   "outputs": [],
   "source": [
    "#Pop delete the value from the end of the list\n",
    "#Pop return the deleted value"
   ]
  },
  {
   "cell_type": "code",
   "execution_count": 98,
   "id": "7f4c4b19",
   "metadata": {},
   "outputs": [
    {
     "data": {
      "text/plain": [
       "6"
      ]
     },
     "execution_count": 98,
     "metadata": {},
     "output_type": "execute_result"
    }
   ],
   "source": [
    "alist.pop()"
   ]
  },
  {
   "cell_type": "code",
   "execution_count": 99,
   "id": "ec83e931",
   "metadata": {},
   "outputs": [
    {
     "data": {
      "text/plain": [
       "[1, 2, 3, 'iminsert', 'k', 4]"
      ]
     },
     "execution_count": 99,
     "metadata": {},
     "output_type": "execute_result"
    }
   ],
   "source": [
    "alist"
   ]
  },
  {
   "cell_type": "code",
   "execution_count": 110,
   "id": "a261a469",
   "metadata": {},
   "outputs": [],
   "source": [
    "blist = [4,5,6]"
   ]
  },
  {
   "cell_type": "code",
   "execution_count": 102,
   "id": "8c514255",
   "metadata": {},
   "outputs": [
    {
     "data": {
      "text/plain": [
       "6"
      ]
     },
     "execution_count": 102,
     "metadata": {},
     "output_type": "execute_result"
    }
   ],
   "source": [
    "deleted_value = blist.pop()\n",
    "deleted_value"
   ]
  },
  {
   "cell_type": "code",
   "execution_count": 107,
   "id": "2f2d7560",
   "metadata": {},
   "outputs": [
    {
     "data": {
      "text/plain": [
       "[4]"
      ]
     },
     "execution_count": 107,
     "metadata": {},
     "output_type": "execute_result"
    }
   ],
   "source": [
    "blist"
   ]
  },
  {
   "cell_type": "code",
   "execution_count": 111,
   "id": "98964b7e",
   "metadata": {},
   "outputs": [
    {
     "data": {
      "text/plain": [
       "5"
      ]
     },
     "execution_count": 111,
     "metadata": {},
     "output_type": "execute_result"
    }
   ],
   "source": [
    "blist.pop(1) # deleting the desire value "
   ]
  },
  {
   "cell_type": "code",
   "execution_count": 105,
   "id": "97e2e2c1",
   "metadata": {},
   "outputs": [
    {
     "data": {
      "text/plain": [
       "[4]"
      ]
     },
     "execution_count": 105,
     "metadata": {},
     "output_type": "execute_result"
    }
   ],
   "source": [
    "blist"
   ]
  },
  {
   "cell_type": "code",
   "execution_count": 112,
   "id": "d6604609",
   "metadata": {},
   "outputs": [
    {
     "data": {
      "text/plain": [
       "[1, 3, 'iminsert', 'k', 4]"
      ]
     },
     "execution_count": 112,
     "metadata": {},
     "output_type": "execute_result"
    }
   ],
   "source": [
    "alist.pop(1)\n",
    "alist"
   ]
  },
  {
   "cell_type": "code",
   "execution_count": 113,
   "id": "d5530ed8",
   "metadata": {},
   "outputs": [
    {
     "data": {
      "text/plain": [
       "[1, 3, 'iminsert', 'k']"
      ]
     },
     "execution_count": 113,
     "metadata": {},
     "output_type": "execute_result"
    }
   ],
   "source": [
    "alist.pop()\n",
    "alist"
   ]
  },
  {
   "cell_type": "code",
   "execution_count": 117,
   "id": "c51a660a",
   "metadata": {},
   "outputs": [],
   "source": [
    "# Remove works on values while other functions works on index\n",
    "# del, pop, we must know the index of the value\n",
    "alist.remove(1)"
   ]
  },
  {
   "cell_type": "code",
   "execution_count": 118,
   "id": "7f770788",
   "metadata": {},
   "outputs": [
    {
     "data": {
      "text/plain": [
       "['iminsert', 'k']"
      ]
     },
     "execution_count": 118,
     "metadata": {},
     "output_type": "execute_result"
    }
   ],
   "source": [
    "alist"
   ]
  },
  {
   "cell_type": "code",
   "execution_count": 119,
   "id": "4508e052",
   "metadata": {},
   "outputs": [
    {
     "data": {
      "text/plain": [
       "['Osama', 'Ahmed', 'Uzair', 'Usman', 'Aqeel']"
      ]
     },
     "execution_count": 119,
     "metadata": {},
     "output_type": "execute_result"
    }
   ],
   "source": [
    "student"
   ]
  },
  {
   "cell_type": "code",
   "execution_count": 121,
   "id": "93ab2751",
   "metadata": {},
   "outputs": [],
   "source": [
    "student.remove(\"Ahmed\")"
   ]
  },
  {
   "cell_type": "code",
   "execution_count": 122,
   "id": "6381ae53",
   "metadata": {},
   "outputs": [
    {
     "data": {
      "text/plain": [
       "['Osama', 'Uzair', 'Usman', 'Aqeel']"
      ]
     },
     "execution_count": 122,
     "metadata": {},
     "output_type": "execute_result"
    }
   ],
   "source": [
    "student"
   ]
  },
  {
   "cell_type": "code",
   "execution_count": 124,
   "id": "359e9501",
   "metadata": {},
   "outputs": [],
   "source": [
    "student.remove(\"Usman\")"
   ]
  },
  {
   "cell_type": "code",
   "execution_count": 125,
   "id": "008fd32a",
   "metadata": {},
   "outputs": [
    {
     "data": {
      "text/plain": [
       "['Osama', 'Uzair', 'Aqeel']"
      ]
     },
     "execution_count": 125,
     "metadata": {},
     "output_type": "execute_result"
    }
   ],
   "source": [
    "student"
   ]
  },
  {
   "cell_type": "code",
   "execution_count": 127,
   "id": "6127eb95",
   "metadata": {},
   "outputs": [],
   "source": [
    "# Reverse doesn't sort the value, it just reverse the value\n",
    "student.reverse()"
   ]
  },
  {
   "cell_type": "code",
   "execution_count": 128,
   "id": "351f79ef",
   "metadata": {},
   "outputs": [
    {
     "data": {
      "text/plain": [
       "['Aqeel', 'Uzair', 'Osama']"
      ]
     },
     "execution_count": 128,
     "metadata": {},
     "output_type": "execute_result"
    }
   ],
   "source": [
    "student"
   ]
  },
  {
   "cell_type": "code",
   "execution_count": 131,
   "id": "de9bc344",
   "metadata": {},
   "outputs": [],
   "source": [
    "list1 = [45,4,5,66,7,8,11,2,3]"
   ]
  },
  {
   "cell_type": "code",
   "execution_count": 132,
   "id": "45e642f3",
   "metadata": {},
   "outputs": [],
   "source": [
    "list1.reverse()"
   ]
  },
  {
   "cell_type": "code",
   "execution_count": 133,
   "id": "5710c7b1",
   "metadata": {},
   "outputs": [
    {
     "data": {
      "text/plain": [
       "[3, 2, 11, 8, 7, 66, 5, 4, 45]"
      ]
     },
     "execution_count": 133,
     "metadata": {},
     "output_type": "execute_result"
    }
   ],
   "source": [
    "list1"
   ]
  },
  {
   "cell_type": "code",
   "execution_count": 134,
   "id": "e17a5539",
   "metadata": {},
   "outputs": [],
   "source": [
    "list1.sort()"
   ]
  },
  {
   "cell_type": "code",
   "execution_count": 135,
   "id": "957eb637",
   "metadata": {},
   "outputs": [
    {
     "data": {
      "text/plain": [
       "[2, 3, 4, 5, 7, 8, 11, 45, 66]"
      ]
     },
     "execution_count": 135,
     "metadata": {},
     "output_type": "execute_result"
    }
   ],
   "source": [
    "list1"
   ]
  },
  {
   "cell_type": "code",
   "execution_count": 129,
   "id": "d271f21e",
   "metadata": {},
   "outputs": [],
   "source": [
    "student.sort()"
   ]
  },
  {
   "cell_type": "code",
   "execution_count": 130,
   "id": "bf0a02e4",
   "metadata": {},
   "outputs": [
    {
     "data": {
      "text/plain": [
       "['Aqeel', 'Osama', 'Uzair']"
      ]
     },
     "execution_count": 130,
     "metadata": {},
     "output_type": "execute_result"
    }
   ],
   "source": [
    "student"
   ]
  },
  {
   "cell_type": "code",
   "execution_count": 136,
   "id": "4cb30193",
   "metadata": {},
   "outputs": [],
   "source": [
    "list1.sort(reverse=True)"
   ]
  },
  {
   "cell_type": "code",
   "execution_count": 137,
   "id": "1c51a845",
   "metadata": {},
   "outputs": [
    {
     "data": {
      "text/plain": [
       "[66, 45, 11, 8, 7, 5, 4, 3, 2]"
      ]
     },
     "execution_count": 137,
     "metadata": {},
     "output_type": "execute_result"
    }
   ],
   "source": [
    "list1"
   ]
  },
  {
   "cell_type": "markdown",
   "id": "dea6dc39",
   "metadata": {},
   "source": [
    "## List Slicing"
   ]
  },
  {
   "cell_type": "code",
   "execution_count": 138,
   "id": "bc41793f",
   "metadata": {},
   "outputs": [],
   "source": [
    "nums = [1,2,3,4,5,6,7,8,9,10,11,12,13,14,15,16,17,18,19,20]\n",
    "#       0 1 2 3 4 5 6 7 8  9 10 11 12 13 14 15 16 17 18 19 20 21 22 >>> index"
   ]
  },
  {
   "cell_type": "code",
   "execution_count": 139,
   "id": "9b07709a",
   "metadata": {},
   "outputs": [
    {
     "data": {
      "text/plain": [
       "13"
      ]
     },
     "execution_count": 139,
     "metadata": {},
     "output_type": "execute_result"
    }
   ],
   "source": [
    "#Indexing\n",
    "nums[12] "
   ]
  },
  {
   "cell_type": "code",
   "execution_count": 140,
   "id": "82d18b01",
   "metadata": {},
   "outputs": [
    {
     "name": "stdout",
     "output_type": "stream",
     "text": [
      "[1, 2, 3, 4, 5, 6, 7, 8, 9, 10, 11, 12, 13, 14, 15, 16, 17, 18, 19, 20]\n"
     ]
    }
   ],
   "source": [
    "print(nums)"
   ]
  },
  {
   "cell_type": "code",
   "execution_count": 141,
   "id": "99c82ddc",
   "metadata": {},
   "outputs": [
    {
     "data": {
      "text/plain": [
       "[2, 3, 4, 5, 6, 7, 8, 9, 10, 11]"
      ]
     },
     "execution_count": 141,
     "metadata": {},
     "output_type": "execute_result"
    }
   ],
   "source": [
    "#Slicing\n",
    "nums[1:11]"
   ]
  },
  {
   "cell_type": "code",
   "execution_count": 142,
   "id": "ae4a2cc1",
   "metadata": {},
   "outputs": [
    {
     "data": {
      "text/plain": [
       "[1, 2, 3, 4, 5, 6, 7, 8, 9, 10, 11, 12, 13, 14, 15, 16, 17, 18, 19, 20]"
      ]
     },
     "execution_count": 142,
     "metadata": {},
     "output_type": "execute_result"
    }
   ],
   "source": [
    "nums[:]"
   ]
  },
  {
   "cell_type": "code",
   "execution_count": 145,
   "id": "1829b21d",
   "metadata": {},
   "outputs": [
    {
     "data": {
      "text/plain": [
       "[2, 3, 4, 5, 6, 7, 8, 9, 10, 11, 12, 13, 14, 15, 16, 17, 18, 19, 20]"
      ]
     },
     "execution_count": 145,
     "metadata": {},
     "output_type": "execute_result"
    }
   ],
   "source": [
    "nums[1:20]"
   ]
  },
  {
   "cell_type": "code",
   "execution_count": 144,
   "id": "8fc22cb6",
   "metadata": {},
   "outputs": [
    {
     "data": {
      "text/plain": [
       "20"
      ]
     },
     "execution_count": 144,
     "metadata": {},
     "output_type": "execute_result"
    }
   ],
   "source": [
    "len(nums)"
   ]
  },
  {
   "cell_type": "code",
   "execution_count": 146,
   "id": "509b1c2d",
   "metadata": {},
   "outputs": [
    {
     "data": {
      "text/plain": [
       "[10, 11, 12, 13, 14]"
      ]
     },
     "execution_count": 146,
     "metadata": {},
     "output_type": "execute_result"
    }
   ],
   "source": [
    "nums[9:14]"
   ]
  },
  {
   "cell_type": "code",
   "execution_count": 148,
   "id": "311f3991",
   "metadata": {},
   "outputs": [],
   "source": [
    "sliced = nums[0:20]"
   ]
  },
  {
   "cell_type": "code",
   "execution_count": 149,
   "id": "f848f3fb",
   "metadata": {},
   "outputs": [
    {
     "data": {
      "text/plain": [
       "[1, 2, 3, 4, 5, 6, 7, 8, 9, 10, 11, 12, 13, 14, 15, 16, 17, 18, 19, 20]"
      ]
     },
     "execution_count": 149,
     "metadata": {},
     "output_type": "execute_result"
    }
   ],
   "source": [
    "sliced"
   ]
  },
  {
   "cell_type": "code",
   "execution_count": 150,
   "id": "fc583fa0",
   "metadata": {},
   "outputs": [
    {
     "data": {
      "text/plain": [
       "[1]"
      ]
     },
     "execution_count": 150,
     "metadata": {},
     "output_type": "execute_result"
    }
   ],
   "source": [
    "nums[0:1]"
   ]
  },
  {
   "cell_type": "code",
   "execution_count": 152,
   "id": "7c2cf24b",
   "metadata": {},
   "outputs": [
    {
     "data": {
      "text/plain": [
       "[1, 2]"
      ]
     },
     "execution_count": 152,
     "metadata": {},
     "output_type": "execute_result"
    }
   ],
   "source": [
    "nums[0:2]"
   ]
  },
  {
   "cell_type": "code",
   "execution_count": 153,
   "id": "a2525d14",
   "metadata": {},
   "outputs": [],
   "source": [
    "n1 = [0, 1, 2, 3, 4, 5, 6, 7, 8, 9, 10, 11, 12, 13, 14, 15, 16, 17, 18, 19, 20]\n",
    "#     0  1  2 3   4  5  6  7  8  9  10  11  12  13  14  15  16  17  18  19  20  21 22 >>> index \n",
    "# Slicing include first digit but exclude the last one"
   ]
  },
  {
   "cell_type": "code",
   "execution_count": 155,
   "id": "036a0c57",
   "metadata": {},
   "outputs": [
    {
     "data": {
      "text/plain": [
       "[0, 1, 2, 3, 4, 5, 6, 7, 8, 9, 10, 11, 12, 13, 14, 15, 16, 17, 18, 19]"
      ]
     },
     "execution_count": 155,
     "metadata": {},
     "output_type": "execute_result"
    }
   ],
   "source": [
    "n1[0:20]"
   ]
  },
  {
   "cell_type": "code",
   "execution_count": 156,
   "id": "8bdad6fb",
   "metadata": {},
   "outputs": [],
   "source": [
    "sliced = n1[9:14]"
   ]
  },
  {
   "cell_type": "code",
   "execution_count": 157,
   "id": "c7a74a84",
   "metadata": {},
   "outputs": [
    {
     "data": {
      "text/plain": [
       "[9, 10, 11, 12, 13]"
      ]
     },
     "execution_count": 157,
     "metadata": {},
     "output_type": "execute_result"
    }
   ],
   "source": [
    "sliced"
   ]
  },
  {
   "cell_type": "code",
   "execution_count": 158,
   "id": "9b230ca3",
   "metadata": {},
   "outputs": [
    {
     "data": {
      "text/plain": [
       "list"
      ]
     },
     "execution_count": 158,
     "metadata": {},
     "output_type": "execute_result"
    }
   ],
   "source": [
    "type(n1)"
   ]
  },
  {
   "cell_type": "code",
   "execution_count": 159,
   "id": "3b1ee887",
   "metadata": {},
   "outputs": [
    {
     "data": {
      "text/plain": [
       "int"
      ]
     },
     "execution_count": 159,
     "metadata": {},
     "output_type": "execute_result"
    }
   ],
   "source": [
    "type(n1[12])"
   ]
  },
  {
   "cell_type": "code",
   "execution_count": 160,
   "id": "53d65274",
   "metadata": {},
   "outputs": [],
   "source": [
    "# Slicing direction is from left to right"
   ]
  },
  {
   "cell_type": "code",
   "execution_count": null,
   "id": "23d9ef61",
   "metadata": {},
   "outputs": [],
   "source": [
    "n1 = [0,  1,  2,   3, 4,  5,   6,  7,  8,  9,  10, 11, 12,  13, 14, 15, 16, 17, 18, 19, 20]\n",
    "#   - 21 -20 -19 -18 -17 -16 -15 -14  -13 -12 -11 -10  -9  -8   -7  -6  -5  -4  -3  -2  -1 \n",
    "#Reverse Index"
   ]
  }
 ],
 "metadata": {
  "kernelspec": {
   "display_name": "Python 3",
   "language": "python",
   "name": "python3"
  },
  "language_info": {
   "codemirror_mode": {
    "name": "ipython",
    "version": 3
   },
   "file_extension": ".py",
   "mimetype": "text/x-python",
   "name": "python",
   "nbconvert_exporter": "python",
   "pygments_lexer": "ipython3",
   "version": "3.8.8"
  }
 },
 "nbformat": 4,
 "nbformat_minor": 5
}
