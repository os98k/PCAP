{
 "cells": [
  {
   "cell_type": "markdown",
   "id": "6c6fe0eb",
   "metadata": {},
   "source": [
    "# Last Discussed\n",
    "\n",
    "- Function\n",
    "- Exceptions"
   ]
  },
  {
   "cell_type": "markdown",
   "id": "ffd11f69",
   "metadata": {},
   "source": [
    "# Today Discussed\n",
    "\n",
    "- VS code\n",
    "- Exceptions"
   ]
  },
  {
   "cell_type": "code",
   "execution_count": 1,
   "id": "a759b9c4",
   "metadata": {},
   "outputs": [
    {
     "name": "stdout",
     "output_type": "stream",
     "text": [
      "Print Function\n"
     ]
    }
   ],
   "source": [
    "import trignometry as tri"
   ]
  },
  {
   "cell_type": "code",
   "execution_count": 2,
   "id": "d489bd9f",
   "metadata": {},
   "outputs": [
    {
     "name": "stdout",
     "output_type": "stream",
     "text": [
      "Area of triangle  is 75.0 meters\n",
      "It is a small triangle\n"
     ]
    }
   ],
   "source": [
    "tri_area, unit = tri.area_of_triangle(10,15)\n",
    "print(f\"Area of triangle  is {tri_area} {unit}\")\n",
    "if tri_area > 100:\n",
    "    \n",
    "    print(\"It is a big trianle\")\n",
    "\n",
    "else:\n",
    "\n",
    "    print(\"It is a small triangle\")\n"
   ]
  },
  {
   "cell_type": "code",
   "execution_count": 3,
   "id": "7608baf0",
   "metadata": {},
   "outputs": [
    {
     "name": "stdout",
     "output_type": "stream",
     "text": [
      "The Triangle is not a Right Triangle\n"
     ]
    }
   ],
   "source": [
    "\n",
    "print(tri.check_right_triangle(10,12,15))"
   ]
  },
  {
   "cell_type": "code",
   "execution_count": null,
   "id": "5d1db5e3",
   "metadata": {},
   "outputs": [],
   "source": [
    "# %load Python15.py\n",
    "import trignometry as tri\n",
    "\n",
    "tri_area, unit = tri.area_of_triangle(10,15)\n",
    "print(f\"Area of triangle  is {tri_area} {unit}\")\n",
    "if tri_area > 100:\n",
    "    \n",
    "    print(\"It is a big trianle\")\n",
    "\n",
    "else:\n",
    "\n",
    "    print(\"It is a small triangle\")\n",
    "\n",
    "print(tri.check_right_triangle(10,12,15))"
   ]
  },
  {
   "cell_type": "code",
   "execution_count": 5,
   "id": "19f57590",
   "metadata": {},
   "outputs": [
    {
     "name": "stdout",
     "output_type": "stream",
     "text": [
      "Area of triangle  is 75.0 meters\n",
      "It is a small triangle\n",
      "The Triangle is not a Right Triangle\n"
     ]
    }
   ],
   "source": [
    "%run Python15.py"
   ]
  },
  {
   "cell_type": "markdown",
   "id": "e5186f23",
   "metadata": {},
   "source": [
    "# Exceptions"
   ]
  },
  {
   "cell_type": "code",
   "execution_count": 9,
   "id": "6a78f44f",
   "metadata": {},
   "outputs": [
    {
     "name": "stdout",
     "output_type": "stream",
     "text": [
      "Enter a number to divivde 23\n",
      "Enter a number to divivde num10\n",
      "You can not divide an integer by 0\n"
     ]
    }
   ],
   "source": [
    "num1 = int(input(\"Enter a number to divivde \"))\n",
    "num2 = int(input(\"Enter a number to divivde num1\"))\n",
    "\n",
    "try:\n",
    "    res = num1/num2\n",
    "    print(c)\n",
    "except ZeroDivisionError:\n",
    "    print(\"You can not divide an integer by 0\")\n",
    "\n"
   ]
  },
  {
   "cell_type": "code",
   "execution_count": 10,
   "id": "9454dd32",
   "metadata": {},
   "outputs": [
    {
     "name": "stdout",
     "output_type": "stream",
     "text": [
      "Enter a number to divivde 2\n",
      "Enter a number to divivde num12\n"
     ]
    },
    {
     "ename": "IndexError",
     "evalue": "list index out of range",
     "output_type": "error",
     "traceback": [
      "\u001b[1;31m---------------------------------------------------------------------------\u001b[0m",
      "\u001b[1;31mIndexError\u001b[0m                                Traceback (most recent call last)",
      "\u001b[1;32m<ipython-input-10-b28e76329127>\u001b[0m in \u001b[0;36m<module>\u001b[1;34m\u001b[0m\n\u001b[0;32m      4\u001b[0m \u001b[1;32mtry\u001b[0m\u001b[1;33m:\u001b[0m\u001b[1;33m\u001b[0m\u001b[1;33m\u001b[0m\u001b[0m\n\u001b[0;32m      5\u001b[0m     \u001b[0mc\u001b[0m \u001b[1;33m=\u001b[0m \u001b[0ma\u001b[0m\u001b[1;33m/\u001b[0m\u001b[0mb\u001b[0m\u001b[1;33m\u001b[0m\u001b[1;33m\u001b[0m\u001b[0m\n\u001b[1;32m----> 6\u001b[1;33m     \u001b[0me\u001b[0m \u001b[1;33m=\u001b[0m \u001b[0md\u001b[0m\u001b[1;33m[\u001b[0m\u001b[1;36m5\u001b[0m\u001b[1;33m]\u001b[0m\u001b[1;33m\u001b[0m\u001b[1;33m\u001b[0m\u001b[0m\n\u001b[0m\u001b[0;32m      7\u001b[0m     \u001b[0mprint\u001b[0m\u001b[1;33m(\u001b[0m\u001b[0me\u001b[0m\u001b[1;33m)\u001b[0m\u001b[1;33m\u001b[0m\u001b[1;33m\u001b[0m\u001b[0m\n\u001b[0;32m      8\u001b[0m \u001b[1;32mexcept\u001b[0m \u001b[0mZeroDivisionError\u001b[0m\u001b[1;33m:\u001b[0m\u001b[1;33m\u001b[0m\u001b[1;33m\u001b[0m\u001b[0m\n",
      "\u001b[1;31mIndexError\u001b[0m: list index out of range"
     ]
    }
   ],
   "source": [
    "a = int(input(\"Enter a number to divivde \"))\n",
    "b = int(input(\"Enter a number to divivde num1\"))\n",
    "d = []\n",
    "try:\n",
    "    c = a/b\n",
    "    e = d[5]\n",
    "    print(e)\n",
    "except ZeroDivisionError:\n",
    "    print(\"You can not divide an integer by 0\")\n",
    "else:\n",
    "    print(c)\n",
    "\n"
   ]
  },
  {
   "cell_type": "code",
   "execution_count": 11,
   "id": "04d4bb0d",
   "metadata": {},
   "outputs": [
    {
     "name": "stdout",
     "output_type": "stream",
     "text": [
      "Enter a number to divivde 4\n",
      "Enter a number to divivde num12\n",
      ":Enter the right index\n"
     ]
    }
   ],
   "source": [
    "a = int(input(\"Enter a number to divivde \"))\n",
    "b = int(input(\"Enter a number to divivde num1\"))\n",
    "d = []\n",
    "try:\n",
    "    c = a/b\n",
    "    e = d[5]\n",
    "    print(e)\n",
    "except ZeroDivisionError:\n",
    "    print(\"You can not divide an integer by 0\")\n",
    "except IndexError:\n",
    "    print(\":Enter the right index\")\n",
    "else:\n",
    "    print(c)\n",
    "    print(e)\n",
    "\n"
   ]
  },
  {
   "cell_type": "code",
   "execution_count": 12,
   "id": "9beef101",
   "metadata": {},
   "outputs": [
    {
     "name": "stdout",
     "output_type": "stream",
     "text": [
      "Enter a number to divivde 4\n",
      "Enter a number to divivde num14\n",
      "Exception is caught\n"
     ]
    }
   ],
   "source": [
    "a = int(input(\"Enter a number to divivde \"))\n",
    "b = int(input(\"Enter a number to divivde num1\"))\n",
    "d = []\n",
    "try:\n",
    "    c = a/b\n",
    "    e = d[5]\n",
    "    print(e)\n",
    "\n",
    "except:\n",
    "    print(\"Exception is caught\")\n",
    "else:\n",
    "    print(c)\n",
    "    print(e)\n",
    "\n"
   ]
  },
  {
   "cell_type": "code",
   "execution_count": 15,
   "id": "f46493ea",
   "metadata": {},
   "outputs": [
    {
     "name": "stdout",
     "output_type": "stream",
     "text": [
      "Enter a number to divivde 6\n",
      "Enter a number to divivde num1 3\n",
      "Exception is caught list index out of range\n"
     ]
    }
   ],
   "source": [
    "a = int(input(\"Enter a number to divivde \"))\n",
    "b = int(input(\"Enter a number to divivde num1 \"))\n",
    "d = []\n",
    "try:\n",
    "    c = a/b\n",
    "    e = d[5]\n",
    "    print(e)\n",
    "\n",
    "except Exception as e:\n",
    "    print(\"Exception is caught \" + str(e))\n",
    "else:\n",
    "    print(c)\n",
    "    print(e)\n",
    "\n"
   ]
  },
  {
   "cell_type": "code",
   "execution_count": 16,
   "id": "9201cf73",
   "metadata": {},
   "outputs": [
    {
     "name": "stdout",
     "output_type": "stream",
     "text": [
      "Enter a number to divivde 4\n",
      "Enter a number to divivde num1 0\n",
      "You can not divide an integer by 0\n"
     ]
    }
   ],
   "source": [
    "a = int(input(\"Enter a number to divivde \"))\n",
    "b = int(input(\"Enter a number to divivde num1 \"))\n",
    "d = []\n",
    "try:\n",
    "    c = a/b\n",
    "    e = d[5]\n",
    "    print(e)\n",
    "    \n",
    "except ZeroDivisionError:\n",
    "    print(\"You can not divide an integer by 0\")\n",
    "\n",
    "except Exception as e:\n",
    "    print(\"Exception is caught \" + str(e))\n",
    "else:\n",
    "    print(c)\n",
    "    print(e)\n",
    "\n"
   ]
  },
  {
   "cell_type": "markdown",
   "id": "5a8611fc",
   "metadata": {},
   "source": [
    "# Finally"
   ]
  },
  {
   "cell_type": "code",
   "execution_count": 17,
   "id": "64f9fe1c",
   "metadata": {},
   "outputs": [
    {
     "name": "stdout",
     "output_type": "stream",
     "text": [
      "Enter a number to divivde 4\n",
      "Enter a number to divivde num1 0\n",
      "You can not divide an integer by 0\n",
      "Finally will always run\n"
     ]
    }
   ],
   "source": [
    "a = int(input(\"Enter a number to divivde \"))\n",
    "b = int(input(\"Enter a number to divivde num1 \"))\n",
    "d = []\n",
    "try:\n",
    "    c = a/b\n",
    "    e = d[5]\n",
    "    print(e)\n",
    "    \n",
    "except ZeroDivisionError:\n",
    "    print(\"You can not divide an integer by 0\")\n",
    "\n",
    "except Exception as e:\n",
    "    print(\"Exception is caught \" + str(e))\n",
    "else:\n",
    "    print(c)\n",
    "    print(e)\n",
    "\n",
    "finally:\n",
    "    print(\"Finally will always run\")"
   ]
  },
  {
   "cell_type": "code",
   "execution_count": 18,
   "id": "640d1fba",
   "metadata": {},
   "outputs": [
    {
     "name": "stdout",
     "output_type": "stream",
     "text": [
      "Enter a number11\n",
      "Enter a number12\n",
      "Finally will always run\n"
     ]
    },
    {
     "ename": "IndexError",
     "evalue": "list index out of range",
     "output_type": "error",
     "traceback": [
      "\u001b[1;31m---------------------------------------------------------------------------\u001b[0m",
      "\u001b[1;31mIndexError\u001b[0m                                Traceback (most recent call last)",
      "\u001b[1;32m<ipython-input-18-bbbbe0e08131>\u001b[0m in \u001b[0;36m<module>\u001b[1;34m\u001b[0m\n\u001b[0;32m      4\u001b[0m \u001b[1;32mtry\u001b[0m\u001b[1;33m:\u001b[0m\u001b[1;33m\u001b[0m\u001b[1;33m\u001b[0m\u001b[0m\n\u001b[0;32m      5\u001b[0m     \u001b[0mc\u001b[0m \u001b[1;33m=\u001b[0m \u001b[0ma\u001b[0m\u001b[1;33m/\u001b[0m\u001b[0mb\u001b[0m\u001b[1;33m\u001b[0m\u001b[1;33m\u001b[0m\u001b[0m\n\u001b[1;32m----> 6\u001b[1;33m     \u001b[0me\u001b[0m \u001b[1;33m=\u001b[0m \u001b[0md\u001b[0m\u001b[1;33m[\u001b[0m\u001b[1;36m5\u001b[0m\u001b[1;33m]\u001b[0m\u001b[1;33m\u001b[0m\u001b[1;33m\u001b[0m\u001b[0m\n\u001b[0m\u001b[0;32m      7\u001b[0m \u001b[1;32mexcept\u001b[0m \u001b[0mZeroDivisionError\u001b[0m\u001b[1;33m:\u001b[0m\u001b[1;33m\u001b[0m\u001b[1;33m\u001b[0m\u001b[0m\n\u001b[0;32m      8\u001b[0m     \u001b[0mprint\u001b[0m\u001b[1;33m(\u001b[0m\u001b[1;34m\"Handel ZeroDivisionError\"\u001b[0m\u001b[1;33m)\u001b[0m\u001b[1;33m\u001b[0m\u001b[1;33m\u001b[0m\u001b[0m\n",
      "\u001b[1;31mIndexError\u001b[0m: list index out of range"
     ]
    }
   ],
   "source": [
    "\n",
    "\n",
    "a =int(input(\"Enter a number\")) \n",
    "b =int(input(\"Enter a number\")) \n",
    "d = []\n",
    "try:\n",
    "    c = a/b\n",
    "    e = d[5]\n",
    "except ZeroDivisionError:\n",
    "    print(\"Handel ZeroDivisionError\")\n",
    "\n",
    "else:\n",
    "    print(c)\n",
    "\n",
    "finally:\n",
    "    print(\"Finally will always run\")\n",
    "\n",
    "\n"
   ]
  },
  {
   "cell_type": "code",
   "execution_count": 20,
   "id": "f06e3d8f",
   "metadata": {},
   "outputs": [
    {
     "name": "stdout",
     "output_type": "stream",
     "text": [
      "Enter a number: 12\n",
      "Enter a number: 2\n",
      "6.0\n",
      "Finally will always run\n"
     ]
    }
   ],
   "source": [
    "\n",
    "\n",
    "a =int(input(\"Enter a number: \")) \n",
    "b =int(input(\"Enter a number: \")) \n",
    "d = [1,2,3,4,56,7,78,8]\n",
    "try:\n",
    "    c = a/b\n",
    "    e = d[5]\n",
    "except ZeroDivisionError:\n",
    "    print(\"Handel ZeroDivisionError\")\n",
    "\n",
    "else:\n",
    "    print(c)\n",
    "\n",
    "finally:\n",
    "    print(\"Finally will always run\")\n",
    "\n",
    "\n"
   ]
  },
  {
   "cell_type": "code",
   "execution_count": 21,
   "id": "41ec71e4",
   "metadata": {},
   "outputs": [
    {
     "name": "stdout",
     "output_type": "stream",
     "text": [
      "Enter a number: 12\n",
      "Enter a number: 0\n",
      "Handel ZeroDivisionError\n",
      "Finally will always run\n"
     ]
    }
   ],
   "source": [
    "\n",
    "\n",
    "a =int(input(\"Enter a number: \")) \n",
    "b =int(input(\"Enter a number: \")) \n",
    "d = [1,2,3,4,56,7,78,8]\n",
    "try:\n",
    "    c = a/b\n",
    "    e = d[5]\n",
    "except ZeroDivisionError:\n",
    "    print(\"Handel ZeroDivisionError\")\n",
    "\n",
    "else:\n",
    "    print(c)\n",
    "\n",
    "finally:\n",
    "    print(\"Finally will always run\")\n",
    "\n",
    "\n"
   ]
  },
  {
   "cell_type": "markdown",
   "id": "9720341c",
   "metadata": {},
   "source": [
    "# Raising our own Exceptions"
   ]
  },
  {
   "cell_type": "raw",
   "id": "aca6abb3",
   "metadata": {},
   "source": [
    "we can raise exception by our own. On any condition we defined like if a < 10 raise exception like if user enter value than raise exception of greater value"
   ]
  },
  {
   "cell_type": "code",
   "execution_count": 27,
   "id": "211e087c",
   "metadata": {},
   "outputs": [],
   "source": [
    "#Raise"
   ]
  },
  {
   "cell_type": "code",
   "execution_count": 22,
   "id": "85c36164",
   "metadata": {},
   "outputs": [],
   "source": [
    "\n",
    "class Student():\n",
    "    def __init__(self,name,age):\n",
    "        if age > 80 or age <16:\n",
    "            raise Exception(\"Age can not be greater then 80 and less then 16\")\n",
    "        self.name = name\n",
    "        self.age = age"
   ]
  },
  {
   "cell_type": "code",
   "execution_count": 24,
   "id": "ccf80fef",
   "metadata": {},
   "outputs": [
    {
     "name": "stdout",
     "output_type": "stream",
     "text": [
      "Enter students age: 12\n"
     ]
    },
    {
     "ename": "Exception",
     "evalue": "Age can not be greater then 80 and less then 16",
     "output_type": "error",
     "traceback": [
      "\u001b[1;31m---------------------------------------------------------------------------\u001b[0m",
      "\u001b[1;31mException\u001b[0m                                 Traceback (most recent call last)",
      "\u001b[1;32m<ipython-input-24-c00829a8e381>\u001b[0m in \u001b[0;36m<module>\u001b[1;34m\u001b[0m\n\u001b[0;32m      1\u001b[0m \u001b[0mage\u001b[0m \u001b[1;33m=\u001b[0m \u001b[0mint\u001b[0m\u001b[1;33m(\u001b[0m\u001b[0minput\u001b[0m\u001b[1;33m(\u001b[0m\u001b[1;34m\"Enter students age: \"\u001b[0m\u001b[1;33m)\u001b[0m\u001b[1;33m)\u001b[0m\u001b[1;33m\u001b[0m\u001b[1;33m\u001b[0m\u001b[0m\n\u001b[1;32m----> 2\u001b[1;33m \u001b[0mst\u001b[0m \u001b[1;33m=\u001b[0m \u001b[0mStudent\u001b[0m\u001b[1;33m(\u001b[0m\u001b[1;34m\"Nasir\"\u001b[0m\u001b[1;33m,\u001b[0m\u001b[0mage\u001b[0m\u001b[1;33m)\u001b[0m\u001b[1;33m\u001b[0m\u001b[1;33m\u001b[0m\u001b[0m\n\u001b[0m\u001b[0;32m      3\u001b[0m \u001b[0mprint\u001b[0m\u001b[1;33m(\u001b[0m\u001b[0mst\u001b[0m\u001b[1;33m.\u001b[0m\u001b[0mage\u001b[0m\u001b[1;33m)\u001b[0m\u001b[1;33m\u001b[0m\u001b[1;33m\u001b[0m\u001b[0m\n",
      "\u001b[1;32m<ipython-input-22-b067c15d8f3e>\u001b[0m in \u001b[0;36m__init__\u001b[1;34m(self, name, age)\u001b[0m\n\u001b[0;32m      2\u001b[0m     \u001b[1;32mdef\u001b[0m \u001b[0m__init__\u001b[0m\u001b[1;33m(\u001b[0m\u001b[0mself\u001b[0m\u001b[1;33m,\u001b[0m\u001b[0mname\u001b[0m\u001b[1;33m,\u001b[0m\u001b[0mage\u001b[0m\u001b[1;33m)\u001b[0m\u001b[1;33m:\u001b[0m\u001b[1;33m\u001b[0m\u001b[1;33m\u001b[0m\u001b[0m\n\u001b[0;32m      3\u001b[0m         \u001b[1;32mif\u001b[0m \u001b[0mage\u001b[0m \u001b[1;33m>\u001b[0m \u001b[1;36m80\u001b[0m \u001b[1;32mor\u001b[0m \u001b[0mage\u001b[0m \u001b[1;33m<\u001b[0m\u001b[1;36m16\u001b[0m\u001b[1;33m:\u001b[0m\u001b[1;33m\u001b[0m\u001b[1;33m\u001b[0m\u001b[0m\n\u001b[1;32m----> 4\u001b[1;33m             \u001b[1;32mraise\u001b[0m \u001b[0mException\u001b[0m\u001b[1;33m(\u001b[0m\u001b[1;34m\"Age can not be greater then 80 and less then 16\"\u001b[0m\u001b[1;33m)\u001b[0m\u001b[1;33m\u001b[0m\u001b[1;33m\u001b[0m\u001b[0m\n\u001b[0m\u001b[0;32m      5\u001b[0m         \u001b[0mself\u001b[0m\u001b[1;33m.\u001b[0m\u001b[0mname\u001b[0m \u001b[1;33m=\u001b[0m \u001b[0mname\u001b[0m\u001b[1;33m\u001b[0m\u001b[1;33m\u001b[0m\u001b[0m\n\u001b[0;32m      6\u001b[0m         \u001b[0mself\u001b[0m\u001b[1;33m.\u001b[0m\u001b[0mage\u001b[0m \u001b[1;33m=\u001b[0m \u001b[0mage\u001b[0m\u001b[1;33m\u001b[0m\u001b[1;33m\u001b[0m\u001b[0m\n",
      "\u001b[1;31mException\u001b[0m: Age can not be greater then 80 and less then 16"
     ]
    }
   ],
   "source": [
    "age = int(input(\"Enter students age: \"))\n",
    "st = Student(\"Nasir\",age)\n",
    "print(st.age)"
   ]
  },
  {
   "cell_type": "code",
   "execution_count": 26,
   "id": "9979871f",
   "metadata": {},
   "outputs": [
    {
     "name": "stdout",
     "output_type": "stream",
     "text": [
      "Enter students age: 11\n",
      "Exception Age can not be greater then 80 and less then 16\n"
     ]
    }
   ],
   "source": [
    "\n",
    "try:\n",
    "    age = int(input(\"Enter students age: \"))\n",
    "    st = Student(\"Hello\",age)   # send different ages and see the result\n",
    "except Exception as e:\n",
    "    print(\"Exception \"+str(e))\n",
    "else :\n",
    "    print(st.age)\n"
   ]
  },
  {
   "cell_type": "code",
   "execution_count": 28,
   "id": "94f5cfc1",
   "metadata": {},
   "outputs": [
    {
     "name": "stdout",
     "output_type": "stream",
     "text": [
      "Enter your user nameosama osama osama osama osama\n"
     ]
    },
    {
     "ename": "Exception",
     "evalue": "User name can not contain more than 20 characters",
     "output_type": "error",
     "traceback": [
      "\u001b[1;31m---------------------------------------------------------------------------\u001b[0m",
      "\u001b[1;31mException\u001b[0m                                 Traceback (most recent call last)",
      "\u001b[1;32m<ipython-input-28-52f58f47bf4a>\u001b[0m in \u001b[0;36m<module>\u001b[1;34m\u001b[0m\n\u001b[0;32m      1\u001b[0m \u001b[0muser_name\u001b[0m \u001b[1;33m=\u001b[0m \u001b[0minput\u001b[0m\u001b[1;33m(\u001b[0m\u001b[1;34m\"Enter your user name\"\u001b[0m\u001b[1;33m)\u001b[0m\u001b[1;33m\u001b[0m\u001b[1;33m\u001b[0m\u001b[0m\n\u001b[0;32m      2\u001b[0m \u001b[1;32mif\u001b[0m \u001b[0mlen\u001b[0m\u001b[1;33m(\u001b[0m\u001b[0muser_name\u001b[0m\u001b[1;33m)\u001b[0m \u001b[1;33m>\u001b[0m\u001b[1;36m20\u001b[0m\u001b[1;33m:\u001b[0m\u001b[1;33m\u001b[0m\u001b[1;33m\u001b[0m\u001b[0m\n\u001b[1;32m----> 3\u001b[1;33m     \u001b[1;32mraise\u001b[0m \u001b[0mException\u001b[0m\u001b[1;33m(\u001b[0m\u001b[1;34m\"User name can not contain more than 20 characters\"\u001b[0m\u001b[1;33m)\u001b[0m\u001b[1;33m\u001b[0m\u001b[1;33m\u001b[0m\u001b[0m\n\u001b[0m",
      "\u001b[1;31mException\u001b[0m: User name can not contain more than 20 characters"
     ]
    }
   ],
   "source": [
    "user_name = input(\"Enter your user name\")\n",
    "if len(user_name) >20:\n",
    "    raise Exception(\"User name can not contain more than 20 characters\")"
   ]
  },
  {
   "cell_type": "code",
   "execution_count": 31,
   "id": "963101bc",
   "metadata": {},
   "outputs": [
    {
     "name": "stdout",
     "output_type": "stream",
     "text": [
      "Enter your user nameosaaaaaaaaaaaaaaaaaaaaaaama\n",
      "Exception User name can not contain more than 20 characters\n"
     ]
    }
   ],
   "source": [
    "try :\n",
    "    user_name = input(\"Enter your user name\")\n",
    "    if len(user_name) >20:\n",
    "        raise Exception(\"User name can not contain more than 20 characters\")\n",
    "except Exception as e:\n",
    "    print(\"Exception\", str(e))\n",
    "else:\n",
    "    print(\"user is >>>\" ,\" user_name\")\n",
    "    "
   ]
  },
  {
   "cell_type": "code",
   "execution_count": 32,
   "id": "8d949e4d",
   "metadata": {},
   "outputs": [],
   "source": [
    "# Asci Code "
   ]
  },
  {
   "cell_type": "code",
   "execution_count": 33,
   "id": "79e63027",
   "metadata": {},
   "outputs": [
    {
     "name": "stdout",
     "output_type": "stream",
     "text": [
      "b\n"
     ]
    }
   ],
   "source": [
    "print(min(\"gdshjbwe\"))"
   ]
  },
  {
   "cell_type": "code",
   "execution_count": 34,
   "id": "972f1b04",
   "metadata": {},
   "outputs": [
    {
     "name": "stdout",
     "output_type": "stream",
     "text": [
      "a\n"
     ]
    }
   ],
   "source": [
    "print(min(\"gdshabwe\"))"
   ]
  },
  {
   "cell_type": "code",
   "execution_count": 35,
   "id": "b3279b99",
   "metadata": {},
   "outputs": [
    {
     "name": "stdout",
     "output_type": "stream",
     "text": [
      "A\n"
     ]
    }
   ],
   "source": [
    "print(min(\"gdAashjbwe\"))\n",
    "t = \"The Knight who say 'Ni!'\"  "
   ]
  },
  {
   "cell_type": "code",
   "execution_count": 36,
   "id": "92c0e91e",
   "metadata": {},
   "outputs": [
    {
     "name": "stdout",
     "output_type": "stream",
     "text": [
      "[ ]\n"
     ]
    }
   ],
   "source": [
    "print(\"[\" + min(t) + \"]\")"
   ]
  },
  {
   "cell_type": "code",
   "execution_count": 37,
   "id": "e72e855a",
   "metadata": {},
   "outputs": [
    {
     "name": "stdout",
     "output_type": "stream",
     "text": [
      "z\n"
     ]
    }
   ],
   "source": [
    "print(max(\"gdZshzjbwe\"))"
   ]
  },
  {
   "cell_type": "code",
   "execution_count": 38,
   "id": "10dc27a0",
   "metadata": {},
   "outputs": [],
   "source": [
    "# Join"
   ]
  },
  {
   "cell_type": "code",
   "execution_count": 39,
   "id": "3e53f451",
   "metadata": {},
   "outputs": [
    {
     "name": "stdout",
     "output_type": "stream",
     "text": [
      "omicron,pi,vhy\n"
     ]
    }
   ],
   "source": [
    "print(\",\".join([\"omicron\", \"pi\", \"vhy\"]))"
   ]
  },
  {
   "cell_type": "code",
   "execution_count": 40,
   "id": "8b7a7f45",
   "metadata": {},
   "outputs": [
    {
     "name": "stdout",
     "output_type": "stream",
     "text": [
      "omicron-pi-vhy\n"
     ]
    }
   ],
   "source": [
    "print(\"-\".join([\"omicron\", \"pi\", \"vhy\"]))"
   ]
  },
  {
   "cell_type": "code",
   "execution_count": 41,
   "id": "8250f557",
   "metadata": {},
   "outputs": [],
   "source": [
    "# lstrip : remove space from left\n",
    "# rstrip : remove space from right\n",
    "# strip  : remove space from both"
   ]
  },
  {
   "cell_type": "code",
   "execution_count": 43,
   "id": "22adc0ad",
   "metadata": {},
   "outputs": [
    {
     "name": "stdout",
     "output_type": "stream",
     "text": [
      "[tou]\n"
     ]
    }
   ],
   "source": [
    "print(\"[\" + \" tou\".lstrip() + \"]\")"
   ]
  },
  {
   "cell_type": "code",
   "execution_count": 44,
   "id": "484f055c",
   "metadata": {},
   "outputs": [],
   "source": [
    "# replace"
   ]
  },
  {
   "cell_type": "code",
   "execution_count": 45,
   "id": "e61851f2",
   "metadata": {},
   "outputs": [
    {
     "name": "stdout",
     "output_type": "stream",
     "text": [
      "thare are it\n"
     ]
    }
   ],
   "source": [
    "print(\"this is it\".replace(\"is\", \"are\"))"
   ]
  },
  {
   "cell_type": "code",
   "execution_count": 46,
   "id": "4419a0c5",
   "metadata": {},
   "outputs": [
    {
     "name": "stdout",
     "output_type": "stream",
     "text": [
      " juice\n"
     ]
    }
   ],
   "source": [
    "print(\"Apple juice\".replace(\"Apple\", \"\"))"
   ]
  },
  {
   "cell_type": "code",
   "execution_count": 47,
   "id": "f7d4676f",
   "metadata": {},
   "outputs": [],
   "source": [
    "astring = \"hello\""
   ]
  },
  {
   "cell_type": "code",
   "execution_count": 49,
   "id": "8b694b9c",
   "metadata": {},
   "outputs": [
    {
     "ename": "TypeError",
     "evalue": "'str' object does not support item assignment",
     "output_type": "error",
     "traceback": [
      "\u001b[1;31m---------------------------------------------------------------------------\u001b[0m",
      "\u001b[1;31mTypeError\u001b[0m                                 Traceback (most recent call last)",
      "\u001b[1;32m<ipython-input-49-bca7a80d2cdc>\u001b[0m in \u001b[0;36m<module>\u001b[1;34m\u001b[0m\n\u001b[1;32m----> 1\u001b[1;33m \u001b[0mastring\u001b[0m\u001b[1;33m[\u001b[0m\u001b[1;36m0\u001b[0m\u001b[1;33m]\u001b[0m \u001b[1;33m=\u001b[0m \u001b[1;34m\"g\"\u001b[0m\u001b[1;33m\u001b[0m\u001b[1;33m\u001b[0m\u001b[0m\n\u001b[0m",
      "\u001b[1;31mTypeError\u001b[0m: 'str' object does not support item assignment"
     ]
    }
   ],
   "source": [
    "astring[0] = \"g\""
   ]
  },
  {
   "cell_type": "code",
   "execution_count": 52,
   "id": "e7b9c408",
   "metadata": {},
   "outputs": [],
   "source": [
    "astring = \"hello\"\n"
   ]
  },
  {
   "cell_type": "code",
   "execution_count": 53,
   "id": "61594d62",
   "metadata": {},
   "outputs": [],
   "source": [
    "bstring = astring.replace(\"h\", \"g\")"
   ]
  },
  {
   "cell_type": "code",
   "execution_count": 54,
   "id": "bc8daf63",
   "metadata": {},
   "outputs": [
    {
     "name": "stdout",
     "output_type": "stream",
     "text": [
      "hello\n",
      "gello\n"
     ]
    }
   ],
   "source": [
    "print(astring)\n",
    "print(bstring)"
   ]
  },
  {
   "cell_type": "code",
   "execution_count": 55,
   "id": "dc5aea86",
   "metadata": {},
   "outputs": [],
   "source": [
    "# rfind : searching from left indexex"
   ]
  },
  {
   "cell_type": "code",
   "execution_count": 56,
   "id": "cfe9a041",
   "metadata": {},
   "outputs": [
    {
     "name": "stdout",
     "output_type": "stream",
     "text": [
      "8\n"
     ]
    }
   ],
   "source": [
    "print(\"tau tau tau\".rfind(\"ta\"))"
   ]
  },
  {
   "cell_type": "code",
   "execution_count": 57,
   "id": "692ad00e",
   "metadata": {},
   "outputs": [
    {
     "name": "stdout",
     "output_type": "stream",
     "text": [
      "-1\n"
     ]
    }
   ],
   "source": [
    "print(\"tau tau tau\".rfind(\"ta\",9))"
   ]
  },
  {
   "cell_type": "code",
   "execution_count": 58,
   "id": "4475da09",
   "metadata": {},
   "outputs": [
    {
     "name": "stdout",
     "output_type": "stream",
     "text": [
      "4\n"
     ]
    }
   ],
   "source": [
    "print(\"tau tau tau\".rfind(\"ta\", 3,9))"
   ]
  },
  {
   "cell_type": "code",
   "execution_count": 59,
   "id": "096062d9",
   "metadata": {},
   "outputs": [
    {
     "name": "stdout",
     "output_type": "stream",
     "text": [
      "['p', 'kist', 'n']\n"
     ]
    }
   ],
   "source": [
    "print(\"pakistan\".split(\"a\"))"
   ]
  },
  {
   "cell_type": "code",
   "execution_count": 60,
   "id": "81bcfcc2",
   "metadata": {},
   "outputs": [
    {
     "name": "stdout",
     "output_type": "stream",
     "text": [
      "['phi', 'chi', 'psi']\n"
     ]
    }
   ],
   "source": [
    "print(\"phi    chi\\npsi\".split())"
   ]
  },
  {
   "cell_type": "code",
   "execution_count": 61,
   "id": "ac81aa36",
   "metadata": {},
   "outputs": [],
   "source": [
    "# swapcase :make small --> capital and capital--->small"
   ]
  },
  {
   "cell_type": "code",
   "execution_count": 62,
   "id": "fd850d15",
   "metadata": {},
   "outputs": [],
   "source": [
    "# sort for sorting"
   ]
  },
  {
   "cell_type": "code",
   "execution_count": 63,
   "id": "04c66647",
   "metadata": {},
   "outputs": [],
   "source": [
    "# palindrom :read it from left or right it will be the same word (gog)"
   ]
  },
  {
   "cell_type": "code",
   "execution_count": 64,
   "id": "dda8edcc",
   "metadata": {},
   "outputs": [
    {
     "data": {
      "text/plain": [
       "'ten animals i slam in a net'"
      ]
     },
     "execution_count": 64,
     "metadata": {},
     "output_type": "execute_result"
    }
   ],
   "source": [
    "\"ten animals i slam in a net\""
   ]
  },
  {
   "cell_type": "code",
   "execution_count": 65,
   "id": "9dc092b1",
   "metadata": {},
   "outputs": [],
   "source": [
    "# anagram : the character that are in one word, the same character are used in another word"
   ]
  },
  {
   "cell_type": "code",
   "execution_count": 66,
   "id": "b1dff519",
   "metadata": {},
   "outputs": [
    {
     "data": {
      "text/plain": [
       "'rail safety'"
      ]
     },
     "execution_count": 66,
     "metadata": {},
     "output_type": "execute_result"
    }
   ],
   "source": [
    "\"rail safety\""
   ]
  },
  {
   "cell_type": "code",
   "execution_count": 68,
   "id": "30109b27",
   "metadata": {},
   "outputs": [
    {
     "data": {
      "text/plain": [
       "'fairy tales'"
      ]
     },
     "execution_count": 68,
     "metadata": {},
     "output_type": "execute_result"
    }
   ],
   "source": [
    "\"fairy tales\""
   ]
  },
  {
   "cell_type": "code",
   "execution_count": null,
   "id": "70bb05dd",
   "metadata": {},
   "outputs": [],
   "source": []
  }
 ],
 "metadata": {
  "kernelspec": {
   "display_name": "Python 3",
   "language": "python",
   "name": "python3"
  },
  "language_info": {
   "codemirror_mode": {
    "name": "ipython",
    "version": 3
   },
   "file_extension": ".py",
   "mimetype": "text/x-python",
   "name": "python",
   "nbconvert_exporter": "python",
   "pygments_lexer": "ipython3",
   "version": "3.8.8"
  }
 },
 "nbformat": 4,
 "nbformat_minor": 5
}
