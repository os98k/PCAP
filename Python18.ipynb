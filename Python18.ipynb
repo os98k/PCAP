{
 "cells": [
  {
   "cell_type": "markdown",
   "id": "6e039946",
   "metadata": {},
   "source": [
    "# File Handling"
   ]
  },
  {
   "cell_type": "raw",
   "id": "7ea045c9",
   "metadata": {},
   "source": [
    "What is file Handling?\n",
    "Why we use File Handling?\n",
    "Advantages of File Handling?"
   ]
  },
  {
   "cell_type": "markdown",
   "id": "e46c7001",
   "metadata": {},
   "source": [
    "# Mode\n",
    "\n",
    "- Read\n",
    "- Write\n",
    "- Append\n",
    "- Write +\n",
    "- Read +"
   ]
  },
  {
   "cell_type": "markdown",
   "id": "401fa470",
   "metadata": {},
   "source": [
    "Operation using file..."
   ]
  },
  {
   "cell_type": "code",
   "execution_count": 3,
   "id": "3facbe0f",
   "metadata": {},
   "outputs": [
    {
     "name": "stdout",
     "output_type": "stream",
     "text": [
      "Enter your three friends Name Osamaa\n",
      "Enter your three friends Name Osaif\n",
      "Enter your three friends Name Obaid\n",
      "Osamaa\n",
      "Osaif\n",
      "Obaid\n"
     ]
    }
   ],
   "source": [
    "example_list = []\n",
    "for i in range(3):\n",
    "    example_name = input(\"Enter your three friends Name \")\n",
    "    example_list.append(example_name)\n",
    "    \n",
    "for i in example_list:\n",
    "    print(i)"
   ]
  },
  {
   "cell_type": "code",
   "execution_count": 5,
   "id": "abf2806b",
   "metadata": {},
   "outputs": [],
   "source": [
    "# File Handling\n",
    "# Handling data of file \n",
    "# To get data or to receive data or to delete data or to update data"
   ]
  },
  {
   "cell_type": "markdown",
   "id": "48b7a88a",
   "metadata": {},
   "source": [
    "File Handling is the storing of data in a file using a program"
   ]
  },
  {
   "cell_type": "markdown",
   "id": "b5f39282",
   "metadata": {},
   "source": [
    "\n",
    "Files are used to store data in a storage device permanently. File handling provides a mechanism to store the output of a program in a file and to perform various operations on it. A stream is an abstraction that represents a device on which operations of input and output are performed"
   ]
  },
  {
   "cell_type": "code",
   "execution_count": 6,
   "id": "ef9c40f7",
   "metadata": {},
   "outputs": [],
   "source": [
    "# Two types of files in Python\n",
    "# Text File include text \n",
    "# Binary File include bits "
   ]
  },
  {
   "cell_type": "markdown",
   "id": "ea937f27",
   "metadata": {},
   "source": [
    "# CRUD OPERATIONS\n",
    "create\n",
    "read\n",
    "update\n",
    "delete"
   ]
  },
  {
   "cell_type": "markdown",
   "id": "164bacb9",
   "metadata": {},
   "source": [
    "### Read"
   ]
  },
  {
   "cell_type": "code",
   "execution_count": 10,
   "id": "abc15cc4",
   "metadata": {},
   "outputs": [
    {
     "name": "stdout",
     "output_type": "stream",
     "text": [
      "Today we are learning File Handling,\n",
      "We have learned what is File Handling...\n",
      "And why we use file Handling...\n"
     ]
    }
   ],
   "source": [
    "with open(\"FileHandlingDemo.txt\" , \"r\") as example:\n",
    "    print(example.read())\n",
    "example.close()"
   ]
  },
  {
   "cell_type": "code",
   "execution_count": 11,
   "id": "1b567bd1",
   "metadata": {},
   "outputs": [
    {
     "ename": "FileNotFoundError",
     "evalue": "[Errno 2] No such file or directory: 'FileHand.txt'",
     "output_type": "error",
     "traceback": [
      "\u001b[1;31m---------------------------------------------------------------------------\u001b[0m",
      "\u001b[1;31mFileNotFoundError\u001b[0m                         Traceback (most recent call last)",
      "\u001b[1;32m<ipython-input-11-9fbd0def524a>\u001b[0m in \u001b[0;36m<module>\u001b[1;34m\u001b[0m\n\u001b[1;32m----> 1\u001b[1;33m \u001b[1;32mwith\u001b[0m \u001b[0mopen\u001b[0m\u001b[1;33m(\u001b[0m\u001b[1;34m\"FileHand.txt\"\u001b[0m \u001b[1;33m,\u001b[0m \u001b[1;34m\"r\"\u001b[0m\u001b[1;33m)\u001b[0m \u001b[1;32mas\u001b[0m \u001b[0mexample\u001b[0m\u001b[1;33m:\u001b[0m\u001b[1;33m\u001b[0m\u001b[1;33m\u001b[0m\u001b[0m\n\u001b[0m\u001b[0;32m      2\u001b[0m     \u001b[0mprint\u001b[0m\u001b[1;33m(\u001b[0m\u001b[0mexample\u001b[0m\u001b[1;33m.\u001b[0m\u001b[0mread\u001b[0m\u001b[1;33m(\u001b[0m\u001b[1;33m)\u001b[0m\u001b[1;33m)\u001b[0m\u001b[1;33m\u001b[0m\u001b[1;33m\u001b[0m\u001b[0m\n\u001b[0;32m      3\u001b[0m \u001b[0mexample\u001b[0m\u001b[1;33m.\u001b[0m\u001b[0mclose\u001b[0m\u001b[1;33m(\u001b[0m\u001b[1;33m)\u001b[0m\u001b[1;33m\u001b[0m\u001b[1;33m\u001b[0m\u001b[0m\n",
      "\u001b[1;31mFileNotFoundError\u001b[0m: [Errno 2] No such file or directory: 'FileHand.txt'"
     ]
    }
   ],
   "source": [
    "# Exception\n",
    "with open(\"FileHand.txt\" , \"r\") as example:\n",
    "    print(example.read())\n",
    "example.close()"
   ]
  },
  {
   "cell_type": "markdown",
   "id": "fe6d1e02",
   "metadata": {},
   "source": [
    "### Write"
   ]
  },
  {
   "cell_type": "code",
   "execution_count": 26,
   "id": "a4669c4f",
   "metadata": {},
   "outputs": [],
   "source": [
    "# If file already exist it will write in it and if file doesn't exist \n",
    "# it will create a new file and than write in it"
   ]
  },
  {
   "cell_type": "code",
   "execution_count": 27,
   "id": "49cc0d73",
   "metadata": {},
   "outputs": [
    {
     "name": "stdout",
     "output_type": "stream",
     "text": [
      "31\n"
     ]
    }
   ],
   "source": [
    "with open(\"FileHand.txt\" , \"w\") as example_one:\n",
    "    print(example_one.write(\"we are student and we are smart\"))\n",
    "example_one.close()"
   ]
  },
  {
   "cell_type": "code",
   "execution_count": 28,
   "id": "06f6abba",
   "metadata": {},
   "outputs": [
    {
     "name": "stdout",
     "output_type": "stream",
     "text": [
      "we are student and we are smart\n"
     ]
    }
   ],
   "source": [
    "with open(\"FileHand.txt\", \"r\" ) as example_one:\n",
    "    print(example_one.read())\n",
    "example_one.close()"
   ]
  },
  {
   "cell_type": "code",
   "execution_count": 29,
   "id": "306806cf",
   "metadata": {},
   "outputs": [
    {
     "name": "stdout",
     "output_type": "stream",
     "text": [
      "26\n"
     ]
    }
   ],
   "source": [
    "with open(\"FileHand.txt\" , \"w\") as example_one: # example_one is handler\n",
    "    print(example_one.write(\"Python is easiest Language\"))\n",
    "#example_one.close()"
   ]
  },
  {
   "cell_type": "code",
   "execution_count": 30,
   "id": "4380444d",
   "metadata": {},
   "outputs": [
    {
     "name": "stdout",
     "output_type": "stream",
     "text": [
      "Python is easiest Language\n"
     ]
    }
   ],
   "source": [
    "with open(\"FileHand.txt\", \"r\" ) as file: # File is handler\n",
    "    data = file.read()\n",
    "    print(data)\n",
    "#example_one.close()"
   ]
  },
  {
   "cell_type": "code",
   "execution_count": 31,
   "id": "c630262f",
   "metadata": {},
   "outputs": [
    {
     "data": {
      "text/plain": [
       "'Python is easiest Language'"
      ]
     },
     "execution_count": 31,
     "metadata": {},
     "output_type": "execute_result"
    }
   ],
   "source": [
    "data"
   ]
  },
  {
   "cell_type": "code",
   "execution_count": 32,
   "id": "faab3b23",
   "metadata": {},
   "outputs": [],
   "source": [
    "with open(\"FileHand.txt\", \"w\") as file:\n",
    "    file.write(\"Practice makes better !\")"
   ]
  },
  {
   "cell_type": "code",
   "execution_count": 34,
   "id": "9eaa45e2",
   "metadata": {},
   "outputs": [],
   "source": [
    "with open(\"FileHand.txt\") as file:\n",
    "    data = file.read()"
   ]
  },
  {
   "cell_type": "code",
   "execution_count": 35,
   "id": "28769216",
   "metadata": {},
   "outputs": [
    {
     "data": {
      "text/plain": [
       "'Practice makes better !'"
      ]
     },
     "execution_count": 35,
     "metadata": {},
     "output_type": "execute_result"
    }
   ],
   "source": [
    "data"
   ]
  },
  {
   "cell_type": "markdown",
   "id": "b4587ed9",
   "metadata": {},
   "source": [
    "### Append"
   ]
  },
  {
   "cell_type": "code",
   "execution_count": 38,
   "id": "d79d7ec1",
   "metadata": {},
   "outputs": [],
   "source": [
    "with open(\"FileHand.txt\", \"a\") as file:\n",
    "    file.write(\"\\n Python is the easiest language\")"
   ]
  },
  {
   "cell_type": "code",
   "execution_count": 39,
   "id": "e594bcf7",
   "metadata": {},
   "outputs": [
    {
     "name": "stdout",
     "output_type": "stream",
     "text": [
      "Practice makes better !Python is the easiest language\n",
      " Python is the easiest language\n"
     ]
    }
   ],
   "source": [
    "with open(\"FileHand.txt\") as file:\n",
    "    data = file.read()\n",
    "    print(data)"
   ]
  },
  {
   "cell_type": "code",
   "execution_count": 45,
   "id": "04010813",
   "metadata": {},
   "outputs": [],
   "source": [
    "#It also can create file if file not exist already\n",
    "\n",
    "with open(\"FileHandler.txt\", \"a\") as file:\n",
    "    file.write(\"Python is the emerginging language\")"
   ]
  },
  {
   "cell_type": "code",
   "execution_count": 48,
   "id": "ff8cb146",
   "metadata": {},
   "outputs": [
    {
     "name": "stdout",
     "output_type": "stream",
     "text": [
      "Python is the emrginging languagePython is the emrginging languagePython is the emerginging language\n"
     ]
    }
   ],
   "source": [
    "with open(\"FileHandler.txt\",\"r\") as file:\n",
    "    data = file.read()\n",
    "    print(data)"
   ]
  },
  {
   "cell_type": "markdown",
   "id": "ee897dc9",
   "metadata": {},
   "source": [
    "### Delete"
   ]
  },
  {
   "cell_type": "code",
   "execution_count": 49,
   "id": "7c6aff78",
   "metadata": {},
   "outputs": [
    {
     "ename": "ValueError",
     "evalue": "invalid mode: 'd'",
     "output_type": "error",
     "traceback": [
      "\u001b[1;31m---------------------------------------------------------------------------\u001b[0m",
      "\u001b[1;31mValueError\u001b[0m                                Traceback (most recent call last)",
      "\u001b[1;32m<ipython-input-49-2a325f488a15>\u001b[0m in \u001b[0;36m<module>\u001b[1;34m\u001b[0m\n\u001b[1;32m----> 1\u001b[1;33m \u001b[1;32mwith\u001b[0m \u001b[0mopen\u001b[0m\u001b[1;33m(\u001b[0m\u001b[1;34m\"FileHandler.txt\"\u001b[0m\u001b[1;33m,\u001b[0m \u001b[1;34m\"d\"\u001b[0m\u001b[1;33m)\u001b[0m \u001b[1;32mas\u001b[0m \u001b[0mfile\u001b[0m\u001b[1;33m:\u001b[0m\u001b[1;33m\u001b[0m\u001b[1;33m\u001b[0m\u001b[0m\n\u001b[0m\u001b[0;32m      2\u001b[0m     \u001b[0mfile\u001b[0m\u001b[1;33m.\u001b[0m\u001b[0mdelete\u001b[0m\u001b[1;33m(\u001b[0m\u001b[1;34m\"FileHandler.txt\"\u001b[0m\u001b[1;33m)\u001b[0m\u001b[1;33m\u001b[0m\u001b[1;33m\u001b[0m\u001b[0m\n",
      "\u001b[1;31mValueError\u001b[0m: invalid mode: 'd'"
     ]
    }
   ],
   "source": [
    "with open(\"FileHandler.txt\", \"d\") as file:\n",
    "    file.delete(\"FileHandler.txt\")"
   ]
  },
  {
   "cell_type": "code",
   "execution_count": 50,
   "id": "733ef970",
   "metadata": {},
   "outputs": [],
   "source": [
    "import os\n",
    "os.remove(\"FileHandler.txt\")"
   ]
  },
  {
   "cell_type": "code",
   "execution_count": 51,
   "id": "1983bfdd",
   "metadata": {},
   "outputs": [
    {
     "ename": "FileNotFoundError",
     "evalue": "[Errno 2] No such file or directory: 'FileHandler.txt'",
     "output_type": "error",
     "traceback": [
      "\u001b[1;31m---------------------------------------------------------------------------\u001b[0m",
      "\u001b[1;31mFileNotFoundError\u001b[0m                         Traceback (most recent call last)",
      "\u001b[1;32m<ipython-input-51-90263ab43ba8>\u001b[0m in \u001b[0;36m<module>\u001b[1;34m\u001b[0m\n\u001b[1;32m----> 1\u001b[1;33m \u001b[1;32mwith\u001b[0m \u001b[0mopen\u001b[0m\u001b[1;33m(\u001b[0m\u001b[1;34m\"FileHandler.txt\"\u001b[0m\u001b[1;33m,\u001b[0m\u001b[1;34m\"r\"\u001b[0m\u001b[1;33m)\u001b[0m \u001b[1;32mas\u001b[0m \u001b[0mfile\u001b[0m\u001b[1;33m:\u001b[0m\u001b[1;33m\u001b[0m\u001b[1;33m\u001b[0m\u001b[0m\n\u001b[0m\u001b[0;32m      2\u001b[0m     \u001b[0mdata\u001b[0m \u001b[1;33m=\u001b[0m \u001b[0mfile\u001b[0m\u001b[1;33m.\u001b[0m\u001b[0mread\u001b[0m\u001b[1;33m(\u001b[0m\u001b[1;33m)\u001b[0m\u001b[1;33m\u001b[0m\u001b[1;33m\u001b[0m\u001b[0m\n\u001b[0;32m      3\u001b[0m     \u001b[0mprint\u001b[0m\u001b[1;33m(\u001b[0m\u001b[0mdata\u001b[0m\u001b[1;33m)\u001b[0m\u001b[1;33m\u001b[0m\u001b[1;33m\u001b[0m\u001b[0m\n",
      "\u001b[1;31mFileNotFoundError\u001b[0m: [Errno 2] No such file or directory: 'FileHandler.txt'"
     ]
    }
   ],
   "source": [
    "with open(\"FileHandler.txt\",\"r\") as file:\n",
    "    data = file.read()\n",
    "    print(data)"
   ]
  },
  {
   "cell_type": "code",
   "execution_count": 52,
   "id": "30a75016",
   "metadata": {},
   "outputs": [
    {
     "ename": "FileNotFoundError",
     "evalue": "[WinError 2] The system cannot find the file specified: 'FileHandlerghsj.txt'",
     "output_type": "error",
     "traceback": [
      "\u001b[1;31m---------------------------------------------------------------------------\u001b[0m",
      "\u001b[1;31mFileNotFoundError\u001b[0m                         Traceback (most recent call last)",
      "\u001b[1;32m<ipython-input-52-abb2004ee8ad>\u001b[0m in \u001b[0;36m<module>\u001b[1;34m\u001b[0m\n\u001b[0;32m      1\u001b[0m \u001b[1;31m# exceptions\u001b[0m\u001b[1;33m\u001b[0m\u001b[1;33m\u001b[0m\u001b[1;33m\u001b[0m\u001b[0m\n\u001b[0;32m      2\u001b[0m \u001b[1;32mimport\u001b[0m \u001b[0mos\u001b[0m\u001b[1;33m\u001b[0m\u001b[1;33m\u001b[0m\u001b[0m\n\u001b[1;32m----> 3\u001b[1;33m \u001b[0mos\u001b[0m\u001b[1;33m.\u001b[0m\u001b[0mremove\u001b[0m\u001b[1;33m(\u001b[0m\u001b[1;34m\"FileHandlerghsj.txt\"\u001b[0m\u001b[1;33m)\u001b[0m\u001b[1;33m\u001b[0m\u001b[1;33m\u001b[0m\u001b[0m\n\u001b[0m",
      "\u001b[1;31mFileNotFoundError\u001b[0m: [WinError 2] The system cannot find the file specified: 'FileHandlerghsj.txt'"
     ]
    }
   ],
   "source": [
    "# exceptions\n",
    "import os\n",
    "os.remove(\"FileHandlerghsj.txt\")"
   ]
  },
  {
   "cell_type": "code",
   "execution_count": 56,
   "id": "31ce5eac",
   "metadata": {},
   "outputs": [
    {
     "name": "stdout",
     "output_type": "stream",
     "text": [
      "there is no such file\n"
     ]
    }
   ],
   "source": [
    "import os\n",
    "path = \"FileHandlasdsad.txt\"\n",
    "\n",
    "if os.path.isfile(path):\n",
    "    os.remove()\n",
    "else:\n",
    "    print(\"there is no such file\")"
   ]
  },
  {
   "cell_type": "code",
   "execution_count": 58,
   "id": "5ea3fc63",
   "metadata": {},
   "outputs": [],
   "source": [
    "import os\n",
    "path = \"FileHand.txt\"\n",
    "\n",
    "if os.path.isfile(path):\n",
    "    os.remove(path)\n",
    "else:\n",
    "    print(\"there is no such file\")"
   ]
  },
  {
   "cell_type": "code",
   "execution_count": 60,
   "id": "6325fa20",
   "metadata": {},
   "outputs": [
    {
     "ename": "FileNotFoundError",
     "evalue": "[Errno 2] No such file or directory: 'FileHandl.txt'",
     "output_type": "error",
     "traceback": [
      "\u001b[1;31m---------------------------------------------------------------------------\u001b[0m",
      "\u001b[1;31mFileNotFoundError\u001b[0m                         Traceback (most recent call last)",
      "\u001b[1;32m<ipython-input-60-5f04d29eb22b>\u001b[0m in \u001b[0;36m<module>\u001b[1;34m\u001b[0m\n\u001b[0;32m      1\u001b[0m \u001b[1;31m# File is already removed\u001b[0m\u001b[1;33m\u001b[0m\u001b[1;33m\u001b[0m\u001b[1;33m\u001b[0m\u001b[0m\n\u001b[1;32m----> 2\u001b[1;33m \u001b[1;32mwith\u001b[0m \u001b[0mopen\u001b[0m\u001b[1;33m(\u001b[0m\u001b[1;34m\"FileHandl.txt\"\u001b[0m\u001b[1;33m,\u001b[0m\u001b[1;34m\"r\"\u001b[0m\u001b[1;33m)\u001b[0m \u001b[1;32mas\u001b[0m \u001b[0mfile\u001b[0m\u001b[1;33m:\u001b[0m\u001b[1;33m\u001b[0m\u001b[1;33m\u001b[0m\u001b[0m\n\u001b[0m\u001b[0;32m      3\u001b[0m     \u001b[0mdata\u001b[0m \u001b[1;33m=\u001b[0m \u001b[0mfile\u001b[0m\u001b[1;33m.\u001b[0m\u001b[0mread\u001b[0m\u001b[1;33m(\u001b[0m\u001b[1;33m)\u001b[0m\u001b[1;33m\u001b[0m\u001b[1;33m\u001b[0m\u001b[0m\n\u001b[0;32m      4\u001b[0m     \u001b[0mprint\u001b[0m\u001b[1;33m(\u001b[0m\u001b[0mdata\u001b[0m\u001b[1;33m)\u001b[0m\u001b[1;33m\u001b[0m\u001b[1;33m\u001b[0m\u001b[0m\n",
      "\u001b[1;31mFileNotFoundError\u001b[0m: [Errno 2] No such file or directory: 'FileHandl.txt'"
     ]
    }
   ],
   "source": [
    "# File is already removed\n",
    "with open(\"FileHandl.txt\",\"r\") as file:\n",
    "    data = file.read()\n",
    "    print(data)"
   ]
  },
  {
   "cell_type": "code",
   "execution_count": 61,
   "id": "076b84c5",
   "metadata": {},
   "outputs": [
    {
     "name": "stdout",
     "output_type": "stream",
     "text": [
      "Today we are learning File Handling,\n",
      "We have learned what is File Handling...\n",
      "And why we use file Handling...\n"
     ]
    }
   ],
   "source": [
    "with open(\"FileHandlingDemo.txt\",\"r\") as f:\n",
    "    data = f.read()\n",
    "    print(data)"
   ]
  },
  {
   "cell_type": "code",
   "execution_count": 62,
   "id": "b2454071",
   "metadata": {},
   "outputs": [],
   "source": [
    "with open(\"yourfile.txt\", \"w\") as f:\n",
    "    f.write(\"This is your File\")"
   ]
  },
  {
   "cell_type": "code",
   "execution_count": 63,
   "id": "d86c0ac4",
   "metadata": {},
   "outputs": [
    {
     "name": "stdout",
     "output_type": "stream",
     "text": [
      "This is your File\n"
     ]
    }
   ],
   "source": [
    "with open(\"yourfile.txt\",\"r\") as f:\n",
    "    data = f.read()\n",
    "    print(data)"
   ]
  },
  {
   "cell_type": "code",
   "execution_count": 64,
   "id": "c5de3953",
   "metadata": {},
   "outputs": [],
   "source": [
    "with open(\"yourfile.txt\", \"w\") as f:\n",
    "    f.write(\"This is your new File \")"
   ]
  },
  {
   "cell_type": "code",
   "execution_count": 65,
   "id": "d8011c43",
   "metadata": {},
   "outputs": [
    {
     "name": "stdout",
     "output_type": "stream",
     "text": [
      "This is your new File \n"
     ]
    }
   ],
   "source": [
    "with open(\"yourfile.txt\",\"r\") as f:\n",
    "    data = f.read()\n",
    "    print(data)"
   ]
  },
  {
   "cell_type": "code",
   "execution_count": 66,
   "id": "f5125a45",
   "metadata": {},
   "outputs": [],
   "source": [
    "with open(\"yourfile.txt\", \"a\") as f:\n",
    "    f.write(\"\"\"\n",
    "    \n",
    "    Name       : Osama \n",
    "    Course     : PCAP\n",
    "    Instructor : Sir Nasir\"\"\")"
   ]
  },
  {
   "cell_type": "code",
   "execution_count": 67,
   "id": "3778f008",
   "metadata": {},
   "outputs": [
    {
     "name": "stdout",
     "output_type": "stream",
     "text": [
      "This is your new File \n",
      "    \n",
      "    Name       : Osama \n",
      "    Course     : PCAP\n",
      "    Instructor : Sir Nasir\n"
     ]
    }
   ],
   "source": [
    "with open(\"yourfile.txt\",\"r\") as f:\n",
    "    data = f.read()\n",
    "    print(data)"
   ]
  },
  {
   "cell_type": "markdown",
   "id": "7b02d28f",
   "metadata": {},
   "source": [
    "### W+ \n",
    "\n",
    "READ AND WRITE "
   ]
  },
  {
   "cell_type": "code",
   "execution_count": 70,
   "id": "0cd7a953",
   "metadata": {},
   "outputs": [
    {
     "name": "stdout",
     "output_type": "stream",
     "text": [
      "This is normal text for w+ file \n",
      " this text will be in new line\n"
     ]
    }
   ],
   "source": [
    "with open(\"Helloworld.txt\", \"w+\") as f:\n",
    "    f.write(\"This is normal text for w+ file \\n this text will be in new line\")\n",
    "    f.seek(0)\n",
    "    data = f.read()\n",
    "    print(data)"
   ]
  },
  {
   "cell_type": "code",
   "execution_count": 71,
   "id": "966cff07",
   "metadata": {},
   "outputs": [
    {
     "name": "stdout",
     "output_type": "stream",
     "text": [
      "for w+ file \n",
      " this text will be in new line\n"
     ]
    }
   ],
   "source": [
    "with open(\"Helloworld.txt\", \"w+\") as f:\n",
    "    f.write(\"This is normal text for w+ file \\n this text will be in new line\")\n",
    "    f.seek(20)\n",
    "    data = f.read()\n",
    "    print(data)"
   ]
  },
  {
   "cell_type": "markdown",
   "id": "035ec772",
   "metadata": {},
   "source": [
    "### r+\n",
    "\n",
    "READ AND WRITE (OVERRIDE)"
   ]
  },
  {
   "cell_type": "code",
   "execution_count": 84,
   "id": "60031355",
   "metadata": {},
   "outputs": [
    {
     "name": "stdout",
     "output_type": "stream",
     "text": [
      "will be in new line\n"
     ]
    }
   ],
   "source": [
    "with open(\"Helloworld.txt\", \"r+\") as f:\n",
    "    f.write(\"This is new text to \\n override previous text\")\n",
    "    data = f.read()\n",
    "    print(data)"
   ]
  },
  {
   "cell_type": "code",
   "execution_count": 79,
   "id": "15227614",
   "metadata": {},
   "outputs": [
    {
     "name": "stdout",
     "output_type": "stream",
     "text": [
      "This is Osaif temporary file example\n"
     ]
    }
   ],
   "source": [
    "with open(\"Temp.txt\", \"r\") as f:\n",
    "    contents = f.read()\n",
    "    print(contents)"
   ]
  },
  {
   "cell_type": "code",
   "execution_count": 85,
   "id": "db179d7a",
   "metadata": {},
   "outputs": [
    {
     "name": "stdout",
     "output_type": "stream",
     "text": [
      "This is Osaif temporary file example\n",
      "This is second line\n",
      "This is third line\n"
     ]
    }
   ],
   "source": [
    "with open(\"Temp.txt\", \"r\") as f:\n",
    "    for i in f:\n",
    "        print(i.rstrip())\n",
    "    "
   ]
  },
  {
   "cell_type": "code",
   "execution_count": 87,
   "id": "4635e05b",
   "metadata": {},
   "outputs": [
    {
     "name": "stdout",
     "output_type": "stream",
     "text": [
      "['This is Osaif temporary file example\\n', 'This is second line\\n', 'This is third line\\n']\n"
     ]
    }
   ],
   "source": [
    "with open(\"Temp.txt\", \"r\") as ik:\n",
    "    content = ik.readlines()\n",
    "    print(content)\n",
    "    "
   ]
  },
  {
   "cell_type": "code",
   "execution_count": 88,
   "id": "cce6c6e8",
   "metadata": {},
   "outputs": [
    {
     "name": "stdout",
     "output_type": "stream",
     "text": [
      "This is Osaif temporary file example\n",
      "\n",
      "This is second line\n",
      "\n",
      "This is third line\n",
      "\n"
     ]
    }
   ],
   "source": [
    "with open(\"Temp.txt\", \"r\") as ik:\n",
    "    content = ik.readlines()\n",
    "for line in content:\n",
    "    print(line)"
   ]
  },
  {
   "cell_type": "code",
   "execution_count": 89,
   "id": "8428d2e3",
   "metadata": {},
   "outputs": [
    {
     "name": "stdout",
     "output_type": "stream",
     "text": [
      "This is Osaif temporary file example\n",
      "This is second line\n",
      "This is third line\n"
     ]
    }
   ],
   "source": [
    "with open(\"Temp.txt\", \"r\") as ik:\n",
    "    content = ik.readlines()\n",
    "for line in content:\n",
    "    print(line.rstrip())"
   ]
  },
  {
   "cell_type": "code",
   "execution_count": null,
   "id": "94db6358",
   "metadata": {},
   "outputs": [],
   "source": []
  }
 ],
 "metadata": {
  "kernelspec": {
   "display_name": "Python 3",
   "language": "python",
   "name": "python3"
  },
  "language_info": {
   "codemirror_mode": {
    "name": "ipython",
    "version": 3
   },
   "file_extension": ".py",
   "mimetype": "text/x-python",
   "name": "python",
   "nbconvert_exporter": "python",
   "pygments_lexer": "ipython3",
   "version": "3.8.8"
  }
 },
 "nbformat": 4,
 "nbformat_minor": 5
}
