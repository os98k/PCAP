{
 "cells": [
  {
   "cell_type": "markdown",
   "id": "3abcf5bc",
   "metadata": {},
   "source": [
    "# Topic Discussed\n",
    "\n",
    "Else and Elif Statement"
   ]
  },
  {
   "cell_type": "code",
   "execution_count": 1,
   "id": "66ca4e64",
   "metadata": {},
   "outputs": [
    {
     "data": {
      "text/plain": [
       "0"
      ]
     },
     "execution_count": 1,
     "metadata": {},
     "output_type": "execute_result"
    }
   ],
   "source": [
    "12 % 2\n",
    "\n",
    "# 12 Modulo 2 remainder 0\n",
    "# 12 is a multiple of 2\n",
    "# 12 completely divisible by 2\n",
    "# 12 is a even number"
   ]
  },
  {
   "cell_type": "markdown",
   "id": "eeb192d8",
   "metadata": {},
   "source": [
    "# Multiple If's"
   ]
  },
  {
   "cell_type": "code",
   "execution_count": 5,
   "id": "f19204eb",
   "metadata": {},
   "outputs": [
    {
     "name": "stdout",
     "output_type": "stream",
     "text": [
      "Enter your number: 4\n",
      "The number 4 is even \n"
     ]
    }
   ],
   "source": [
    "# Check weather the user entered an even or odd number\n",
    "num = int(input(\"Enter your number: \"))\n",
    "\n",
    "# Even are multiple of 2 and are divisble by 2\n",
    "# Odd are not multiple of 2 and are not divisible by 2\n",
    "\n",
    "\n",
    "if num % 2 == 0: #if we dvivide the number by 2 and remainder is zero\n",
    "    print(f\"The number {num} is even \")\n",
    "    \n",
    "else:\n",
    "    print(f\"The number {num} is odd\")\n",
    "    \n",
    "\"\"\"\n",
    "else:\n",
    "    if num % 2 != 0:\n",
    "        print(f\"The number {num} is odd)\n",
    "\"\"\"\n"
   ]
  },
  {
   "cell_type": "code",
   "execution_count": 17,
   "id": "ec2668f7",
   "metadata": {},
   "outputs": [
    {
     "name": "stdout",
     "output_type": "stream",
     "text": [
      "What is the condition of donuts (fresh/low) \n",
      "loweer\n",
      "0\n",
      "No answered matched\n",
      "0\n"
     ]
    }
   ],
   "source": [
    "donut_condition = input(\"What is the condition of donuts (fresh/low) \\n\")\n",
    "\n",
    "if donut_condition == \"fresh\":\n",
    "    buy_score = 10\n",
    "elif donut_condition == \"low\":\n",
    "    buy_score = 5\n",
    "else:\n",
    "    buy_score = 0\n",
    "    print(buy_score)\n",
    "    print(\"No answered matched\")\n",
    "    \n",
    "    \n",
    "print(buy_score)"
   ]
  },
  {
   "cell_type": "code",
   "execution_count": 23,
   "id": "0b0aa45f",
   "metadata": {},
   "outputs": [
    {
     "name": "stdout",
     "output_type": "stream",
     "text": [
      "What is students percentage: 90\n",
      "your grade is A*\n"
     ]
    }
   ],
   "source": [
    " # Assign Grade according to the percentage\n",
    "grade = None\n",
    "type(grade)\n",
    "\n",
    "percentage =  int(input(\"What is students percentage: \"))\n",
    "\n",
    "# 90>= = A*\n",
    "# 80>= = A+\n",
    "# 70>= = A\n",
    "# 60>= = B\n",
    "# 50>= = C\n",
    "# others == Ungraded\n",
    "\n",
    "if percentage >= 90:\n",
    "    grade = \"A*\"\n",
    "elif percentage >= 80:\n",
    "    grade = \"A+\"\n",
    "elif percentage >= 70:\n",
    "    grade = \"A\"\n",
    "elif percentage >= 60:\n",
    "    grade = \"B\"\n",
    "elif percentage >= 50:\n",
    "    grade = \"C\"\n",
    "else:\n",
    "    grade = \"Ungraded\"\n",
    "    \n",
    "print(\"your grade is \" + grade)"
   ]
  },
  {
   "cell_type": "code",
   "execution_count": 25,
   "id": "c1dda6c5",
   "metadata": {},
   "outputs": [
    {
     "data": {
      "text/plain": [
       "'A*'"
      ]
     },
     "execution_count": 25,
     "metadata": {},
     "output_type": "execute_result"
    }
   ],
   "source": [
    "grade\n"
   ]
  },
  {
   "cell_type": "markdown",
   "id": "59da4e56",
   "metadata": {},
   "source": [
    "# Nested If's"
   ]
  },
  {
   "cell_type": "code",
   "execution_count": 28,
   "id": "9582993d",
   "metadata": {},
   "outputs": [
    {
     "name": "stdout",
     "output_type": "stream",
     "text": [
      "Pass\n"
     ]
    }
   ],
   "source": [
    "a=b=c=d=e=f= 12\n",
    "\"\"\"\n",
    "a = input(\"Enter your number\")\n",
    "b = input(\"Enter your number\")\n",
    "c = input(\"Enter your number\")\n",
    "d = input(\"Enter your number\")\n",
    "e = input(\"Enter your number\")\n",
    "f = input(\"Enter your number\")\n",
    "\"\"\"\n",
    "if a==b:\n",
    "    if b == c:\n",
    "        if c==d:\n",
    "            if d==e:\n",
    "                if e==f:\n",
    "                    print(\"Pass\")\n",
    "else:\n",
    "    print(\"Not able to pass\")"
   ]
  },
  {
   "cell_type": "code",
   "execution_count": 29,
   "id": "8f7cfa92",
   "metadata": {},
   "outputs": [],
   "source": [
    "# A student can only appear in exams only if his dues are cleared and he must had admit card"
   ]
  },
  {
   "cell_type": "code",
   "execution_count": 39,
   "id": "d433a723",
   "metadata": {},
   "outputs": [
    {
     "name": "stdout",
     "output_type": "stream",
     "text": [
      "Have you paid your exam fee? (paid/unpaid)paid\n",
      "Do you have admit card (yes/no)yes\n",
      "You are Allowed to appear in exams\n"
     ]
    }
   ],
   "source": [
    "feeStatus = input(\"Have you paid your exam fee? (paid/unpaid)\")\n",
    "\n",
    "if feeStatus == \"paid\":\n",
    "    \n",
    "    admitCard = input(\"Do you have admit card (yes/no)\")\n",
    "    \n",
    "    if admitCard == \"yes\":\n",
    "        print(\"You are Allowed to appear in exams\")\n",
    "    else:\n",
    "        print(\"You are still not allowed to appear in exam as you don't have admit card\")\n",
    "elsen\n",
    "    print(\"You can't appear in exam as you haven't paid fee\")"
   ]
  },
  {
   "cell_type": "code",
   "execution_count": 43,
   "id": "5fdde97e",
   "metadata": {},
   "outputs": [
    {
     "name": "stdout",
     "output_type": "stream",
     "text": [
      "b and c are not equal\n"
     ]
    }
   ],
   "source": [
    "a=b=d=e=f= 12\n",
    "c= 3\n",
    "if a==b:\n",
    "    if b==c:\n",
    "        if c==d:\n",
    "            if d==e:\n",
    "                if e==f:\n",
    "                    print(\"All are equals\")\n",
    "                    \n",
    "                else:\n",
    "                    print(\"e and f are not equal\")\n",
    "            else:\n",
    "                print(\"d and e are not equal\")\n",
    "        else:\n",
    "            print(\"c and d are not equal\")\n",
    "    else:\n",
    "        print(\"b and c are not equal\")\n",
    "else:\n",
    "    print(\"Not able to pass\")"
   ]
  },
  {
   "cell_type": "code",
   "execution_count": null,
   "id": "3bef6dcf",
   "metadata": {},
   "outputs": [],
   "source": []
  }
 ],
 "metadata": {
  "kernelspec": {
   "display_name": "Python 3",
   "language": "python",
   "name": "python3"
  },
  "language_info": {
   "codemirror_mode": {
    "name": "ipython",
    "version": 3
   },
   "file_extension": ".py",
   "mimetype": "text/x-python",
   "name": "python",
   "nbconvert_exporter": "python",
   "pygments_lexer": "ipython3",
   "version": "3.8.8"
  }
 },
 "nbformat": 4,
 "nbformat_minor": 5
}
