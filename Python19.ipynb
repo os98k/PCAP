{
 "cells": [
  {
   "cell_type": "markdown",
   "id": "85074d58",
   "metadata": {},
   "source": [
    "# Data Base"
   ]
  },
  {
   "cell_type": "markdown",
   "id": "a0a9e2fe",
   "metadata": {},
   "source": [
    "A database is an organized collection of structured information, or data, typically stored electronically in a computer system. "
   ]
  },
  {
   "cell_type": "markdown",
   "id": "f90a57cc",
   "metadata": {},
   "source": [
    " A database is usually controlled by a database management system (DBMS)."
   ]
  },
  {
   "cell_type": "markdown",
   "id": "e8299be8",
   "metadata": {},
   "source": [
    "Application have three parts: Fronted, Backend and Database"
   ]
  },
  {
   "cell_type": "markdown",
   "id": "b889f583",
   "metadata": {},
   "source": [
    "DataBase: Where we store data."
   ]
  },
  {
   "cell_type": "markdown",
   "id": "54f3e537",
   "metadata": {},
   "source": [
    "BackEnd: Behave as API (Application programing interface ) connect frontend with database"
   ]
  },
  {
   "cell_type": "markdown",
   "id": "3baae03f",
   "metadata": {},
   "source": [
    "Table Data : Tabular\n",
    "\n",
    "Structured + Tabular  "
   ]
  },
  {
   "cell_type": "markdown",
   "id": "99408b1b",
   "metadata": {},
   "source": [
    "PostgreSQL"
   ]
  },
  {
   "cell_type": "markdown",
   "id": "34a84474",
   "metadata": {},
   "source": [
    "SQL : Structured Query Language"
   ]
  },
  {
   "cell_type": "markdown",
   "id": "e02ad1ee",
   "metadata": {},
   "source": [
    "SQL ==> Oracle, MySQL, PostgreSQL, sqlite (structured)\n",
    "DB2, MangoDB (Unstructured)"
   ]
  },
  {
   "cell_type": "markdown",
   "id": "b38b606a",
   "metadata": {},
   "source": [
    "Things to remember : Port number and password"
   ]
  },
  {
   "cell_type": "markdown",
   "id": "6fdcc112",
   "metadata": {},
   "source": [
    "saylani1234"
   ]
  },
  {
   "cell_type": "markdown",
   "id": "68ff2c6d",
   "metadata": {},
   "source": [
    "5432"
   ]
  },
  {
   "cell_type": "markdown",
   "id": "28c274a5",
   "metadata": {},
   "source": [
    "user : postgres\n",
    "\n",
    "pass : saylani1234"
   ]
  },
  {
   "cell_type": "code",
   "execution_count": 5,
   "id": "0fb05b3c",
   "metadata": {},
   "outputs": [],
   "source": [
    "import psycopg2"
   ]
  },
  {
   "cell_type": "code",
   "execution_count": 14,
   "id": "df748ea1",
   "metadata": {},
   "outputs": [],
   "source": [
    "host_name = \"localhost\"\n",
    "data_base = \"postgres\"\n",
    "user_name = \"postgres\"\n",
    "pwd = 'saylani1234'\n",
    "port_id = 5432\n",
    "\n",
    "# Configuration File"
   ]
  },
  {
   "cell_type": "code",
   "execution_count": 30,
   "id": "e624e87d",
   "metadata": {},
   "outputs": [],
   "source": [
    "cur  = None\n",
    "conn = None\n",
    "try:\n",
    "    conn = psycopg2.connect(host = host_name, \n",
    "                 port = port_id,\n",
    "                 user = user_name,\n",
    "                 password = pwd,\n",
    "                 dbname = data_base\n",
    "                ) # CRUD OPERATION :CREATE, READ, UPDATE, DELETE\n",
    "    cur = conn.cursor()\n",
    "    \n",
    "    cur.execute(\"DROP TABLE IF EXISTS student\")\n",
    "    #Step1\n",
    "    create_table_script =  \"\"\"\n",
    "    CREATE TABLE IF NOT EXISTS student(\n",
    "    id    INT    PRIMARY KEY\n",
    "   ,name  VARCHAR(50)    NOT NULL\n",
    "   ,course VARCHAR(50)   NOT NULL\n",
    "   ,fees   INT \n",
    "    )\n",
    "    \"\"\"\n",
    "    #Step2 : Execute query using cur\n",
    "    cur.execute(create_table_script)\n",
    "    \n",
    "    #INSERT TABLE DATA QUERY\n",
    "    insert_table_script = \"\"\"\n",
    "    INSERT INTO student(id, name, course, fees)\n",
    "    VALUES(%s, %s, %s, %s)\n",
    "    \n",
    "    \"\"\"\n",
    "    records = (113, \"Nasir\", \"SMIT\", 5000)\n",
    "    cur.execute(insert_table_script, records)\n",
    "    \n",
    "\n",
    "#     For muliple records\n",
    "#     records = [(113, \"Kasir\", \"SMIT\", 5000),\n",
    "#                (114, \"Basir\", \"SMIT\", 5000),\n",
    "#                (115, \"Wasir\", \"JPK\", 5000),\n",
    "#                (116, \"Qasir\", \"JPK\", 5000),\n",
    "#                (117, \"Zasir\", \"JPK\", 5000)] \n",
    "#     for record in records:\n",
    "#         cur.execute(insert_table_script, records)\n",
    "    update_records_script = \"\"\"\n",
    "    UPDATE student SET fees = fees + (fees*0.2)\n",
    "    \"\"\" \n",
    "    cur.execute(update_records_script)\n",
    "    \n",
    "    \n",
    "    \n",
    "    #Step3 : Commit the changes using conn (1 time)\n",
    "    conn.commit()\n",
    "\n",
    "   \n",
    "except Exception as error:\n",
    "    print(\"Exception Caught: \"+ str(error))\n",
    "    \n",
    "finally:\n",
    "    if cur is not None:\n",
    "        cur.close()\n",
    "    if conn is not None:\n",
    "        conn.close() # must close the database once it is open"
   ]
  },
  {
   "cell_type": "code",
   "execution_count": null,
   "id": "c910e532",
   "metadata": {},
   "outputs": [],
   "source": []
  }
 ],
 "metadata": {
  "kernelspec": {
   "display_name": "Python 3",
   "language": "python",
   "name": "python3"
  },
  "language_info": {
   "codemirror_mode": {
    "name": "ipython",
    "version": 3
   },
   "file_extension": ".py",
   "mimetype": "text/x-python",
   "name": "python",
   "nbconvert_exporter": "python",
   "pygments_lexer": "ipython3",
   "version": "3.8.8"
  }
 },
 "nbformat": 4,
 "nbformat_minor": 5
}
